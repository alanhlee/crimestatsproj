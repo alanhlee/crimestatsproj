{
 "cells": [
  {
   "cell_type": "markdown",
   "source": [
    "# Boston, MA"
   ],
   "metadata": {}
  },
  {
   "cell_type": "code",
   "execution_count": 36,
   "source": [
    "import pandas as pd"
   ],
   "outputs": [],
   "metadata": {}
  },
  {
   "cell_type": "code",
   "execution_count": 37,
   "source": [
    "#doesnt have reported on date"
   ],
   "outputs": [],
   "metadata": {}
  },
  {
   "cell_type": "code",
   "execution_count": 38,
   "source": [
    "boston_2021 = pd.read_csv(\"../Boston_Data/tmpp_u7gs36.csv\", parse_dates=[7])\r\n",
    "#retrieved 7/15/21\r\n"
   ],
   "outputs": [
    {
     "output_type": "stream",
     "name": "stderr",
     "text": [
      "C:\\anaconda3\\lib\\site-packages\\IPython\\core\\interactiveshell.py:3165: DtypeWarning: Columns (0) have mixed types.Specify dtype option on import or set low_memory=False.\n",
      "  has_raised = await self.run_ast_nodes(code_ast.body, cell_name,\n"
     ]
    }
   ],
   "metadata": {}
  },
  {
   "cell_type": "code",
   "execution_count": 39,
   "source": [
    "boston_2021.head()\r\n"
   ],
   "outputs": [
    {
     "output_type": "execute_result",
     "data": {
      "text/plain": [
       "  INCIDENT_NUMBER  OFFENSE_CODE  OFFENSE_CODE_GROUP       OFFENSE_DESCRIPTION  \\\n",
       "0       PLTEST003          3114                 NaN      INVESTIGATE PROPERTY   \n",
       "1       PLTEST002          3114                 NaN      INVESTIGATE PROPERTY   \n",
       "2       PLTEST001          3114                 NaN      INVESTIGATE PROPERTY   \n",
       "3       312030979          3201                 NaN  PROPERTY - LOST/ MISSING   \n",
       "4       212996778          3301                 NaN            VERBAL DISPUTE   \n",
       "\n",
       "  DISTRICT REPORTING_AREA  SHOOTING    OCCURRED_ON_DATE  YEAR  MONTH  \\\n",
       "0       B2            289         0 2021-05-12 00:00:00  2021      5   \n",
       "1       B2            289         0 2021-05-12 00:00:00  2021      5   \n",
       "2       B2                        0 2021-03-29 00:00:00  2021      3   \n",
       "3      E13            465         0 2021-03-22 00:00:00  2021      3   \n",
       "4       C6            204         0 2021-02-01 06:20:00  2021      2   \n",
       "\n",
       "  DAY_OF_WEEK  HOUR  UCR_PART           STREET        Lat       Long  \\\n",
       "0   Wednesday     0       NaN    SCHROEDER PLZ  42.333679 -71.091878   \n",
       "1   Wednesday     0       NaN    SCHROEDER PLZ  42.333679 -71.091878   \n",
       "2      Monday     0       NaN  SCHROEDER PLAZA   0.000000   0.000000   \n",
       "3      Monday     0       NaN    BLUE HILL AVE  42.284826 -71.091374   \n",
       "4      Monday     6       NaN    GILLETTE PARK  42.344125 -71.056853   \n",
       "\n",
       "                                Location  \n",
       "0  (42.3336792181085, -71.0918775461846)  \n",
       "1  (42.3336792181085, -71.0918775461846)  \n",
       "2                                 (0, 0)  \n",
       "3   (42.2848257658049, -71.091373689388)  \n",
       "4  (42.3441248392933, -71.0568533916328)  "
      ],
      "text/html": [
       "<div>\n",
       "<style scoped>\n",
       "    .dataframe tbody tr th:only-of-type {\n",
       "        vertical-align: middle;\n",
       "    }\n",
       "\n",
       "    .dataframe tbody tr th {\n",
       "        vertical-align: top;\n",
       "    }\n",
       "\n",
       "    .dataframe thead th {\n",
       "        text-align: right;\n",
       "    }\n",
       "</style>\n",
       "<table border=\"1\" class=\"dataframe\">\n",
       "  <thead>\n",
       "    <tr style=\"text-align: right;\">\n",
       "      <th></th>\n",
       "      <th>INCIDENT_NUMBER</th>\n",
       "      <th>OFFENSE_CODE</th>\n",
       "      <th>OFFENSE_CODE_GROUP</th>\n",
       "      <th>OFFENSE_DESCRIPTION</th>\n",
       "      <th>DISTRICT</th>\n",
       "      <th>REPORTING_AREA</th>\n",
       "      <th>SHOOTING</th>\n",
       "      <th>OCCURRED_ON_DATE</th>\n",
       "      <th>YEAR</th>\n",
       "      <th>MONTH</th>\n",
       "      <th>DAY_OF_WEEK</th>\n",
       "      <th>HOUR</th>\n",
       "      <th>UCR_PART</th>\n",
       "      <th>STREET</th>\n",
       "      <th>Lat</th>\n",
       "      <th>Long</th>\n",
       "      <th>Location</th>\n",
       "    </tr>\n",
       "  </thead>\n",
       "  <tbody>\n",
       "    <tr>\n",
       "      <th>0</th>\n",
       "      <td>PLTEST003</td>\n",
       "      <td>3114</td>\n",
       "      <td>NaN</td>\n",
       "      <td>INVESTIGATE PROPERTY</td>\n",
       "      <td>B2</td>\n",
       "      <td>289</td>\n",
       "      <td>0</td>\n",
       "      <td>2021-05-12 00:00:00</td>\n",
       "      <td>2021</td>\n",
       "      <td>5</td>\n",
       "      <td>Wednesday</td>\n",
       "      <td>0</td>\n",
       "      <td>NaN</td>\n",
       "      <td>SCHROEDER PLZ</td>\n",
       "      <td>42.333679</td>\n",
       "      <td>-71.091878</td>\n",
       "      <td>(42.3336792181085, -71.0918775461846)</td>\n",
       "    </tr>\n",
       "    <tr>\n",
       "      <th>1</th>\n",
       "      <td>PLTEST002</td>\n",
       "      <td>3114</td>\n",
       "      <td>NaN</td>\n",
       "      <td>INVESTIGATE PROPERTY</td>\n",
       "      <td>B2</td>\n",
       "      <td>289</td>\n",
       "      <td>0</td>\n",
       "      <td>2021-05-12 00:00:00</td>\n",
       "      <td>2021</td>\n",
       "      <td>5</td>\n",
       "      <td>Wednesday</td>\n",
       "      <td>0</td>\n",
       "      <td>NaN</td>\n",
       "      <td>SCHROEDER PLZ</td>\n",
       "      <td>42.333679</td>\n",
       "      <td>-71.091878</td>\n",
       "      <td>(42.3336792181085, -71.0918775461846)</td>\n",
       "    </tr>\n",
       "    <tr>\n",
       "      <th>2</th>\n",
       "      <td>PLTEST001</td>\n",
       "      <td>3114</td>\n",
       "      <td>NaN</td>\n",
       "      <td>INVESTIGATE PROPERTY</td>\n",
       "      <td>B2</td>\n",
       "      <td></td>\n",
       "      <td>0</td>\n",
       "      <td>2021-03-29 00:00:00</td>\n",
       "      <td>2021</td>\n",
       "      <td>3</td>\n",
       "      <td>Monday</td>\n",
       "      <td>0</td>\n",
       "      <td>NaN</td>\n",
       "      <td>SCHROEDER PLAZA</td>\n",
       "      <td>0.000000</td>\n",
       "      <td>0.000000</td>\n",
       "      <td>(0, 0)</td>\n",
       "    </tr>\n",
       "    <tr>\n",
       "      <th>3</th>\n",
       "      <td>312030979</td>\n",
       "      <td>3201</td>\n",
       "      <td>NaN</td>\n",
       "      <td>PROPERTY - LOST/ MISSING</td>\n",
       "      <td>E13</td>\n",
       "      <td>465</td>\n",
       "      <td>0</td>\n",
       "      <td>2021-03-22 00:00:00</td>\n",
       "      <td>2021</td>\n",
       "      <td>3</td>\n",
       "      <td>Monday</td>\n",
       "      <td>0</td>\n",
       "      <td>NaN</td>\n",
       "      <td>BLUE HILL AVE</td>\n",
       "      <td>42.284826</td>\n",
       "      <td>-71.091374</td>\n",
       "      <td>(42.2848257658049, -71.091373689388)</td>\n",
       "    </tr>\n",
       "    <tr>\n",
       "      <th>4</th>\n",
       "      <td>212996778</td>\n",
       "      <td>3301</td>\n",
       "      <td>NaN</td>\n",
       "      <td>VERBAL DISPUTE</td>\n",
       "      <td>C6</td>\n",
       "      <td>204</td>\n",
       "      <td>0</td>\n",
       "      <td>2021-02-01 06:20:00</td>\n",
       "      <td>2021</td>\n",
       "      <td>2</td>\n",
       "      <td>Monday</td>\n",
       "      <td>6</td>\n",
       "      <td>NaN</td>\n",
       "      <td>GILLETTE PARK</td>\n",
       "      <td>42.344125</td>\n",
       "      <td>-71.056853</td>\n",
       "      <td>(42.3441248392933, -71.0568533916328)</td>\n",
       "    </tr>\n",
       "  </tbody>\n",
       "</table>\n",
       "</div>"
      ]
     },
     "metadata": {},
     "execution_count": 39
    }
   ],
   "metadata": {}
  },
  {
   "cell_type": "code",
   "execution_count": 40,
   "source": [
    "boston_2021.shape\r\n"
   ],
   "outputs": [
    {
     "output_type": "execute_result",
     "data": {
      "text/plain": [
       "(36096, 17)"
      ]
     },
     "metadata": {},
     "execution_count": 40
    }
   ],
   "metadata": {}
  },
  {
   "cell_type": "code",
   "execution_count": 41,
   "source": [
    "boston_2021.columns = boston_2021.columns.str.lower()\r\n"
   ],
   "outputs": [],
   "metadata": {}
  },
  {
   "cell_type": "code",
   "execution_count": 42,
   "source": [
    "#incident_number = PLTEST... dont look like real crimes, might want to drop\r\n"
   ],
   "outputs": [],
   "metadata": {}
  },
  {
   "cell_type": "code",
   "execution_count": 43,
   "source": [
    "min(boston_2021['occurred_on_date'])\r\n"
   ],
   "outputs": [
    {
     "output_type": "execute_result",
     "data": {
      "text/plain": [
       "Timestamp('2021-01-01 00:00:00')"
      ]
     },
     "metadata": {},
     "execution_count": 43
    }
   ],
   "metadata": {}
  },
  {
   "cell_type": "code",
   "execution_count": 44,
   "source": [
    "max(boston_2021['occurred_on_date'])\r\n"
   ],
   "outputs": [
    {
     "output_type": "execute_result",
     "data": {
      "text/plain": [
       "Timestamp('2021-07-14 00:19:00')"
      ]
     },
     "metadata": {},
     "execution_count": 44
    }
   ],
   "metadata": {}
  },
  {
   "cell_type": "code",
   "execution_count": 45,
   "source": [
    "boston_2021.count()\r\n"
   ],
   "outputs": [
    {
     "output_type": "execute_result",
     "data": {
      "text/plain": [
       "incident_number        36096\n",
       "offense_code           36096\n",
       "offense_code_group         0\n",
       "offense_description    36096\n",
       "district               35204\n",
       "reporting_area         36096\n",
       "shooting               36096\n",
       "occurred_on_date       36096\n",
       "year                   36096\n",
       "month                  36096\n",
       "day_of_week            36096\n",
       "hour                   36096\n",
       "ucr_part                   0\n",
       "street                 35417\n",
       "lat                    36096\n",
       "long                   36096\n",
       "location               36096\n",
       "dtype: int64"
      ]
     },
     "metadata": {},
     "execution_count": 45
    }
   ],
   "metadata": {}
  },
  {
   "cell_type": "code",
   "execution_count": 46,
   "source": [
    "#drop empty columns\r\n",
    "boston_2021.dropna(how=\"all\", axis=1, inplace=True)\r\n"
   ],
   "outputs": [],
   "metadata": {}
  },
  {
   "cell_type": "code",
   "execution_count": 47,
   "source": [
    "boston_2020 = pd.read_csv(\r\n",
    "    \"../Boston_Data/script_113631134_20210423193017_combine.csv\", dtype={0: \"string\"}, parse_dates=[7])\r\n",
    "#retrieved 7/15/2021\r\n"
   ],
   "outputs": [],
   "metadata": {}
  },
  {
   "cell_type": "code",
   "execution_count": 48,
   "source": [
    "boston_2020.head()\r\n"
   ],
   "outputs": [
    {
     "output_type": "execute_result",
     "data": {
      "text/plain": [
       "  INCIDENT_NUMBER  OFFENSE_CODE  OFFENSE_CODE_GROUP  \\\n",
       "0       854652314          3115                 NaN   \n",
       "1       457856954          3115                 NaN   \n",
       "2       302030654          1106                 NaN   \n",
       "3       212025777          1108                 NaN   \n",
       "4       212025557          2670                 NaN   \n",
       "\n",
       "               OFFENSE_DESCRIPTION DISTRICT REPORTING_AREA  SHOOTING  \\\n",
       "0               INVESTIGATE PERSON       B2            289         0   \n",
       "1               INVESTIGATE PERSON       B2            289         0   \n",
       "2  FRAUD - CREDIT CARD / ATM FRAUD       D4            167         0   \n",
       "3                  FRAUD - WELFARE       A7             28         0   \n",
       "4  HARASSMENT/ CRIMINAL HARASSMENT       A1             77         0   \n",
       "\n",
       "     OCCURRED_ON_DATE  YEAR  MONTH DAY_OF_WEEK  HOUR  UCR_PART  \\\n",
       "0 2020-02-20 00:00:00  2020      2    Thursday     0       NaN   \n",
       "1 2020-02-21 01:42:00  2020      2      Friday     1       NaN   \n",
       "2 2020-04-24 13:00:00  2020      4      Friday    13       NaN   \n",
       "3 2020-05-01 00:00:00  2020      5      Friday     0       NaN   \n",
       "4 2020-09-07 00:00:00  2020      9      Monday     0       NaN   \n",
       "\n",
       "              STREET        Lat       Long  \\\n",
       "0      SCHROEDER PLZ  42.333679 -71.091878   \n",
       "1      SCHROEDER PLZ  42.333679 -71.091878   \n",
       "2  MASSACHUSETTS AVE  42.339542 -71.069409   \n",
       "3         TRENTON ST  42.370818 -71.039291   \n",
       "4          PRINCE ST  42.361839 -71.059765   \n",
       "\n",
       "                                Location  \n",
       "0  (42.3336792181085, -71.0918775461846)  \n",
       "1  (42.3336792181085, -71.0918775461846)  \n",
       "2  (42.3395419898301, -71.0694087696754)  \n",
       "3  (42.3708180467024, -71.0392907813515)  \n",
       "4  (42.3618385665647, -71.0597648909416)  "
      ],
      "text/html": [
       "<div>\n",
       "<style scoped>\n",
       "    .dataframe tbody tr th:only-of-type {\n",
       "        vertical-align: middle;\n",
       "    }\n",
       "\n",
       "    .dataframe tbody tr th {\n",
       "        vertical-align: top;\n",
       "    }\n",
       "\n",
       "    .dataframe thead th {\n",
       "        text-align: right;\n",
       "    }\n",
       "</style>\n",
       "<table border=\"1\" class=\"dataframe\">\n",
       "  <thead>\n",
       "    <tr style=\"text-align: right;\">\n",
       "      <th></th>\n",
       "      <th>INCIDENT_NUMBER</th>\n",
       "      <th>OFFENSE_CODE</th>\n",
       "      <th>OFFENSE_CODE_GROUP</th>\n",
       "      <th>OFFENSE_DESCRIPTION</th>\n",
       "      <th>DISTRICT</th>\n",
       "      <th>REPORTING_AREA</th>\n",
       "      <th>SHOOTING</th>\n",
       "      <th>OCCURRED_ON_DATE</th>\n",
       "      <th>YEAR</th>\n",
       "      <th>MONTH</th>\n",
       "      <th>DAY_OF_WEEK</th>\n",
       "      <th>HOUR</th>\n",
       "      <th>UCR_PART</th>\n",
       "      <th>STREET</th>\n",
       "      <th>Lat</th>\n",
       "      <th>Long</th>\n",
       "      <th>Location</th>\n",
       "    </tr>\n",
       "  </thead>\n",
       "  <tbody>\n",
       "    <tr>\n",
       "      <th>0</th>\n",
       "      <td>854652314</td>\n",
       "      <td>3115</td>\n",
       "      <td>NaN</td>\n",
       "      <td>INVESTIGATE PERSON</td>\n",
       "      <td>B2</td>\n",
       "      <td>289</td>\n",
       "      <td>0</td>\n",
       "      <td>2020-02-20 00:00:00</td>\n",
       "      <td>2020</td>\n",
       "      <td>2</td>\n",
       "      <td>Thursday</td>\n",
       "      <td>0</td>\n",
       "      <td>NaN</td>\n",
       "      <td>SCHROEDER PLZ</td>\n",
       "      <td>42.333679</td>\n",
       "      <td>-71.091878</td>\n",
       "      <td>(42.3336792181085, -71.0918775461846)</td>\n",
       "    </tr>\n",
       "    <tr>\n",
       "      <th>1</th>\n",
       "      <td>457856954</td>\n",
       "      <td>3115</td>\n",
       "      <td>NaN</td>\n",
       "      <td>INVESTIGATE PERSON</td>\n",
       "      <td>B2</td>\n",
       "      <td>289</td>\n",
       "      <td>0</td>\n",
       "      <td>2020-02-21 01:42:00</td>\n",
       "      <td>2020</td>\n",
       "      <td>2</td>\n",
       "      <td>Friday</td>\n",
       "      <td>1</td>\n",
       "      <td>NaN</td>\n",
       "      <td>SCHROEDER PLZ</td>\n",
       "      <td>42.333679</td>\n",
       "      <td>-71.091878</td>\n",
       "      <td>(42.3336792181085, -71.0918775461846)</td>\n",
       "    </tr>\n",
       "    <tr>\n",
       "      <th>2</th>\n",
       "      <td>302030654</td>\n",
       "      <td>1106</td>\n",
       "      <td>NaN</td>\n",
       "      <td>FRAUD - CREDIT CARD / ATM FRAUD</td>\n",
       "      <td>D4</td>\n",
       "      <td>167</td>\n",
       "      <td>0</td>\n",
       "      <td>2020-04-24 13:00:00</td>\n",
       "      <td>2020</td>\n",
       "      <td>4</td>\n",
       "      <td>Friday</td>\n",
       "      <td>13</td>\n",
       "      <td>NaN</td>\n",
       "      <td>MASSACHUSETTS AVE</td>\n",
       "      <td>42.339542</td>\n",
       "      <td>-71.069409</td>\n",
       "      <td>(42.3395419898301, -71.0694087696754)</td>\n",
       "    </tr>\n",
       "    <tr>\n",
       "      <th>3</th>\n",
       "      <td>212025777</td>\n",
       "      <td>1108</td>\n",
       "      <td>NaN</td>\n",
       "      <td>FRAUD - WELFARE</td>\n",
       "      <td>A7</td>\n",
       "      <td>28</td>\n",
       "      <td>0</td>\n",
       "      <td>2020-05-01 00:00:00</td>\n",
       "      <td>2020</td>\n",
       "      <td>5</td>\n",
       "      <td>Friday</td>\n",
       "      <td>0</td>\n",
       "      <td>NaN</td>\n",
       "      <td>TRENTON ST</td>\n",
       "      <td>42.370818</td>\n",
       "      <td>-71.039291</td>\n",
       "      <td>(42.3708180467024, -71.0392907813515)</td>\n",
       "    </tr>\n",
       "    <tr>\n",
       "      <th>4</th>\n",
       "      <td>212025557</td>\n",
       "      <td>2670</td>\n",
       "      <td>NaN</td>\n",
       "      <td>HARASSMENT/ CRIMINAL HARASSMENT</td>\n",
       "      <td>A1</td>\n",
       "      <td>77</td>\n",
       "      <td>0</td>\n",
       "      <td>2020-09-07 00:00:00</td>\n",
       "      <td>2020</td>\n",
       "      <td>9</td>\n",
       "      <td>Monday</td>\n",
       "      <td>0</td>\n",
       "      <td>NaN</td>\n",
       "      <td>PRINCE ST</td>\n",
       "      <td>42.361839</td>\n",
       "      <td>-71.059765</td>\n",
       "      <td>(42.3618385665647, -71.0597648909416)</td>\n",
       "    </tr>\n",
       "  </tbody>\n",
       "</table>\n",
       "</div>"
      ]
     },
     "metadata": {},
     "execution_count": 48
    }
   ],
   "metadata": {}
  },
  {
   "cell_type": "code",
   "execution_count": 49,
   "source": [
    "boston_2020.shape\r\n"
   ],
   "outputs": [
    {
     "output_type": "execute_result",
     "data": {
      "text/plain": [
       "(70894, 17)"
      ]
     },
     "metadata": {},
     "execution_count": 49
    }
   ],
   "metadata": {}
  },
  {
   "cell_type": "code",
   "execution_count": 50,
   "source": [
    "boston_2020.dtypes\r\n"
   ],
   "outputs": [
    {
     "output_type": "execute_result",
     "data": {
      "text/plain": [
       "INCIDENT_NUMBER                string\n",
       "OFFENSE_CODE                    int64\n",
       "OFFENSE_CODE_GROUP            float64\n",
       "OFFENSE_DESCRIPTION            object\n",
       "DISTRICT                       object\n",
       "REPORTING_AREA                 object\n",
       "SHOOTING                        int64\n",
       "OCCURRED_ON_DATE       datetime64[ns]\n",
       "YEAR                            int64\n",
       "MONTH                           int64\n",
       "DAY_OF_WEEK                    object\n",
       "HOUR                            int64\n",
       "UCR_PART                      float64\n",
       "STREET                         object\n",
       "Lat                           float64\n",
       "Long                          float64\n",
       "Location                       object\n",
       "dtype: object"
      ]
     },
     "metadata": {},
     "execution_count": 50
    }
   ],
   "metadata": {}
  },
  {
   "cell_type": "code",
   "execution_count": 51,
   "source": [
    "boston_2020.columns = boston_2020.columns.str.lower()\r\n"
   ],
   "outputs": [],
   "metadata": {}
  },
  {
   "cell_type": "code",
   "execution_count": 52,
   "source": [
    "min(boston_2020['occurred_on_date'])\r\n"
   ],
   "outputs": [
    {
     "output_type": "execute_result",
     "data": {
      "text/plain": [
       "Timestamp('2020-01-01 00:00:00')"
      ]
     },
     "metadata": {},
     "execution_count": 52
    }
   ],
   "metadata": {}
  },
  {
   "cell_type": "code",
   "execution_count": 53,
   "source": [
    "max(boston_2020['occurred_on_date'])\r\n"
   ],
   "outputs": [
    {
     "output_type": "execute_result",
     "data": {
      "text/plain": [
       "Timestamp('2020-12-31 23:55:00')"
      ]
     },
     "metadata": {},
     "execution_count": 53
    }
   ],
   "metadata": {}
  },
  {
   "cell_type": "code",
   "execution_count": 54,
   "source": [
    "boston_2020.count()\r\n"
   ],
   "outputs": [
    {
     "output_type": "execute_result",
     "data": {
      "text/plain": [
       "incident_number        70894\n",
       "offense_code           70894\n",
       "offense_code_group         0\n",
       "offense_description    70894\n",
       "district               70616\n",
       "reporting_area         70894\n",
       "shooting               70894\n",
       "occurred_on_date       70894\n",
       "year                   70894\n",
       "month                  70894\n",
       "day_of_week            70894\n",
       "hour                   70894\n",
       "ucr_part                   0\n",
       "street                 70893\n",
       "lat                    70894\n",
       "long                   70894\n",
       "location               70894\n",
       "dtype: int64"
      ]
     },
     "metadata": {},
     "execution_count": 54
    }
   ],
   "metadata": {}
  },
  {
   "cell_type": "code",
   "execution_count": 55,
   "source": [
    "boston_2020.dropna(how=\"all\", axis=1, inplace=True)\r\n",
    "#drop any empty columns/rows that are completely empty\r\n",
    "#axis=\"columns\"\r\n"
   ],
   "outputs": [],
   "metadata": {}
  },
  {
   "cell_type": "code",
   "execution_count": 56,
   "source": [
    "#check both dfs have same columns\r\n",
    "diff = boston_2021.columns.difference(boston_2020.columns)\r\n",
    "diff\r\n"
   ],
   "outputs": [
    {
     "output_type": "execute_result",
     "data": {
      "text/plain": [
       "Index([], dtype='object')"
      ]
     },
     "metadata": {},
     "execution_count": 56
    }
   ],
   "metadata": {}
  },
  {
   "cell_type": "code",
   "execution_count": 57,
   "source": [
    "#combine dfs\r\n",
    "start = boston_2020.shape[0]\r\n",
    "stop = boston_2020.shape[0] + boston_2021.shape[0]\r\n",
    "boston_2021.index = range(start, stop)\r\n",
    "boston_list = [boston_2020, boston_2021]\r\n",
    "boston = pd.concat(boston_list)\r\n",
    "boston.shape\r\n"
   ],
   "outputs": [
    {
     "output_type": "execute_result",
     "data": {
      "text/plain": [
       "(106990, 15)"
      ]
     },
     "metadata": {},
     "execution_count": 57
    }
   ],
   "metadata": {}
  },
  {
   "cell_type": "code",
   "execution_count": 58,
   "source": [
    "boston = boston.rename(columns={'offense_description': 'crime_category', 'occurred_on_date': 'date', 'incident_number': 'city'})"
   ],
   "outputs": [],
   "metadata": {}
  },
  {
   "cell_type": "code",
   "execution_count": 59,
   "source": [
    "boston['city'] = 'Boston'"
   ],
   "outputs": [],
   "metadata": {}
  },
  {
   "cell_type": "code",
   "execution_count": 60,
   "source": [
    "boston = boston.loc[:, ['city', 'date', 'crime_category']]"
   ],
   "outputs": [],
   "metadata": {}
  },
  {
   "cell_type": "code",
   "execution_count": 62,
   "source": [
    "boston = boston[boston.date >= '2020-10-03']\r\n"
   ],
   "outputs": [],
   "metadata": {}
  },
  {
   "cell_type": "code",
   "execution_count": 65,
   "source": [
    "boston['date'] = pd.to_datetime(boston['date']).dt.date\r\n"
   ],
   "outputs": [],
   "metadata": {}
  },
  {
   "cell_type": "code",
   "execution_count": 66,
   "source": [
    "boston"
   ],
   "outputs": [
    {
     "output_type": "execute_result",
     "data": {
      "text/plain": [
       "          city        date                                     crime_category\n",
       "5       Boston  2020-11-12                                    FRAUD - WELFARE\n",
       "6       Boston  2020-11-16                                    FRAUD - WELFARE\n",
       "8       Boston  2020-11-06                                  M/V PLATES - LOST\n",
       "9       Boston  2020-12-25                           LARCENY THEFT OF BICYCLE\n",
       "10      Boston  2020-10-07                               INVESTIGATE PROPERTY\n",
       "...        ...         ...                                                ...\n",
       "106985  Boston  2021-03-13              M/V - LEAVING SCENE - PROPERTY DAMAGE\n",
       "106986  Boston  2021-01-19                    FRAUD - FALSE PRETENSE / SCHEME\n",
       "106987  Boston  2021-01-04                        NOISY PARTY/RADIO-NO ARREST\n",
       "106988  Boston  2021-04-02                      SICK/INJURED/MEDICAL - PERSON\n",
       "106989  Boston  2021-01-26  WARRANT ARREST - BOSTON WARRANT (MUST BE SUPPL...\n",
       "\n",
       "[53764 rows x 3 columns]"
      ],
      "text/html": [
       "<div>\n",
       "<style scoped>\n",
       "    .dataframe tbody tr th:only-of-type {\n",
       "        vertical-align: middle;\n",
       "    }\n",
       "\n",
       "    .dataframe tbody tr th {\n",
       "        vertical-align: top;\n",
       "    }\n",
       "\n",
       "    .dataframe thead th {\n",
       "        text-align: right;\n",
       "    }\n",
       "</style>\n",
       "<table border=\"1\" class=\"dataframe\">\n",
       "  <thead>\n",
       "    <tr style=\"text-align: right;\">\n",
       "      <th></th>\n",
       "      <th>city</th>\n",
       "      <th>date</th>\n",
       "      <th>crime_category</th>\n",
       "    </tr>\n",
       "  </thead>\n",
       "  <tbody>\n",
       "    <tr>\n",
       "      <th>5</th>\n",
       "      <td>Boston</td>\n",
       "      <td>2020-11-12</td>\n",
       "      <td>FRAUD - WELFARE</td>\n",
       "    </tr>\n",
       "    <tr>\n",
       "      <th>6</th>\n",
       "      <td>Boston</td>\n",
       "      <td>2020-11-16</td>\n",
       "      <td>FRAUD - WELFARE</td>\n",
       "    </tr>\n",
       "    <tr>\n",
       "      <th>8</th>\n",
       "      <td>Boston</td>\n",
       "      <td>2020-11-06</td>\n",
       "      <td>M/V PLATES - LOST</td>\n",
       "    </tr>\n",
       "    <tr>\n",
       "      <th>9</th>\n",
       "      <td>Boston</td>\n",
       "      <td>2020-12-25</td>\n",
       "      <td>LARCENY THEFT OF BICYCLE</td>\n",
       "    </tr>\n",
       "    <tr>\n",
       "      <th>10</th>\n",
       "      <td>Boston</td>\n",
       "      <td>2020-10-07</td>\n",
       "      <td>INVESTIGATE PROPERTY</td>\n",
       "    </tr>\n",
       "    <tr>\n",
       "      <th>...</th>\n",
       "      <td>...</td>\n",
       "      <td>...</td>\n",
       "      <td>...</td>\n",
       "    </tr>\n",
       "    <tr>\n",
       "      <th>106985</th>\n",
       "      <td>Boston</td>\n",
       "      <td>2021-03-13</td>\n",
       "      <td>M/V - LEAVING SCENE - PROPERTY DAMAGE</td>\n",
       "    </tr>\n",
       "    <tr>\n",
       "      <th>106986</th>\n",
       "      <td>Boston</td>\n",
       "      <td>2021-01-19</td>\n",
       "      <td>FRAUD - FALSE PRETENSE / SCHEME</td>\n",
       "    </tr>\n",
       "    <tr>\n",
       "      <th>106987</th>\n",
       "      <td>Boston</td>\n",
       "      <td>2021-01-04</td>\n",
       "      <td>NOISY PARTY/RADIO-NO ARREST</td>\n",
       "    </tr>\n",
       "    <tr>\n",
       "      <th>106988</th>\n",
       "      <td>Boston</td>\n",
       "      <td>2021-04-02</td>\n",
       "      <td>SICK/INJURED/MEDICAL - PERSON</td>\n",
       "    </tr>\n",
       "    <tr>\n",
       "      <th>106989</th>\n",
       "      <td>Boston</td>\n",
       "      <td>2021-01-26</td>\n",
       "      <td>WARRANT ARREST - BOSTON WARRANT (MUST BE SUPPL...</td>\n",
       "    </tr>\n",
       "  </tbody>\n",
       "</table>\n",
       "<p>53764 rows × 3 columns</p>\n",
       "</div>"
      ]
     },
     "metadata": {},
     "execution_count": 66
    }
   ],
   "metadata": {}
  },
  {
   "cell_type": "code",
   "execution_count": 63,
   "source": [
    "boston.to_csv(\"../Data_Clean/Boston.csv\")\r\n"
   ],
   "outputs": [],
   "metadata": {}
  }
 ],
 "metadata": {
  "orig_nbformat": 4,
  "language_info": {
   "name": "python",
   "version": "3.8.8",
   "mimetype": "text/x-python",
   "codemirror_mode": {
    "name": "ipython",
    "version": 3
   },
   "pygments_lexer": "ipython3",
   "nbconvert_exporter": "python",
   "file_extension": ".py"
  },
  "kernelspec": {
   "name": "python3",
   "display_name": "Python 3.8.8 64-bit ('base': conda)"
  },
  "interpreter": {
   "hash": "cef9e06bb236b2a8629b07e87a04b187b952a0f661eff5533360a155783f0c33"
  }
 },
 "nbformat": 4,
 "nbformat_minor": 2
}