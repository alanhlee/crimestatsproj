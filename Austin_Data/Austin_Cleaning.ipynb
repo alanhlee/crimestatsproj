{
 "cells": [
  {
   "cell_type": "markdown",
   "source": [
    "# Austin, TX"
   ],
   "metadata": {}
  },
  {
   "cell_type": "code",
   "execution_count": 5,
   "source": [
    " import pandas as pd"
   ],
   "outputs": [],
   "metadata": {}
  },
  {
   "cell_type": "code",
   "execution_count": 9,
   "source": [
    "austin = pd.read_csv(\"../Austin_Data/Crime_Reports.csv\", dtype={0: \"string\"}, chunksize=1000, parse_dates=[4, 7]).get_chunk()\r\n",
    "#retrieved 7/10/21\r\n",
    "#throws warning re: column 16; not even sure if we need column 16 (PRA)"
   ],
   "outputs": [],
   "metadata": {}
  },
  {
   "cell_type": "code",
   "execution_count": 10,
   "source": [
    "austin.head()\r\n",
    "austin.dtypes\r\n"
   ],
   "outputs": [
    {
     "output_type": "execute_result",
     "data": {
      "text/plain": [
       "Incident Number                        string\n",
       "Highest Offense Description            object\n",
       "Highest Offense Code                    int64\n",
       "Family Violence                        object\n",
       "Occurred Date Time             datetime64[ns]\n",
       "Occurred Date                          object\n",
       "Occurred Time                           int64\n",
       "Report Date Time               datetime64[ns]\n",
       "Report Date                            object\n",
       "Report Time                             int64\n",
       "Location Type                          object\n",
       "Address                                object\n",
       "Zip Code                              float64\n",
       "Council District                      float64\n",
       "APD Sector                             object\n",
       "APD District                           object\n",
       "PRA                                   float64\n",
       "Census Tract                          float64\n",
       "Clearance Status                       object\n",
       "Clearance Date                         object\n",
       "UCR Category                           object\n",
       "Category Description                   object\n",
       "X-coordinate                          float64\n",
       "Y-coordinate                          float64\n",
       "Latitude                              float64\n",
       "Longitude                             float64\n",
       "Location                               object\n",
       "dtype: object"
      ]
     },
     "metadata": {},
     "execution_count": 10
    }
   ],
   "metadata": {}
  },
  {
   "cell_type": "code",
   "execution_count": null,
   "source": [
    "#personal preference\r\n",
    "#making column names all lower case\r\n",
    "austin.columns = austin.columns.str.lower().str.replace(' ', '_')\r\n"
   ],
   "outputs": [],
   "metadata": {}
  },
  {
   "cell_type": "code",
   "execution_count": null,
   "source": [
    "#data in sql is up to 6/29/20\r\n",
    "austin = austin[austin.report_date_time >= '2020-09-26']\r\n",
    "austin.reset_index(drop=True, inplace=True)\r\n"
   ],
   "outputs": [],
   "metadata": {}
  },
  {
   "cell_type": "code",
   "execution_count": null,
   "source": [
    "min(austin['occurred_date_time'])\r\n",
    "max(austin['occurred_date_time'])\r\n",
    "min(austin['report_date_time'])\r\n",
    "max(austin['report_date_time'])\r\n"
   ],
   "outputs": [],
   "metadata": {}
  },
  {
   "cell_type": "code",
   "execution_count": null,
   "source": [
    "austin.shape\r\n",
    "austin.head()\r\n",
    "#checking that time and crime present in every column\r\n",
    "austin.count()"
   ],
   "outputs": [],
   "metadata": {}
  },
  {
   "cell_type": "code",
   "execution_count": null,
   "source": [
    "#austin.to_csv(\"Data_Clean/Austin.csv\")"
   ],
   "outputs": [],
   "metadata": {}
  }
 ],
 "metadata": {
  "orig_nbformat": 4,
  "language_info": {
   "name": "python",
   "version": "3.8.8",
   "mimetype": "text/x-python",
   "codemirror_mode": {
    "name": "ipython",
    "version": 3
   },
   "pygments_lexer": "ipython3",
   "nbconvert_exporter": "python",
   "file_extension": ".py"
  },
  "kernelspec": {
   "name": "python3",
   "display_name": "Python 3.8.8 64-bit ('base': conda)"
  },
  "interpreter": {
   "hash": "cef9e06bb236b2a8629b07e87a04b187b952a0f661eff5533360a155783f0c33"
  }
 },
 "nbformat": 4,
 "nbformat_minor": 2
}