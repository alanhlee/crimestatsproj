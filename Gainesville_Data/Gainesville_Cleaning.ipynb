{
 "cells": [
  {
   "cell_type": "markdown",
   "source": [
    "# Gainesville, FL"
   ],
   "metadata": {}
  },
  {
   "cell_type": "code",
   "execution_count": 1,
   "source": [
    "#2020-10-05 last update\r\n",
    "import pandas as pd\r\n",
    "gv = pd.read_csv('Crime_Responses.csv', parse_dates=['Report Date'])"
   ],
   "outputs": [],
   "metadata": {}
  },
  {
   "cell_type": "code",
   "execution_count": 2,
   "source": [
    "gv.head()"
   ],
   "outputs": [
    {
     "output_type": "execute_result",
     "data": {
      "text/plain": [
       "          ID                Incident Type         Report Date  \\\n",
       "0  221009134          Assist Other Agency 2021-07-02 01:00:00   \n",
       "1  221009267  Domestic Aggravated Battery 2021-07-04 22:37:37   \n",
       "2  221009201          Assist Other Agency 2021-07-03 12:31:31   \n",
       "3  121009277               Assist Citizen 2021-07-05 03:27:51   \n",
       "4  221009177               Warrant Arrest 2021-07-02 18:51:00   \n",
       "\n",
       "             Offense Date  Report Hour of Day Report Day of Week  \\\n",
       "0  07/02/2021 01:00:00 AM                   1             Friday   \n",
       "1  07/04/2021 09:24:36 PM                  22             Sunday   \n",
       "2  07/03/2021 12:25:08 PM                  12           Saturday   \n",
       "3  07/05/2021 03:27:50 AM                   3             Monday   \n",
       "4  07/02/2021 06:51:00 PM                  18             Friday   \n",
       "\n",
       "   Offense Hour of Day Offense Day of Week         City State  \\\n",
       "0                    1              Friday  GAINESVILLE    FL   \n",
       "1                   21              Sunday  GAINESVILLE    FL   \n",
       "2                   12            Saturday  GAINESVILLE    FL   \n",
       "3                    3              Monday  GAINESVILLE    FL   \n",
       "4                   18              Friday  GAINESVILLE    FL   \n",
       "\n",
       "                   Address   Latitude  Longitude  \\\n",
       "0  300 BLK SW WILLISTON RD  29.620543 -82.328759   \n",
       "1      100 BLK NW 39TH AVE  29.688534 -82.326069   \n",
       "2      200 BLK SE 16TH AVE  29.634039 -82.326408   \n",
       "3       500 BLK NW 8TH AVE  29.659423 -82.329994   \n",
       "4       1500 BLK N MAIN ST  29.665770 -82.324505   \n",
       "\n",
       "                                Location  \n",
       "0  POINT (-82.328759 29.620542999999998)  \n",
       "1  POINT (-82.326069 29.688534000000004)  \n",
       "2  POINT (-82.326408 29.634038999999998)  \n",
       "3           POINT (-82.329994 29.659423)  \n",
       "4            POINT (-82.324505 29.66577)  "
      ],
      "text/html": [
       "<div>\n",
       "<style scoped>\n",
       "    .dataframe tbody tr th:only-of-type {\n",
       "        vertical-align: middle;\n",
       "    }\n",
       "\n",
       "    .dataframe tbody tr th {\n",
       "        vertical-align: top;\n",
       "    }\n",
       "\n",
       "    .dataframe thead th {\n",
       "        text-align: right;\n",
       "    }\n",
       "</style>\n",
       "<table border=\"1\" class=\"dataframe\">\n",
       "  <thead>\n",
       "    <tr style=\"text-align: right;\">\n",
       "      <th></th>\n",
       "      <th>ID</th>\n",
       "      <th>Incident Type</th>\n",
       "      <th>Report Date</th>\n",
       "      <th>Offense Date</th>\n",
       "      <th>Report Hour of Day</th>\n",
       "      <th>Report Day of Week</th>\n",
       "      <th>Offense Hour of Day</th>\n",
       "      <th>Offense Day of Week</th>\n",
       "      <th>City</th>\n",
       "      <th>State</th>\n",
       "      <th>Address</th>\n",
       "      <th>Latitude</th>\n",
       "      <th>Longitude</th>\n",
       "      <th>Location</th>\n",
       "    </tr>\n",
       "  </thead>\n",
       "  <tbody>\n",
       "    <tr>\n",
       "      <th>0</th>\n",
       "      <td>221009134</td>\n",
       "      <td>Assist Other Agency</td>\n",
       "      <td>2021-07-02 01:00:00</td>\n",
       "      <td>07/02/2021 01:00:00 AM</td>\n",
       "      <td>1</td>\n",
       "      <td>Friday</td>\n",
       "      <td>1</td>\n",
       "      <td>Friday</td>\n",
       "      <td>GAINESVILLE</td>\n",
       "      <td>FL</td>\n",
       "      <td>300 BLK SW WILLISTON RD</td>\n",
       "      <td>29.620543</td>\n",
       "      <td>-82.328759</td>\n",
       "      <td>POINT (-82.328759 29.620542999999998)</td>\n",
       "    </tr>\n",
       "    <tr>\n",
       "      <th>1</th>\n",
       "      <td>221009267</td>\n",
       "      <td>Domestic Aggravated Battery</td>\n",
       "      <td>2021-07-04 22:37:37</td>\n",
       "      <td>07/04/2021 09:24:36 PM</td>\n",
       "      <td>22</td>\n",
       "      <td>Sunday</td>\n",
       "      <td>21</td>\n",
       "      <td>Sunday</td>\n",
       "      <td>GAINESVILLE</td>\n",
       "      <td>FL</td>\n",
       "      <td>100 BLK NW 39TH AVE</td>\n",
       "      <td>29.688534</td>\n",
       "      <td>-82.326069</td>\n",
       "      <td>POINT (-82.326069 29.688534000000004)</td>\n",
       "    </tr>\n",
       "    <tr>\n",
       "      <th>2</th>\n",
       "      <td>221009201</td>\n",
       "      <td>Assist Other Agency</td>\n",
       "      <td>2021-07-03 12:31:31</td>\n",
       "      <td>07/03/2021 12:25:08 PM</td>\n",
       "      <td>12</td>\n",
       "      <td>Saturday</td>\n",
       "      <td>12</td>\n",
       "      <td>Saturday</td>\n",
       "      <td>GAINESVILLE</td>\n",
       "      <td>FL</td>\n",
       "      <td>200 BLK SE 16TH AVE</td>\n",
       "      <td>29.634039</td>\n",
       "      <td>-82.326408</td>\n",
       "      <td>POINT (-82.326408 29.634038999999998)</td>\n",
       "    </tr>\n",
       "    <tr>\n",
       "      <th>3</th>\n",
       "      <td>121009277</td>\n",
       "      <td>Assist Citizen</td>\n",
       "      <td>2021-07-05 03:27:51</td>\n",
       "      <td>07/05/2021 03:27:50 AM</td>\n",
       "      <td>3</td>\n",
       "      <td>Monday</td>\n",
       "      <td>3</td>\n",
       "      <td>Monday</td>\n",
       "      <td>GAINESVILLE</td>\n",
       "      <td>FL</td>\n",
       "      <td>500 BLK NW 8TH AVE</td>\n",
       "      <td>29.659423</td>\n",
       "      <td>-82.329994</td>\n",
       "      <td>POINT (-82.329994 29.659423)</td>\n",
       "    </tr>\n",
       "    <tr>\n",
       "      <th>4</th>\n",
       "      <td>221009177</td>\n",
       "      <td>Warrant Arrest</td>\n",
       "      <td>2021-07-02 18:51:00</td>\n",
       "      <td>07/02/2021 06:51:00 PM</td>\n",
       "      <td>18</td>\n",
       "      <td>Friday</td>\n",
       "      <td>18</td>\n",
       "      <td>Friday</td>\n",
       "      <td>GAINESVILLE</td>\n",
       "      <td>FL</td>\n",
       "      <td>1500 BLK N MAIN ST</td>\n",
       "      <td>29.665770</td>\n",
       "      <td>-82.324505</td>\n",
       "      <td>POINT (-82.324505 29.66577)</td>\n",
       "    </tr>\n",
       "  </tbody>\n",
       "</table>\n",
       "</div>"
      ]
     },
     "metadata": {},
     "execution_count": 2
    }
   ],
   "metadata": {}
  },
  {
   "cell_type": "code",
   "execution_count": 3,
   "source": [
    "gv.columns = gv.columns.str.lower().str.replace(\" \", \"_\")\r\n"
   ],
   "outputs": [],
   "metadata": {}
  },
  {
   "cell_type": "code",
   "execution_count": 4,
   "source": [
    "gv = gv.rename(columns={'incident_type': 'crime_category', 'report_date': 'date'})"
   ],
   "outputs": [],
   "metadata": {}
  },
  {
   "cell_type": "code",
   "execution_count": 5,
   "source": [
    "gv.columns"
   ],
   "outputs": [
    {
     "output_type": "execute_result",
     "data": {
      "text/plain": [
       "Index(['id', 'crime_category', 'date', 'offense_date', 'report_hour_of_day',\n",
       "       'report_day_of_week', 'offense_hour_of_day', 'offense_day_of_week',\n",
       "       'city', 'state', 'address', 'latitude', 'longitude', 'location'],\n",
       "      dtype='object')"
      ]
     },
     "metadata": {},
     "execution_count": 5
    }
   ],
   "metadata": {}
  },
  {
   "cell_type": "code",
   "execution_count": 6,
   "source": [
    "gv = gv.loc[:, ['city', 'date', 'crime_category']]"
   ],
   "outputs": [],
   "metadata": {}
  },
  {
   "cell_type": "code",
   "execution_count": 9,
   "source": [
    "gv['city'] = 'Gainesville'\r\n"
   ],
   "outputs": [],
   "metadata": {}
  },
  {
   "cell_type": "code",
   "execution_count": 7,
   "source": [
    "gv = gv[gv.date >= '2020-10-05']\r\n"
   ],
   "outputs": [],
   "metadata": {}
  },
  {
   "cell_type": "code",
   "execution_count": null,
   "source": [
    "gv"
   ],
   "outputs": [],
   "metadata": {}
  },
  {
   "cell_type": "code",
   "execution_count": 8,
   "source": [
    "gv.to_csv('../Data_Clean/Gainesville.csv')"
   ],
   "outputs": [],
   "metadata": {}
  }
 ],
 "metadata": {
  "orig_nbformat": 4,
  "language_info": {
   "name": "python",
   "version": "3.8.8",
   "mimetype": "text/x-python",
   "codemirror_mode": {
    "name": "ipython",
    "version": 3
   },
   "pygments_lexer": "ipython3",
   "nbconvert_exporter": "python",
   "file_extension": ".py"
  },
  "kernelspec": {
   "name": "python3",
   "display_name": "Python 3.8.8 64-bit ('base': conda)"
  },
  "interpreter": {
   "hash": "cef9e06bb236b2a8629b07e87a04b187b952a0f661eff5533360a155783f0c33"
  }
 },
 "nbformat": 4,
 "nbformat_minor": 2
}