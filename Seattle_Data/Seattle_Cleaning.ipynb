{
 "cells": [
  {
   "cell_type": "markdown",
   "source": [
    "# Seattle"
   ],
   "metadata": {}
  },
  {
   "cell_type": "code",
   "execution_count": null,
   "source": [
    "#https://data.seattle.gov/Public-Safety/SPD-Crime-Data-2008-Present/tazs-3rd5\r\n",
    "\r\n",
    "#use report_datetime more data available"
   ],
   "outputs": [],
   "metadata": {}
  },
  {
   "cell_type": "code",
   "execution_count": 10,
   "source": [
    "import pandas as pd\r\n",
    "seattle = pd.read_csv(\"../Seattle_Data/SPD_Crime_Data__2008-Present.csv\",\r\n",
    "parse_dates=['Report DateTime']\r\n",
    ")\r\n",
    "\r\n",
    "seattle.sort_values(by='Report DateTime', ascending=False).to_csv(\"../Seattle_Data/SPD_Crime_Data__2008-Present-sorted.csv\", index=False)\r\n",
    "\r\n"
   ],
   "outputs": [],
   "metadata": {}
  },
  {
   "cell_type": "code",
   "execution_count": 11,
   "source": [
    "seattle = pd.read_csv(\"../Seattle_Data/SPD_Crime_Data__2008-Present-sorted.csv\",\r\n",
    "parse_dates = ['Report DateTime'])\r\n"
   ],
   "outputs": [],
   "metadata": {}
  },
  {
   "cell_type": "code",
   "execution_count": 14,
   "source": [
    "#personal preference\r\n",
    "seattle.columns = seattle.columns.str.lower().str.replace(' ', '_')\r\n"
   ],
   "outputs": [],
   "metadata": {}
  },
  {
   "cell_type": "code",
   "execution_count": 13,
   "source": [
    "seattle.head()"
   ],
   "outputs": [
    {
     "output_type": "execute_result",
     "data": {
      "text/plain": [
       "(917308, 17)"
      ]
     },
     "metadata": {},
     "execution_count": 13
    }
   ],
   "metadata": {}
  },
  {
   "cell_type": "code",
   "execution_count": null,
   "source": [
    "#last date 10/5/2020 for 2020 | 2021 is not in DB\r\n",
    "#seattle['offense_start_datetime'] = pd.date_range(seattle[\"offense_start_datetime\"])\r\n"
   ],
   "outputs": [],
   "metadata": {}
  },
  {
   "cell_type": "code",
   "execution_count": null,
   "source": [
    "#seattle = seattle[seattle.offense_start_datetime >= pd.to_datetime('2020-10-05', format='%Y-%m-%d')]\r\n"
   ],
   "outputs": [],
   "metadata": {}
  },
  {
   "cell_type": "code",
   "execution_count": null,
   "source": [
    "#seattle.loc[seattle[\"offense_start_datetime\"] >= '2019-10-05 00:00:00']\r\n"
   ],
   "outputs": [],
   "metadata": {}
  },
  {
   "cell_type": "code",
   "execution_count": 18,
   "source": [
    "seattle = seattle.loc[(seattle['report_datetime'] >= '2020-10-05')]\r\n"
   ],
   "outputs": [],
   "metadata": {}
  },
  {
   "cell_type": "code",
   "execution_count": 19,
   "source": [
    "#seattle.to_csv('../Data_Clean/Seattle.csv')"
   ],
   "outputs": [],
   "metadata": {}
  },
  {
   "cell_type": "code",
   "execution_count": null,
   "source": [],
   "outputs": [],
   "metadata": {}
  }
 ],
 "metadata": {
  "orig_nbformat": 4,
  "language_info": {
   "name": "python",
   "version": "3.8.8",
   "mimetype": "text/x-python",
   "codemirror_mode": {
    "name": "ipython",
    "version": 3
   },
   "pygments_lexer": "ipython3",
   "nbconvert_exporter": "python",
   "file_extension": ".py"
  },
  "kernelspec": {
   "name": "python3",
   "display_name": "Python 3.8.8 64-bit ('base': conda)"
  },
  "interpreter": {
   "hash": "cef9e06bb236b2a8629b07e87a04b187b952a0f661eff5533360a155783f0c33"
  }
 },
 "nbformat": 4,
 "nbformat_minor": 2
}