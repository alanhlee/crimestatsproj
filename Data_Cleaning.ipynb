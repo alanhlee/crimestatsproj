{
 "cells": [
  {
   "cell_type": "code",
   "execution_count": null,
   "source": [
    "import pandas as pd\r\n",
    "import numpy as np"
   ],
   "outputs": [],
   "metadata": {}
  },
  {
   "cell_type": "code",
   "execution_count": null,
   "source": [
    "#to do:\r\n",
    "#standardize col names?\r\n",
    "#check for duplicates between this data and whats already in SQL"
   ],
   "outputs": [],
   "metadata": {}
  },
  {
   "cell_type": "code",
   "execution_count": null,
   "source": [
    "#following few cell all copied from SQL Server for easier access"
   ],
   "outputs": [],
   "metadata": {}
  },
  {
   "cell_type": "code",
   "execution_count": null,
   "source": [
    "cities_copied = '''Atlanta\r\n",
    "Austin\r\n",
    "Baton Rouge\r\n",
    "Boston\r\n",
    "Chicago\r\n",
    "Cincinnati\r\n",
    "Dallas\r\n",
    "Denver\r\n",
    "Fort Worth\r\n",
    "Gainesville\r\n",
    "Los Angeles\r\n",
    "Nashville\r\n",
    "New York City\r\n",
    "Philadelphia\r\n",
    "San Francisco\r\n",
    "Seattle'''"
   ],
   "outputs": [],
   "metadata": {}
  },
  {
   "cell_type": "code",
   "execution_count": null,
   "source": [
    "urls_copied = '''https://www.atlantapd.org/i-want-to/crime-data-downloads\r\n",
    "https://data.austintexas.gov/Public-Safety/Crime-Reports/fdj4-gpfu\r\n",
    "https://data.brla.gov/Public-Safety/Baton-Rouge-Crime-Incidents/fabb-cnnu\r\n",
    "https://data.boston.gov/dataset/crime-incident-reports-august-2015-to-date-source-new-system/resource/12cb3883-56f5-47de-afa5-3b1cf61b257b\r\n",
    "https://data.cityofchicago.org/Public-Safety/Crimes-2001-to-Present/ijzp-q8t2\r\n",
    "https://data.cincinnati-oh.gov/Safety/PDI-Police-Data-Initiative-Crime-Incidents/k59e-2pvf\r\n",
    "https://www.dallasopendata.com/Public-Safety/Police-Incidents/qv6i-rri7/data\r\n",
    "https://www.denvergov.org/opendata/dataset/city-and-county-of-denver-crime\r\n",
    "https://data.fortworthtexas.gov/Public-Safety/Crime-Data/k6ic-7kp7\r\n",
    "https://data.cityofgainesville.org/Public-Safety/Crime-Responses/gvua-xt9q\r\n",
    "https://data.lacity.org/A-Safe-City/Crime-Data-from-2020-to-Present/2nrs-mtv8\r\n",
    "https://data.nashville.gov/Police/Metro-Nashville-Police-Department-Incidents/2u6v-ujjs\r\n",
    "https://data.cityofnewyork.us/Public-Safety/NYPD-Complaint-Data-Current-Year-To-Date-/5uac-w243\r\n",
    "https://www.opendataphilly.org/dataset/crime-incidents\r\n",
    "https://data.sfgov.org/Public-Safety/Police-Department-Incident-Reports-2018-to-Present/wg3w-h783\r\n",
    "https://data.seattle.gov/Public-Safety/SPD-Crime-Data-2008-Present/tazs-3rd5'''\r\n"
   ],
   "outputs": [],
   "metadata": {}
  },
  {
   "cell_type": "code",
   "execution_count": null,
   "source": [
    "cities = str.split(cities_copied, '\\n')\r\n",
    "urls = str.split(urls_copied, '\\n')\r\n",
    "sources = pd.DataFrame({'City' : cities, 'URL' :urls})"
   ],
   "outputs": [],
   "metadata": {}
  },
  {
   "cell_type": "code",
   "execution_count": null,
   "source": [
    "#Data found here:\r\n",
    "for i in sources['URL']:\r\n",
    "    print(i)"
   ],
   "outputs": [],
   "metadata": {}
  },
  {
   "cell_type": "code",
   "execution_count": null,
   "source": [],
   "outputs": [],
   "metadata": {}
  },
  {
   "cell_type": "code",
   "execution_count": null,
   "source": [
    "#Note: all cleaned data is included so the following code does not need to be run again to create the files\r\n",
    "#Austin, Chicago, and NYC are particularly slow"
   ],
   "outputs": [],
   "metadata": {}
  },
  {
   "cell_type": "markdown",
   "source": [
    "# Atlanta, GA"
   ],
   "metadata": {}
  },
  {
   "cell_type": "code",
   "execution_count": null,
   "source": [
    "#Reported between 09/30/2020 - 07/01/2021"
   ],
   "outputs": [],
   "metadata": {}
  },
  {
   "cell_type": "code",
   "execution_count": 2,
   "source": [
    "import pandas as pd\r\n",
    "\r\n",
    "atlanta_2021 = pd.read_csv(\"Atlanta_Data/COBRA-2021.csv\", dtype = {0: 'string'}, parse_dates = {'occurred': [2, 3]})\r\n",
    "#retrieved 7/7/21"
   ],
   "outputs": [],
   "metadata": {}
  },
  {
   "cell_type": "code",
   "execution_count": null,
   "source": [
    "atlanta_2021.shape"
   ],
   "outputs": [],
   "metadata": {}
  },
  {
   "cell_type": "code",
   "execution_count": null,
   "source": [
    "atlanta_2021.dtypes\r\n",
    "\r\n",
    "#checking what format data was imported as, but"
   ],
   "outputs": [],
   "metadata": {}
  },
  {
   "cell_type": "code",
   "execution_count": 3,
   "source": [
    "atlanta_2021.head()"
   ],
   "outputs": [
    {
     "output_type": "execute_result",
     "data": {
      "text/plain": [
       "          occurred offense_id   rpt_date  poss_date poss_time beat  \\\n",
       "0  5/19/2021 15:20  021140096  5/20/2021  5/19/2021     15:25  103   \n",
       "1  1/31/2021 00:00  021320347   2/1/2021   2/1/2021     06:53  509   \n",
       "2  6/27/2021 21:17  021791668  6/28/2021  6/28/2021     20:00  102   \n",
       "3  2/11/2021 19:15  061583880  2/11/2021  2/11/2021     20:29  401   \n",
       "4  6/13/2021 13:00  200017887  6/15/2021  6/13/2020     13:30  603   \n",
       "\n",
       "                  location ibr_code           UC2_Literal     neighborhood  \\\n",
       "0    1720 MARIETTA BLVD NW      23F  LARCENY-FROM VEHICLE       Hills Park   \n",
       "1      229 COURTLAND ST NE      23F  LARCENY-FROM VEHICLE         Downtown   \n",
       "2  870 MAYSON TURNER RD NW      23H   LARCENY-NON VEHICLE        Vine City   \n",
       "3            850 OAK ST SW      23F  LARCENY-FROM VEHICLE         West End   \n",
       "4      595 PIEDMONT AVE NE      23C   LARCENY-NON VEHICLE  Old Fourth Ward   \n",
       "\n",
       "  npu        lat       long  \n",
       "0   D  33.801687 -84.436444  \n",
       "1   M  33.760759 -84.383773  \n",
       "2   L  33.755610 -84.416100  \n",
       "3   T  33.740594 -84.415800  \n",
       "4   M  33.770544 -84.381146  "
      ],
      "text/html": [
       "<div>\n",
       "<style scoped>\n",
       "    .dataframe tbody tr th:only-of-type {\n",
       "        vertical-align: middle;\n",
       "    }\n",
       "\n",
       "    .dataframe tbody tr th {\n",
       "        vertical-align: top;\n",
       "    }\n",
       "\n",
       "    .dataframe thead th {\n",
       "        text-align: right;\n",
       "    }\n",
       "</style>\n",
       "<table border=\"1\" class=\"dataframe\">\n",
       "  <thead>\n",
       "    <tr style=\"text-align: right;\">\n",
       "      <th></th>\n",
       "      <th>occurred</th>\n",
       "      <th>offense_id</th>\n",
       "      <th>rpt_date</th>\n",
       "      <th>poss_date</th>\n",
       "      <th>poss_time</th>\n",
       "      <th>beat</th>\n",
       "      <th>location</th>\n",
       "      <th>ibr_code</th>\n",
       "      <th>UC2_Literal</th>\n",
       "      <th>neighborhood</th>\n",
       "      <th>npu</th>\n",
       "      <th>lat</th>\n",
       "      <th>long</th>\n",
       "    </tr>\n",
       "  </thead>\n",
       "  <tbody>\n",
       "    <tr>\n",
       "      <th>0</th>\n",
       "      <td>5/19/2021 15:20</td>\n",
       "      <td>021140096</td>\n",
       "      <td>5/20/2021</td>\n",
       "      <td>5/19/2021</td>\n",
       "      <td>15:25</td>\n",
       "      <td>103</td>\n",
       "      <td>1720 MARIETTA BLVD NW</td>\n",
       "      <td>23F</td>\n",
       "      <td>LARCENY-FROM VEHICLE</td>\n",
       "      <td>Hills Park</td>\n",
       "      <td>D</td>\n",
       "      <td>33.801687</td>\n",
       "      <td>-84.436444</td>\n",
       "    </tr>\n",
       "    <tr>\n",
       "      <th>1</th>\n",
       "      <td>1/31/2021 00:00</td>\n",
       "      <td>021320347</td>\n",
       "      <td>2/1/2021</td>\n",
       "      <td>2/1/2021</td>\n",
       "      <td>06:53</td>\n",
       "      <td>509</td>\n",
       "      <td>229 COURTLAND ST NE</td>\n",
       "      <td>23F</td>\n",
       "      <td>LARCENY-FROM VEHICLE</td>\n",
       "      <td>Downtown</td>\n",
       "      <td>M</td>\n",
       "      <td>33.760759</td>\n",
       "      <td>-84.383773</td>\n",
       "    </tr>\n",
       "    <tr>\n",
       "      <th>2</th>\n",
       "      <td>6/27/2021 21:17</td>\n",
       "      <td>021791668</td>\n",
       "      <td>6/28/2021</td>\n",
       "      <td>6/28/2021</td>\n",
       "      <td>20:00</td>\n",
       "      <td>102</td>\n",
       "      <td>870 MAYSON TURNER RD NW</td>\n",
       "      <td>23H</td>\n",
       "      <td>LARCENY-NON VEHICLE</td>\n",
       "      <td>Vine City</td>\n",
       "      <td>L</td>\n",
       "      <td>33.755610</td>\n",
       "      <td>-84.416100</td>\n",
       "    </tr>\n",
       "    <tr>\n",
       "      <th>3</th>\n",
       "      <td>2/11/2021 19:15</td>\n",
       "      <td>061583880</td>\n",
       "      <td>2/11/2021</td>\n",
       "      <td>2/11/2021</td>\n",
       "      <td>20:29</td>\n",
       "      <td>401</td>\n",
       "      <td>850 OAK ST SW</td>\n",
       "      <td>23F</td>\n",
       "      <td>LARCENY-FROM VEHICLE</td>\n",
       "      <td>West End</td>\n",
       "      <td>T</td>\n",
       "      <td>33.740594</td>\n",
       "      <td>-84.415800</td>\n",
       "    </tr>\n",
       "    <tr>\n",
       "      <th>4</th>\n",
       "      <td>6/13/2021 13:00</td>\n",
       "      <td>200017887</td>\n",
       "      <td>6/15/2021</td>\n",
       "      <td>6/13/2020</td>\n",
       "      <td>13:30</td>\n",
       "      <td>603</td>\n",
       "      <td>595 PIEDMONT AVE NE</td>\n",
       "      <td>23C</td>\n",
       "      <td>LARCENY-NON VEHICLE</td>\n",
       "      <td>Old Fourth Ward</td>\n",
       "      <td>M</td>\n",
       "      <td>33.770544</td>\n",
       "      <td>-84.381146</td>\n",
       "    </tr>\n",
       "  </tbody>\n",
       "</table>\n",
       "</div>"
      ]
     },
     "metadata": {},
     "execution_count": 3
    }
   ],
   "metadata": {}
  },
  {
   "cell_type": "code",
   "execution_count": 4,
   "source": [
    "#drop anything without occurred date and made it of type datetime\r\n",
    "atlanta_2021 = atlanta_2021[~atlanta_2021['occurred'].str.contains('nan')]\r\n",
    "atlanta_2021['occurred'] = pd.to_datetime(atlanta_2021['occurred'])"
   ],
   "outputs": [],
   "metadata": {}
  },
  {
   "cell_type": "code",
   "execution_count": 5,
   "source": [
    "atlanta_2021.count()"
   ],
   "outputs": [
    {
     "output_type": "execute_result",
     "data": {
      "text/plain": [
       "occurred        10204\n",
       "offense_id      10204\n",
       "rpt_date        10204\n",
       "poss_date        9994\n",
       "poss_time        9994\n",
       "beat            10204\n",
       "location        10204\n",
       "ibr_code        10204\n",
       "UC2_Literal     10204\n",
       "neighborhood     9784\n",
       "npu             10143\n",
       "lat             10204\n",
       "long            10204\n",
       "dtype: int64"
      ]
     },
     "metadata": {},
     "execution_count": 5
    }
   ],
   "metadata": {}
  },
  {
   "cell_type": "code",
   "execution_count": null,
   "source": [
    "min(atlanta_2021.occurred)"
   ],
   "outputs": [],
   "metadata": {}
  },
  {
   "cell_type": "code",
   "execution_count": null,
   "source": [
    "max(atlanta_2021.occurred)"
   ],
   "outputs": [],
   "metadata": {}
  },
  {
   "cell_type": "code",
   "execution_count": null,
   "source": [
    "atlanta_2020 = pd.read_csv(\"Atlanta_Data/COBRA-2020(NEW RMS 9-30 12-31).csv\", dtype = {0 : \"string\"}, parse_dates= {\"occurred\": [2, 3]})\r\n",
    "#retrieved 7/9/21"
   ],
   "outputs": [],
   "metadata": {}
  },
  {
   "cell_type": "code",
   "execution_count": null,
   "source": [
    "atlanta_2020.head()"
   ],
   "outputs": [],
   "metadata": {}
  },
  {
   "cell_type": "code",
   "execution_count": null,
   "source": [
    "atlanta_2020.shape"
   ],
   "outputs": [],
   "metadata": {}
  },
  {
   "cell_type": "code",
   "execution_count": null,
   "source": [
    "atlanta_2020.dtypes"
   ],
   "outputs": [],
   "metadata": {}
  },
  {
   "cell_type": "code",
   "execution_count": null,
   "source": [
    "atlanta_2020.count()"
   ],
   "outputs": [],
   "metadata": {}
  },
  {
   "cell_type": "code",
   "execution_count": null,
   "source": [
    "#drop empty columns\r\n",
    "atlanta_2020.dropna(how= \"all\", axis = 1, inplace = True)"
   ],
   "outputs": [],
   "metadata": {}
  },
  {
   "cell_type": "code",
   "execution_count": null,
   "source": [
    "#drop crimes with no date and reset the index\r\n",
    "atlanta_2020 = atlanta_2020[~atlanta_2020['occurred'].str.contains('nan')]\r\n",
    "atlanta_2020.reset_index(drop = True, inplace= True)"
   ],
   "outputs": [],
   "metadata": {}
  },
  {
   "cell_type": "code",
   "execution_count": null,
   "source": [
    "atlanta_2020.count()"
   ],
   "outputs": [],
   "metadata": {}
  },
  {
   "cell_type": "code",
   "execution_count": null,
   "source": [
    "atlanta_2020['occurred'] = pd.to_datetime(atlanta_2020['occurred'])\r\n",
    "#throws error so will find and fix dates that don't fit format"
   ],
   "outputs": [],
   "metadata": {
    "scrolled": true
   }
  },
  {
   "cell_type": "code",
   "execution_count": null,
   "source": [
    "atlanta_2020[~atlanta_2020['occurred'].str.contains('2020')]"
   ],
   "outputs": [],
   "metadata": {
    "scrolled": true
   }
  },
  {
   "cell_type": "code",
   "execution_count": null,
   "source": [
    "atlanta_2020.loc[3599, 'occurred'] = '2020-10-30 17:56'\r\n",
    "atlanta_2020.loc[4745, 'occurred'] = '2020-11-01 23:56'"
   ],
   "outputs": [],
   "metadata": {}
  },
  {
   "cell_type": "code",
   "execution_count": null,
   "source": [
    "#change to datetime\r\n",
    "atlanta_2020['occurred'] = pd.to_datetime(atlanta_2020['occurred'])"
   ],
   "outputs": [],
   "metadata": {
    "scrolled": true
   }
  },
  {
   "cell_type": "code",
   "execution_count": null,
   "source": [
    "min(atlanta_2020.occurred)"
   ],
   "outputs": [],
   "metadata": {}
  },
  {
   "cell_type": "code",
   "execution_count": null,
   "source": [
    "max(atlanta_2020.occurred)"
   ],
   "outputs": [],
   "metadata": {}
  },
  {
   "cell_type": "code",
   "execution_count": null,
   "source": [
    "#check that both dfs have same columns\r\n",
    "diff = atlanta_2020.columns.difference(atlanta_2021.columns)\r\n",
    "diff"
   ],
   "outputs": [],
   "metadata": {}
  },
  {
   "cell_type": "code",
   "execution_count": null,
   "source": [
    "#combine dfs\r\n",
    "#correct index first\r\n",
    "start = atlanta_2020.shape[0]\r\n",
    "stop = atlanta_2020.shape[0] + atlanta_2021.shape[0]\r\n",
    "atlanta_2021.index = range(start, stop)\r\n",
    "atlanta_list = [atlanta_2020, atlanta_2021]\r\n",
    "atlanta = pd.concat(atlanta_list)\r\n",
    "atlanta.shape"
   ],
   "outputs": [],
   "metadata": {}
  },
  {
   "cell_type": "code",
   "execution_count": null,
   "source": [
    "atlanta.count()"
   ],
   "outputs": [],
   "metadata": {}
  },
  {
   "cell_type": "code",
   "execution_count": null,
   "source": [
    "atlanta['rpt_date'] = pd.to_datetime(atlanta['rpt_date'])"
   ],
   "outputs": [],
   "metadata": {}
  },
  {
   "cell_type": "code",
   "execution_count": null,
   "source": [
    "min(atlanta['rpt_date'])"
   ],
   "outputs": [],
   "metadata": {}
  },
  {
   "cell_type": "code",
   "execution_count": null,
   "source": [
    "max(atlanta['rpt_date'])"
   ],
   "outputs": [],
   "metadata": {}
  },
  {
   "cell_type": "code",
   "execution_count": null,
   "source": [
    "atlanta.head()"
   ],
   "outputs": [],
   "metadata": {}
  },
  {
   "cell_type": "code",
   "execution_count": null,
   "source": [
    "atlanta.to_csv(\"Data_Clean/Atlanta.csv\")"
   ],
   "outputs": [],
   "metadata": {}
  },
  {
   "cell_type": "code",
   "execution_count": null,
   "source": [],
   "outputs": [],
   "metadata": {}
  },
  {
   "cell_type": "markdown",
   "source": [
    "# Austin, TX"
   ],
   "metadata": {}
  },
  {
   "cell_type": "code",
   "execution_count": null,
   "source": [
    "#Reported between 09/26/20 and 07/03/21"
   ],
   "outputs": [],
   "metadata": {}
  },
  {
   "cell_type": "code",
   "execution_count": null,
   "source": [
    "austin = pd.read_csv(\"Austin_Data/Crime_Reports.csv\", dtype = {0: \"string\"}, parse_dates = [4, 7])\r\n",
    "#retrieved 7/10/21\r\n",
    "#throws warning re: column 16; not even sure if we need column 16 (PRA)"
   ],
   "outputs": [],
   "metadata": {}
  },
  {
   "cell_type": "code",
   "execution_count": null,
   "source": [
    "austin.head()"
   ],
   "outputs": [],
   "metadata": {
    "scrolled": true
   }
  },
  {
   "cell_type": "code",
   "execution_count": null,
   "source": [
    "austin.dtypes"
   ],
   "outputs": [],
   "metadata": {}
  },
  {
   "cell_type": "code",
   "execution_count": null,
   "source": [
    "#personal preference\r\n",
    "austin.columns = austin.columns.str.lower().str.replace(' ', '_')"
   ],
   "outputs": [],
   "metadata": {}
  },
  {
   "cell_type": "code",
   "execution_count": null,
   "source": [
    "#data in sql is up to 6/29/20\r\n",
    "austin = austin[austin.report_date_time >= '2020-09-26']\r\n",
    "austin.reset_index(drop = True, inplace = True)"
   ],
   "outputs": [],
   "metadata": {}
  },
  {
   "cell_type": "code",
   "execution_count": null,
   "source": [
    "min(austin['occurred_date_time'])"
   ],
   "outputs": [],
   "metadata": {}
  },
  {
   "cell_type": "code",
   "execution_count": null,
   "source": [
    "max(austin['occurred_date_time'])"
   ],
   "outputs": [],
   "metadata": {}
  },
  {
   "cell_type": "code",
   "execution_count": null,
   "source": [
    "min(austin['report_date_time'])"
   ],
   "outputs": [],
   "metadata": {}
  },
  {
   "cell_type": "code",
   "execution_count": null,
   "source": [
    "max(austin['report_date_time'])"
   ],
   "outputs": [],
   "metadata": {}
  },
  {
   "cell_type": "code",
   "execution_count": null,
   "source": [
    "austin.shape"
   ],
   "outputs": [],
   "metadata": {}
  },
  {
   "cell_type": "code",
   "execution_count": null,
   "source": [
    "austin.head()"
   ],
   "outputs": [],
   "metadata": {}
  },
  {
   "cell_type": "code",
   "execution_count": null,
   "source": [
    "#checking that time and crime present in every column\r\n",
    "austin.count()"
   ],
   "outputs": [],
   "metadata": {
    "scrolled": true
   }
  },
  {
   "cell_type": "code",
   "execution_count": null,
   "source": [
    "austin.to_csv(\"Data_Clean/Austin.csv\")"
   ],
   "outputs": [],
   "metadata": {}
  },
  {
   "cell_type": "code",
   "execution_count": null,
   "source": [],
   "outputs": [],
   "metadata": {}
  },
  {
   "cell_type": "markdown",
   "source": [
    "# Baton Rouge, LA"
   ],
   "metadata": {}
  },
  {
   "cell_type": "code",
   "execution_count": null,
   "source": [
    "#dont seem to have reported on date"
   ],
   "outputs": [],
   "metadata": {}
  },
  {
   "cell_type": "code",
   "execution_count": null,
   "source": [
    "baton_rouge = pd.read_csv(\"Baton_Rouge_Data/Baton_Rouge_Crime_Incidents.csv\", dtype = {0 : \"string\"}, parse_dates= {\"occurred\" : [1, 2]})\r\n",
    "#retrieved on 7/10/21"
   ],
   "outputs": [],
   "metadata": {}
  },
  {
   "cell_type": "code",
   "execution_count": null,
   "source": [
    "baton_rouge.head()"
   ],
   "outputs": [],
   "metadata": {
    "scrolled": false
   }
  },
  {
   "cell_type": "code",
   "execution_count": null,
   "source": [
    "baton_rouge.dtypes"
   ],
   "outputs": [],
   "metadata": {}
  },
  {
   "cell_type": "code",
   "execution_count": null,
   "source": [
    "baton_rouge.shape"
   ],
   "outputs": [],
   "metadata": {}
  },
  {
   "cell_type": "code",
   "execution_count": null,
   "source": [
    "baton_rouge.columns = baton_rouge.columns.str.lower().str.replace(\" \", \"_\")"
   ],
   "outputs": [],
   "metadata": {}
  },
  {
   "cell_type": "code",
   "execution_count": null,
   "source": [
    "#checking that all items in occurred column are correct format, so that they can be converted to datetime type\r\n",
    "baton_rouge = baton_rouge[baton_rouge[\"occurred\"].str.match(r'[\\d]{2}/[\\d]{2}/[\\d]{4} [\\d]{4}')]"
   ],
   "outputs": [],
   "metadata": {}
  },
  {
   "cell_type": "code",
   "execution_count": null,
   "source": [
    "baton_rouge[\"occurred\"] = pd.to_datetime(baton_rouge[\"occurred\"])"
   ],
   "outputs": [],
   "metadata": {}
  },
  {
   "cell_type": "code",
   "execution_count": null,
   "source": [
    "#checking that time and crime present in every column\r\n",
    "baton_rouge.count()"
   ],
   "outputs": [],
   "metadata": {}
  },
  {
   "cell_type": "code",
   "execution_count": null,
   "source": [
    "baton_rouge.to_csv(\"Data_Clean/Baton_Rouge.csv\")"
   ],
   "outputs": [],
   "metadata": {}
  },
  {
   "cell_type": "code",
   "execution_count": null,
   "source": [],
   "outputs": [],
   "metadata": {}
  },
  {
   "cell_type": "markdown",
   "source": [
    "# Boston, MA"
   ],
   "metadata": {}
  },
  {
   "cell_type": "code",
   "execution_count": null,
   "source": [
    "#doesnt have reported on date"
   ],
   "outputs": [],
   "metadata": {}
  },
  {
   "cell_type": "code",
   "execution_count": null,
   "source": [
    "boston_2021 = pd.read_csv(\"Boston_Data/tmpp_u7gs36.csv\", dtype= {0: \"string\"}, parse_dates= [7])\r\n",
    "#retrieved 7/15/21"
   ],
   "outputs": [],
   "metadata": {}
  },
  {
   "cell_type": "code",
   "execution_count": null,
   "source": [
    "boston_2021.head()"
   ],
   "outputs": [],
   "metadata": {}
  },
  {
   "cell_type": "code",
   "execution_count": null,
   "source": [
    "boston_2021.shape"
   ],
   "outputs": [],
   "metadata": {}
  },
  {
   "cell_type": "code",
   "execution_count": null,
   "source": [
    "boston_2021.columns = boston_2021.columns.str.lower()"
   ],
   "outputs": [],
   "metadata": {}
  },
  {
   "cell_type": "code",
   "execution_count": null,
   "source": [
    "#incident_number = PLTEST... dont look like real crimes, might want to drop"
   ],
   "outputs": [],
   "metadata": {}
  },
  {
   "cell_type": "code",
   "execution_count": null,
   "source": [
    "min(boston_2021['occurred_on_date'])"
   ],
   "outputs": [],
   "metadata": {}
  },
  {
   "cell_type": "code",
   "execution_count": null,
   "source": [
    "max(boston_2021['occurred_on_date'])"
   ],
   "outputs": [],
   "metadata": {}
  },
  {
   "cell_type": "code",
   "execution_count": null,
   "source": [
    "boston_2021.count()"
   ],
   "outputs": [],
   "metadata": {}
  },
  {
   "cell_type": "code",
   "execution_count": null,
   "source": [
    "#drop empty columns\r\n",
    "boston_2021.dropna(how = \"all\", axis = 1, inplace = True)"
   ],
   "outputs": [],
   "metadata": {}
  },
  {
   "cell_type": "code",
   "execution_count": null,
   "source": [],
   "outputs": [],
   "metadata": {}
  },
  {
   "cell_type": "code",
   "execution_count": null,
   "source": [],
   "outputs": [],
   "metadata": {}
  },
  {
   "cell_type": "code",
   "execution_count": null,
   "source": [
    "boston_2020 = pd.read_csv(\"Boston_Data/script_113631134_20210423193017_combine.csv\", dtype={0: \"string\"}, parse_dates= [7])\r\n",
    "#retrieved 7/15/2021"
   ],
   "outputs": [],
   "metadata": {}
  },
  {
   "cell_type": "code",
   "execution_count": null,
   "source": [
    "boston_2020.head()"
   ],
   "outputs": [],
   "metadata": {}
  },
  {
   "cell_type": "code",
   "execution_count": null,
   "source": [
    "boston_2020.shape"
   ],
   "outputs": [],
   "metadata": {}
  },
  {
   "cell_type": "code",
   "execution_count": null,
   "source": [
    "boston_2020.dtypes"
   ],
   "outputs": [],
   "metadata": {}
  },
  {
   "cell_type": "code",
   "execution_count": null,
   "source": [
    "boston_2020.columns = boston_2020.columns.str.lower()"
   ],
   "outputs": [],
   "metadata": {}
  },
  {
   "cell_type": "code",
   "execution_count": null,
   "source": [
    "min(boston_2020['occurred_on_date'])"
   ],
   "outputs": [],
   "metadata": {}
  },
  {
   "cell_type": "code",
   "execution_count": null,
   "source": [
    "max(boston_2020['occurred_on_date'])"
   ],
   "outputs": [],
   "metadata": {}
  },
  {
   "cell_type": "code",
   "execution_count": null,
   "source": [
    "boston_2020.count()"
   ],
   "outputs": [],
   "metadata": {}
  },
  {
   "cell_type": "code",
   "execution_count": null,
   "source": [
    "boston_2020.dropna(how = \"all\", axis = 1, inplace = True)"
   ],
   "outputs": [],
   "metadata": {}
  },
  {
   "cell_type": "code",
   "execution_count": null,
   "source": [
    "#check both dfs have same columns\r\n",
    "diff = boston_2021.columns.difference(boston_2020.columns)\r\n",
    "diff"
   ],
   "outputs": [],
   "metadata": {}
  },
  {
   "cell_type": "code",
   "execution_count": null,
   "source": [
    "#combine dfs\r\n",
    "start = boston_2020.shape[0]\r\n",
    "stop = boston_2020.shape[0] + boston_2021.shape[0]\r\n",
    "boston_2021.index = range(start, stop)\r\n",
    "boston_list = [boston_2020, boston_2021]\r\n",
    "boston = pd.concat(boston_list)\r\n",
    "boston.shape"
   ],
   "outputs": [],
   "metadata": {}
  },
  {
   "cell_type": "code",
   "execution_count": null,
   "source": [
    "boston.to_csv(\"Data_Clean/Boston.csv\")"
   ],
   "outputs": [],
   "metadata": {}
  },
  {
   "cell_type": "code",
   "execution_count": null,
   "source": [],
   "outputs": [],
   "metadata": {}
  },
  {
   "cell_type": "markdown",
   "source": [
    "# Chicago, IL"
   ],
   "metadata": {}
  },
  {
   "cell_type": "code",
   "execution_count": null,
   "source": [
    "#Reported from 09/25/2020 to 07/18/2021"
   ],
   "outputs": [],
   "metadata": {}
  },
  {
   "cell_type": "code",
   "execution_count": null,
   "source": [
    "chicago = pd.read_csv(\"Chicago_Data/Crimes_-_2001_to_Present.csv\", parse_dates = [2, 18])\r\n",
    "#retrieved 7/19/21"
   ],
   "outputs": [],
   "metadata": {}
  },
  {
   "cell_type": "code",
   "execution_count": null,
   "source": [
    "chicago.head()"
   ],
   "outputs": [],
   "metadata": {}
  },
  {
   "cell_type": "code",
   "execution_count": null,
   "source": [
    "chicago.dtypes"
   ],
   "outputs": [],
   "metadata": {}
  },
  {
   "cell_type": "code",
   "execution_count": null,
   "source": [
    "chicago = chicago[chicago['Updated On'] >= \"2020-09-25\"]\r\n",
    "chicago.reset_index(drop = True, inplace = True)"
   ],
   "outputs": [],
   "metadata": {}
  },
  {
   "cell_type": "code",
   "execution_count": null,
   "source": [
    "chicago.shape"
   ],
   "outputs": [],
   "metadata": {}
  },
  {
   "cell_type": "code",
   "execution_count": null,
   "source": [
    "chicago.to_csv(\"Chicago_Data/Chicago.csv\")"
   ],
   "outputs": [],
   "metadata": {}
  },
  {
   "cell_type": "code",
   "execution_count": null,
   "source": [
    "#chicago = pd.read_csv(\"Chicago_Data/Chicago.csv\")"
   ],
   "outputs": [],
   "metadata": {}
  },
  {
   "cell_type": "code",
   "execution_count": null,
   "source": [
    "chicago.columns = chicago.columns.str.lower().str.replace(\" \", \"_\")"
   ],
   "outputs": [],
   "metadata": {}
  },
  {
   "cell_type": "code",
   "execution_count": null,
   "source": [
    "chicago.updated_on.min()"
   ],
   "outputs": [],
   "metadata": {}
  },
  {
   "cell_type": "code",
   "execution_count": null,
   "source": [
    "chicago.updated_on.max()"
   ],
   "outputs": [],
   "metadata": {}
  },
  {
   "cell_type": "code",
   "execution_count": null,
   "source": [
    "chicago.count()"
   ],
   "outputs": [],
   "metadata": {}
  },
  {
   "cell_type": "code",
   "execution_count": null,
   "source": [
    "min(chicago[\"date\"])"
   ],
   "outputs": [],
   "metadata": {}
  },
  {
   "cell_type": "code",
   "execution_count": null,
   "source": [
    "max(chicago[\"date\"])"
   ],
   "outputs": [],
   "metadata": {}
  },
  {
   "cell_type": "code",
   "execution_count": null,
   "source": [
    "chicago.to_csv(\"Data_Clean/Chicago.csv\")"
   ],
   "outputs": [],
   "metadata": {}
  },
  {
   "cell_type": "code",
   "execution_count": null,
   "source": [],
   "outputs": [],
   "metadata": {}
  },
  {
   "cell_type": "markdown",
   "source": [
    "# Cincinnati, OH"
   ],
   "metadata": {}
  },
  {
   "cell_type": "code",
   "execution_count": null,
   "source": [
    "#Reported between 10/02/2020 and 07/14/2021"
   ],
   "outputs": [],
   "metadata": {}
  },
  {
   "cell_type": "code",
   "execution_count": null,
   "source": [
    "cincinnati = pd.read_csv(\"Cincinnati_Data/PDI__Police_Data_Initiative__Crime_Incidents.csv\", dtype= {1 : \"string\"}, parse_dates= [2, 3, 4])\r\n",
    "#retrieved 7/16/21\r\n",
    "#throws warning re: column 8, 17; can fix if we end up using these (beat, rpt_area)"
   ],
   "outputs": [],
   "metadata": {}
  },
  {
   "cell_type": "code",
   "execution_count": null,
   "source": [
    "cincinnati.head()"
   ],
   "outputs": [],
   "metadata": {}
  },
  {
   "cell_type": "code",
   "execution_count": null,
   "source": [
    "cincinnati.columns = cincinnati.columns.str.lower()"
   ],
   "outputs": [],
   "metadata": {}
  },
  {
   "cell_type": "code",
   "execution_count": null,
   "source": [
    "cincinnati.dtypes"
   ],
   "outputs": [],
   "metadata": {
    "scrolled": true
   }
  },
  {
   "cell_type": "code",
   "execution_count": null,
   "source": [
    "#filter out items already in SQL db\r\n",
    "cincinnati = cincinnati[cincinnati['date_reported'] >= '2020-10-02']\r\n",
    "cincinnati.reset_index(drop = True, inplace = True)"
   ],
   "outputs": [],
   "metadata": {}
  },
  {
   "cell_type": "code",
   "execution_count": null,
   "source": [
    "min(cincinnati[\"date_reported\"])"
   ],
   "outputs": [],
   "metadata": {}
  },
  {
   "cell_type": "code",
   "execution_count": null,
   "source": [
    "max(cincinnati[\"date_reported\"])"
   ],
   "outputs": [],
   "metadata": {}
  },
  {
   "cell_type": "code",
   "execution_count": null,
   "source": [
    "cincinnati.shape"
   ],
   "outputs": [],
   "metadata": {}
  },
  {
   "cell_type": "code",
   "execution_count": null,
   "source": [
    "cincinnati[\"date_to\"] = pd.to_datetime(cincinnati[\"date_to\"])"
   ],
   "outputs": [],
   "metadata": {}
  },
  {
   "cell_type": "code",
   "execution_count": null,
   "source": [
    "min(cincinnati[\"date_from\"])"
   ],
   "outputs": [],
   "metadata": {}
  },
  {
   "cell_type": "code",
   "execution_count": null,
   "source": [
    "max(cincinnati[\"date_from\"])"
   ],
   "outputs": [],
   "metadata": {}
  },
  {
   "cell_type": "code",
   "execution_count": null,
   "source": [
    "cincinnati.count()"
   ],
   "outputs": [],
   "metadata": {
    "scrolled": true
   }
  },
  {
   "cell_type": "code",
   "execution_count": null,
   "source": [
    "#drop all rows with no crime listed\r\n",
    "cincinnati.dropna(subset = ['offense'], inplace= True)"
   ],
   "outputs": [],
   "metadata": {}
  },
  {
   "cell_type": "code",
   "execution_count": null,
   "source": [
    "cincinnati.to_csv(\"Data_Clean/Cincinnati.csv\")"
   ],
   "outputs": [],
   "metadata": {}
  },
  {
   "cell_type": "code",
   "execution_count": null,
   "source": [],
   "outputs": [],
   "metadata": {}
  },
  {
   "cell_type": "markdown",
   "source": [
    "# Dallas, TX"
   ],
   "metadata": {}
  },
  {
   "cell_type": "code",
   "execution_count": null,
   "source": [
    "# Reported between 10/08/2020 - 07/16/2021"
   ],
   "outputs": [],
   "metadata": {}
  },
  {
   "cell_type": "code",
   "execution_count": null,
   "source": [
    "dallas = pd.read_csv(\"Dallas_Data/Police_Incidents.csv\", parse_dates= [17, 23, 30])\r\n",
    "#retrieved 7/16/21\r\n",
    "#error for columns: Special Report (Pre-RMS), Victim Zip Code, Victim Business Phone, Reviewing Officer Badge No"
   ],
   "outputs": [],
   "metadata": {}
  },
  {
   "cell_type": "code",
   "execution_count": null,
   "source": [
    "dallas.head()"
   ],
   "outputs": [],
   "metadata": {}
  },
  {
   "cell_type": "code",
   "execution_count": null,
   "source": [
    "dallas.shape"
   ],
   "outputs": [],
   "metadata": {}
  },
  {
   "cell_type": "code",
   "execution_count": null,
   "source": [
    "pd.set_option('display.max_rows', 100)"
   ],
   "outputs": [],
   "metadata": {}
  },
  {
   "cell_type": "code",
   "execution_count": null,
   "source": [
    "dallas.dtypes"
   ],
   "outputs": [],
   "metadata": {}
  },
  {
   "cell_type": "code",
   "execution_count": null,
   "source": [
    "dallas.columns = dallas.columns.str.lower().str.replace(\" \", \"_\")"
   ],
   "outputs": [],
   "metadata": {}
  },
  {
   "cell_type": "code",
   "execution_count": null,
   "source": [
    "#filter out data already in sql db\r\n",
    "dallas[\"date_of_report\"] = pd.to_datetime(dallas[\"date_of_report\"])\r\n",
    "dallas = dallas[dallas[\"date_of_report\"] >= \"2020-10-08\"]\r\n",
    "dallas.reset_index(drop = True, inplace = True)"
   ],
   "outputs": [],
   "metadata": {}
  },
  {
   "cell_type": "code",
   "execution_count": null,
   "source": [
    "min(dallas[\"date_of_report\"])"
   ],
   "outputs": [],
   "metadata": {}
  },
  {
   "cell_type": "code",
   "execution_count": null,
   "source": [
    "max(dallas[\"date_of_report\"])"
   ],
   "outputs": [],
   "metadata": {}
  },
  {
   "cell_type": "code",
   "execution_count": null,
   "source": [
    "dallas.shape"
   ],
   "outputs": [],
   "metadata": {}
  },
  {
   "cell_type": "code",
   "execution_count": null,
   "source": [
    "#check that every row has date and crime also for empty columns\r\n",
    "dallas.count()"
   ],
   "outputs": [],
   "metadata": {
    "scrolled": true
   }
  },
  {
   "cell_type": "code",
   "execution_count": null,
   "source": [
    "#drop empty columns\r\n",
    "dallas.dropna(how = \"all\", axis = 1, inplace = True)"
   ],
   "outputs": [],
   "metadata": {}
  },
  {
   "cell_type": "code",
   "execution_count": null,
   "source": [
    "dallas.to_csv(\"Data_Clean/Dallas.csv\")"
   ],
   "outputs": [],
   "metadata": {}
  },
  {
   "cell_type": "code",
   "execution_count": null,
   "source": [],
   "outputs": [],
   "metadata": {}
  },
  {
   "cell_type": "markdown",
   "source": [
    "# Denver, CO"
   ],
   "metadata": {}
  },
  {
   "cell_type": "code",
   "execution_count": null,
   "source": [
    "#Reported between 10/08/2020 and 07/15/2021"
   ],
   "outputs": [],
   "metadata": {}
  },
  {
   "cell_type": "code",
   "execution_count": null,
   "source": [
    "denver = pd.read_csv('Denver_Data/crime.csv', dtype= {0: \"string\", 1: \"string\"}, parse_dates= [6, 7, 8])\r\n",
    "#retrieved 7/16/21"
   ],
   "outputs": [],
   "metadata": {}
  },
  {
   "cell_type": "code",
   "execution_count": null,
   "source": [
    "denver.head()"
   ],
   "outputs": [],
   "metadata": {}
  },
  {
   "cell_type": "code",
   "execution_count": null,
   "source": [
    "denver.dtypes"
   ],
   "outputs": [],
   "metadata": {}
  },
  {
   "cell_type": "code",
   "execution_count": null,
   "source": [
    "denver.columns = denver.columns.str.lower()"
   ],
   "outputs": [],
   "metadata": {}
  },
  {
   "cell_type": "code",
   "execution_count": null,
   "source": [
    "denver = denver[denver['reported_date'] >= \"2020-10-08\"]\r\n",
    "denver.reset_index(drop = True, inplace = True)"
   ],
   "outputs": [],
   "metadata": {}
  },
  {
   "cell_type": "code",
   "execution_count": null,
   "source": [
    "min(denver['reported_date'])"
   ],
   "outputs": [],
   "metadata": {}
  },
  {
   "cell_type": "code",
   "execution_count": null,
   "source": [
    "max(denver['reported_date'])"
   ],
   "outputs": [],
   "metadata": {}
  },
  {
   "cell_type": "code",
   "execution_count": null,
   "source": [
    "denver.shape"
   ],
   "outputs": [],
   "metadata": {}
  },
  {
   "cell_type": "code",
   "execution_count": null,
   "source": [
    "denver.count()"
   ],
   "outputs": [],
   "metadata": {}
  },
  {
   "cell_type": "code",
   "execution_count": null,
   "source": [
    "denver.to_csv(\"Data_Clean/Denver.csv\")"
   ],
   "outputs": [],
   "metadata": {}
  },
  {
   "cell_type": "code",
   "execution_count": null,
   "source": [],
   "outputs": [],
   "metadata": {}
  },
  {
   "cell_type": "markdown",
   "source": [
    "# Fort Worth, TX"
   ],
   "metadata": {}
  },
  {
   "cell_type": "code",
   "execution_count": null,
   "source": [
    "#Reported between 10/04/2020 and 07/11/2021"
   ],
   "outputs": [],
   "metadata": {}
  },
  {
   "cell_type": "code",
   "execution_count": null,
   "source": [
    "fort_worth = pd.read_csv(\"Forth_Worth_Data/Crime_Data.csv\", dtype= {0: \"string\", 1: \"string\"}, parse_dates= [2, 4])\r\n",
    "#retrieved 7/16/21"
   ],
   "outputs": [],
   "metadata": {}
  },
  {
   "cell_type": "code",
   "execution_count": null,
   "source": [
    "fort_worth.head()"
   ],
   "outputs": [],
   "metadata": {}
  },
  {
   "cell_type": "code",
   "execution_count": null,
   "source": [
    "fort_worth.dtypes"
   ],
   "outputs": [],
   "metadata": {}
  },
  {
   "cell_type": "code",
   "execution_count": null,
   "source": [
    "fort_worth.columns = fort_worth.columns.str.lower().str.replace(\" \", \"_\")"
   ],
   "outputs": [],
   "metadata": {}
  },
  {
   "cell_type": "code",
   "execution_count": null,
   "source": [
    "fort_worth = fort_worth[fort_worth[\"reported_date\"] >= \"2020-10-04\"]\r\n",
    "fort_worth.reset_index(drop = True, inplace = True)"
   ],
   "outputs": [],
   "metadata": {}
  },
  {
   "cell_type": "code",
   "execution_count": null,
   "source": [
    "fort_worth['reported_date'].min()"
   ],
   "outputs": [],
   "metadata": {}
  },
  {
   "cell_type": "code",
   "execution_count": null,
   "source": [
    "fort_worth['reported_date'].max()"
   ],
   "outputs": [],
   "metadata": {}
  },
  {
   "cell_type": "code",
   "execution_count": null,
   "source": [
    "fort_worth.shape"
   ],
   "outputs": [],
   "metadata": {}
  },
  {
   "cell_type": "code",
   "execution_count": null,
   "source": [
    "fort_worth.count()"
   ],
   "outputs": [],
   "metadata": {}
  },
  {
   "cell_type": "code",
   "execution_count": null,
   "source": [
    "fort_worth.to_csv(\"Data_Clean/Fort_Worth.csv\")"
   ],
   "outputs": [],
   "metadata": {}
  },
  {
   "cell_type": "code",
   "execution_count": null,
   "source": [],
   "outputs": [],
   "metadata": {}
  },
  {
   "cell_type": "markdown",
   "source": [
    "# Gainesville, FL"
   ],
   "metadata": {}
  },
  {
   "cell_type": "code",
   "execution_count": null,
   "source": [
    "#Reported from 10/04/2020 to 07/13/2021"
   ],
   "outputs": [],
   "metadata": {}
  },
  {
   "cell_type": "code",
   "execution_count": null,
   "source": [
    "gainesville = pd.read_csv(\"Gainesville_Data/Crime_Responses.csv\", dtype= {0: \"string\"}, parse_dates= [2, 3])\r\n",
    "#retrieved 7/16/21"
   ],
   "outputs": [],
   "metadata": {}
  },
  {
   "cell_type": "code",
   "execution_count": null,
   "source": [
    "gainesville.head()"
   ],
   "outputs": [],
   "metadata": {}
  },
  {
   "cell_type": "code",
   "execution_count": null,
   "source": [
    "gainesville.dtypes"
   ],
   "outputs": [],
   "metadata": {}
  },
  {
   "cell_type": "code",
   "execution_count": null,
   "source": [
    "gainesville.columns = gainesville.columns.str.lower().str.replace(\" \", \"_\")"
   ],
   "outputs": [],
   "metadata": {}
  },
  {
   "cell_type": "code",
   "execution_count": null,
   "source": [
    "gainesville = gainesville[gainesville['report_date'] >= '2020-10-04']\r\n",
    "gainesville.reset_index(drop= True, inplace= True)"
   ],
   "outputs": [],
   "metadata": {}
  },
  {
   "cell_type": "code",
   "execution_count": null,
   "source": [
    "min(gainesville['report_date'])"
   ],
   "outputs": [],
   "metadata": {}
  },
  {
   "cell_type": "code",
   "execution_count": null,
   "source": [
    "max(gainesville['report_date'])"
   ],
   "outputs": [],
   "metadata": {}
  },
  {
   "cell_type": "code",
   "execution_count": null,
   "source": [
    "gainesville.shape"
   ],
   "outputs": [],
   "metadata": {}
  },
  {
   "cell_type": "code",
   "execution_count": null,
   "source": [
    "gainesville.count()"
   ],
   "outputs": [],
   "metadata": {}
  },
  {
   "cell_type": "code",
   "execution_count": null,
   "source": [
    "gainesville.to_csv(\"Data_Clean/Gainesville.csv\")"
   ],
   "outputs": [],
   "metadata": {}
  },
  {
   "cell_type": "code",
   "execution_count": null,
   "source": [],
   "outputs": [],
   "metadata": {}
  },
  {
   "cell_type": "markdown",
   "source": [
    "# Los Angeles"
   ],
   "metadata": {}
  },
  {
   "cell_type": "code",
   "execution_count": null,
   "source": [
    "#Reported from 09/28/2020 to 07/12/2021"
   ],
   "outputs": [],
   "metadata": {}
  },
  {
   "cell_type": "code",
   "execution_count": null,
   "source": [
    "los_angeles = pd.read_csv(\"Los_Angeles_Data/Crime_Data_from_2020_to_Present.csv\", dtype= {0: \"string\"}, parse_dates= {\"occurred\": [2, 3]})\r\n",
    "#retrieved 7/16/21"
   ],
   "outputs": [],
   "metadata": {}
  },
  {
   "cell_type": "code",
   "execution_count": null,
   "source": [
    "los_angeles.head()"
   ],
   "outputs": [],
   "metadata": {}
  },
  {
   "cell_type": "code",
   "execution_count": null,
   "source": [
    "los_angeles.dtypes"
   ],
   "outputs": [],
   "metadata": {
    "scrolled": true
   }
  },
  {
   "cell_type": "code",
   "execution_count": null,
   "source": [
    "#fixing datetime format and changing column to datetime type\r\n",
    "los_angeles['occurred'] = los_angeles['occurred'].str[:10] + los_angeles['occurred'].str[-5:]\r\n",
    "los_angeles['occurred'] = pd.to_datetime(los_angeles['occurred'])"
   ],
   "outputs": [],
   "metadata": {}
  },
  {
   "cell_type": "code",
   "execution_count": null,
   "source": [
    "los_angeles.columns = los_angeles.columns.str.lower().str.replace(\" \", \"_\")"
   ],
   "outputs": [],
   "metadata": {}
  },
  {
   "cell_type": "code",
   "execution_count": null,
   "source": [
    "los_angeles['date_rptd'] = pd.to_datetime(los_angeles['date_rptd'])"
   ],
   "outputs": [],
   "metadata": {}
  },
  {
   "cell_type": "code",
   "execution_count": null,
   "source": [
    "#filtering out all data already in sql db\r\n",
    "los_angeles = los_angeles[los_angeles['date_rptd'] >= '2020-09-28']\r\n",
    "los_angeles.reset_index(drop = True, inplace = True)"
   ],
   "outputs": [],
   "metadata": {}
  },
  {
   "cell_type": "code",
   "execution_count": null,
   "source": [
    "min(los_angeles['date_rptd'])"
   ],
   "outputs": [],
   "metadata": {}
  },
  {
   "cell_type": "code",
   "execution_count": null,
   "source": [
    "max(los_angeles['date_rptd'])"
   ],
   "outputs": [],
   "metadata": {}
  },
  {
   "cell_type": "code",
   "execution_count": null,
   "source": [
    "#checking that all rows have crime and time, also that there are no empty columns\r\n",
    "los_angeles.count()"
   ],
   "outputs": [],
   "metadata": {
    "scrolled": true
   }
  },
  {
   "cell_type": "code",
   "execution_count": null,
   "source": [
    "los_angeles.to_csv('Data_Clean/Los_Angeles.csv')"
   ],
   "outputs": [],
   "metadata": {}
  },
  {
   "cell_type": "code",
   "execution_count": null,
   "source": [],
   "outputs": [],
   "metadata": {}
  },
  {
   "cell_type": "markdown",
   "source": [
    "# Nashville, TN"
   ],
   "metadata": {}
  },
  {
   "cell_type": "code",
   "execution_count": null,
   "source": [
    "nashville = pd.read_csv(\"Nashville_Data/Metro_Nashville_Police_Department_Incidents.csv\", dtype= {0: \"string\", 1: \"string\"}, parse_dates= [7, 8])\r\n",
    "#retrieved 7/16/21"
   ],
   "outputs": [],
   "metadata": {}
  },
  {
   "cell_type": "code",
   "execution_count": null,
   "source": [
    "nashville.head()"
   ],
   "outputs": [],
   "metadata": {}
  },
  {
   "cell_type": "code",
   "execution_count": null,
   "source": [
    "nashville.dtypes"
   ],
   "outputs": [],
   "metadata": {}
  },
  {
   "cell_type": "code",
   "execution_count": null,
   "source": [
    "nashville.columns = nashville.columns.str.lower().str.replace(\" \", \"_\")"
   ],
   "outputs": [],
   "metadata": {}
  },
  {
   "cell_type": "code",
   "execution_count": null,
   "source": [
    "#change incident reported column to datetime\r\n",
    "nashville.dropna(subset= ['incident_reported'], inplace= True)\r\n",
    "nashville = nashville[nashville['incident_reported'].str.match(r'[\\d]{2}/[\\d]{2}/[\\d]{4} [\\d]{2}:[\\d]{2}:[\\d]{2}')]\r\n",
    "nashville.drop(nashville[nashville['incident_reported'].str.contains(\"0202\")].index, inplace= True)\r\n",
    "nashville.drop(nashville[nashville['incident_reported'].str.contains(\"4240\")].index, inplace = True)\r\n",
    "nashville['incident_reported'] = pd.to_datetime(nashville['incident_reported'])\r\n",
    "nashville.reset_index(drop= True, inplace = True)"
   ],
   "outputs": [],
   "metadata": {}
  },
  {
   "cell_type": "code",
   "execution_count": null,
   "source": [
    "#filtering out all data already in sql db\r\n",
    "nashville = nashville[nashville['incident_reported'] >= '2020-10-07']\r\n",
    "nashville.reset_index(drop = True, inplace = True)"
   ],
   "outputs": [],
   "metadata": {}
  },
  {
   "cell_type": "code",
   "execution_count": null,
   "source": [
    "nashville.incident_reported.min()"
   ],
   "outputs": [],
   "metadata": {}
  },
  {
   "cell_type": "code",
   "execution_count": null,
   "source": [
    "nashville.incident_reported.max()"
   ],
   "outputs": [],
   "metadata": {}
  },
  {
   "cell_type": "code",
   "execution_count": null,
   "source": [
    "nashville.shape"
   ],
   "outputs": [],
   "metadata": {
    "scrolled": true
   }
  },
  {
   "cell_type": "code",
   "execution_count": null,
   "source": [
    "nashville.count()"
   ],
   "outputs": [],
   "metadata": {}
  },
  {
   "cell_type": "code",
   "execution_count": null,
   "source": [
    "nashville.to_csv('Data_Clean/Nashville.csv')"
   ],
   "outputs": [],
   "metadata": {}
  },
  {
   "cell_type": "code",
   "execution_count": null,
   "source": [],
   "outputs": [],
   "metadata": {}
  },
  {
   "cell_type": "markdown",
   "source": [
    "# NYC"
   ],
   "metadata": {}
  },
  {
   "cell_type": "code",
   "execution_count": null,
   "source": [
    "import pandas as pd\r\n",
    "nyc_2021 = pd.read_csv(\"NYC_Data/NYPD_Complaint_Data_Current__Year_To_Date_.csv\", dtype= {0: \"string\"}, parse_dates= {\"complaint_from\": [3, 4], \"complaint_to\": [5, 6]})\r\n",
    "#retrieved 7/16/2021\r\n",
    "\r\n"
   ],
   "outputs": [],
   "metadata": {}
  },
  {
   "cell_type": "code",
   "execution_count": 74,
   "source": [
    "nyc_2021.head(100)"
   ],
   "outputs": [
    {
     "output_type": "execute_result",
     "data": {
      "text/plain": [
       "        complaint_from         complaint_to CMPLNT_NUM  ADDR_PCT_CD  \\\n",
       "0  2021-03-31 15:08:00  03/31/2021 15:12:00  825041611           84   \n",
       "1  2021-03-27 19:29:00              nan nan  206649900            7   \n",
       "2  2021-03-27 13:00:00              nan nan  294801329           75   \n",
       "3  2021-03-26 16:40:00              nan nan  270261096           14   \n",
       "4  2021-03-26 13:09:00  03/26/2021 14:29:00  433883572          110   \n",
       "..                 ...                  ...        ...          ...   \n",
       "95 2021-01-06 12:10:00  01/06/2021 16:45:00  444277080           75   \n",
       "96 2021-01-05 21:01:00  01/05/2021 21:03:00  211944241           67   \n",
       "97 2021-01-05 15:30:00  01/05/2021 15:35:00  531307550          105   \n",
       "98 2021-01-04 14:00:00  01/04/2021 14:05:00  309822687           40   \n",
       "99 2020-12-14 09:00:00  12/14/2020 09:30:00  830436998          106   \n",
       "\n",
       "      BORO_NM CRM_ATPT_CPTD_CD HADEVELOPT  HOUSING_PSA  JURISDICTION_CODE  \\\n",
       "0    BROOKLYN        COMPLETED        NaN          NaN                0.0   \n",
       "1         NaN              NaN        NaN          NaN                0.0   \n",
       "2         NaN        COMPLETED        NaN          NaN                NaN   \n",
       "3   MANHATTAN        COMPLETED        NaN          NaN                0.0   \n",
       "4      QUEENS        COMPLETED        NaN          NaN                0.0   \n",
       "..        ...              ...        ...          ...                ...   \n",
       "95   BROOKLYN        COMPLETED        NaN          NaN                0.0   \n",
       "96   BROOKLYN        COMPLETED        NaN          NaN                0.0   \n",
       "97     QUEENS        COMPLETED        NaN          NaN                0.0   \n",
       "98      BRONX        COMPLETED        NaN          NaN                0.0   \n",
       "99     QUEENS        COMPLETED        NaN          NaN                0.0   \n",
       "\n",
       "          JURIS_DESC  ...  TRANSIT_DISTRICT VIC_AGE_GROUP        VIC_RACE  \\\n",
       "0   N.Y. POLICE DEPT  ...               NaN       UNKNOWN         UNKNOWN   \n",
       "1   N.Y. POLICE DEPT  ...               NaN         25-44  WHITE HISPANIC   \n",
       "2   N.Y. POLICE DEPT  ...               NaN         25-44           BLACK   \n",
       "3   N.Y. POLICE DEPT  ...               NaN       UNKNOWN         UNKNOWN   \n",
       "4   N.Y. POLICE DEPT  ...               NaN       UNKNOWN         UNKNOWN   \n",
       "..               ...  ...               ...           ...             ...   \n",
       "95  N.Y. POLICE DEPT  ...               NaN         25-44         UNKNOWN   \n",
       "96  N.Y. POLICE DEPT  ...               NaN       UNKNOWN         UNKNOWN   \n",
       "97  N.Y. POLICE DEPT  ...               NaN         25-44           BLACK   \n",
       "98  N.Y. POLICE DEPT  ...               NaN       UNKNOWN         UNKNOWN   \n",
       "99  N.Y. POLICE DEPT  ...               NaN         25-44           BLACK   \n",
       "\n",
       "   VIC_SEX X_COORD_CD Y_COORD_CD   Latitude  Longitude  \\\n",
       "0        E     988041     191045  40.691059 -73.986331   \n",
       "1        D     987818     200162  40.716083 -73.987131   \n",
       "2        M    1018889     182737  40.668188 -73.875137   \n",
       "3        D     987220     212676  40.750431 -73.989282   \n",
       "4        D    1021552     212402  40.749601 -73.865373   \n",
       "..     ...        ...        ...        ...        ...   \n",
       "95       M    1022966     182558  40.667680 -73.860442   \n",
       "96       E    1004936     173083  40.641734 -73.925463   \n",
       "97       F    1055614     186261  40.677641 -73.742716   \n",
       "98       D    1008624     236597  40.816054 -73.911944   \n",
       "99       M    1036642     187956  40.682426 -73.811102   \n",
       "\n",
       "                                    Lat_Lon  \\\n",
       "0   (40.69105856700002, -73.98633121699999)   \n",
       "1   (40.71608268700004, -73.98713051799997)   \n",
       "2   (40.66818803900002, -73.87513706799997)   \n",
       "3   (40.75043076800005, -73.98928217599996)   \n",
       "4   (40.74960053300003, -73.86537333399998)   \n",
       "..                                      ...   \n",
       "95  (40.66767983500005, -73.86044161899997)   \n",
       "96  (40.64173351900007, -73.92546349699995)   \n",
       "97  (40.67764073700005, -73.74271647099994)   \n",
       "98  (40.81605443800004, -73.91194446899993)   \n",
       "99  (40.68242573300005, -73.81110182399993)   \n",
       "\n",
       "                        New Georeferenced Column  \n",
       "0   POINT (-73.98633121699999 40.69105856700002)  \n",
       "1   POINT (-73.98713051799997 40.71608268700004)  \n",
       "2   POINT (-73.87513706799997 40.66818803900002)  \n",
       "3   POINT (-73.98928217599996 40.75043076800005)  \n",
       "4   POINT (-73.86537333399998 40.74960053300003)  \n",
       "..                                           ...  \n",
       "95  POINT (-73.86044161899997 40.66767983500005)  \n",
       "96  POINT (-73.92546349699995 40.64173351900007)  \n",
       "97  POINT (-73.74271647099994 40.67764073700005)  \n",
       "98  POINT (-73.91194446899993 40.81605443800004)  \n",
       "99  POINT (-73.81110182399993 40.68242573300005)  \n",
       "\n",
       "[100 rows x 34 columns]"
      ],
      "text/html": [
       "<div>\n",
       "<style scoped>\n",
       "    .dataframe tbody tr th:only-of-type {\n",
       "        vertical-align: middle;\n",
       "    }\n",
       "\n",
       "    .dataframe tbody tr th {\n",
       "        vertical-align: top;\n",
       "    }\n",
       "\n",
       "    .dataframe thead th {\n",
       "        text-align: right;\n",
       "    }\n",
       "</style>\n",
       "<table border=\"1\" class=\"dataframe\">\n",
       "  <thead>\n",
       "    <tr style=\"text-align: right;\">\n",
       "      <th></th>\n",
       "      <th>complaint_from</th>\n",
       "      <th>complaint_to</th>\n",
       "      <th>CMPLNT_NUM</th>\n",
       "      <th>ADDR_PCT_CD</th>\n",
       "      <th>BORO_NM</th>\n",
       "      <th>CRM_ATPT_CPTD_CD</th>\n",
       "      <th>HADEVELOPT</th>\n",
       "      <th>HOUSING_PSA</th>\n",
       "      <th>JURISDICTION_CODE</th>\n",
       "      <th>JURIS_DESC</th>\n",
       "      <th>...</th>\n",
       "      <th>TRANSIT_DISTRICT</th>\n",
       "      <th>VIC_AGE_GROUP</th>\n",
       "      <th>VIC_RACE</th>\n",
       "      <th>VIC_SEX</th>\n",
       "      <th>X_COORD_CD</th>\n",
       "      <th>Y_COORD_CD</th>\n",
       "      <th>Latitude</th>\n",
       "      <th>Longitude</th>\n",
       "      <th>Lat_Lon</th>\n",
       "      <th>New Georeferenced Column</th>\n",
       "    </tr>\n",
       "  </thead>\n",
       "  <tbody>\n",
       "    <tr>\n",
       "      <th>0</th>\n",
       "      <td>2021-03-31 15:08:00</td>\n",
       "      <td>03/31/2021 15:12:00</td>\n",
       "      <td>825041611</td>\n",
       "      <td>84</td>\n",
       "      <td>BROOKLYN</td>\n",
       "      <td>COMPLETED</td>\n",
       "      <td>NaN</td>\n",
       "      <td>NaN</td>\n",
       "      <td>0.0</td>\n",
       "      <td>N.Y. POLICE DEPT</td>\n",
       "      <td>...</td>\n",
       "      <td>NaN</td>\n",
       "      <td>UNKNOWN</td>\n",
       "      <td>UNKNOWN</td>\n",
       "      <td>E</td>\n",
       "      <td>988041</td>\n",
       "      <td>191045</td>\n",
       "      <td>40.691059</td>\n",
       "      <td>-73.986331</td>\n",
       "      <td>(40.69105856700002, -73.98633121699999)</td>\n",
       "      <td>POINT (-73.98633121699999 40.69105856700002)</td>\n",
       "    </tr>\n",
       "    <tr>\n",
       "      <th>1</th>\n",
       "      <td>2021-03-27 19:29:00</td>\n",
       "      <td>nan nan</td>\n",
       "      <td>206649900</td>\n",
       "      <td>7</td>\n",
       "      <td>NaN</td>\n",
       "      <td>NaN</td>\n",
       "      <td>NaN</td>\n",
       "      <td>NaN</td>\n",
       "      <td>0.0</td>\n",
       "      <td>N.Y. POLICE DEPT</td>\n",
       "      <td>...</td>\n",
       "      <td>NaN</td>\n",
       "      <td>25-44</td>\n",
       "      <td>WHITE HISPANIC</td>\n",
       "      <td>D</td>\n",
       "      <td>987818</td>\n",
       "      <td>200162</td>\n",
       "      <td>40.716083</td>\n",
       "      <td>-73.987131</td>\n",
       "      <td>(40.71608268700004, -73.98713051799997)</td>\n",
       "      <td>POINT (-73.98713051799997 40.71608268700004)</td>\n",
       "    </tr>\n",
       "    <tr>\n",
       "      <th>2</th>\n",
       "      <td>2021-03-27 13:00:00</td>\n",
       "      <td>nan nan</td>\n",
       "      <td>294801329</td>\n",
       "      <td>75</td>\n",
       "      <td>NaN</td>\n",
       "      <td>COMPLETED</td>\n",
       "      <td>NaN</td>\n",
       "      <td>NaN</td>\n",
       "      <td>NaN</td>\n",
       "      <td>N.Y. POLICE DEPT</td>\n",
       "      <td>...</td>\n",
       "      <td>NaN</td>\n",
       "      <td>25-44</td>\n",
       "      <td>BLACK</td>\n",
       "      <td>M</td>\n",
       "      <td>1018889</td>\n",
       "      <td>182737</td>\n",
       "      <td>40.668188</td>\n",
       "      <td>-73.875137</td>\n",
       "      <td>(40.66818803900002, -73.87513706799997)</td>\n",
       "      <td>POINT (-73.87513706799997 40.66818803900002)</td>\n",
       "    </tr>\n",
       "    <tr>\n",
       "      <th>3</th>\n",
       "      <td>2021-03-26 16:40:00</td>\n",
       "      <td>nan nan</td>\n",
       "      <td>270261096</td>\n",
       "      <td>14</td>\n",
       "      <td>MANHATTAN</td>\n",
       "      <td>COMPLETED</td>\n",
       "      <td>NaN</td>\n",
       "      <td>NaN</td>\n",
       "      <td>0.0</td>\n",
       "      <td>N.Y. POLICE DEPT</td>\n",
       "      <td>...</td>\n",
       "      <td>NaN</td>\n",
       "      <td>UNKNOWN</td>\n",
       "      <td>UNKNOWN</td>\n",
       "      <td>D</td>\n",
       "      <td>987220</td>\n",
       "      <td>212676</td>\n",
       "      <td>40.750431</td>\n",
       "      <td>-73.989282</td>\n",
       "      <td>(40.75043076800005, -73.98928217599996)</td>\n",
       "      <td>POINT (-73.98928217599996 40.75043076800005)</td>\n",
       "    </tr>\n",
       "    <tr>\n",
       "      <th>4</th>\n",
       "      <td>2021-03-26 13:09:00</td>\n",
       "      <td>03/26/2021 14:29:00</td>\n",
       "      <td>433883572</td>\n",
       "      <td>110</td>\n",
       "      <td>QUEENS</td>\n",
       "      <td>COMPLETED</td>\n",
       "      <td>NaN</td>\n",
       "      <td>NaN</td>\n",
       "      <td>0.0</td>\n",
       "      <td>N.Y. POLICE DEPT</td>\n",
       "      <td>...</td>\n",
       "      <td>NaN</td>\n",
       "      <td>UNKNOWN</td>\n",
       "      <td>UNKNOWN</td>\n",
       "      <td>D</td>\n",
       "      <td>1021552</td>\n",
       "      <td>212402</td>\n",
       "      <td>40.749601</td>\n",
       "      <td>-73.865373</td>\n",
       "      <td>(40.74960053300003, -73.86537333399998)</td>\n",
       "      <td>POINT (-73.86537333399998 40.74960053300003)</td>\n",
       "    </tr>\n",
       "    <tr>\n",
       "      <th>...</th>\n",
       "      <td>...</td>\n",
       "      <td>...</td>\n",
       "      <td>...</td>\n",
       "      <td>...</td>\n",
       "      <td>...</td>\n",
       "      <td>...</td>\n",
       "      <td>...</td>\n",
       "      <td>...</td>\n",
       "      <td>...</td>\n",
       "      <td>...</td>\n",
       "      <td>...</td>\n",
       "      <td>...</td>\n",
       "      <td>...</td>\n",
       "      <td>...</td>\n",
       "      <td>...</td>\n",
       "      <td>...</td>\n",
       "      <td>...</td>\n",
       "      <td>...</td>\n",
       "      <td>...</td>\n",
       "      <td>...</td>\n",
       "      <td>...</td>\n",
       "    </tr>\n",
       "    <tr>\n",
       "      <th>95</th>\n",
       "      <td>2021-01-06 12:10:00</td>\n",
       "      <td>01/06/2021 16:45:00</td>\n",
       "      <td>444277080</td>\n",
       "      <td>75</td>\n",
       "      <td>BROOKLYN</td>\n",
       "      <td>COMPLETED</td>\n",
       "      <td>NaN</td>\n",
       "      <td>NaN</td>\n",
       "      <td>0.0</td>\n",
       "      <td>N.Y. POLICE DEPT</td>\n",
       "      <td>...</td>\n",
       "      <td>NaN</td>\n",
       "      <td>25-44</td>\n",
       "      <td>UNKNOWN</td>\n",
       "      <td>M</td>\n",
       "      <td>1022966</td>\n",
       "      <td>182558</td>\n",
       "      <td>40.667680</td>\n",
       "      <td>-73.860442</td>\n",
       "      <td>(40.66767983500005, -73.86044161899997)</td>\n",
       "      <td>POINT (-73.86044161899997 40.66767983500005)</td>\n",
       "    </tr>\n",
       "    <tr>\n",
       "      <th>96</th>\n",
       "      <td>2021-01-05 21:01:00</td>\n",
       "      <td>01/05/2021 21:03:00</td>\n",
       "      <td>211944241</td>\n",
       "      <td>67</td>\n",
       "      <td>BROOKLYN</td>\n",
       "      <td>COMPLETED</td>\n",
       "      <td>NaN</td>\n",
       "      <td>NaN</td>\n",
       "      <td>0.0</td>\n",
       "      <td>N.Y. POLICE DEPT</td>\n",
       "      <td>...</td>\n",
       "      <td>NaN</td>\n",
       "      <td>UNKNOWN</td>\n",
       "      <td>UNKNOWN</td>\n",
       "      <td>E</td>\n",
       "      <td>1004936</td>\n",
       "      <td>173083</td>\n",
       "      <td>40.641734</td>\n",
       "      <td>-73.925463</td>\n",
       "      <td>(40.64173351900007, -73.92546349699995)</td>\n",
       "      <td>POINT (-73.92546349699995 40.64173351900007)</td>\n",
       "    </tr>\n",
       "    <tr>\n",
       "      <th>97</th>\n",
       "      <td>2021-01-05 15:30:00</td>\n",
       "      <td>01/05/2021 15:35:00</td>\n",
       "      <td>531307550</td>\n",
       "      <td>105</td>\n",
       "      <td>QUEENS</td>\n",
       "      <td>COMPLETED</td>\n",
       "      <td>NaN</td>\n",
       "      <td>NaN</td>\n",
       "      <td>0.0</td>\n",
       "      <td>N.Y. POLICE DEPT</td>\n",
       "      <td>...</td>\n",
       "      <td>NaN</td>\n",
       "      <td>25-44</td>\n",
       "      <td>BLACK</td>\n",
       "      <td>F</td>\n",
       "      <td>1055614</td>\n",
       "      <td>186261</td>\n",
       "      <td>40.677641</td>\n",
       "      <td>-73.742716</td>\n",
       "      <td>(40.67764073700005, -73.74271647099994)</td>\n",
       "      <td>POINT (-73.74271647099994 40.67764073700005)</td>\n",
       "    </tr>\n",
       "    <tr>\n",
       "      <th>98</th>\n",
       "      <td>2021-01-04 14:00:00</td>\n",
       "      <td>01/04/2021 14:05:00</td>\n",
       "      <td>309822687</td>\n",
       "      <td>40</td>\n",
       "      <td>BRONX</td>\n",
       "      <td>COMPLETED</td>\n",
       "      <td>NaN</td>\n",
       "      <td>NaN</td>\n",
       "      <td>0.0</td>\n",
       "      <td>N.Y. POLICE DEPT</td>\n",
       "      <td>...</td>\n",
       "      <td>NaN</td>\n",
       "      <td>UNKNOWN</td>\n",
       "      <td>UNKNOWN</td>\n",
       "      <td>D</td>\n",
       "      <td>1008624</td>\n",
       "      <td>236597</td>\n",
       "      <td>40.816054</td>\n",
       "      <td>-73.911944</td>\n",
       "      <td>(40.81605443800004, -73.91194446899993)</td>\n",
       "      <td>POINT (-73.91194446899993 40.81605443800004)</td>\n",
       "    </tr>\n",
       "    <tr>\n",
       "      <th>99</th>\n",
       "      <td>2020-12-14 09:00:00</td>\n",
       "      <td>12/14/2020 09:30:00</td>\n",
       "      <td>830436998</td>\n",
       "      <td>106</td>\n",
       "      <td>QUEENS</td>\n",
       "      <td>COMPLETED</td>\n",
       "      <td>NaN</td>\n",
       "      <td>NaN</td>\n",
       "      <td>0.0</td>\n",
       "      <td>N.Y. POLICE DEPT</td>\n",
       "      <td>...</td>\n",
       "      <td>NaN</td>\n",
       "      <td>25-44</td>\n",
       "      <td>BLACK</td>\n",
       "      <td>M</td>\n",
       "      <td>1036642</td>\n",
       "      <td>187956</td>\n",
       "      <td>40.682426</td>\n",
       "      <td>-73.811102</td>\n",
       "      <td>(40.68242573300005, -73.81110182399993)</td>\n",
       "      <td>POINT (-73.81110182399993 40.68242573300005)</td>\n",
       "    </tr>\n",
       "  </tbody>\n",
       "</table>\n",
       "<p>100 rows × 34 columns</p>\n",
       "</div>"
      ]
     },
     "metadata": {},
     "execution_count": 74
    }
   ],
   "metadata": {}
  },
  {
   "cell_type": "code",
   "execution_count": null,
   "source": [
    "nyc_2021.columns = nyc_2021.columns.str.lower()"
   ],
   "outputs": [],
   "metadata": {}
  },
  {
   "cell_type": "code",
   "execution_count": null,
   "source": [
    "nyc_2021.dtypes"
   ],
   "outputs": [],
   "metadata": {
    "scrolled": true
   }
  },
  {
   "cell_type": "code",
   "execution_count": null,
   "source": [
    "nyc_2021['rpt_dt'] = pd.to_datetime(nyc_2021['rpt_dt'])"
   ],
   "outputs": [],
   "metadata": {}
  },
  {
   "cell_type": "code",
   "execution_count": null,
   "source": [
    "# Found pandas chunksize attribute to improve render time. Should use for all read_csv - leea"
   ],
   "outputs": [],
   "metadata": {}
  },
  {
   "cell_type": "code",
   "execution_count": 70,
   "source": [
    "import pandas as pd\r\n",
    "import numpy as np\r\n",
    "\r\n",
    "nyc_2020 = pd.read_csv(\r\n",
    "\"NYC_Data/NYPD_Complaint_Data_Historic.csv\", \r\n",
    "dtype={0: \"string\", 18: \"string\", 20: \"string\"},\r\n",
    "chunksize=1000, \r\n",
    "#parse_dates={\"complaint_from\": [1, 2], \"complaint_to\": [3, 4]}\r\n",
    "parse_dates=['RPT_DT', [\"CMPLNT_FR_DT\", \"CMPLNT_FR_TM\"],\r\n",
    "                 [\"CMPLNT_TO_DT\", \"CMPLNT_TO_TM\"]]\r\n",
    ").get_chunk()\r\n",
    "\r\n",
    "nyc_2020 = nyc_2020.rename(columns={\"CMPLNT_FR_DT_CMPLNT_FR_TM\": \"complaint_from\",\r\n",
    "                \"CMPLNT_TO_DT_CMPLNT_TO_TM\":\t\"complaint_to\"})\r\n",
    "\r\n",
    "#retrieved 7/16/21\r\n"
   ],
   "outputs": [],
   "metadata": {}
  },
  {
   "cell_type": "code",
   "execution_count": 72,
   "source": [
    "nyc_2020.head(100)"
   ],
   "outputs": [
    {
     "output_type": "execute_result",
     "data": {
      "text/plain": [
       "        complaint_from         complaint_to CMPLNT_NUM  ADDR_PCT_CD  \\\n",
       "0  2019-12-31 17:30:00              nan nan  394506329         32.0   \n",
       "1  2019-12-29 16:31:00  12/29/2019 16:54:00  968873685         47.0   \n",
       "2  2019-12-15 18:45:00              nan nan  509837549        109.0   \n",
       "3  2019-12-28 01:00:00              nan nan  352454313         47.0   \n",
       "4  2008-09-05 21:41:00              nan nan  248803469          NaN   \n",
       "..                 ...                  ...        ...          ...   \n",
       "95 2019-11-25 15:00:00              nan nan  951506088        109.0   \n",
       "96 2019-07-01 00:00:00              nan nan  281016073         43.0   \n",
       "97 2019-11-25 16:35:00              nan nan  867160556        122.0   \n",
       "98 2019-11-24 20:00:00              nan nan  915335692        110.0   \n",
       "99 2019-11-23 22:00:00  11/25/2019 08:00:00  441974334         46.0   \n",
       "\n",
       "       RPT_DT  KY_CD                        OFNS_DESC  PD_CD  \\\n",
       "0  2019-12-31    118                DANGEROUS WEAPONS  793.0   \n",
       "1  2019-12-29    113                          FORGERY  729.0   \n",
       "2  2019-12-29    578                    HARRASSMENT 2  638.0   \n",
       "3  2019-12-28    126          MISCELLANEOUS PENAL LAW  117.0   \n",
       "4  2008-09-05    101  MURDER & NON-NEGL. MANSLAUGHTER    NaN   \n",
       "..        ...    ...                              ...    ...   \n",
       "95 2019-11-26    340                           FRAUDS  718.0   \n",
       "96 2019-11-26    104                             RAPE  153.0   \n",
       "97 2019-11-25    235                  DANGEROUS DRUGS  511.0   \n",
       "98 2019-11-25    578                    HARRASSMENT 2  638.0   \n",
       "99 2019-11-25    341                    PETIT LARCENY  321.0   \n",
       "\n",
       "                           PD_DESC CRM_ATPT_CPTD_CD  ... SUSP_SEX  \\\n",
       "0             WEAPONS POSSESSION 3        COMPLETED  ...      NaN   \n",
       "1   FORGERY,ETC.,UNCLASSIFIED-FELO        COMPLETED  ...      NaN   \n",
       "2            HARASSMENT,SUBD 3,4,5        COMPLETED  ...        M   \n",
       "3          RECKLESS ENDANGERMENT 1        COMPLETED  ...        M   \n",
       "4                              NaN        COMPLETED  ...      NaN   \n",
       "..                             ...              ...  ...      ...   \n",
       "95  FRAUD,UNCLASSIFIED-MISDEMEANOR        COMPLETED  ...      NaN   \n",
       "96                          RAPE 3        COMPLETED  ...        M   \n",
       "97  CONTROLLED SUBSTANCE, POSSESSI        COMPLETED  ...      NaN   \n",
       "98           HARASSMENT,SUBD 3,4,5        COMPLETED  ...        M   \n",
       "99         LARCENY,PETIT FROM AUTO        COMPLETED  ...      NaN   \n",
       "\n",
       "   TRANSIT_DISTRICT   Latitude  Longitude  \\\n",
       "0               NaN  40.820927 -73.943324   \n",
       "1               NaN  40.885701 -73.861640   \n",
       "2               NaN  40.742281 -73.819824   \n",
       "3               NaN  40.875311 -73.847545   \n",
       "4               NaN  40.698827 -73.938819   \n",
       "..              ...        ...        ...   \n",
       "95              NaN  40.766002 -73.822316   \n",
       "96              NaN  40.823101 -73.869690   \n",
       "97              NaN  40.574286 -74.105914   \n",
       "98              NaN  40.739216 -73.884567   \n",
       "99              NaN  40.859192 -73.900677   \n",
       "\n",
       "                                     Lat_Lon                PATROL_BORO  \\\n",
       "0    (40.82092679700002, -73.94332421899996)      PATROL BORO MAN NORTH   \n",
       "1   (40.885701406000074, -73.86164032499995)          PATROL BORO BRONX   \n",
       "2          (40.74228115600005, -73.81982408)   PATROL BORO QUEENS NORTH   \n",
       "3    (40.87531145100007, -73.84754521099995)          PATROL BORO BRONX   \n",
       "4              (40.698827283, -73.938819047)                        NaN   \n",
       "..                                       ...                        ...   \n",
       "95   (40.76600243000007, -73.82231581199994)   PATROL BORO QUEENS NORTH   \n",
       "96   (40.82310129900002, -73.86969046099993)          PATROL BORO BRONX   \n",
       "97   (40.57428568800003, -74.10591440499996)  PATROL BORO STATEN ISLAND   \n",
       "98  (40.739216009000074, -73.88456669599998)   PATROL BORO QUEENS NORTH   \n",
       "99   (40.85919215900003, -73.90067697099995)          PATROL BORO BRONX   \n",
       "\n",
       "   STATION_NAME VIC_AGE_GROUP        VIC_RACE  VIC_SEX  \n",
       "0           NaN       UNKNOWN         UNKNOWN        E  \n",
       "1           NaN       UNKNOWN         UNKNOWN        E  \n",
       "2           NaN         25-44  WHITE HISPANIC        F  \n",
       "3           NaN       UNKNOWN         UNKNOWN        E  \n",
       "4           NaN         25-44           BLACK        M  \n",
       "..          ...           ...             ...      ...  \n",
       "95          NaN           65+           BLACK        M  \n",
       "96          NaN           <18  WHITE HISPANIC        F  \n",
       "97          NaN       UNKNOWN         UNKNOWN        E  \n",
       "98          NaN         25-44           BLACK        M  \n",
       "99          NaN         18-24         UNKNOWN        F  \n",
       "\n",
       "[100 rows x 33 columns]"
      ],
      "text/html": [
       "<div>\n",
       "<style scoped>\n",
       "    .dataframe tbody tr th:only-of-type {\n",
       "        vertical-align: middle;\n",
       "    }\n",
       "\n",
       "    .dataframe tbody tr th {\n",
       "        vertical-align: top;\n",
       "    }\n",
       "\n",
       "    .dataframe thead th {\n",
       "        text-align: right;\n",
       "    }\n",
       "</style>\n",
       "<table border=\"1\" class=\"dataframe\">\n",
       "  <thead>\n",
       "    <tr style=\"text-align: right;\">\n",
       "      <th></th>\n",
       "      <th>complaint_from</th>\n",
       "      <th>complaint_to</th>\n",
       "      <th>CMPLNT_NUM</th>\n",
       "      <th>ADDR_PCT_CD</th>\n",
       "      <th>RPT_DT</th>\n",
       "      <th>KY_CD</th>\n",
       "      <th>OFNS_DESC</th>\n",
       "      <th>PD_CD</th>\n",
       "      <th>PD_DESC</th>\n",
       "      <th>CRM_ATPT_CPTD_CD</th>\n",
       "      <th>...</th>\n",
       "      <th>SUSP_SEX</th>\n",
       "      <th>TRANSIT_DISTRICT</th>\n",
       "      <th>Latitude</th>\n",
       "      <th>Longitude</th>\n",
       "      <th>Lat_Lon</th>\n",
       "      <th>PATROL_BORO</th>\n",
       "      <th>STATION_NAME</th>\n",
       "      <th>VIC_AGE_GROUP</th>\n",
       "      <th>VIC_RACE</th>\n",
       "      <th>VIC_SEX</th>\n",
       "    </tr>\n",
       "  </thead>\n",
       "  <tbody>\n",
       "    <tr>\n",
       "      <th>0</th>\n",
       "      <td>2019-12-31 17:30:00</td>\n",
       "      <td>nan nan</td>\n",
       "      <td>394506329</td>\n",
       "      <td>32.0</td>\n",
       "      <td>2019-12-31</td>\n",
       "      <td>118</td>\n",
       "      <td>DANGEROUS WEAPONS</td>\n",
       "      <td>793.0</td>\n",
       "      <td>WEAPONS POSSESSION 3</td>\n",
       "      <td>COMPLETED</td>\n",
       "      <td>...</td>\n",
       "      <td>NaN</td>\n",
       "      <td>NaN</td>\n",
       "      <td>40.820927</td>\n",
       "      <td>-73.943324</td>\n",
       "      <td>(40.82092679700002, -73.94332421899996)</td>\n",
       "      <td>PATROL BORO MAN NORTH</td>\n",
       "      <td>NaN</td>\n",
       "      <td>UNKNOWN</td>\n",
       "      <td>UNKNOWN</td>\n",
       "      <td>E</td>\n",
       "    </tr>\n",
       "    <tr>\n",
       "      <th>1</th>\n",
       "      <td>2019-12-29 16:31:00</td>\n",
       "      <td>12/29/2019 16:54:00</td>\n",
       "      <td>968873685</td>\n",
       "      <td>47.0</td>\n",
       "      <td>2019-12-29</td>\n",
       "      <td>113</td>\n",
       "      <td>FORGERY</td>\n",
       "      <td>729.0</td>\n",
       "      <td>FORGERY,ETC.,UNCLASSIFIED-FELO</td>\n",
       "      <td>COMPLETED</td>\n",
       "      <td>...</td>\n",
       "      <td>NaN</td>\n",
       "      <td>NaN</td>\n",
       "      <td>40.885701</td>\n",
       "      <td>-73.861640</td>\n",
       "      <td>(40.885701406000074, -73.86164032499995)</td>\n",
       "      <td>PATROL BORO BRONX</td>\n",
       "      <td>NaN</td>\n",
       "      <td>UNKNOWN</td>\n",
       "      <td>UNKNOWN</td>\n",
       "      <td>E</td>\n",
       "    </tr>\n",
       "    <tr>\n",
       "      <th>2</th>\n",
       "      <td>2019-12-15 18:45:00</td>\n",
       "      <td>nan nan</td>\n",
       "      <td>509837549</td>\n",
       "      <td>109.0</td>\n",
       "      <td>2019-12-29</td>\n",
       "      <td>578</td>\n",
       "      <td>HARRASSMENT 2</td>\n",
       "      <td>638.0</td>\n",
       "      <td>HARASSMENT,SUBD 3,4,5</td>\n",
       "      <td>COMPLETED</td>\n",
       "      <td>...</td>\n",
       "      <td>M</td>\n",
       "      <td>NaN</td>\n",
       "      <td>40.742281</td>\n",
       "      <td>-73.819824</td>\n",
       "      <td>(40.74228115600005, -73.81982408)</td>\n",
       "      <td>PATROL BORO QUEENS NORTH</td>\n",
       "      <td>NaN</td>\n",
       "      <td>25-44</td>\n",
       "      <td>WHITE HISPANIC</td>\n",
       "      <td>F</td>\n",
       "    </tr>\n",
       "    <tr>\n",
       "      <th>3</th>\n",
       "      <td>2019-12-28 01:00:00</td>\n",
       "      <td>nan nan</td>\n",
       "      <td>352454313</td>\n",
       "      <td>47.0</td>\n",
       "      <td>2019-12-28</td>\n",
       "      <td>126</td>\n",
       "      <td>MISCELLANEOUS PENAL LAW</td>\n",
       "      <td>117.0</td>\n",
       "      <td>RECKLESS ENDANGERMENT 1</td>\n",
       "      <td>COMPLETED</td>\n",
       "      <td>...</td>\n",
       "      <td>M</td>\n",
       "      <td>NaN</td>\n",
       "      <td>40.875311</td>\n",
       "      <td>-73.847545</td>\n",
       "      <td>(40.87531145100007, -73.84754521099995)</td>\n",
       "      <td>PATROL BORO BRONX</td>\n",
       "      <td>NaN</td>\n",
       "      <td>UNKNOWN</td>\n",
       "      <td>UNKNOWN</td>\n",
       "      <td>E</td>\n",
       "    </tr>\n",
       "    <tr>\n",
       "      <th>4</th>\n",
       "      <td>2008-09-05 21:41:00</td>\n",
       "      <td>nan nan</td>\n",
       "      <td>248803469</td>\n",
       "      <td>NaN</td>\n",
       "      <td>2008-09-05</td>\n",
       "      <td>101</td>\n",
       "      <td>MURDER &amp; NON-NEGL. MANSLAUGHTER</td>\n",
       "      <td>NaN</td>\n",
       "      <td>NaN</td>\n",
       "      <td>COMPLETED</td>\n",
       "      <td>...</td>\n",
       "      <td>NaN</td>\n",
       "      <td>NaN</td>\n",
       "      <td>40.698827</td>\n",
       "      <td>-73.938819</td>\n",
       "      <td>(40.698827283, -73.938819047)</td>\n",
       "      <td>NaN</td>\n",
       "      <td>NaN</td>\n",
       "      <td>25-44</td>\n",
       "      <td>BLACK</td>\n",
       "      <td>M</td>\n",
       "    </tr>\n",
       "    <tr>\n",
       "      <th>...</th>\n",
       "      <td>...</td>\n",
       "      <td>...</td>\n",
       "      <td>...</td>\n",
       "      <td>...</td>\n",
       "      <td>...</td>\n",
       "      <td>...</td>\n",
       "      <td>...</td>\n",
       "      <td>...</td>\n",
       "      <td>...</td>\n",
       "      <td>...</td>\n",
       "      <td>...</td>\n",
       "      <td>...</td>\n",
       "      <td>...</td>\n",
       "      <td>...</td>\n",
       "      <td>...</td>\n",
       "      <td>...</td>\n",
       "      <td>...</td>\n",
       "      <td>...</td>\n",
       "      <td>...</td>\n",
       "      <td>...</td>\n",
       "      <td>...</td>\n",
       "    </tr>\n",
       "    <tr>\n",
       "      <th>95</th>\n",
       "      <td>2019-11-25 15:00:00</td>\n",
       "      <td>nan nan</td>\n",
       "      <td>951506088</td>\n",
       "      <td>109.0</td>\n",
       "      <td>2019-11-26</td>\n",
       "      <td>340</td>\n",
       "      <td>FRAUDS</td>\n",
       "      <td>718.0</td>\n",
       "      <td>FRAUD,UNCLASSIFIED-MISDEMEANOR</td>\n",
       "      <td>COMPLETED</td>\n",
       "      <td>...</td>\n",
       "      <td>NaN</td>\n",
       "      <td>NaN</td>\n",
       "      <td>40.766002</td>\n",
       "      <td>-73.822316</td>\n",
       "      <td>(40.76600243000007, -73.82231581199994)</td>\n",
       "      <td>PATROL BORO QUEENS NORTH</td>\n",
       "      <td>NaN</td>\n",
       "      <td>65+</td>\n",
       "      <td>BLACK</td>\n",
       "      <td>M</td>\n",
       "    </tr>\n",
       "    <tr>\n",
       "      <th>96</th>\n",
       "      <td>2019-07-01 00:00:00</td>\n",
       "      <td>nan nan</td>\n",
       "      <td>281016073</td>\n",
       "      <td>43.0</td>\n",
       "      <td>2019-11-26</td>\n",
       "      <td>104</td>\n",
       "      <td>RAPE</td>\n",
       "      <td>153.0</td>\n",
       "      <td>RAPE 3</td>\n",
       "      <td>COMPLETED</td>\n",
       "      <td>...</td>\n",
       "      <td>M</td>\n",
       "      <td>NaN</td>\n",
       "      <td>40.823101</td>\n",
       "      <td>-73.869690</td>\n",
       "      <td>(40.82310129900002, -73.86969046099993)</td>\n",
       "      <td>PATROL BORO BRONX</td>\n",
       "      <td>NaN</td>\n",
       "      <td>&lt;18</td>\n",
       "      <td>WHITE HISPANIC</td>\n",
       "      <td>F</td>\n",
       "    </tr>\n",
       "    <tr>\n",
       "      <th>97</th>\n",
       "      <td>2019-11-25 16:35:00</td>\n",
       "      <td>nan nan</td>\n",
       "      <td>867160556</td>\n",
       "      <td>122.0</td>\n",
       "      <td>2019-11-25</td>\n",
       "      <td>235</td>\n",
       "      <td>DANGEROUS DRUGS</td>\n",
       "      <td>511.0</td>\n",
       "      <td>CONTROLLED SUBSTANCE, POSSESSI</td>\n",
       "      <td>COMPLETED</td>\n",
       "      <td>...</td>\n",
       "      <td>NaN</td>\n",
       "      <td>NaN</td>\n",
       "      <td>40.574286</td>\n",
       "      <td>-74.105914</td>\n",
       "      <td>(40.57428568800003, -74.10591440499996)</td>\n",
       "      <td>PATROL BORO STATEN ISLAND</td>\n",
       "      <td>NaN</td>\n",
       "      <td>UNKNOWN</td>\n",
       "      <td>UNKNOWN</td>\n",
       "      <td>E</td>\n",
       "    </tr>\n",
       "    <tr>\n",
       "      <th>98</th>\n",
       "      <td>2019-11-24 20:00:00</td>\n",
       "      <td>nan nan</td>\n",
       "      <td>915335692</td>\n",
       "      <td>110.0</td>\n",
       "      <td>2019-11-25</td>\n",
       "      <td>578</td>\n",
       "      <td>HARRASSMENT 2</td>\n",
       "      <td>638.0</td>\n",
       "      <td>HARASSMENT,SUBD 3,4,5</td>\n",
       "      <td>COMPLETED</td>\n",
       "      <td>...</td>\n",
       "      <td>M</td>\n",
       "      <td>NaN</td>\n",
       "      <td>40.739216</td>\n",
       "      <td>-73.884567</td>\n",
       "      <td>(40.739216009000074, -73.88456669599998)</td>\n",
       "      <td>PATROL BORO QUEENS NORTH</td>\n",
       "      <td>NaN</td>\n",
       "      <td>25-44</td>\n",
       "      <td>BLACK</td>\n",
       "      <td>M</td>\n",
       "    </tr>\n",
       "    <tr>\n",
       "      <th>99</th>\n",
       "      <td>2019-11-23 22:00:00</td>\n",
       "      <td>11/25/2019 08:00:00</td>\n",
       "      <td>441974334</td>\n",
       "      <td>46.0</td>\n",
       "      <td>2019-11-25</td>\n",
       "      <td>341</td>\n",
       "      <td>PETIT LARCENY</td>\n",
       "      <td>321.0</td>\n",
       "      <td>LARCENY,PETIT FROM AUTO</td>\n",
       "      <td>COMPLETED</td>\n",
       "      <td>...</td>\n",
       "      <td>NaN</td>\n",
       "      <td>NaN</td>\n",
       "      <td>40.859192</td>\n",
       "      <td>-73.900677</td>\n",
       "      <td>(40.85919215900003, -73.90067697099995)</td>\n",
       "      <td>PATROL BORO BRONX</td>\n",
       "      <td>NaN</td>\n",
       "      <td>18-24</td>\n",
       "      <td>UNKNOWN</td>\n",
       "      <td>F</td>\n",
       "    </tr>\n",
       "  </tbody>\n",
       "</table>\n",
       "<p>100 rows × 33 columns</p>\n",
       "</div>"
      ]
     },
     "metadata": {},
     "execution_count": 72
    }
   ],
   "metadata": {}
  },
  {
   "cell_type": "code",
   "execution_count": 76,
   "source": [
    "#df.columns.str.lower()\r\n",
    "nyc_2020.columns = nyc_2020.columns.str.lower()"
   ],
   "outputs": [],
   "metadata": {}
  },
  {
   "cell_type": "code",
   "execution_count": 41,
   "source": [
    "#df.columns.get_loc('rpt_dt')\r\n",
    "nyc_2020.columns"
   ],
   "outputs": [
    {
     "output_type": "execute_result",
     "data": {
      "text/plain": [
       "Index(['complaint_from', 'complaint_to', 'cmplnt_num', 'addr_pct_cd', 'rpt_dt',\n",
       "       'ky_cd', 'ofns_desc', 'pd_cd', 'pd_desc', 'crm_atpt_cptd_cd',\n",
       "       'law_cat_cd', 'boro_nm', 'loc_of_occur_desc', 'prem_typ_desc',\n",
       "       'juris_desc', 'jurisdiction_code', 'parks_nm', 'hadevelopt',\n",
       "       'housing_psa', 'x_coord_cd', 'y_coord_cd', 'susp_age_group',\n",
       "       'susp_race', 'susp_sex', 'transit_district', 'latitude', 'longitude',\n",
       "       'lat_lon', 'patrol_boro', 'station_name', 'vic_age_group', 'vic_race',\n",
       "       'vic_sex'],\n",
       "      dtype='object')"
      ]
     },
     "metadata": {},
     "execution_count": 41
    }
   ],
   "metadata": {}
  },
  {
   "cell_type": "code",
   "execution_count": 66,
   "source": [
    "nyc_2020.dtypes"
   ],
   "outputs": [
    {
     "output_type": "execute_result",
     "data": {
      "text/plain": [
       "CMPLNT_FR_DT_CMPLNT_FR_TM    datetime64[ns]\n",
       "CMPLNT_TO_DT_CMPLNT_TO_TM            object\n",
       "CMPLNT_NUM                           string\n",
       "ADDR_PCT_CD                         float64\n",
       "RPT_DT                       datetime64[ns]\n",
       "KY_CD                                 int64\n",
       "OFNS_DESC                            object\n",
       "PD_CD                               float64\n",
       "PD_DESC                              object\n",
       "CRM_ATPT_CPTD_CD                     object\n",
       "LAW_CAT_CD                           object\n",
       "BORO_NM                              object\n",
       "LOC_OF_OCCUR_DESC                    object\n",
       "PREM_TYP_DESC                        object\n",
       "JURIS_DESC                           object\n",
       "JURISDICTION_CODE                   float64\n",
       "PARKS_NM                             string\n",
       "HADEVELOPT                           object\n",
       "HOUSING_PSA                          string\n",
       "X_COORD_CD                          float64\n",
       "Y_COORD_CD                          float64\n",
       "SUSP_AGE_GROUP                       object\n",
       "SUSP_RACE                            object\n",
       "SUSP_SEX                             object\n",
       "TRANSIT_DISTRICT                    float64\n",
       "Latitude                            float64\n",
       "Longitude                           float64\n",
       "Lat_Lon                              object\n",
       "PATROL_BORO                          object\n",
       "STATION_NAME                         object\n",
       "VIC_AGE_GROUP                        object\n",
       "VIC_RACE                             object\n",
       "VIC_SEX                              object\n",
       "dtype: object"
      ]
     },
     "metadata": {},
     "execution_count": 66
    }
   ],
   "metadata": {}
  },
  {
   "cell_type": "code",
   "execution_count": 40,
   "source": [
    "#nyc_2020['rpt_dt'] = pd.to_datetime(nyc_2020['rpt_dt'])\r\n",
    "#Series.dt.tz_localize()\r\n",
    "#df.astype({'rpt_dt': 'datetime64'}).dtypes\r\n"
   ],
   "outputs": [],
   "metadata": {}
  },
  {
   "cell_type": "code",
   "execution_count": 77,
   "source": [
    "nyc_2020 = nyc_2020[nyc_2020['rpt_dt'] >= '2020-06-30']"
   ],
   "outputs": [],
   "metadata": {}
  },
  {
   "cell_type": "code",
   "execution_count": 78,
   "source": [
    "nyc_2020.head()"
   ],
   "outputs": [
    {
     "output_type": "execute_result",
     "data": {
      "text/plain": [
       "         complaint_from complaint_to cmplnt_num  addr_pct_cd     rpt_dt  \\\n",
       "121 2020-12-22 17:46:00      nan nan  808857971         32.0 2020-12-22   \n",
       "652 2020-09-02 20:40:00      nan nan  990133707         70.0 2020-09-02   \n",
       "662 2020-07-20 23:44:00      nan nan  420348781         52.0 2020-07-20   \n",
       "663 2020-07-02 01:07:00      nan nan  462496511         44.0 2020-07-02   \n",
       "669 2020-11-04 09:14:00      nan nan  921351410         28.0 2020-11-04   \n",
       "\n",
       "     ky_cd                        ofns_desc  pd_cd pd_desc crm_atpt_cptd_cd  \\\n",
       "121    101  MURDER & NON-NEGL. MANSLAUGHTER    NaN     NaN        COMPLETED   \n",
       "652    101  MURDER & NON-NEGL. MANSLAUGHTER    NaN     NaN        COMPLETED   \n",
       "662    101  MURDER & NON-NEGL. MANSLAUGHTER    NaN     NaN        COMPLETED   \n",
       "663    101  MURDER & NON-NEGL. MANSLAUGHTER    NaN     NaN        COMPLETED   \n",
       "669    101  MURDER & NON-NEGL. MANSLAUGHTER    NaN     NaN        COMPLETED   \n",
       "\n",
       "     ... susp_sex transit_district   latitude  longitude  \\\n",
       "121  ...      NaN              NaN  40.815732 -73.945420   \n",
       "652  ...      NaN              NaN  40.651323 -73.956961   \n",
       "662  ...        M              NaN  40.877554 -73.872939   \n",
       "663  ...      NaN              NaN  40.837782 -73.919458   \n",
       "669  ...        M              NaN  40.799467 -73.951531   \n",
       "\n",
       "                                      lat_lon  patrol_boro station_name  \\\n",
       "121   (40.81573205300003, -73.94542041099999)          NaN          NaN   \n",
       "652   (40.65132343000005, -73.95696100099997)          NaN          NaN   \n",
       "662  (40.877554428000046, -73.87293947099994)          NaN          NaN   \n",
       "663   (40.83778161800007, -73.91945797099999)          NaN          NaN   \n",
       "669  (40.799466801000044, -73.95153053599995)          NaN          NaN   \n",
       "\n",
       "    vic_age_group        vic_race  vic_sex  \n",
       "121         25-44  BLACK HISPANIC        M  \n",
       "652         18-24           BLACK        M  \n",
       "662         18-24  WHITE HISPANIC        M  \n",
       "663         25-44  BLACK HISPANIC        M  \n",
       "669         25-44           BLACK        M  \n",
       "\n",
       "[5 rows x 33 columns]"
      ],
      "text/html": [
       "<div>\n",
       "<style scoped>\n",
       "    .dataframe tbody tr th:only-of-type {\n",
       "        vertical-align: middle;\n",
       "    }\n",
       "\n",
       "    .dataframe tbody tr th {\n",
       "        vertical-align: top;\n",
       "    }\n",
       "\n",
       "    .dataframe thead th {\n",
       "        text-align: right;\n",
       "    }\n",
       "</style>\n",
       "<table border=\"1\" class=\"dataframe\">\n",
       "  <thead>\n",
       "    <tr style=\"text-align: right;\">\n",
       "      <th></th>\n",
       "      <th>complaint_from</th>\n",
       "      <th>complaint_to</th>\n",
       "      <th>cmplnt_num</th>\n",
       "      <th>addr_pct_cd</th>\n",
       "      <th>rpt_dt</th>\n",
       "      <th>ky_cd</th>\n",
       "      <th>ofns_desc</th>\n",
       "      <th>pd_cd</th>\n",
       "      <th>pd_desc</th>\n",
       "      <th>crm_atpt_cptd_cd</th>\n",
       "      <th>...</th>\n",
       "      <th>susp_sex</th>\n",
       "      <th>transit_district</th>\n",
       "      <th>latitude</th>\n",
       "      <th>longitude</th>\n",
       "      <th>lat_lon</th>\n",
       "      <th>patrol_boro</th>\n",
       "      <th>station_name</th>\n",
       "      <th>vic_age_group</th>\n",
       "      <th>vic_race</th>\n",
       "      <th>vic_sex</th>\n",
       "    </tr>\n",
       "  </thead>\n",
       "  <tbody>\n",
       "    <tr>\n",
       "      <th>121</th>\n",
       "      <td>2020-12-22 17:46:00</td>\n",
       "      <td>nan nan</td>\n",
       "      <td>808857971</td>\n",
       "      <td>32.0</td>\n",
       "      <td>2020-12-22</td>\n",
       "      <td>101</td>\n",
       "      <td>MURDER &amp; NON-NEGL. MANSLAUGHTER</td>\n",
       "      <td>NaN</td>\n",
       "      <td>NaN</td>\n",
       "      <td>COMPLETED</td>\n",
       "      <td>...</td>\n",
       "      <td>NaN</td>\n",
       "      <td>NaN</td>\n",
       "      <td>40.815732</td>\n",
       "      <td>-73.945420</td>\n",
       "      <td>(40.81573205300003, -73.94542041099999)</td>\n",
       "      <td>NaN</td>\n",
       "      <td>NaN</td>\n",
       "      <td>25-44</td>\n",
       "      <td>BLACK HISPANIC</td>\n",
       "      <td>M</td>\n",
       "    </tr>\n",
       "    <tr>\n",
       "      <th>652</th>\n",
       "      <td>2020-09-02 20:40:00</td>\n",
       "      <td>nan nan</td>\n",
       "      <td>990133707</td>\n",
       "      <td>70.0</td>\n",
       "      <td>2020-09-02</td>\n",
       "      <td>101</td>\n",
       "      <td>MURDER &amp; NON-NEGL. MANSLAUGHTER</td>\n",
       "      <td>NaN</td>\n",
       "      <td>NaN</td>\n",
       "      <td>COMPLETED</td>\n",
       "      <td>...</td>\n",
       "      <td>NaN</td>\n",
       "      <td>NaN</td>\n",
       "      <td>40.651323</td>\n",
       "      <td>-73.956961</td>\n",
       "      <td>(40.65132343000005, -73.95696100099997)</td>\n",
       "      <td>NaN</td>\n",
       "      <td>NaN</td>\n",
       "      <td>18-24</td>\n",
       "      <td>BLACK</td>\n",
       "      <td>M</td>\n",
       "    </tr>\n",
       "    <tr>\n",
       "      <th>662</th>\n",
       "      <td>2020-07-20 23:44:00</td>\n",
       "      <td>nan nan</td>\n",
       "      <td>420348781</td>\n",
       "      <td>52.0</td>\n",
       "      <td>2020-07-20</td>\n",
       "      <td>101</td>\n",
       "      <td>MURDER &amp; NON-NEGL. MANSLAUGHTER</td>\n",
       "      <td>NaN</td>\n",
       "      <td>NaN</td>\n",
       "      <td>COMPLETED</td>\n",
       "      <td>...</td>\n",
       "      <td>M</td>\n",
       "      <td>NaN</td>\n",
       "      <td>40.877554</td>\n",
       "      <td>-73.872939</td>\n",
       "      <td>(40.877554428000046, -73.87293947099994)</td>\n",
       "      <td>NaN</td>\n",
       "      <td>NaN</td>\n",
       "      <td>18-24</td>\n",
       "      <td>WHITE HISPANIC</td>\n",
       "      <td>M</td>\n",
       "    </tr>\n",
       "    <tr>\n",
       "      <th>663</th>\n",
       "      <td>2020-07-02 01:07:00</td>\n",
       "      <td>nan nan</td>\n",
       "      <td>462496511</td>\n",
       "      <td>44.0</td>\n",
       "      <td>2020-07-02</td>\n",
       "      <td>101</td>\n",
       "      <td>MURDER &amp; NON-NEGL. MANSLAUGHTER</td>\n",
       "      <td>NaN</td>\n",
       "      <td>NaN</td>\n",
       "      <td>COMPLETED</td>\n",
       "      <td>...</td>\n",
       "      <td>NaN</td>\n",
       "      <td>NaN</td>\n",
       "      <td>40.837782</td>\n",
       "      <td>-73.919458</td>\n",
       "      <td>(40.83778161800007, -73.91945797099999)</td>\n",
       "      <td>NaN</td>\n",
       "      <td>NaN</td>\n",
       "      <td>25-44</td>\n",
       "      <td>BLACK HISPANIC</td>\n",
       "      <td>M</td>\n",
       "    </tr>\n",
       "    <tr>\n",
       "      <th>669</th>\n",
       "      <td>2020-11-04 09:14:00</td>\n",
       "      <td>nan nan</td>\n",
       "      <td>921351410</td>\n",
       "      <td>28.0</td>\n",
       "      <td>2020-11-04</td>\n",
       "      <td>101</td>\n",
       "      <td>MURDER &amp; NON-NEGL. MANSLAUGHTER</td>\n",
       "      <td>NaN</td>\n",
       "      <td>NaN</td>\n",
       "      <td>COMPLETED</td>\n",
       "      <td>...</td>\n",
       "      <td>M</td>\n",
       "      <td>NaN</td>\n",
       "      <td>40.799467</td>\n",
       "      <td>-73.951531</td>\n",
       "      <td>(40.799466801000044, -73.95153053599995)</td>\n",
       "      <td>NaN</td>\n",
       "      <td>NaN</td>\n",
       "      <td>25-44</td>\n",
       "      <td>BLACK</td>\n",
       "      <td>M</td>\n",
       "    </tr>\n",
       "  </tbody>\n",
       "</table>\n",
       "<p>5 rows × 33 columns</p>\n",
       "</div>"
      ]
     },
     "metadata": {},
     "execution_count": 78
    }
   ],
   "metadata": {}
  },
  {
   "cell_type": "code",
   "execution_count": 79,
   "source": [
    "nyc_2020.reset_index(drop = True, inplace = True)\r\n",
    "#drops 0 index for index numbers"
   ],
   "outputs": [],
   "metadata": {}
  },
  {
   "cell_type": "code",
   "execution_count": null,
   "source": [
    "nyc_2020.shape"
   ],
   "outputs": [],
   "metadata": {}
  },
  {
   "cell_type": "code",
   "execution_count": null,
   "source": [
    "nyc_2020.to_csv('NYC_Data/NYC_2020.csv')"
   ],
   "outputs": [],
   "metadata": {}
  }
 ],
 "metadata": {
  "kernelspec": {
   "name": "python3",
   "display_name": "Python 3.8.8 64-bit ('base': conda)"
  },
  "language_info": {
   "codemirror_mode": {
    "name": "ipython",
    "version": 3
   },
   "file_extension": ".py",
   "mimetype": "text/x-python",
   "name": "python",
   "nbconvert_exporter": "python",
   "pygments_lexer": "ipython3",
   "version": "3.8.8"
  },
  "interpreter": {
   "hash": "cef9e06bb236b2a8629b07e87a04b187b952a0f661eff5533360a155783f0c33"
  }
 },
 "nbformat": 4,
 "nbformat_minor": 5
}