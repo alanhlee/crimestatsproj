{
 "cells": [
  {
   "cell_type": "markdown",
   "source": [
    "# Philadelphia, PA"
   ],
   "metadata": {}
  },
  {
   "cell_type": "code",
   "execution_count": null,
   "source": [
    "#latest date for 2020 is 10/8\r\n",
    "#2021 not in DB"
   ],
   "outputs": [],
   "metadata": {}
  },
  {
   "cell_type": "markdown",
   "source": [
    "https://www.opendataphilly.org/dataset/crime-incidents"
   ],
   "metadata": {}
  },
  {
   "cell_type": "code",
   "execution_count": null,
   "source": [
    "import pandas as pd\r\n",
    "\r\n",
    "phil_2021 = pd.read_csv(\"../Philadelphia_Data/Philadelphia_2021_data.csv\",\r\n",
    "chunksize=1000, \r\n",
    "parse_dates=['dispatch_date_time', 'dispatch_date', 'dispatch_time']\r\n",
    ").get_chunk()\r\n"
   ],
   "outputs": [],
   "metadata": {}
  },
  {
   "cell_type": "code",
   "execution_count": null,
   "source": [
    "#drop empty columns\r\n",
    "phil_2021.dropna(how=\"all\", axis=1, inplace=True)\r\n"
   ],
   "outputs": [],
   "metadata": {}
  },
  {
   "cell_type": "code",
   "execution_count": null,
   "source": [
    "phil_2021.columns"
   ],
   "outputs": [],
   "metadata": {}
  },
  {
   "cell_type": "code",
   "execution_count": null,
   "source": [
    "phil_2021.head()"
   ],
   "outputs": [],
   "metadata": {}
  },
  {
   "cell_type": "code",
   "execution_count": null,
   "source": [
    "phil_2021.dtypes"
   ],
   "outputs": [],
   "metadata": {}
  },
  {
   "cell_type": "code",
   "execution_count": null,
   "source": [
    "phil_2021 = phil_2021.drop(columns=[\"dispatch_date_time\", \"dispatch_time\"])\r\n"
   ],
   "outputs": [],
   "metadata": {}
  },
  {
   "cell_type": "code",
   "execution_count": null,
   "source": [
    "phil_2021.head()"
   ],
   "outputs": [],
   "metadata": {}
  },
  {
   "cell_type": "code",
   "execution_count": 18,
   "source": [
    "phil_2021.to_csv('../Philadelphia_Data/Phil_2021.csv')"
   ],
   "outputs": [],
   "metadata": {}
  },
  {
   "cell_type": "code",
   "execution_count": 21,
   "source": [
    "import pandas as pd\r\n",
    "\r\n",
    "phil_2020 = pd.read_csv(\"../Philadelphia_Data/Philadelphia_2020_data.csv\",\r\n",
    "chunksize=1000,\r\n",
    "parse_dates=['dispatch_date_time',\r\n",
    "'dispatch_date', 'dispatch_time']\r\n",
    ").get_chunk()\r\n"
   ],
   "outputs": [],
   "metadata": {}
  },
  {
   "cell_type": "code",
   "execution_count": 22,
   "source": [
    "#drop empty columns\r\n",
    "phil_2020.dropna(how=\"all\", axis=1, inplace=True)"
   ],
   "outputs": [],
   "metadata": {}
  },
  {
   "cell_type": "code",
   "execution_count": 23,
   "source": [
    "phil_2020 = phil_2020.drop(columns=[\"dispatch_date_time\", \"dispatch_time\"])\r\n"
   ],
   "outputs": [],
   "metadata": {}
  },
  {
   "cell_type": "code",
   "execution_count": 24,
   "source": [
    "phil_2020.head()"
   ],
   "outputs": [
    {
     "output_type": "execute_result",
     "data": {
      "text/plain": [
       "                                            the_geom  cartodb_id  \\\n",
       "0  0101000020E6100000CE175A2155CA52C0779E57C02DFB...          47   \n",
       "1  0101000020E61000007B6EFCE4C3CE52C0F4EC660423F1...          91   \n",
       "2  0101000020E61000007B6EFCE4C3CE52C0F4EC660423F1...          92   \n",
       "3  0101000020E61000007B6EFCE4C3CE52C0F4EC660423F1...          93   \n",
       "4  0101000020E61000007B6EFCE4C3CE52C0F4EC660423F1...          94   \n",
       "\n",
       "                                the_geom_webmercator  objectid  dc_dist psa  \\\n",
       "0  0101000020110F00009EBBEA78D5EA5FC11055888E8D8A...        22        9   2   \n",
       "1  0101000020110F00002A2FC7FB5CF25FC12A107CA16E7F...        66       77   A   \n",
       "2  0101000020110F00002A2FC7FB5CF25FC12A107CA16E7F...        67       77   A   \n",
       "3  0101000020110F00002A2FC7FB5CF25FC12A107CA16E7F...        68       77   A   \n",
       "4  0101000020110F00002A2FC7FB5CF25FC12A107CA16E7F...        69       77   A   \n",
       "\n",
       "  dispatch_date  hour_        dc_key               location_block  \\\n",
       "0    2020-03-25     18  202009012094  1400 BLOCK SPRING GARDEN ST   \n",
       "1    2020-03-08     19  202077001196              0 BLOCK PIA WAY   \n",
       "2    2020-03-15     18  202077001312              0 BLOCK PIA WAY   \n",
       "3    2020-03-18      8  202077001343              0 BLOCK PIA WAY   \n",
       "4    2020-04-03     15  202077001460              0 BLOCK PIA WAY   \n",
       "\n",
       "   ucr_general   text_general_code    point_x    point_y        lat        lng  \n",
       "0          600  Theft from Vehicle -75.161446  39.962334  39.962334 -75.161446  \n",
       "1          600              Thefts -75.230706  39.883881  39.883881 -75.230706  \n",
       "2          600              Thefts -75.230706  39.883881  39.883881 -75.230706  \n",
       "3          600              Thefts -75.230706  39.883881  39.883881 -75.230706  \n",
       "4          600              Thefts -75.230706  39.883881  39.883881 -75.230706  "
      ],
      "text/html": [
       "<div>\n",
       "<style scoped>\n",
       "    .dataframe tbody tr th:only-of-type {\n",
       "        vertical-align: middle;\n",
       "    }\n",
       "\n",
       "    .dataframe tbody tr th {\n",
       "        vertical-align: top;\n",
       "    }\n",
       "\n",
       "    .dataframe thead th {\n",
       "        text-align: right;\n",
       "    }\n",
       "</style>\n",
       "<table border=\"1\" class=\"dataframe\">\n",
       "  <thead>\n",
       "    <tr style=\"text-align: right;\">\n",
       "      <th></th>\n",
       "      <th>the_geom</th>\n",
       "      <th>cartodb_id</th>\n",
       "      <th>the_geom_webmercator</th>\n",
       "      <th>objectid</th>\n",
       "      <th>dc_dist</th>\n",
       "      <th>psa</th>\n",
       "      <th>dispatch_date</th>\n",
       "      <th>hour_</th>\n",
       "      <th>dc_key</th>\n",
       "      <th>location_block</th>\n",
       "      <th>ucr_general</th>\n",
       "      <th>text_general_code</th>\n",
       "      <th>point_x</th>\n",
       "      <th>point_y</th>\n",
       "      <th>lat</th>\n",
       "      <th>lng</th>\n",
       "    </tr>\n",
       "  </thead>\n",
       "  <tbody>\n",
       "    <tr>\n",
       "      <th>0</th>\n",
       "      <td>0101000020E6100000CE175A2155CA52C0779E57C02DFB...</td>\n",
       "      <td>47</td>\n",
       "      <td>0101000020110F00009EBBEA78D5EA5FC11055888E8D8A...</td>\n",
       "      <td>22</td>\n",
       "      <td>9</td>\n",
       "      <td>2</td>\n",
       "      <td>2020-03-25</td>\n",
       "      <td>18</td>\n",
       "      <td>202009012094</td>\n",
       "      <td>1400 BLOCK SPRING GARDEN ST</td>\n",
       "      <td>600</td>\n",
       "      <td>Theft from Vehicle</td>\n",
       "      <td>-75.161446</td>\n",
       "      <td>39.962334</td>\n",
       "      <td>39.962334</td>\n",
       "      <td>-75.161446</td>\n",
       "    </tr>\n",
       "    <tr>\n",
       "      <th>1</th>\n",
       "      <td>0101000020E61000007B6EFCE4C3CE52C0F4EC660423F1...</td>\n",
       "      <td>91</td>\n",
       "      <td>0101000020110F00002A2FC7FB5CF25FC12A107CA16E7F...</td>\n",
       "      <td>66</td>\n",
       "      <td>77</td>\n",
       "      <td>A</td>\n",
       "      <td>2020-03-08</td>\n",
       "      <td>19</td>\n",
       "      <td>202077001196</td>\n",
       "      <td>0 BLOCK PIA WAY</td>\n",
       "      <td>600</td>\n",
       "      <td>Thefts</td>\n",
       "      <td>-75.230706</td>\n",
       "      <td>39.883881</td>\n",
       "      <td>39.883881</td>\n",
       "      <td>-75.230706</td>\n",
       "    </tr>\n",
       "    <tr>\n",
       "      <th>2</th>\n",
       "      <td>0101000020E61000007B6EFCE4C3CE52C0F4EC660423F1...</td>\n",
       "      <td>92</td>\n",
       "      <td>0101000020110F00002A2FC7FB5CF25FC12A107CA16E7F...</td>\n",
       "      <td>67</td>\n",
       "      <td>77</td>\n",
       "      <td>A</td>\n",
       "      <td>2020-03-15</td>\n",
       "      <td>18</td>\n",
       "      <td>202077001312</td>\n",
       "      <td>0 BLOCK PIA WAY</td>\n",
       "      <td>600</td>\n",
       "      <td>Thefts</td>\n",
       "      <td>-75.230706</td>\n",
       "      <td>39.883881</td>\n",
       "      <td>39.883881</td>\n",
       "      <td>-75.230706</td>\n",
       "    </tr>\n",
       "    <tr>\n",
       "      <th>3</th>\n",
       "      <td>0101000020E61000007B6EFCE4C3CE52C0F4EC660423F1...</td>\n",
       "      <td>93</td>\n",
       "      <td>0101000020110F00002A2FC7FB5CF25FC12A107CA16E7F...</td>\n",
       "      <td>68</td>\n",
       "      <td>77</td>\n",
       "      <td>A</td>\n",
       "      <td>2020-03-18</td>\n",
       "      <td>8</td>\n",
       "      <td>202077001343</td>\n",
       "      <td>0 BLOCK PIA WAY</td>\n",
       "      <td>600</td>\n",
       "      <td>Thefts</td>\n",
       "      <td>-75.230706</td>\n",
       "      <td>39.883881</td>\n",
       "      <td>39.883881</td>\n",
       "      <td>-75.230706</td>\n",
       "    </tr>\n",
       "    <tr>\n",
       "      <th>4</th>\n",
       "      <td>0101000020E61000007B6EFCE4C3CE52C0F4EC660423F1...</td>\n",
       "      <td>94</td>\n",
       "      <td>0101000020110F00002A2FC7FB5CF25FC12A107CA16E7F...</td>\n",
       "      <td>69</td>\n",
       "      <td>77</td>\n",
       "      <td>A</td>\n",
       "      <td>2020-04-03</td>\n",
       "      <td>15</td>\n",
       "      <td>202077001460</td>\n",
       "      <td>0 BLOCK PIA WAY</td>\n",
       "      <td>600</td>\n",
       "      <td>Thefts</td>\n",
       "      <td>-75.230706</td>\n",
       "      <td>39.883881</td>\n",
       "      <td>39.883881</td>\n",
       "      <td>-75.230706</td>\n",
       "    </tr>\n",
       "  </tbody>\n",
       "</table>\n",
       "</div>"
      ]
     },
     "metadata": {},
     "execution_count": 24
    }
   ],
   "metadata": {}
  },
  {
   "cell_type": "code",
   "execution_count": 26,
   "source": [
    "#getting dates not in DB currently\r\n",
    "phil_2020 = phil_2020[phil_2020['dispatch_date'] >= '2020-10-08']\r\n"
   ],
   "outputs": [],
   "metadata": {}
  },
  {
   "cell_type": "code",
   "execution_count": 27,
   "source": [
    "phil_2020.to_csv('../Philadelphia_Data/Phil_2020.csv')\r\n"
   ],
   "outputs": [],
   "metadata": {}
  },
  {
   "cell_type": "code",
   "execution_count": 30,
   "source": [
    "#combine dfs\r\n",
    "#correct index first\r\n",
    "start = phil_2020.shape[0]\r\n",
    "stop = phil_2020.shape[0] + phil_2021.shape[0]\r\n",
    "phil_2021.index = range(start, stop)\r\n",
    "phil_list = [phil_2020, phil_2021]\r\n",
    "phil = pd.concat(phil_list)\r\n"
   ],
   "outputs": [],
   "metadata": {}
  },
  {
   "cell_type": "code",
   "execution_count": null,
   "source": [
    "phil.to_csv(\"../Data_Clean/Philadelphia.csv\")\r\n"
   ],
   "outputs": [],
   "metadata": {}
  }
 ],
 "metadata": {
  "orig_nbformat": 4,
  "language_info": {
   "name": "python",
   "version": "3.8.8",
   "mimetype": "text/x-python",
   "codemirror_mode": {
    "name": "ipython",
    "version": 3
   },
   "pygments_lexer": "ipython3",
   "nbconvert_exporter": "python",
   "file_extension": ".py"
  },
  "kernelspec": {
   "name": "python3",
   "display_name": "Python 3.8.8 64-bit ('base': conda)"
  },
  "interpreter": {
   "hash": "cef9e06bb236b2a8629b07e87a04b187b952a0f661eff5533360a155783f0c33"
  }
 },
 "nbformat": 4,
 "nbformat_minor": 2
}