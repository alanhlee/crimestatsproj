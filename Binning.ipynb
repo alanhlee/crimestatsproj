{
 "cells": [
  {
   "cell_type": "code",
   "execution_count": 2,
   "source": [
    "import pandas as pd\r\n",
    "\r\n",
    "df = pd.DataFrame(data=pd.read_csv(\"CRIME_CATEGORIES_BINNED.csv\"))\r\n",
    "df2 = pd.DataFrame(data=pd.read_csv('Data_Clean/Atlanta.csv'))\r\n"
   ],
   "outputs": [],
   "metadata": {}
  },
  {
   "cell_type": "code",
   "execution_count": 8,
   "source": [
    "df['crime_category'].unique()"
   ],
   "outputs": [
    {
     "output_type": "execute_result",
     "data": {
      "text/plain": [
       "array(['ASSAULT OFFENSES',\n",
       "       'LARCENY/THEFT OFFENSES/STOLEN PROPERTY OFFENSES/MOTOR VEHICLE THEFT',\n",
       "       'BURGLARY/BREAKING & ENTERING/ROBBERY', 'HOMICIDE OFFENSES',\n",
       "       'ALL OTHER OFFENSES',\n",
       "       'DISORDERLY CONDUCT/PEEPING TOM/CURFEW/LOITERING/VAGRANCY VIOLATIONS/DRUNKENNESS/TRESPASS OF REAL PROPERTY/HARRASSMENT (NON-FBI)/NON COMPLIANCE W/ LAWS (NON-FBI)',\n",
       "       'SEX OFFENSES, FORCIBLE/SEX OFFENSES, NONFORCIBLE',\n",
       "       'KIDNAPPING/ABDUCTION/RUNAWAY',\n",
       "       'COUNTERFEITING/FORGERY/FRAUD OFFENSES/BAD CHECKS',\n",
       "       'PORNOGRAPHY/OBSCENE MATERIAL/PROSTITUTION OFFENSES',\n",
       "       'WEAPON LAW VIOLATIONS',\n",
       "       'DESTRUCTION/DAMAGE/VANDALISM OF PROPERTY/ARSON',\n",
       "       'EXTORTION/BLACKMAIL', 'ANIMAL CRIMES (NON-FBI)',\n",
       "       'DRUG/NARCOTIC OFFENSES/LIQUOR LAW VIOLATIONS/DRIVING UNDER THE INFLUENCE',\n",
       "       'BRIBERY', 'ABUSE (CHILD OR ADULT) (NON-FBI)', 'GAMBLING OFFENSES',\n",
       "       'MOTOR VEHICLE LAW/TRAFFIC VIOLATIONS (NON-FBI)',\n",
       "       'FAMILY OFFENSES, NONVIOLENT', 'ENVIRONMENTAL CRIMES (NON-FBI)',\n",
       "       'EMBEZZLEMENT'], dtype=object)"
      ]
     },
     "metadata": {},
     "execution_count": 8
    }
   ],
   "metadata": {}
  },
  {
   "cell_type": "code",
   "execution_count": 3,
   "source": [
    "df2"
   ],
   "outputs": [
    {
     "output_type": "execute_result",
     "data": {
      "text/plain": [
       "       Unnamed: 0     city        date        crime_category\n",
       "0               0  Atlanta  2020-12-31           AGG ASSAULT\n",
       "1               1  Atlanta  2020-12-31   LARCENY-NON VEHICLE\n",
       "2               2  Atlanta  2020-12-31   LARCENY-NON VEHICLE\n",
       "3               3  Atlanta  2020-12-31  LARCENY-FROM VEHICLE\n",
       "4               4  Atlanta  2020-12-31           AGG ASSAULT\n",
       "...           ...      ...         ...                   ...\n",
       "17445       17445  Atlanta  2021-07-01  LARCENY-FROM VEHICLE\n",
       "17446       17446  Atlanta  2021-07-01   LARCENY-NON VEHICLE\n",
       "17447       17447  Atlanta  2021-07-01            AUTO THEFT\n",
       "17448       17448  Atlanta  2021-07-01              BURGLARY\n",
       "17449       17449  Atlanta  2021-07-01  LARCENY-FROM VEHICLE\n",
       "\n",
       "[17450 rows x 4 columns]"
      ],
      "text/html": [
       "<div>\n",
       "<style scoped>\n",
       "    .dataframe tbody tr th:only-of-type {\n",
       "        vertical-align: middle;\n",
       "    }\n",
       "\n",
       "    .dataframe tbody tr th {\n",
       "        vertical-align: top;\n",
       "    }\n",
       "\n",
       "    .dataframe thead th {\n",
       "        text-align: right;\n",
       "    }\n",
       "</style>\n",
       "<table border=\"1\" class=\"dataframe\">\n",
       "  <thead>\n",
       "    <tr style=\"text-align: right;\">\n",
       "      <th></th>\n",
       "      <th>Unnamed: 0</th>\n",
       "      <th>city</th>\n",
       "      <th>date</th>\n",
       "      <th>crime_category</th>\n",
       "    </tr>\n",
       "  </thead>\n",
       "  <tbody>\n",
       "    <tr>\n",
       "      <th>0</th>\n",
       "      <td>0</td>\n",
       "      <td>Atlanta</td>\n",
       "      <td>2020-12-31</td>\n",
       "      <td>AGG ASSAULT</td>\n",
       "    </tr>\n",
       "    <tr>\n",
       "      <th>1</th>\n",
       "      <td>1</td>\n",
       "      <td>Atlanta</td>\n",
       "      <td>2020-12-31</td>\n",
       "      <td>LARCENY-NON VEHICLE</td>\n",
       "    </tr>\n",
       "    <tr>\n",
       "      <th>2</th>\n",
       "      <td>2</td>\n",
       "      <td>Atlanta</td>\n",
       "      <td>2020-12-31</td>\n",
       "      <td>LARCENY-NON VEHICLE</td>\n",
       "    </tr>\n",
       "    <tr>\n",
       "      <th>3</th>\n",
       "      <td>3</td>\n",
       "      <td>Atlanta</td>\n",
       "      <td>2020-12-31</td>\n",
       "      <td>LARCENY-FROM VEHICLE</td>\n",
       "    </tr>\n",
       "    <tr>\n",
       "      <th>4</th>\n",
       "      <td>4</td>\n",
       "      <td>Atlanta</td>\n",
       "      <td>2020-12-31</td>\n",
       "      <td>AGG ASSAULT</td>\n",
       "    </tr>\n",
       "    <tr>\n",
       "      <th>...</th>\n",
       "      <td>...</td>\n",
       "      <td>...</td>\n",
       "      <td>...</td>\n",
       "      <td>...</td>\n",
       "    </tr>\n",
       "    <tr>\n",
       "      <th>17445</th>\n",
       "      <td>17445</td>\n",
       "      <td>Atlanta</td>\n",
       "      <td>2021-07-01</td>\n",
       "      <td>LARCENY-FROM VEHICLE</td>\n",
       "    </tr>\n",
       "    <tr>\n",
       "      <th>17446</th>\n",
       "      <td>17446</td>\n",
       "      <td>Atlanta</td>\n",
       "      <td>2021-07-01</td>\n",
       "      <td>LARCENY-NON VEHICLE</td>\n",
       "    </tr>\n",
       "    <tr>\n",
       "      <th>17447</th>\n",
       "      <td>17447</td>\n",
       "      <td>Atlanta</td>\n",
       "      <td>2021-07-01</td>\n",
       "      <td>AUTO THEFT</td>\n",
       "    </tr>\n",
       "    <tr>\n",
       "      <th>17448</th>\n",
       "      <td>17448</td>\n",
       "      <td>Atlanta</td>\n",
       "      <td>2021-07-01</td>\n",
       "      <td>BURGLARY</td>\n",
       "    </tr>\n",
       "    <tr>\n",
       "      <th>17449</th>\n",
       "      <td>17449</td>\n",
       "      <td>Atlanta</td>\n",
       "      <td>2021-07-01</td>\n",
       "      <td>LARCENY-FROM VEHICLE</td>\n",
       "    </tr>\n",
       "  </tbody>\n",
       "</table>\n",
       "<p>17450 rows × 4 columns</p>\n",
       "</div>"
      ]
     },
     "metadata": {},
     "execution_count": 3
    }
   ],
   "metadata": {}
  }
 ],
 "metadata": {
  "orig_nbformat": 4,
  "language_info": {
   "name": "python",
   "version": "3.8.8",
   "mimetype": "text/x-python",
   "codemirror_mode": {
    "name": "ipython",
    "version": 3
   },
   "pygments_lexer": "ipython3",
   "nbconvert_exporter": "python",
   "file_extension": ".py"
  },
  "kernelspec": {
   "name": "python3",
   "display_name": "Python 3.8.8 64-bit ('base': conda)"
  },
  "interpreter": {
   "hash": "cef9e06bb236b2a8629b07e87a04b187b952a0f661eff5533360a155783f0c33"
  }
 },
 "nbformat": 4,
 "nbformat_minor": 2
}