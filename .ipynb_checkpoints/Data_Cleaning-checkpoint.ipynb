{
 "cells": [
  {
   "cell_type": "code",
   "execution_count": 1,
   "id": "68be7953",
   "metadata": {},
   "outputs": [],
   "source": [
    "import pandas as pd\n",
    "import numpy as np"
   ]
  },
  {
   "cell_type": "code",
   "execution_count": 2,
   "id": "523ed29e",
   "metadata": {},
   "outputs": [],
   "source": [
    "#to do:\n",
    "#standardize col names?\n",
    "#check for duplicates between this data and whats already in SQL"
   ]
  },
  {
   "cell_type": "code",
   "execution_count": 3,
   "id": "296addd0",
   "metadata": {},
   "outputs": [],
   "source": [
    "#following few cell all copied from SQL Server for easier access"
   ]
  },
  {
   "cell_type": "code",
   "execution_count": 4,
   "id": "59172042",
   "metadata": {},
   "outputs": [],
   "source": [
    "cities_copied = '''Atlanta\n",
    "Austin\n",
    "Baton Rouge\n",
    "Boston\n",
    "Chicago\n",
    "Cincinnati\n",
    "Dallas\n",
    "Denver\n",
    "Fort Worth\n",
    "Gainesville\n",
    "Los Angeles\n",
    "Nashville\n",
    "New York City\n",
    "Philadelphia\n",
    "San Francisco\n",
    "Seattle'''"
   ]
  },
  {
   "cell_type": "code",
   "execution_count": 5,
   "id": "6170f851",
   "metadata": {},
   "outputs": [],
   "source": [
    "urls_copied = '''https://www.atlantapd.org/i-want-to/crime-data-downloads\n",
    "https://data.austintexas.gov/Public-Safety/Crime-Reports/fdj4-gpfu\n",
    "https://data.brla.gov/Public-Safety/Baton-Rouge-Crime-Incidents/fabb-cnnu\n",
    "https://data.boston.gov/dataset/crime-incident-reports-august-2015-to-date-source-new-system/resource/12cb3883-56f5-47de-afa5-3b1cf61b257b\n",
    "https://data.cityofchicago.org/Public-Safety/Crimes-2001-to-Present/ijzp-q8t2\n",
    "https://data.cincinnati-oh.gov/Safety/PDI-Police-Data-Initiative-Crime-Incidents/k59e-2pvf\n",
    "https://www.dallasopendata.com/Public-Safety/Police-Incidents/qv6i-rri7/data\n",
    "https://www.denvergov.org/opendata/dataset/city-and-county-of-denver-crime\n",
    "https://data.fortworthtexas.gov/Public-Safety/Crime-Data/k6ic-7kp7\n",
    "https://data.cityofgainesville.org/Public-Safety/Crime-Responses/gvua-xt9q\n",
    "https://data.lacity.org/A-Safe-City/Crime-Data-from-2020-to-Present/2nrs-mtv8\n",
    "https://data.nashville.gov/Police/Metro-Nashville-Police-Department-Incidents/2u6v-ujjs\n",
    "https://data.cityofnewyork.us/Public-Safety/NYPD-Complaint-Data-Current-Year-To-Date-/5uac-w243\n",
    "https://www.opendataphilly.org/dataset/crime-incidents/resource/c57a9de2-e300-468a-9a20-3e64e5b9b2da\n",
    "https://data.sfgov.org/Public-Safety/Police-Department-Incident-Reports-2018-to-Present/wg3w-h783\n",
    "https://data.seattle.gov/Public-Safety/SPD-Crime-Data-2008-Present/tazs-3rd5'''"
   ]
  },
  {
   "cell_type": "code",
   "execution_count": 6,
   "id": "9c0eb286",
   "metadata": {},
   "outputs": [],
   "source": [
    "cities = str.split(cities_copied, '\\n')\n",
    "urls = str.split(urls_copied, '\\n')\n",
    "sources = pd.DataFrame({'City' : cities, 'URL' :urls})"
   ]
  },
  {
   "cell_type": "code",
   "execution_count": 7,
   "id": "0bfaf351",
   "metadata": {},
   "outputs": [
    {
     "name": "stdout",
     "output_type": "stream",
     "text": [
      "https://www.atlantapd.org/i-want-to/crime-data-downloads\n",
      "https://data.austintexas.gov/Public-Safety/Crime-Reports/fdj4-gpfu\n",
      "https://data.brla.gov/Public-Safety/Baton-Rouge-Crime-Incidents/fabb-cnnu\n",
      "https://data.boston.gov/dataset/crime-incident-reports-august-2015-to-date-source-new-system/resource/12cb3883-56f5-47de-afa5-3b1cf61b257b\n",
      "https://data.cityofchicago.org/Public-Safety/Crimes-2001-to-Present/ijzp-q8t2\n",
      "https://data.cincinnati-oh.gov/Safety/PDI-Police-Data-Initiative-Crime-Incidents/k59e-2pvf\n",
      "https://www.dallasopendata.com/Public-Safety/Police-Incidents/qv6i-rri7/data\n",
      "https://www.denvergov.org/opendata/dataset/city-and-county-of-denver-crime\n",
      "https://data.fortworthtexas.gov/Public-Safety/Crime-Data/k6ic-7kp7\n",
      "https://data.cityofgainesville.org/Public-Safety/Crime-Responses/gvua-xt9q\n",
      "https://data.lacity.org/A-Safe-City/Crime-Data-from-2020-to-Present/2nrs-mtv8\n",
      "https://data.nashville.gov/Police/Metro-Nashville-Police-Department-Incidents/2u6v-ujjs\n",
      "https://data.cityofnewyork.us/Public-Safety/NYPD-Complaint-Data-Current-Year-To-Date-/5uac-w243\n",
      "https://www.opendataphilly.org/dataset/crime-incidents/resource/c57a9de2-e300-468a-9a20-3e64e5b9b2da\n",
      "https://data.sfgov.org/Public-Safety/Police-Department-Incident-Reports-2018-to-Present/wg3w-h783\n",
      "https://data.seattle.gov/Public-Safety/SPD-Crime-Data-2008-Present/tazs-3rd5\n"
     ]
    }
   ],
   "source": [
    "#Data found here:\n",
    "for i in sources['URL']:\n",
    "    print(i)"
   ]
  },
  {
   "cell_type": "code",
   "execution_count": null,
   "id": "51aeae8c",
   "metadata": {},
   "outputs": [],
   "source": []
  },
  {
   "cell_type": "code",
   "execution_count": 8,
   "id": "3d8d4f04",
   "metadata": {},
   "outputs": [],
   "source": [
    "#Note: all cleaned data is included so the following code does not need to be run again to create the files\n",
    "#Austin, Chicago, and NYC are particularly slow"
   ]
  },
  {
   "cell_type": "markdown",
   "id": "24ebd1b5",
   "metadata": {},
   "source": [
    "# Atlanta, GA"
   ]
  },
  {
   "cell_type": "code",
   "execution_count": 9,
   "id": "06c3a634",
   "metadata": {},
   "outputs": [],
   "source": [
    "#Reported between 09/30/2020 - 07/01/2021"
   ]
  },
  {
   "cell_type": "code",
   "execution_count": 10,
   "id": "e9acbb1d",
   "metadata": {},
   "outputs": [],
   "source": [
    "atlanta_2021 = pd.read_csv(\"Atlanta_Data/COBRA-2021.csv\", dtype = {0: 'string'}, parse_dates = {'occurred': [2, 3]})\n",
    "#retrieved 7/7/21"
   ]
  },
  {
   "cell_type": "code",
   "execution_count": 11,
   "id": "9eae3660",
   "metadata": {},
   "outputs": [
    {
     "data": {
      "text/plain": [
       "(10207, 13)"
      ]
     },
     "execution_count": 11,
     "metadata": {},
     "output_type": "execute_result"
    }
   ],
   "source": [
    "atlanta_2021.shape"
   ]
  },
  {
   "cell_type": "code",
   "execution_count": 12,
   "id": "c9115fb1",
   "metadata": {},
   "outputs": [
    {
     "data": {
      "text/plain": [
       "occurred         object\n",
       "offense_id       string\n",
       "rpt_date         object\n",
       "poss_date        object\n",
       "poss_time        object\n",
       "beat             object\n",
       "location         object\n",
       "ibr_code         object\n",
       "UC2_Literal      object\n",
       "neighborhood     object\n",
       "npu              object\n",
       "lat             float64\n",
       "long            float64\n",
       "dtype: object"
      ]
     },
     "execution_count": 12,
     "metadata": {},
     "output_type": "execute_result"
    }
   ],
   "source": [
    "atlanta_2021.dtypes"
   ]
  },
  {
   "cell_type": "code",
   "execution_count": 13,
   "id": "6b5e412e",
   "metadata": {},
   "outputs": [
    {
     "data": {
      "text/html": [
       "<div>\n",
       "<style scoped>\n",
       "    .dataframe tbody tr th:only-of-type {\n",
       "        vertical-align: middle;\n",
       "    }\n",
       "\n",
       "    .dataframe tbody tr th {\n",
       "        vertical-align: top;\n",
       "    }\n",
       "\n",
       "    .dataframe thead th {\n",
       "        text-align: right;\n",
       "    }\n",
       "</style>\n",
       "<table border=\"1\" class=\"dataframe\">\n",
       "  <thead>\n",
       "    <tr style=\"text-align: right;\">\n",
       "      <th></th>\n",
       "      <th>occurred</th>\n",
       "      <th>offense_id</th>\n",
       "      <th>rpt_date</th>\n",
       "      <th>poss_date</th>\n",
       "      <th>poss_time</th>\n",
       "      <th>beat</th>\n",
       "      <th>location</th>\n",
       "      <th>ibr_code</th>\n",
       "      <th>UC2_Literal</th>\n",
       "      <th>neighborhood</th>\n",
       "      <th>npu</th>\n",
       "      <th>lat</th>\n",
       "      <th>long</th>\n",
       "    </tr>\n",
       "  </thead>\n",
       "  <tbody>\n",
       "    <tr>\n",
       "      <th>0</th>\n",
       "      <td>5/19/2021 15:20</td>\n",
       "      <td>021140096</td>\n",
       "      <td>5/20/2021</td>\n",
       "      <td>5/19/2021</td>\n",
       "      <td>15:25</td>\n",
       "      <td>103</td>\n",
       "      <td>1720 MARIETTA BLVD NW</td>\n",
       "      <td>23F</td>\n",
       "      <td>LARCENY-FROM VEHICLE</td>\n",
       "      <td>Hills Park</td>\n",
       "      <td>D</td>\n",
       "      <td>33.801687</td>\n",
       "      <td>-84.436444</td>\n",
       "    </tr>\n",
       "    <tr>\n",
       "      <th>1</th>\n",
       "      <td>1/31/2021 00:00</td>\n",
       "      <td>021320347</td>\n",
       "      <td>2/1/2021</td>\n",
       "      <td>2/1/2021</td>\n",
       "      <td>06:53</td>\n",
       "      <td>509</td>\n",
       "      <td>229 COURTLAND ST NE</td>\n",
       "      <td>23F</td>\n",
       "      <td>LARCENY-FROM VEHICLE</td>\n",
       "      <td>Downtown</td>\n",
       "      <td>M</td>\n",
       "      <td>33.760759</td>\n",
       "      <td>-84.383773</td>\n",
       "    </tr>\n",
       "    <tr>\n",
       "      <th>2</th>\n",
       "      <td>6/27/2021 21:17</td>\n",
       "      <td>021791668</td>\n",
       "      <td>6/28/2021</td>\n",
       "      <td>6/28/2021</td>\n",
       "      <td>20:00</td>\n",
       "      <td>102</td>\n",
       "      <td>870 MAYSON TURNER RD NW</td>\n",
       "      <td>23H</td>\n",
       "      <td>LARCENY-NON VEHICLE</td>\n",
       "      <td>Vine City</td>\n",
       "      <td>L</td>\n",
       "      <td>33.755610</td>\n",
       "      <td>-84.416100</td>\n",
       "    </tr>\n",
       "    <tr>\n",
       "      <th>3</th>\n",
       "      <td>2/11/2021 19:15</td>\n",
       "      <td>061583880</td>\n",
       "      <td>2/11/2021</td>\n",
       "      <td>2/11/2021</td>\n",
       "      <td>20:29</td>\n",
       "      <td>401</td>\n",
       "      <td>850 OAK ST SW</td>\n",
       "      <td>23F</td>\n",
       "      <td>LARCENY-FROM VEHICLE</td>\n",
       "      <td>West End</td>\n",
       "      <td>T</td>\n",
       "      <td>33.740594</td>\n",
       "      <td>-84.415800</td>\n",
       "    </tr>\n",
       "    <tr>\n",
       "      <th>4</th>\n",
       "      <td>6/13/2021 13:00</td>\n",
       "      <td>200017887</td>\n",
       "      <td>6/15/2021</td>\n",
       "      <td>6/13/2020</td>\n",
       "      <td>13:30</td>\n",
       "      <td>603</td>\n",
       "      <td>595 PIEDMONT AVE NE</td>\n",
       "      <td>23C</td>\n",
       "      <td>LARCENY-NON VEHICLE</td>\n",
       "      <td>Old Fourth Ward</td>\n",
       "      <td>M</td>\n",
       "      <td>33.770544</td>\n",
       "      <td>-84.381146</td>\n",
       "    </tr>\n",
       "  </tbody>\n",
       "</table>\n",
       "</div>"
      ],
      "text/plain": [
       "          occurred offense_id   rpt_date  poss_date poss_time beat  \\\n",
       "0  5/19/2021 15:20  021140096  5/20/2021  5/19/2021     15:25  103   \n",
       "1  1/31/2021 00:00  021320347   2/1/2021   2/1/2021     06:53  509   \n",
       "2  6/27/2021 21:17  021791668  6/28/2021  6/28/2021     20:00  102   \n",
       "3  2/11/2021 19:15  061583880  2/11/2021  2/11/2021     20:29  401   \n",
       "4  6/13/2021 13:00  200017887  6/15/2021  6/13/2020     13:30  603   \n",
       "\n",
       "                  location ibr_code           UC2_Literal     neighborhood  \\\n",
       "0    1720 MARIETTA BLVD NW      23F  LARCENY-FROM VEHICLE       Hills Park   \n",
       "1      229 COURTLAND ST NE      23F  LARCENY-FROM VEHICLE         Downtown   \n",
       "2  870 MAYSON TURNER RD NW      23H   LARCENY-NON VEHICLE        Vine City   \n",
       "3            850 OAK ST SW      23F  LARCENY-FROM VEHICLE         West End   \n",
       "4      595 PIEDMONT AVE NE      23C   LARCENY-NON VEHICLE  Old Fourth Ward   \n",
       "\n",
       "  npu        lat       long  \n",
       "0   D  33.801687 -84.436444  \n",
       "1   M  33.760759 -84.383773  \n",
       "2   L  33.755610 -84.416100  \n",
       "3   T  33.740594 -84.415800  \n",
       "4   M  33.770544 -84.381146  "
      ]
     },
     "execution_count": 13,
     "metadata": {},
     "output_type": "execute_result"
    }
   ],
   "source": [
    "atlanta_2021.head()"
   ]
  },
  {
   "cell_type": "code",
   "execution_count": 14,
   "id": "cb94fc69",
   "metadata": {},
   "outputs": [],
   "source": [
    "#drop anything without occurred date and made it of type datetime\n",
    "atlanta_2021 = atlanta_2021[~atlanta_2021['occurred'].str.contains('nan')]\n",
    "atlanta_2021['occurred'] = pd.to_datetime(atlanta_2021['occurred'])"
   ]
  },
  {
   "cell_type": "code",
   "execution_count": 15,
   "id": "e6689cee",
   "metadata": {},
   "outputs": [
    {
     "data": {
      "text/plain": [
       "occurred        10204\n",
       "offense_id      10204\n",
       "rpt_date        10204\n",
       "poss_date        9994\n",
       "poss_time        9994\n",
       "beat            10204\n",
       "location        10204\n",
       "ibr_code        10204\n",
       "UC2_Literal     10204\n",
       "neighborhood     9784\n",
       "npu             10143\n",
       "lat             10204\n",
       "long            10204\n",
       "dtype: int64"
      ]
     },
     "execution_count": 15,
     "metadata": {},
     "output_type": "execute_result"
    }
   ],
   "source": [
    "atlanta_2021.count()"
   ]
  },
  {
   "cell_type": "code",
   "execution_count": 16,
   "id": "478e13f0",
   "metadata": {},
   "outputs": [
    {
     "data": {
      "text/plain": [
       "Timestamp('1922-02-17 10:32:00')"
      ]
     },
     "execution_count": 16,
     "metadata": {},
     "output_type": "execute_result"
    }
   ],
   "source": [
    "min(atlanta_2021.occurred)"
   ]
  },
  {
   "cell_type": "code",
   "execution_count": 17,
   "id": "525fe6bd",
   "metadata": {},
   "outputs": [
    {
     "data": {
      "text/plain": [
       "Timestamp('2021-07-01 05:59:00')"
      ]
     },
     "execution_count": 17,
     "metadata": {},
     "output_type": "execute_result"
    }
   ],
   "source": [
    "max(atlanta_2021.occurred)"
   ]
  },
  {
   "cell_type": "code",
   "execution_count": null,
   "id": "eec3cf8b",
   "metadata": {},
   "outputs": [],
   "source": []
  },
  {
   "cell_type": "code",
   "execution_count": 18,
   "id": "917f1d3f",
   "metadata": {},
   "outputs": [],
   "source": [
    "atlanta_2020 = pd.read_csv(\"Atlanta_Data/COBRA-2020(NEW RMS 9-30 12-31).csv\", dtype = {0 : \"string\"}, parse_dates= {\"occurred\": [2, 3]})\n",
    "#retrieved 7/9/21"
   ]
  },
  {
   "cell_type": "code",
   "execution_count": 19,
   "id": "afbfb8b0",
   "metadata": {},
   "outputs": [
    {
     "data": {
      "text/html": [
       "<div>\n",
       "<style scoped>\n",
       "    .dataframe tbody tr th:only-of-type {\n",
       "        vertical-align: middle;\n",
       "    }\n",
       "\n",
       "    .dataframe tbody tr th {\n",
       "        vertical-align: top;\n",
       "    }\n",
       "\n",
       "    .dataframe thead th {\n",
       "        text-align: right;\n",
       "    }\n",
       "</style>\n",
       "<table border=\"1\" class=\"dataframe\">\n",
       "  <thead>\n",
       "    <tr style=\"text-align: right;\">\n",
       "      <th></th>\n",
       "      <th>occurred</th>\n",
       "      <th>offense_id</th>\n",
       "      <th>rpt_date</th>\n",
       "      <th>poss_date</th>\n",
       "      <th>poss_time</th>\n",
       "      <th>beat</th>\n",
       "      <th>apt_office_prefix</th>\n",
       "      <th>apt_office_num</th>\n",
       "      <th>location</th>\n",
       "      <th>MinOfucr</th>\n",
       "      <th>dispo_code</th>\n",
       "      <th>Shift</th>\n",
       "      <th>loc_type</th>\n",
       "      <th>UC2_Literal</th>\n",
       "      <th>ibr_code</th>\n",
       "      <th>neighborhood</th>\n",
       "      <th>npu</th>\n",
       "      <th>long</th>\n",
       "      <th>lat</th>\n",
       "    </tr>\n",
       "  </thead>\n",
       "  <tbody>\n",
       "    <tr>\n",
       "      <th>0</th>\n",
       "      <td>11/29/2020 19:21</td>\n",
       "      <td>203341346</td>\n",
       "      <td>12/31/2020</td>\n",
       "      <td>11/29/2020</td>\n",
       "      <td>23:50</td>\n",
       "      <td>405</td>\n",
       "      <td>NaN</td>\n",
       "      <td>NaN</td>\n",
       "      <td>3050 M.L.K. JR DR SW</td>\n",
       "      <td>NaN</td>\n",
       "      <td>NaN</td>\n",
       "      <td>NaN</td>\n",
       "      <td>NaN</td>\n",
       "      <td>AGG ASSAULT</td>\n",
       "      <td>13A</td>\n",
       "      <td>Harland Terrace</td>\n",
       "      <td>I</td>\n",
       "      <td>-84.486163</td>\n",
       "      <td>33.751060</td>\n",
       "    </tr>\n",
       "    <tr>\n",
       "      <th>1</th>\n",
       "      <td>12/28/2020 17:21</td>\n",
       "      <td>203631200</td>\n",
       "      <td>12/31/2020</td>\n",
       "      <td>12/28/2020</td>\n",
       "      <td>17:45</td>\n",
       "      <td>302</td>\n",
       "      <td>NaN</td>\n",
       "      <td>NaN</td>\n",
       "      <td>1186 IRA ST SW</td>\n",
       "      <td>NaN</td>\n",
       "      <td>NaN</td>\n",
       "      <td>NaN</td>\n",
       "      <td>NaN</td>\n",
       "      <td>LARCENY-NON VEHICLE</td>\n",
       "      <td>23H</td>\n",
       "      <td>Pittsburgh</td>\n",
       "      <td>V</td>\n",
       "      <td>-84.399763</td>\n",
       "      <td>33.722696</td>\n",
       "    </tr>\n",
       "    <tr>\n",
       "      <th>2</th>\n",
       "      <td>12/24/2020 14:00</td>\n",
       "      <td>203631285</td>\n",
       "      <td>12/31/2020</td>\n",
       "      <td>12/24/2020</td>\n",
       "      <td>18:26</td>\n",
       "      <td>603</td>\n",
       "      <td>NaN</td>\n",
       "      <td>NaN</td>\n",
       "      <td>501 BOULEVARD PL NE</td>\n",
       "      <td>NaN</td>\n",
       "      <td>NaN</td>\n",
       "      <td>NaN</td>\n",
       "      <td>NaN</td>\n",
       "      <td>LARCENY-NON VEHICLE</td>\n",
       "      <td>23H</td>\n",
       "      <td>Old Fourth Ward</td>\n",
       "      <td>M</td>\n",
       "      <td>-84.370736</td>\n",
       "      <td>33.769680</td>\n",
       "    </tr>\n",
       "    <tr>\n",
       "      <th>3</th>\n",
       "      <td>12/30/2020 20:15</td>\n",
       "      <td>203651634</td>\n",
       "      <td>12/31/2020</td>\n",
       "      <td>12/30/2020</td>\n",
       "      <td>22:25</td>\n",
       "      <td>211</td>\n",
       "      <td>NaN</td>\n",
       "      <td>NaN</td>\n",
       "      <td>3101 PIEDMONT RD NE</td>\n",
       "      <td>NaN</td>\n",
       "      <td>NaN</td>\n",
       "      <td>NaN</td>\n",
       "      <td>NaN</td>\n",
       "      <td>LARCENY-FROM VEHICLE</td>\n",
       "      <td>23F</td>\n",
       "      <td>Peachtree Park</td>\n",
       "      <td>B</td>\n",
       "      <td>-84.369361</td>\n",
       "      <td>33.840653</td>\n",
       "    </tr>\n",
       "    <tr>\n",
       "      <th>4</th>\n",
       "      <td>12/31/2020 1:15</td>\n",
       "      <td>203660108</td>\n",
       "      <td>12/31/2020</td>\n",
       "      <td>12/31/2020</td>\n",
       "      <td>1:15</td>\n",
       "      <td>306</td>\n",
       "      <td>NaN</td>\n",
       "      <td>NaN</td>\n",
       "      <td>1974 SYLVAN RD SW</td>\n",
       "      <td>NaN</td>\n",
       "      <td>NaN</td>\n",
       "      <td>NaN</td>\n",
       "      <td>NaN</td>\n",
       "      <td>AGG ASSAULT</td>\n",
       "      <td>13A</td>\n",
       "      <td>Sylvan Hills</td>\n",
       "      <td>X</td>\n",
       "      <td>-84.418128</td>\n",
       "      <td>33.700432</td>\n",
       "    </tr>\n",
       "  </tbody>\n",
       "</table>\n",
       "</div>"
      ],
      "text/plain": [
       "           occurred offense_id    rpt_date   poss_date poss_time beat  \\\n",
       "0  11/29/2020 19:21  203341346  12/31/2020  11/29/2020     23:50  405   \n",
       "1  12/28/2020 17:21  203631200  12/31/2020  12/28/2020     17:45  302   \n",
       "2  12/24/2020 14:00  203631285  12/31/2020  12/24/2020     18:26  603   \n",
       "3  12/30/2020 20:15  203651634  12/31/2020  12/30/2020     22:25  211   \n",
       "4   12/31/2020 1:15  203660108  12/31/2020  12/31/2020      1:15  306   \n",
       "\n",
       "   apt_office_prefix  apt_office_num              location  MinOfucr  \\\n",
       "0                NaN             NaN  3050 M.L.K. JR DR SW       NaN   \n",
       "1                NaN             NaN        1186 IRA ST SW       NaN   \n",
       "2                NaN             NaN   501 BOULEVARD PL NE       NaN   \n",
       "3                NaN             NaN   3101 PIEDMONT RD NE       NaN   \n",
       "4                NaN             NaN     1974 SYLVAN RD SW       NaN   \n",
       "\n",
       "   dispo_code  Shift  loc_type           UC2_Literal ibr_code  \\\n",
       "0         NaN    NaN       NaN           AGG ASSAULT      13A   \n",
       "1         NaN    NaN       NaN   LARCENY-NON VEHICLE      23H   \n",
       "2         NaN    NaN       NaN   LARCENY-NON VEHICLE      23H   \n",
       "3         NaN    NaN       NaN  LARCENY-FROM VEHICLE      23F   \n",
       "4         NaN    NaN       NaN           AGG ASSAULT      13A   \n",
       "\n",
       "      neighborhood npu       long        lat  \n",
       "0  Harland Terrace   I -84.486163  33.751060  \n",
       "1       Pittsburgh   V -84.399763  33.722696  \n",
       "2  Old Fourth Ward   M -84.370736  33.769680  \n",
       "3   Peachtree Park   B -84.369361  33.840653  \n",
       "4     Sylvan Hills   X -84.418128  33.700432  "
      ]
     },
     "execution_count": 19,
     "metadata": {},
     "output_type": "execute_result"
    }
   ],
   "source": [
    "atlanta_2020.head()"
   ]
  },
  {
   "cell_type": "code",
   "execution_count": 20,
   "id": "a562c0c0",
   "metadata": {},
   "outputs": [
    {
     "data": {
      "text/plain": [
       "(7249, 19)"
      ]
     },
     "execution_count": 20,
     "metadata": {},
     "output_type": "execute_result"
    }
   ],
   "source": [
    "atlanta_2020.shape"
   ]
  },
  {
   "cell_type": "code",
   "execution_count": 21,
   "id": "ce26ffba",
   "metadata": {},
   "outputs": [
    {
     "data": {
      "text/plain": [
       "occurred              object\n",
       "offense_id            string\n",
       "rpt_date              object\n",
       "poss_date             object\n",
       "poss_time             object\n",
       "beat                  object\n",
       "apt_office_prefix    float64\n",
       "apt_office_num       float64\n",
       "location              object\n",
       "MinOfucr             float64\n",
       "dispo_code           float64\n",
       "Shift                float64\n",
       "loc_type             float64\n",
       "UC2_Literal           object\n",
       "ibr_code              object\n",
       "neighborhood          object\n",
       "npu                   object\n",
       "long                 float64\n",
       "lat                  float64\n",
       "dtype: object"
      ]
     },
     "execution_count": 21,
     "metadata": {},
     "output_type": "execute_result"
    }
   ],
   "source": [
    "atlanta_2020.dtypes"
   ]
  },
  {
   "cell_type": "code",
   "execution_count": 22,
   "id": "0dcf1ec1",
   "metadata": {},
   "outputs": [
    {
     "data": {
      "text/plain": [
       "occurred             7249\n",
       "offense_id           7249\n",
       "rpt_date             7249\n",
       "poss_date            7094\n",
       "poss_time            7094\n",
       "beat                 7249\n",
       "apt_office_prefix       0\n",
       "apt_office_num          0\n",
       "location             7249\n",
       "MinOfucr                0\n",
       "dispo_code              0\n",
       "Shift                   0\n",
       "loc_type                0\n",
       "UC2_Literal          7249\n",
       "ibr_code             7249\n",
       "neighborhood         6972\n",
       "npu                  7222\n",
       "long                 7249\n",
       "lat                  7249\n",
       "dtype: int64"
      ]
     },
     "execution_count": 22,
     "metadata": {},
     "output_type": "execute_result"
    }
   ],
   "source": [
    "atlanta_2020.count()"
   ]
  },
  {
   "cell_type": "code",
   "execution_count": 23,
   "id": "2953feee",
   "metadata": {},
   "outputs": [],
   "source": [
    "#drop empty columns\n",
    "atlanta_2020.dropna(how= \"all\", axis = 1, inplace = True)"
   ]
  },
  {
   "cell_type": "code",
   "execution_count": 24,
   "id": "059ec3c7",
   "metadata": {},
   "outputs": [],
   "source": [
    "#drop crimes with no date and reset the index\n",
    "atlanta_2020 = atlanta_2020[~atlanta_2020['occurred'].str.contains('nan')]\n",
    "atlanta_2020.reset_index(drop = True, inplace= True)"
   ]
  },
  {
   "cell_type": "code",
   "execution_count": 25,
   "id": "e6ae73fa",
   "metadata": {},
   "outputs": [
    {
     "data": {
      "text/plain": [
       "occurred        7243\n",
       "offense_id      7243\n",
       "rpt_date        7243\n",
       "poss_date       7093\n",
       "poss_time       7093\n",
       "beat            7243\n",
       "location        7243\n",
       "UC2_Literal     7243\n",
       "ibr_code        7243\n",
       "neighborhood    6966\n",
       "npu             7216\n",
       "long            7243\n",
       "lat             7243\n",
       "dtype: int64"
      ]
     },
     "execution_count": 25,
     "metadata": {},
     "output_type": "execute_result"
    }
   ],
   "source": [
    "atlanta_2020.count()"
   ]
  },
  {
   "cell_type": "code",
   "execution_count": 26,
   "id": "904d1462",
   "metadata": {
    "scrolled": true
   },
   "outputs": [
    {
     "ename": "OutOfBoundsDatetime",
     "evalue": "Out of bounds nanosecond timestamp: 1010-10-30 17:56:00",
     "output_type": "error",
     "traceback": [
      "\u001b[1;31m---------------------------------------------------------------------------\u001b[0m",
      "\u001b[1;31mTypeError\u001b[0m                                 Traceback (most recent call last)",
      "\u001b[1;32m~\\anaconda3\\lib\\site-packages\\pandas\\core\\arrays\\datetimes.py\u001b[0m in \u001b[0;36mobjects_to_datetime64ns\u001b[1;34m(data, dayfirst, yearfirst, utc, errors, require_iso8601, allow_object)\u001b[0m\n\u001b[0;32m   2084\u001b[0m         \u001b[1;32mtry\u001b[0m\u001b[1;33m:\u001b[0m\u001b[1;33m\u001b[0m\u001b[1;33m\u001b[0m\u001b[0m\n\u001b[1;32m-> 2085\u001b[1;33m             \u001b[0mvalues\u001b[0m\u001b[1;33m,\u001b[0m \u001b[0mtz_parsed\u001b[0m \u001b[1;33m=\u001b[0m \u001b[0mconversion\u001b[0m\u001b[1;33m.\u001b[0m\u001b[0mdatetime_to_datetime64\u001b[0m\u001b[1;33m(\u001b[0m\u001b[0mdata\u001b[0m\u001b[1;33m)\u001b[0m\u001b[1;33m\u001b[0m\u001b[1;33m\u001b[0m\u001b[0m\n\u001b[0m\u001b[0;32m   2086\u001b[0m             \u001b[1;31m# If tzaware, these values represent unix timestamps, so we\u001b[0m\u001b[1;33m\u001b[0m\u001b[1;33m\u001b[0m\u001b[1;33m\u001b[0m\u001b[0m\n",
      "\u001b[1;32mpandas\\_libs\\tslibs\\conversion.pyx\u001b[0m in \u001b[0;36mpandas._libs.tslibs.conversion.datetime_to_datetime64\u001b[1;34m()\u001b[0m\n",
      "\u001b[1;31mTypeError\u001b[0m: Unrecognized value type: <class 'str'>",
      "\nDuring handling of the above exception, another exception occurred:\n",
      "\u001b[1;31mOutOfBoundsDatetime\u001b[0m                       Traceback (most recent call last)",
      "\u001b[1;32m<ipython-input-26-73bae7b8c2ff>\u001b[0m in \u001b[0;36m<module>\u001b[1;34m\u001b[0m\n\u001b[1;32m----> 1\u001b[1;33m \u001b[0matlanta_2020\u001b[0m\u001b[1;33m[\u001b[0m\u001b[1;34m'occurred'\u001b[0m\u001b[1;33m]\u001b[0m \u001b[1;33m=\u001b[0m \u001b[0mpd\u001b[0m\u001b[1;33m.\u001b[0m\u001b[0mto_datetime\u001b[0m\u001b[1;33m(\u001b[0m\u001b[0matlanta_2020\u001b[0m\u001b[1;33m[\u001b[0m\u001b[1;34m'occurred'\u001b[0m\u001b[1;33m]\u001b[0m\u001b[1;33m)\u001b[0m\u001b[1;33m\u001b[0m\u001b[1;33m\u001b[0m\u001b[0m\n\u001b[0m\u001b[0;32m      2\u001b[0m \u001b[1;31m#throws error so will find and fix dates that don't fit format\u001b[0m\u001b[1;33m\u001b[0m\u001b[1;33m\u001b[0m\u001b[1;33m\u001b[0m\u001b[0m\n",
      "\u001b[1;32m~\\anaconda3\\lib\\site-packages\\pandas\\core\\tools\\datetimes.py\u001b[0m in \u001b[0;36mto_datetime\u001b[1;34m(arg, errors, dayfirst, yearfirst, utc, format, exact, unit, infer_datetime_format, origin, cache)\u001b[0m\n\u001b[0;32m    803\u001b[0m             \u001b[0mresult\u001b[0m \u001b[1;33m=\u001b[0m \u001b[0marg\u001b[0m\u001b[1;33m.\u001b[0m\u001b[0mmap\u001b[0m\u001b[1;33m(\u001b[0m\u001b[0mcache_array\u001b[0m\u001b[1;33m)\u001b[0m\u001b[1;33m\u001b[0m\u001b[1;33m\u001b[0m\u001b[0m\n\u001b[0;32m    804\u001b[0m         \u001b[1;32melse\u001b[0m\u001b[1;33m:\u001b[0m\u001b[1;33m\u001b[0m\u001b[1;33m\u001b[0m\u001b[0m\n\u001b[1;32m--> 805\u001b[1;33m             \u001b[0mvalues\u001b[0m \u001b[1;33m=\u001b[0m \u001b[0mconvert_listlike\u001b[0m\u001b[1;33m(\u001b[0m\u001b[0marg\u001b[0m\u001b[1;33m.\u001b[0m\u001b[0m_values\u001b[0m\u001b[1;33m,\u001b[0m \u001b[0mformat\u001b[0m\u001b[1;33m)\u001b[0m\u001b[1;33m\u001b[0m\u001b[1;33m\u001b[0m\u001b[0m\n\u001b[0m\u001b[0;32m    806\u001b[0m             \u001b[0mresult\u001b[0m \u001b[1;33m=\u001b[0m \u001b[0marg\u001b[0m\u001b[1;33m.\u001b[0m\u001b[0m_constructor\u001b[0m\u001b[1;33m(\u001b[0m\u001b[0mvalues\u001b[0m\u001b[1;33m,\u001b[0m \u001b[0mindex\u001b[0m\u001b[1;33m=\u001b[0m\u001b[0marg\u001b[0m\u001b[1;33m.\u001b[0m\u001b[0mindex\u001b[0m\u001b[1;33m,\u001b[0m \u001b[0mname\u001b[0m\u001b[1;33m=\u001b[0m\u001b[0marg\u001b[0m\u001b[1;33m.\u001b[0m\u001b[0mname\u001b[0m\u001b[1;33m)\u001b[0m\u001b[1;33m\u001b[0m\u001b[1;33m\u001b[0m\u001b[0m\n\u001b[0;32m    807\u001b[0m     \u001b[1;32melif\u001b[0m \u001b[0misinstance\u001b[0m\u001b[1;33m(\u001b[0m\u001b[0marg\u001b[0m\u001b[1;33m,\u001b[0m \u001b[1;33m(\u001b[0m\u001b[0mABCDataFrame\u001b[0m\u001b[1;33m,\u001b[0m \u001b[0mabc\u001b[0m\u001b[1;33m.\u001b[0m\u001b[0mMutableMapping\u001b[0m\u001b[1;33m)\u001b[0m\u001b[1;33m)\u001b[0m\u001b[1;33m:\u001b[0m\u001b[1;33m\u001b[0m\u001b[1;33m\u001b[0m\u001b[0m\n",
      "\u001b[1;32m~\\anaconda3\\lib\\site-packages\\pandas\\core\\tools\\datetimes.py\u001b[0m in \u001b[0;36m_convert_listlike_datetimes\u001b[1;34m(arg, format, name, tz, unit, errors, infer_datetime_format, dayfirst, yearfirst, exact)\u001b[0m\n\u001b[0;32m    463\u001b[0m         \u001b[1;32massert\u001b[0m \u001b[0mformat\u001b[0m \u001b[1;32mis\u001b[0m \u001b[1;32mNone\u001b[0m \u001b[1;32mor\u001b[0m \u001b[0minfer_datetime_format\u001b[0m\u001b[1;33m\u001b[0m\u001b[1;33m\u001b[0m\u001b[0m\n\u001b[0;32m    464\u001b[0m         \u001b[0mutc\u001b[0m \u001b[1;33m=\u001b[0m \u001b[0mtz\u001b[0m \u001b[1;33m==\u001b[0m \u001b[1;34m\"utc\"\u001b[0m\u001b[1;33m\u001b[0m\u001b[1;33m\u001b[0m\u001b[0m\n\u001b[1;32m--> 465\u001b[1;33m         result, tz_parsed = objects_to_datetime64ns(\n\u001b[0m\u001b[0;32m    466\u001b[0m             \u001b[0marg\u001b[0m\u001b[1;33m,\u001b[0m\u001b[1;33m\u001b[0m\u001b[1;33m\u001b[0m\u001b[0m\n\u001b[0;32m    467\u001b[0m             \u001b[0mdayfirst\u001b[0m\u001b[1;33m=\u001b[0m\u001b[0mdayfirst\u001b[0m\u001b[1;33m,\u001b[0m\u001b[1;33m\u001b[0m\u001b[1;33m\u001b[0m\u001b[0m\n",
      "\u001b[1;32m~\\anaconda3\\lib\\site-packages\\pandas\\core\\arrays\\datetimes.py\u001b[0m in \u001b[0;36mobjects_to_datetime64ns\u001b[1;34m(data, dayfirst, yearfirst, utc, errors, require_iso8601, allow_object)\u001b[0m\n\u001b[0;32m   2088\u001b[0m             \u001b[1;32mreturn\u001b[0m \u001b[0mvalues\u001b[0m\u001b[1;33m.\u001b[0m\u001b[0mview\u001b[0m\u001b[1;33m(\u001b[0m\u001b[1;34m\"i8\"\u001b[0m\u001b[1;33m)\u001b[0m\u001b[1;33m,\u001b[0m \u001b[0mtz_parsed\u001b[0m\u001b[1;33m\u001b[0m\u001b[1;33m\u001b[0m\u001b[0m\n\u001b[0;32m   2089\u001b[0m         \u001b[1;32mexcept\u001b[0m \u001b[1;33m(\u001b[0m\u001b[0mValueError\u001b[0m\u001b[1;33m,\u001b[0m \u001b[0mTypeError\u001b[0m\u001b[1;33m)\u001b[0m\u001b[1;33m:\u001b[0m\u001b[1;33m\u001b[0m\u001b[1;33m\u001b[0m\u001b[0m\n\u001b[1;32m-> 2090\u001b[1;33m             \u001b[1;32mraise\u001b[0m \u001b[0me\u001b[0m\u001b[1;33m\u001b[0m\u001b[1;33m\u001b[0m\u001b[0m\n\u001b[0m\u001b[0;32m   2091\u001b[0m \u001b[1;33m\u001b[0m\u001b[0m\n\u001b[0;32m   2092\u001b[0m     \u001b[1;32mif\u001b[0m \u001b[0mtz_parsed\u001b[0m \u001b[1;32mis\u001b[0m \u001b[1;32mnot\u001b[0m \u001b[1;32mNone\u001b[0m\u001b[1;33m:\u001b[0m\u001b[1;33m\u001b[0m\u001b[1;33m\u001b[0m\u001b[0m\n",
      "\u001b[1;32m~\\anaconda3\\lib\\site-packages\\pandas\\core\\arrays\\datetimes.py\u001b[0m in \u001b[0;36mobjects_to_datetime64ns\u001b[1;34m(data, dayfirst, yearfirst, utc, errors, require_iso8601, allow_object)\u001b[0m\n\u001b[0;32m   2073\u001b[0m \u001b[1;33m\u001b[0m\u001b[0m\n\u001b[0;32m   2074\u001b[0m     \u001b[1;32mtry\u001b[0m\u001b[1;33m:\u001b[0m\u001b[1;33m\u001b[0m\u001b[1;33m\u001b[0m\u001b[0m\n\u001b[1;32m-> 2075\u001b[1;33m         result, tz_parsed = tslib.array_to_datetime(\n\u001b[0m\u001b[0;32m   2076\u001b[0m             \u001b[0mdata\u001b[0m\u001b[1;33m,\u001b[0m\u001b[1;33m\u001b[0m\u001b[1;33m\u001b[0m\u001b[0m\n\u001b[0;32m   2077\u001b[0m             \u001b[0merrors\u001b[0m\u001b[1;33m=\u001b[0m\u001b[0merrors\u001b[0m\u001b[1;33m,\u001b[0m\u001b[1;33m\u001b[0m\u001b[1;33m\u001b[0m\u001b[0m\n",
      "\u001b[1;32mpandas\\_libs\\tslib.pyx\u001b[0m in \u001b[0;36mpandas._libs.tslib.array_to_datetime\u001b[1;34m()\u001b[0m\n",
      "\u001b[1;32mpandas\\_libs\\tslib.pyx\u001b[0m in \u001b[0;36mpandas._libs.tslib.array_to_datetime\u001b[1;34m()\u001b[0m\n",
      "\u001b[1;32mpandas\\_libs\\tslib.pyx\u001b[0m in \u001b[0;36mpandas._libs.tslib.array_to_datetime\u001b[1;34m()\u001b[0m\n",
      "\u001b[1;32mpandas\\_libs\\tslib.pyx\u001b[0m in \u001b[0;36mpandas._libs.tslib.array_to_datetime\u001b[1;34m()\u001b[0m\n",
      "\u001b[1;32mpandas\\_libs\\tslibs\\np_datetime.pyx\u001b[0m in \u001b[0;36mpandas._libs.tslibs.np_datetime.check_dts_bounds\u001b[1;34m()\u001b[0m\n",
      "\u001b[1;31mOutOfBoundsDatetime\u001b[0m: Out of bounds nanosecond timestamp: 1010-10-30 17:56:00"
     ]
    }
   ],
   "source": [
    "atlanta_2020['occurred'] = pd.to_datetime(atlanta_2020['occurred'])\n",
    "#throws error so will find and fix dates that don't fit format"
   ]
  },
  {
   "cell_type": "code",
   "execution_count": null,
   "id": "c58ad329",
   "metadata": {
    "scrolled": true
   },
   "outputs": [],
   "source": [
    "atlanta_2020[~atlanta_2020['occurred'].str.contains('2020')]"
   ]
  },
  {
   "cell_type": "code",
   "execution_count": null,
   "id": "4c500127",
   "metadata": {},
   "outputs": [],
   "source": [
    "atlanta_2020.loc[3599, 'occurred'] = '2020-10-30 17:56'\n",
    "atlanta_2020.loc[4745, 'occurred'] = '2020-11-01 23:56'"
   ]
  },
  {
   "cell_type": "code",
   "execution_count": 27,
   "id": "2028c711",
   "metadata": {
    "scrolled": true
   },
   "outputs": [
    {
     "ename": "OutOfBoundsDatetime",
     "evalue": "Out of bounds nanosecond timestamp: 1010-10-30 17:56:00",
     "output_type": "error",
     "traceback": [
      "\u001b[1;31m---------------------------------------------------------------------------\u001b[0m",
      "\u001b[1;31mTypeError\u001b[0m                                 Traceback (most recent call last)",
      "\u001b[1;32m~\\anaconda3\\lib\\site-packages\\pandas\\core\\arrays\\datetimes.py\u001b[0m in \u001b[0;36mobjects_to_datetime64ns\u001b[1;34m(data, dayfirst, yearfirst, utc, errors, require_iso8601, allow_object)\u001b[0m\n\u001b[0;32m   2084\u001b[0m         \u001b[1;32mtry\u001b[0m\u001b[1;33m:\u001b[0m\u001b[1;33m\u001b[0m\u001b[1;33m\u001b[0m\u001b[0m\n\u001b[1;32m-> 2085\u001b[1;33m             \u001b[0mvalues\u001b[0m\u001b[1;33m,\u001b[0m \u001b[0mtz_parsed\u001b[0m \u001b[1;33m=\u001b[0m \u001b[0mconversion\u001b[0m\u001b[1;33m.\u001b[0m\u001b[0mdatetime_to_datetime64\u001b[0m\u001b[1;33m(\u001b[0m\u001b[0mdata\u001b[0m\u001b[1;33m)\u001b[0m\u001b[1;33m\u001b[0m\u001b[1;33m\u001b[0m\u001b[0m\n\u001b[0m\u001b[0;32m   2086\u001b[0m             \u001b[1;31m# If tzaware, these values represent unix timestamps, so we\u001b[0m\u001b[1;33m\u001b[0m\u001b[1;33m\u001b[0m\u001b[1;33m\u001b[0m\u001b[0m\n",
      "\u001b[1;32mpandas\\_libs\\tslibs\\conversion.pyx\u001b[0m in \u001b[0;36mpandas._libs.tslibs.conversion.datetime_to_datetime64\u001b[1;34m()\u001b[0m\n",
      "\u001b[1;31mTypeError\u001b[0m: Unrecognized value type: <class 'str'>",
      "\nDuring handling of the above exception, another exception occurred:\n",
      "\u001b[1;31mOutOfBoundsDatetime\u001b[0m                       Traceback (most recent call last)",
      "\u001b[1;32m<ipython-input-27-75dc2023827e>\u001b[0m in \u001b[0;36m<module>\u001b[1;34m\u001b[0m\n\u001b[0;32m      1\u001b[0m \u001b[1;31m#change to datetime\u001b[0m\u001b[1;33m\u001b[0m\u001b[1;33m\u001b[0m\u001b[1;33m\u001b[0m\u001b[0m\n\u001b[1;32m----> 2\u001b[1;33m \u001b[0matlanta_2020\u001b[0m\u001b[1;33m[\u001b[0m\u001b[1;34m'occurred'\u001b[0m\u001b[1;33m]\u001b[0m \u001b[1;33m=\u001b[0m \u001b[0mpd\u001b[0m\u001b[1;33m.\u001b[0m\u001b[0mto_datetime\u001b[0m\u001b[1;33m(\u001b[0m\u001b[0matlanta_2020\u001b[0m\u001b[1;33m[\u001b[0m\u001b[1;34m'occurred'\u001b[0m\u001b[1;33m]\u001b[0m\u001b[1;33m)\u001b[0m\u001b[1;33m\u001b[0m\u001b[1;33m\u001b[0m\u001b[0m\n\u001b[0m",
      "\u001b[1;32m~\\anaconda3\\lib\\site-packages\\pandas\\core\\tools\\datetimes.py\u001b[0m in \u001b[0;36mto_datetime\u001b[1;34m(arg, errors, dayfirst, yearfirst, utc, format, exact, unit, infer_datetime_format, origin, cache)\u001b[0m\n\u001b[0;32m    803\u001b[0m             \u001b[0mresult\u001b[0m \u001b[1;33m=\u001b[0m \u001b[0marg\u001b[0m\u001b[1;33m.\u001b[0m\u001b[0mmap\u001b[0m\u001b[1;33m(\u001b[0m\u001b[0mcache_array\u001b[0m\u001b[1;33m)\u001b[0m\u001b[1;33m\u001b[0m\u001b[1;33m\u001b[0m\u001b[0m\n\u001b[0;32m    804\u001b[0m         \u001b[1;32melse\u001b[0m\u001b[1;33m:\u001b[0m\u001b[1;33m\u001b[0m\u001b[1;33m\u001b[0m\u001b[0m\n\u001b[1;32m--> 805\u001b[1;33m             \u001b[0mvalues\u001b[0m \u001b[1;33m=\u001b[0m \u001b[0mconvert_listlike\u001b[0m\u001b[1;33m(\u001b[0m\u001b[0marg\u001b[0m\u001b[1;33m.\u001b[0m\u001b[0m_values\u001b[0m\u001b[1;33m,\u001b[0m \u001b[0mformat\u001b[0m\u001b[1;33m)\u001b[0m\u001b[1;33m\u001b[0m\u001b[1;33m\u001b[0m\u001b[0m\n\u001b[0m\u001b[0;32m    806\u001b[0m             \u001b[0mresult\u001b[0m \u001b[1;33m=\u001b[0m \u001b[0marg\u001b[0m\u001b[1;33m.\u001b[0m\u001b[0m_constructor\u001b[0m\u001b[1;33m(\u001b[0m\u001b[0mvalues\u001b[0m\u001b[1;33m,\u001b[0m \u001b[0mindex\u001b[0m\u001b[1;33m=\u001b[0m\u001b[0marg\u001b[0m\u001b[1;33m.\u001b[0m\u001b[0mindex\u001b[0m\u001b[1;33m,\u001b[0m \u001b[0mname\u001b[0m\u001b[1;33m=\u001b[0m\u001b[0marg\u001b[0m\u001b[1;33m.\u001b[0m\u001b[0mname\u001b[0m\u001b[1;33m)\u001b[0m\u001b[1;33m\u001b[0m\u001b[1;33m\u001b[0m\u001b[0m\n\u001b[0;32m    807\u001b[0m     \u001b[1;32melif\u001b[0m \u001b[0misinstance\u001b[0m\u001b[1;33m(\u001b[0m\u001b[0marg\u001b[0m\u001b[1;33m,\u001b[0m \u001b[1;33m(\u001b[0m\u001b[0mABCDataFrame\u001b[0m\u001b[1;33m,\u001b[0m \u001b[0mabc\u001b[0m\u001b[1;33m.\u001b[0m\u001b[0mMutableMapping\u001b[0m\u001b[1;33m)\u001b[0m\u001b[1;33m)\u001b[0m\u001b[1;33m:\u001b[0m\u001b[1;33m\u001b[0m\u001b[1;33m\u001b[0m\u001b[0m\n",
      "\u001b[1;32m~\\anaconda3\\lib\\site-packages\\pandas\\core\\tools\\datetimes.py\u001b[0m in \u001b[0;36m_convert_listlike_datetimes\u001b[1;34m(arg, format, name, tz, unit, errors, infer_datetime_format, dayfirst, yearfirst, exact)\u001b[0m\n\u001b[0;32m    463\u001b[0m         \u001b[1;32massert\u001b[0m \u001b[0mformat\u001b[0m \u001b[1;32mis\u001b[0m \u001b[1;32mNone\u001b[0m \u001b[1;32mor\u001b[0m \u001b[0minfer_datetime_format\u001b[0m\u001b[1;33m\u001b[0m\u001b[1;33m\u001b[0m\u001b[0m\n\u001b[0;32m    464\u001b[0m         \u001b[0mutc\u001b[0m \u001b[1;33m=\u001b[0m \u001b[0mtz\u001b[0m \u001b[1;33m==\u001b[0m \u001b[1;34m\"utc\"\u001b[0m\u001b[1;33m\u001b[0m\u001b[1;33m\u001b[0m\u001b[0m\n\u001b[1;32m--> 465\u001b[1;33m         result, tz_parsed = objects_to_datetime64ns(\n\u001b[0m\u001b[0;32m    466\u001b[0m             \u001b[0marg\u001b[0m\u001b[1;33m,\u001b[0m\u001b[1;33m\u001b[0m\u001b[1;33m\u001b[0m\u001b[0m\n\u001b[0;32m    467\u001b[0m             \u001b[0mdayfirst\u001b[0m\u001b[1;33m=\u001b[0m\u001b[0mdayfirst\u001b[0m\u001b[1;33m,\u001b[0m\u001b[1;33m\u001b[0m\u001b[1;33m\u001b[0m\u001b[0m\n",
      "\u001b[1;32m~\\anaconda3\\lib\\site-packages\\pandas\\core\\arrays\\datetimes.py\u001b[0m in \u001b[0;36mobjects_to_datetime64ns\u001b[1;34m(data, dayfirst, yearfirst, utc, errors, require_iso8601, allow_object)\u001b[0m\n\u001b[0;32m   2088\u001b[0m             \u001b[1;32mreturn\u001b[0m \u001b[0mvalues\u001b[0m\u001b[1;33m.\u001b[0m\u001b[0mview\u001b[0m\u001b[1;33m(\u001b[0m\u001b[1;34m\"i8\"\u001b[0m\u001b[1;33m)\u001b[0m\u001b[1;33m,\u001b[0m \u001b[0mtz_parsed\u001b[0m\u001b[1;33m\u001b[0m\u001b[1;33m\u001b[0m\u001b[0m\n\u001b[0;32m   2089\u001b[0m         \u001b[1;32mexcept\u001b[0m \u001b[1;33m(\u001b[0m\u001b[0mValueError\u001b[0m\u001b[1;33m,\u001b[0m \u001b[0mTypeError\u001b[0m\u001b[1;33m)\u001b[0m\u001b[1;33m:\u001b[0m\u001b[1;33m\u001b[0m\u001b[1;33m\u001b[0m\u001b[0m\n\u001b[1;32m-> 2090\u001b[1;33m             \u001b[1;32mraise\u001b[0m \u001b[0me\u001b[0m\u001b[1;33m\u001b[0m\u001b[1;33m\u001b[0m\u001b[0m\n\u001b[0m\u001b[0;32m   2091\u001b[0m \u001b[1;33m\u001b[0m\u001b[0m\n\u001b[0;32m   2092\u001b[0m     \u001b[1;32mif\u001b[0m \u001b[0mtz_parsed\u001b[0m \u001b[1;32mis\u001b[0m \u001b[1;32mnot\u001b[0m \u001b[1;32mNone\u001b[0m\u001b[1;33m:\u001b[0m\u001b[1;33m\u001b[0m\u001b[1;33m\u001b[0m\u001b[0m\n",
      "\u001b[1;32m~\\anaconda3\\lib\\site-packages\\pandas\\core\\arrays\\datetimes.py\u001b[0m in \u001b[0;36mobjects_to_datetime64ns\u001b[1;34m(data, dayfirst, yearfirst, utc, errors, require_iso8601, allow_object)\u001b[0m\n\u001b[0;32m   2073\u001b[0m \u001b[1;33m\u001b[0m\u001b[0m\n\u001b[0;32m   2074\u001b[0m     \u001b[1;32mtry\u001b[0m\u001b[1;33m:\u001b[0m\u001b[1;33m\u001b[0m\u001b[1;33m\u001b[0m\u001b[0m\n\u001b[1;32m-> 2075\u001b[1;33m         result, tz_parsed = tslib.array_to_datetime(\n\u001b[0m\u001b[0;32m   2076\u001b[0m             \u001b[0mdata\u001b[0m\u001b[1;33m,\u001b[0m\u001b[1;33m\u001b[0m\u001b[1;33m\u001b[0m\u001b[0m\n\u001b[0;32m   2077\u001b[0m             \u001b[0merrors\u001b[0m\u001b[1;33m=\u001b[0m\u001b[0merrors\u001b[0m\u001b[1;33m,\u001b[0m\u001b[1;33m\u001b[0m\u001b[1;33m\u001b[0m\u001b[0m\n",
      "\u001b[1;32mpandas\\_libs\\tslib.pyx\u001b[0m in \u001b[0;36mpandas._libs.tslib.array_to_datetime\u001b[1;34m()\u001b[0m\n",
      "\u001b[1;32mpandas\\_libs\\tslib.pyx\u001b[0m in \u001b[0;36mpandas._libs.tslib.array_to_datetime\u001b[1;34m()\u001b[0m\n",
      "\u001b[1;32mpandas\\_libs\\tslib.pyx\u001b[0m in \u001b[0;36mpandas._libs.tslib.array_to_datetime\u001b[1;34m()\u001b[0m\n",
      "\u001b[1;32mpandas\\_libs\\tslib.pyx\u001b[0m in \u001b[0;36mpandas._libs.tslib.array_to_datetime\u001b[1;34m()\u001b[0m\n",
      "\u001b[1;32mpandas\\_libs\\tslibs\\np_datetime.pyx\u001b[0m in \u001b[0;36mpandas._libs.tslibs.np_datetime.check_dts_bounds\u001b[1;34m()\u001b[0m\n",
      "\u001b[1;31mOutOfBoundsDatetime\u001b[0m: Out of bounds nanosecond timestamp: 1010-10-30 17:56:00"
     ]
    }
   ],
   "source": [
    "#change to datetime\n",
    "atlanta_2020['occurred'] = pd.to_datetime(atlanta_2020['occurred'])"
   ]
  },
  {
   "cell_type": "code",
   "execution_count": null,
   "id": "d2ae4d07",
   "metadata": {},
   "outputs": [],
   "source": [
    "min(atlanta_2020.occurred)"
   ]
  },
  {
   "cell_type": "code",
   "execution_count": 28,
   "id": "dc5f9822",
   "metadata": {},
   "outputs": [
    {
     "data": {
      "text/plain": [
       "'9/6/2020 14:41'"
      ]
     },
     "execution_count": 28,
     "metadata": {},
     "output_type": "execute_result"
    }
   ],
   "source": [
    "max(atlanta_2020.occurred)"
   ]
  },
  {
   "cell_type": "code",
   "execution_count": null,
   "id": "a9795e70",
   "metadata": {},
   "outputs": [],
   "source": []
  },
  {
   "cell_type": "code",
   "execution_count": 29,
   "id": "7047f064",
   "metadata": {},
   "outputs": [
    {
     "data": {
      "text/plain": [
       "Index([], dtype='object')"
      ]
     },
     "execution_count": 29,
     "metadata": {},
     "output_type": "execute_result"
    }
   ],
   "source": [
    "#check that both dfs have same columns\n",
    "diff = atlanta_2020.columns.difference(atlanta_2021.columns)\n",
    "diff"
   ]
  },
  {
   "cell_type": "code",
   "execution_count": 30,
   "id": "ef458cf1",
   "metadata": {},
   "outputs": [
    {
     "data": {
      "text/plain": [
       "(17447, 13)"
      ]
     },
     "execution_count": 30,
     "metadata": {},
     "output_type": "execute_result"
    }
   ],
   "source": [
    "#combine dfs\n",
    "#correct index first\n",
    "start = atlanta_2020.shape[0]\n",
    "stop = atlanta_2020.shape[0] + atlanta_2021.shape[0]\n",
    "atlanta_2021.index = range(start, stop)\n",
    "atlanta_list = [atlanta_2020, atlanta_2021]\n",
    "atlanta = pd.concat(atlanta_list)\n",
    "atlanta.shape"
   ]
  },
  {
   "cell_type": "code",
   "execution_count": 31,
   "id": "032536c1",
   "metadata": {},
   "outputs": [
    {
     "data": {
      "text/plain": [
       "occurred        17447\n",
       "offense_id      17447\n",
       "rpt_date        17447\n",
       "poss_date       17087\n",
       "poss_time       17087\n",
       "beat            17447\n",
       "location        17447\n",
       "UC2_Literal     17447\n",
       "ibr_code        17447\n",
       "neighborhood    16750\n",
       "npu             17359\n",
       "long            17447\n",
       "lat             17447\n",
       "dtype: int64"
      ]
     },
     "execution_count": 31,
     "metadata": {},
     "output_type": "execute_result"
    }
   ],
   "source": [
    "atlanta.count()"
   ]
  },
  {
   "cell_type": "code",
   "execution_count": 32,
   "id": "c4fbc89e",
   "metadata": {},
   "outputs": [],
   "source": [
    "atlanta['rpt_date'] = pd.to_datetime(atlanta['rpt_date'])"
   ]
  },
  {
   "cell_type": "code",
   "execution_count": 33,
   "id": "0539f91b",
   "metadata": {},
   "outputs": [
    {
     "data": {
      "text/plain": [
       "Timestamp('2020-09-30 00:00:00')"
      ]
     },
     "execution_count": 33,
     "metadata": {},
     "output_type": "execute_result"
    }
   ],
   "source": [
    "min(atlanta['rpt_date'])"
   ]
  },
  {
   "cell_type": "code",
   "execution_count": 34,
   "id": "097202ad",
   "metadata": {},
   "outputs": [
    {
     "data": {
      "text/plain": [
       "Timestamp('2021-07-01 00:00:00')"
      ]
     },
     "execution_count": 34,
     "metadata": {},
     "output_type": "execute_result"
    }
   ],
   "source": [
    "max(atlanta['rpt_date'])"
   ]
  },
  {
   "cell_type": "code",
   "execution_count": 35,
   "id": "3918987c",
   "metadata": {},
   "outputs": [
    {
     "data": {
      "text/html": [
       "<div>\n",
       "<style scoped>\n",
       "    .dataframe tbody tr th:only-of-type {\n",
       "        vertical-align: middle;\n",
       "    }\n",
       "\n",
       "    .dataframe tbody tr th {\n",
       "        vertical-align: top;\n",
       "    }\n",
       "\n",
       "    .dataframe thead th {\n",
       "        text-align: right;\n",
       "    }\n",
       "</style>\n",
       "<table border=\"1\" class=\"dataframe\">\n",
       "  <thead>\n",
       "    <tr style=\"text-align: right;\">\n",
       "      <th></th>\n",
       "      <th>occurred</th>\n",
       "      <th>offense_id</th>\n",
       "      <th>rpt_date</th>\n",
       "      <th>poss_date</th>\n",
       "      <th>poss_time</th>\n",
       "      <th>beat</th>\n",
       "      <th>location</th>\n",
       "      <th>UC2_Literal</th>\n",
       "      <th>ibr_code</th>\n",
       "      <th>neighborhood</th>\n",
       "      <th>npu</th>\n",
       "      <th>long</th>\n",
       "      <th>lat</th>\n",
       "    </tr>\n",
       "  </thead>\n",
       "  <tbody>\n",
       "    <tr>\n",
       "      <th>0</th>\n",
       "      <td>11/29/2020 19:21</td>\n",
       "      <td>203341346</td>\n",
       "      <td>2020-12-31</td>\n",
       "      <td>11/29/2020</td>\n",
       "      <td>23:50</td>\n",
       "      <td>405</td>\n",
       "      <td>3050 M.L.K. JR DR SW</td>\n",
       "      <td>AGG ASSAULT</td>\n",
       "      <td>13A</td>\n",
       "      <td>Harland Terrace</td>\n",
       "      <td>I</td>\n",
       "      <td>-84.486163</td>\n",
       "      <td>33.751060</td>\n",
       "    </tr>\n",
       "    <tr>\n",
       "      <th>1</th>\n",
       "      <td>12/28/2020 17:21</td>\n",
       "      <td>203631200</td>\n",
       "      <td>2020-12-31</td>\n",
       "      <td>12/28/2020</td>\n",
       "      <td>17:45</td>\n",
       "      <td>302</td>\n",
       "      <td>1186 IRA ST SW</td>\n",
       "      <td>LARCENY-NON VEHICLE</td>\n",
       "      <td>23H</td>\n",
       "      <td>Pittsburgh</td>\n",
       "      <td>V</td>\n",
       "      <td>-84.399763</td>\n",
       "      <td>33.722696</td>\n",
       "    </tr>\n",
       "    <tr>\n",
       "      <th>2</th>\n",
       "      <td>12/24/2020 14:00</td>\n",
       "      <td>203631285</td>\n",
       "      <td>2020-12-31</td>\n",
       "      <td>12/24/2020</td>\n",
       "      <td>18:26</td>\n",
       "      <td>603</td>\n",
       "      <td>501 BOULEVARD PL NE</td>\n",
       "      <td>LARCENY-NON VEHICLE</td>\n",
       "      <td>23H</td>\n",
       "      <td>Old Fourth Ward</td>\n",
       "      <td>M</td>\n",
       "      <td>-84.370736</td>\n",
       "      <td>33.769680</td>\n",
       "    </tr>\n",
       "    <tr>\n",
       "      <th>3</th>\n",
       "      <td>12/30/2020 20:15</td>\n",
       "      <td>203651634</td>\n",
       "      <td>2020-12-31</td>\n",
       "      <td>12/30/2020</td>\n",
       "      <td>22:25</td>\n",
       "      <td>211</td>\n",
       "      <td>3101 PIEDMONT RD NE</td>\n",
       "      <td>LARCENY-FROM VEHICLE</td>\n",
       "      <td>23F</td>\n",
       "      <td>Peachtree Park</td>\n",
       "      <td>B</td>\n",
       "      <td>-84.369361</td>\n",
       "      <td>33.840653</td>\n",
       "    </tr>\n",
       "    <tr>\n",
       "      <th>4</th>\n",
       "      <td>12/31/2020 1:15</td>\n",
       "      <td>203660108</td>\n",
       "      <td>2020-12-31</td>\n",
       "      <td>12/31/2020</td>\n",
       "      <td>1:15</td>\n",
       "      <td>306</td>\n",
       "      <td>1974 SYLVAN RD SW</td>\n",
       "      <td>AGG ASSAULT</td>\n",
       "      <td>13A</td>\n",
       "      <td>Sylvan Hills</td>\n",
       "      <td>X</td>\n",
       "      <td>-84.418128</td>\n",
       "      <td>33.700432</td>\n",
       "    </tr>\n",
       "  </tbody>\n",
       "</table>\n",
       "</div>"
      ],
      "text/plain": [
       "           occurred offense_id   rpt_date   poss_date poss_time beat  \\\n",
       "0  11/29/2020 19:21  203341346 2020-12-31  11/29/2020     23:50  405   \n",
       "1  12/28/2020 17:21  203631200 2020-12-31  12/28/2020     17:45  302   \n",
       "2  12/24/2020 14:00  203631285 2020-12-31  12/24/2020     18:26  603   \n",
       "3  12/30/2020 20:15  203651634 2020-12-31  12/30/2020     22:25  211   \n",
       "4   12/31/2020 1:15  203660108 2020-12-31  12/31/2020      1:15  306   \n",
       "\n",
       "               location           UC2_Literal ibr_code     neighborhood npu  \\\n",
       "0  3050 M.L.K. JR DR SW           AGG ASSAULT      13A  Harland Terrace   I   \n",
       "1        1186 IRA ST SW   LARCENY-NON VEHICLE      23H       Pittsburgh   V   \n",
       "2   501 BOULEVARD PL NE   LARCENY-NON VEHICLE      23H  Old Fourth Ward   M   \n",
       "3   3101 PIEDMONT RD NE  LARCENY-FROM VEHICLE      23F   Peachtree Park   B   \n",
       "4     1974 SYLVAN RD SW           AGG ASSAULT      13A     Sylvan Hills   X   \n",
       "\n",
       "        long        lat  \n",
       "0 -84.486163  33.751060  \n",
       "1 -84.399763  33.722696  \n",
       "2 -84.370736  33.769680  \n",
       "3 -84.369361  33.840653  \n",
       "4 -84.418128  33.700432  "
      ]
     },
     "execution_count": 35,
     "metadata": {},
     "output_type": "execute_result"
    }
   ],
   "source": [
    "atlanta.head()"
   ]
  },
  {
   "cell_type": "code",
   "execution_count": 36,
   "id": "b9ab9f25",
   "metadata": {},
   "outputs": [],
   "source": [
    "atlanta.to_csv(\"Data_Clean/Atlanta.csv\")"
   ]
  },
  {
   "cell_type": "code",
   "execution_count": null,
   "id": "ebea16c4",
   "metadata": {},
   "outputs": [],
   "source": []
  },
  {
   "cell_type": "markdown",
   "id": "7bfa5ea6",
   "metadata": {},
   "source": [
    "# Austin, TX"
   ]
  },
  {
   "cell_type": "code",
   "execution_count": 37,
   "id": "5ea2ef9b",
   "metadata": {},
   "outputs": [],
   "source": [
    "#Reported between 09/26/20 and 07/03/21"
   ]
  },
  {
   "cell_type": "code",
   "execution_count": 38,
   "id": "4bc70649",
   "metadata": {},
   "outputs": [
    {
     "name": "stderr",
     "output_type": "stream",
     "text": [
      "C:\\Users\\arezn\\anaconda3\\lib\\site-packages\\IPython\\core\\interactiveshell.py:3165: DtypeWarning: Columns (16) have mixed types.Specify dtype option on import or set low_memory=False.\n",
      "  has_raised = await self.run_ast_nodes(code_ast.body, cell_name,\n"
     ]
    }
   ],
   "source": [
    "austin = pd.read_csv(\"Austin_Data/Crime_Reports.csv\", dtype = {0: \"string\"}, parse_dates = [4, 7])\n",
    "#retrieved 7/10/21\n",
    "#throws warning re: column 16; not even sure if we need column 16 (PRA)"
   ]
  },
  {
   "cell_type": "code",
   "execution_count": 39,
   "id": "ffb22eb7",
   "metadata": {
    "scrolled": true
   },
   "outputs": [
    {
     "data": {
      "text/html": [
       "<div>\n",
       "<style scoped>\n",
       "    .dataframe tbody tr th:only-of-type {\n",
       "        vertical-align: middle;\n",
       "    }\n",
       "\n",
       "    .dataframe tbody tr th {\n",
       "        vertical-align: top;\n",
       "    }\n",
       "\n",
       "    .dataframe thead th {\n",
       "        text-align: right;\n",
       "    }\n",
       "</style>\n",
       "<table border=\"1\" class=\"dataframe\">\n",
       "  <thead>\n",
       "    <tr style=\"text-align: right;\">\n",
       "      <th></th>\n",
       "      <th>Incident Number</th>\n",
       "      <th>Highest Offense Description</th>\n",
       "      <th>Highest Offense Code</th>\n",
       "      <th>Family Violence</th>\n",
       "      <th>Occurred Date Time</th>\n",
       "      <th>Occurred Date</th>\n",
       "      <th>Occurred Time</th>\n",
       "      <th>Report Date Time</th>\n",
       "      <th>Report Date</th>\n",
       "      <th>Report Time</th>\n",
       "      <th>...</th>\n",
       "      <th>Census Tract</th>\n",
       "      <th>Clearance Status</th>\n",
       "      <th>Clearance Date</th>\n",
       "      <th>UCR Category</th>\n",
       "      <th>Category Description</th>\n",
       "      <th>X-coordinate</th>\n",
       "      <th>Y-coordinate</th>\n",
       "      <th>Latitude</th>\n",
       "      <th>Longitude</th>\n",
       "      <th>Location</th>\n",
       "    </tr>\n",
       "  </thead>\n",
       "  <tbody>\n",
       "    <tr>\n",
       "      <th>0</th>\n",
       "      <td>20191571574</td>\n",
       "      <td>FRAUD - OTHER</td>\n",
       "      <td>1199</td>\n",
       "      <td>N</td>\n",
       "      <td>2019-06-03 16:00:00</td>\n",
       "      <td>06/03/2019</td>\n",
       "      <td>1600.0</td>\n",
       "      <td>2019-06-06 17:34:00</td>\n",
       "      <td>06/06/2019</td>\n",
       "      <td>1734.0</td>\n",
       "      <td>...</td>\n",
       "      <td>203.11</td>\n",
       "      <td>NaN</td>\n",
       "      <td>NaN</td>\n",
       "      <td>NaN</td>\n",
       "      <td>NaN</td>\n",
       "      <td>3097785.0</td>\n",
       "      <td>3097785.0</td>\n",
       "      <td>30.483646</td>\n",
       "      <td>-97.789495</td>\n",
       "      <td>(30.48364631, -97.7894953)</td>\n",
       "    </tr>\n",
       "    <tr>\n",
       "      <th>1</th>\n",
       "      <td>20191550153</td>\n",
       "      <td>DEADLY CONDUCT</td>\n",
       "      <td>408</td>\n",
       "      <td>N</td>\n",
       "      <td>2019-06-04 03:12:00</td>\n",
       "      <td>06/04/2019</td>\n",
       "      <td>312.0</td>\n",
       "      <td>2019-06-04 03:16:00</td>\n",
       "      <td>06/04/2019</td>\n",
       "      <td>316.0</td>\n",
       "      <td>...</td>\n",
       "      <td>18.06</td>\n",
       "      <td>N</td>\n",
       "      <td>06/06/2019</td>\n",
       "      <td>13A</td>\n",
       "      <td>Aggravated Assault</td>\n",
       "      <td>3128227.0</td>\n",
       "      <td>3128227.0</td>\n",
       "      <td>30.346646</td>\n",
       "      <td>-97.696573</td>\n",
       "      <td>(30.34664576, -97.69657342)</td>\n",
       "    </tr>\n",
       "    <tr>\n",
       "      <th>2</th>\n",
       "      <td>20195022816</td>\n",
       "      <td>THEFT OF LICENSE PLATE</td>\n",
       "      <td>614</td>\n",
       "      <td>N</td>\n",
       "      <td>2019-06-03 15:00:00</td>\n",
       "      <td>06/03/2019</td>\n",
       "      <td>1500.0</td>\n",
       "      <td>2019-06-04 15:22:00</td>\n",
       "      <td>06/04/2019</td>\n",
       "      <td>1522.0</td>\n",
       "      <td>...</td>\n",
       "      <td>24.09</td>\n",
       "      <td>N</td>\n",
       "      <td>06/04/2019</td>\n",
       "      <td>23G</td>\n",
       "      <td>Theft</td>\n",
       "      <td>3098393.0</td>\n",
       "      <td>3098393.0</td>\n",
       "      <td>30.205267</td>\n",
       "      <td>-97.794900</td>\n",
       "      <td>(30.20526729, -97.79490043)</td>\n",
       "    </tr>\n",
       "    <tr>\n",
       "      <th>3</th>\n",
       "      <td>20205007833</td>\n",
       "      <td>RUNAWAY CHILD</td>\n",
       "      <td>4100</td>\n",
       "      <td>N</td>\n",
       "      <td>2020-02-22 18:00:00</td>\n",
       "      <td>02/22/2020</td>\n",
       "      <td>1800.0</td>\n",
       "      <td>2020-02-24 18:03:00</td>\n",
       "      <td>02/24/2020</td>\n",
       "      <td>1803.0</td>\n",
       "      <td>...</td>\n",
       "      <td>NaN</td>\n",
       "      <td>N</td>\n",
       "      <td>03/03/2020</td>\n",
       "      <td>NaN</td>\n",
       "      <td>NaN</td>\n",
       "      <td>3155456.0</td>\n",
       "      <td>3155456.0</td>\n",
       "      <td>30.176140</td>\n",
       "      <td>-97.615031</td>\n",
       "      <td>(30.17613952, -97.6150307)</td>\n",
       "    </tr>\n",
       "    <tr>\n",
       "      <th>4</th>\n",
       "      <td>20191671388</td>\n",
       "      <td>BURGLARY OF RESIDENCE</td>\n",
       "      <td>500</td>\n",
       "      <td>N</td>\n",
       "      <td>2019-06-14 12:00:00</td>\n",
       "      <td>06/14/2019</td>\n",
       "      <td>1200.0</td>\n",
       "      <td>2019-06-16 22:00:00</td>\n",
       "      <td>06/16/2019</td>\n",
       "      <td>2200.0</td>\n",
       "      <td>...</td>\n",
       "      <td>17.51</td>\n",
       "      <td>N</td>\n",
       "      <td>09/18/2019</td>\n",
       "      <td>220</td>\n",
       "      <td>Burglary</td>\n",
       "      <td>3111039.0</td>\n",
       "      <td>3111039.0</td>\n",
       "      <td>30.364987</td>\n",
       "      <td>-97.750587</td>\n",
       "      <td>(30.36498691, -97.75058749)</td>\n",
       "    </tr>\n",
       "  </tbody>\n",
       "</table>\n",
       "<p>5 rows × 27 columns</p>\n",
       "</div>"
      ],
      "text/plain": [
       "  Incident Number Highest Offense Description  Highest Offense Code  \\\n",
       "0     20191571574               FRAUD - OTHER                  1199   \n",
       "1     20191550153              DEADLY CONDUCT                   408   \n",
       "2     20195022816      THEFT OF LICENSE PLATE                   614   \n",
       "3     20205007833               RUNAWAY CHILD                  4100   \n",
       "4     20191671388       BURGLARY OF RESIDENCE                   500   \n",
       "\n",
       "  Family Violence  Occurred Date Time Occurred Date  Occurred Time  \\\n",
       "0               N 2019-06-03 16:00:00    06/03/2019         1600.0   \n",
       "1               N 2019-06-04 03:12:00    06/04/2019          312.0   \n",
       "2               N 2019-06-03 15:00:00    06/03/2019         1500.0   \n",
       "3               N 2020-02-22 18:00:00    02/22/2020         1800.0   \n",
       "4               N 2019-06-14 12:00:00    06/14/2019         1200.0   \n",
       "\n",
       "     Report Date Time Report Date  Report Time  ... Census Tract  \\\n",
       "0 2019-06-06 17:34:00  06/06/2019       1734.0  ...       203.11   \n",
       "1 2019-06-04 03:16:00  06/04/2019        316.0  ...        18.06   \n",
       "2 2019-06-04 15:22:00  06/04/2019       1522.0  ...        24.09   \n",
       "3 2020-02-24 18:03:00  02/24/2020       1803.0  ...          NaN   \n",
       "4 2019-06-16 22:00:00  06/16/2019       2200.0  ...        17.51   \n",
       "\n",
       "  Clearance Status  Clearance Date  UCR Category Category Description  \\\n",
       "0              NaN             NaN           NaN                  NaN   \n",
       "1                N      06/06/2019           13A   Aggravated Assault   \n",
       "2                N      06/04/2019           23G                Theft   \n",
       "3                N      03/03/2020           NaN                  NaN   \n",
       "4                N      09/18/2019           220             Burglary   \n",
       "\n",
       "  X-coordinate Y-coordinate   Latitude  Longitude                     Location  \n",
       "0    3097785.0    3097785.0  30.483646 -97.789495   (30.48364631, -97.7894953)  \n",
       "1    3128227.0    3128227.0  30.346646 -97.696573  (30.34664576, -97.69657342)  \n",
       "2    3098393.0    3098393.0  30.205267 -97.794900  (30.20526729, -97.79490043)  \n",
       "3    3155456.0    3155456.0  30.176140 -97.615031   (30.17613952, -97.6150307)  \n",
       "4    3111039.0    3111039.0  30.364987 -97.750587  (30.36498691, -97.75058749)  \n",
       "\n",
       "[5 rows x 27 columns]"
      ]
     },
     "execution_count": 39,
     "metadata": {},
     "output_type": "execute_result"
    }
   ],
   "source": [
    "austin.head()"
   ]
  },
  {
   "cell_type": "code",
   "execution_count": 40,
   "id": "0e3090b1",
   "metadata": {},
   "outputs": [
    {
     "data": {
      "text/plain": [
       "Incident Number                        string\n",
       "Highest Offense Description            object\n",
       "Highest Offense Code                    int64\n",
       "Family Violence                        object\n",
       "Occurred Date Time             datetime64[ns]\n",
       "Occurred Date                          object\n",
       "Occurred Time                         float64\n",
       "Report Date Time               datetime64[ns]\n",
       "Report Date                            object\n",
       "Report Time                           float64\n",
       "Location Type                          object\n",
       "Address                                object\n",
       "Zip Code                              float64\n",
       "Council District                      float64\n",
       "APD Sector                             object\n",
       "APD District                           object\n",
       "PRA                                    object\n",
       "Census Tract                          float64\n",
       "Clearance Status                       object\n",
       "Clearance Date                         object\n",
       "UCR Category                           object\n",
       "Category Description                   object\n",
       "X-coordinate                          float64\n",
       "Y-coordinate                          float64\n",
       "Latitude                              float64\n",
       "Longitude                             float64\n",
       "Location                               object\n",
       "dtype: object"
      ]
     },
     "execution_count": 40,
     "metadata": {},
     "output_type": "execute_result"
    }
   ],
   "source": [
    "austin.dtypes"
   ]
  },
  {
   "cell_type": "code",
   "execution_count": 41,
   "id": "080a1abc",
   "metadata": {},
   "outputs": [],
   "source": [
    "#personal preference\n",
    "austin.columns = austin.columns.str.lower().str.replace(' ', '_')"
   ]
  },
  {
   "cell_type": "code",
   "execution_count": 42,
   "id": "35189d31",
   "metadata": {},
   "outputs": [],
   "source": [
    "#data in sql is up to 6/29/20\n",
    "austin = austin[austin.report_date_time >= '2020-09-26']\n",
    "austin.reset_index(drop = True, inplace = True)"
   ]
  },
  {
   "cell_type": "code",
   "execution_count": 43,
   "id": "4945b394",
   "metadata": {},
   "outputs": [
    {
     "data": {
      "text/plain": [
       "Timestamp('2003-02-15 12:00:00')"
      ]
     },
     "execution_count": 43,
     "metadata": {},
     "output_type": "execute_result"
    }
   ],
   "source": [
    "min(austin['occurred_date_time'])"
   ]
  },
  {
   "cell_type": "code",
   "execution_count": 44,
   "id": "9cd2a8ef",
   "metadata": {},
   "outputs": [
    {
     "data": {
      "text/plain": [
       "Timestamp('2021-07-03 20:15:00')"
      ]
     },
     "execution_count": 44,
     "metadata": {},
     "output_type": "execute_result"
    }
   ],
   "source": [
    "max(austin['occurred_date_time'])"
   ]
  },
  {
   "cell_type": "code",
   "execution_count": 45,
   "id": "97e4366d",
   "metadata": {},
   "outputs": [
    {
     "data": {
      "text/plain": [
       "Timestamp('2020-09-26 00:03:00')"
      ]
     },
     "execution_count": 45,
     "metadata": {},
     "output_type": "execute_result"
    }
   ],
   "source": [
    "min(austin['report_date_time'])"
   ]
  },
  {
   "cell_type": "code",
   "execution_count": 46,
   "id": "eacc8816",
   "metadata": {},
   "outputs": [
    {
     "data": {
      "text/plain": [
       "Timestamp('2021-07-03 21:30:00')"
      ]
     },
     "execution_count": 46,
     "metadata": {},
     "output_type": "execute_result"
    }
   ],
   "source": [
    "max(austin['report_date_time'])"
   ]
  },
  {
   "cell_type": "code",
   "execution_count": 47,
   "id": "7691bb89",
   "metadata": {},
   "outputs": [
    {
     "data": {
      "text/plain": [
       "(75141, 27)"
      ]
     },
     "execution_count": 47,
     "metadata": {},
     "output_type": "execute_result"
    }
   ],
   "source": [
    "austin.shape"
   ]
  },
  {
   "cell_type": "code",
   "execution_count": 48,
   "id": "cc772711",
   "metadata": {},
   "outputs": [
    {
     "data": {
      "text/html": [
       "<div>\n",
       "<style scoped>\n",
       "    .dataframe tbody tr th:only-of-type {\n",
       "        vertical-align: middle;\n",
       "    }\n",
       "\n",
       "    .dataframe tbody tr th {\n",
       "        vertical-align: top;\n",
       "    }\n",
       "\n",
       "    .dataframe thead th {\n",
       "        text-align: right;\n",
       "    }\n",
       "</style>\n",
       "<table border=\"1\" class=\"dataframe\">\n",
       "  <thead>\n",
       "    <tr style=\"text-align: right;\">\n",
       "      <th></th>\n",
       "      <th>incident_number</th>\n",
       "      <th>highest_offense_description</th>\n",
       "      <th>highest_offense_code</th>\n",
       "      <th>family_violence</th>\n",
       "      <th>occurred_date_time</th>\n",
       "      <th>occurred_date</th>\n",
       "      <th>occurred_time</th>\n",
       "      <th>report_date_time</th>\n",
       "      <th>report_date</th>\n",
       "      <th>report_time</th>\n",
       "      <th>...</th>\n",
       "      <th>census_tract</th>\n",
       "      <th>clearance_status</th>\n",
       "      <th>clearance_date</th>\n",
       "      <th>ucr_category</th>\n",
       "      <th>category_description</th>\n",
       "      <th>x-coordinate</th>\n",
       "      <th>y-coordinate</th>\n",
       "      <th>latitude</th>\n",
       "      <th>longitude</th>\n",
       "      <th>location</th>\n",
       "    </tr>\n",
       "  </thead>\n",
       "  <tbody>\n",
       "    <tr>\n",
       "      <th>0</th>\n",
       "      <td>20203061289</td>\n",
       "      <td>SEXUAL ASSAULT W/ OBJECT</td>\n",
       "      <td>1700</td>\n",
       "      <td>N</td>\n",
       "      <td>2020-10-30 23:00:00</td>\n",
       "      <td>10/30/2020</td>\n",
       "      <td>2300.0</td>\n",
       "      <td>2020-11-01 15:52:00</td>\n",
       "      <td>11/01/2020</td>\n",
       "      <td>1552.0</td>\n",
       "      <td>...</td>\n",
       "      <td>NaN</td>\n",
       "      <td>N</td>\n",
       "      <td>11/02/2020</td>\n",
       "      <td>11C</td>\n",
       "      <td>Rape</td>\n",
       "      <td>0.0</td>\n",
       "      <td>0.0</td>\n",
       "      <td>NaN</td>\n",
       "      <td>NaN</td>\n",
       "      <td>NaN</td>\n",
       "    </tr>\n",
       "    <tr>\n",
       "      <th>1</th>\n",
       "      <td>20205043491</td>\n",
       "      <td>IDENTITY THEFT</td>\n",
       "      <td>4022</td>\n",
       "      <td>N</td>\n",
       "      <td>2020-10-27 23:16:00</td>\n",
       "      <td>10/27/2020</td>\n",
       "      <td>2316.0</td>\n",
       "      <td>2020-10-27 23:16:00</td>\n",
       "      <td>10/27/2020</td>\n",
       "      <td>2316.0</td>\n",
       "      <td>...</td>\n",
       "      <td>NaN</td>\n",
       "      <td>N</td>\n",
       "      <td>11/04/2020</td>\n",
       "      <td>NaN</td>\n",
       "      <td>NaN</td>\n",
       "      <td>NaN</td>\n",
       "      <td>NaN</td>\n",
       "      <td>NaN</td>\n",
       "      <td>NaN</td>\n",
       "      <td>NaN</td>\n",
       "    </tr>\n",
       "    <tr>\n",
       "      <th>2</th>\n",
       "      <td>20205044863</td>\n",
       "      <td>PROTECTIVE ORDER</td>\n",
       "      <td>3829</td>\n",
       "      <td>N</td>\n",
       "      <td>2020-11-05 11:19:00</td>\n",
       "      <td>11/05/2020</td>\n",
       "      <td>1119.0</td>\n",
       "      <td>2020-11-05 11:19:00</td>\n",
       "      <td>11/05/2020</td>\n",
       "      <td>1119.0</td>\n",
       "      <td>...</td>\n",
       "      <td>NaN</td>\n",
       "      <td>N</td>\n",
       "      <td>11/05/2020</td>\n",
       "      <td>NaN</td>\n",
       "      <td>NaN</td>\n",
       "      <td>NaN</td>\n",
       "      <td>NaN</td>\n",
       "      <td>NaN</td>\n",
       "      <td>NaN</td>\n",
       "      <td>NaN</td>\n",
       "    </tr>\n",
       "    <tr>\n",
       "      <th>3</th>\n",
       "      <td>20202910633</td>\n",
       "      <td>ASSAULT W/INJURY-FAM/DATE VIOL</td>\n",
       "      <td>900</td>\n",
       "      <td>Y</td>\n",
       "      <td>2020-10-16 19:00:00</td>\n",
       "      <td>10/16/2020</td>\n",
       "      <td>1900.0</td>\n",
       "      <td>2020-10-17 12:55:00</td>\n",
       "      <td>10/17/2020</td>\n",
       "      <td>1255.0</td>\n",
       "      <td>...</td>\n",
       "      <td>NaN</td>\n",
       "      <td>N</td>\n",
       "      <td>11/03/2020</td>\n",
       "      <td>NaN</td>\n",
       "      <td>NaN</td>\n",
       "      <td>NaN</td>\n",
       "      <td>NaN</td>\n",
       "      <td>NaN</td>\n",
       "      <td>NaN</td>\n",
       "      <td>NaN</td>\n",
       "    </tr>\n",
       "    <tr>\n",
       "      <th>4</th>\n",
       "      <td>20215015781</td>\n",
       "      <td>IDENTITY THEFT</td>\n",
       "      <td>4022</td>\n",
       "      <td>N</td>\n",
       "      <td>2021-04-01 12:00:00</td>\n",
       "      <td>04/01/2021</td>\n",
       "      <td>1200.0</td>\n",
       "      <td>2021-04-21 14:40:00</td>\n",
       "      <td>04/21/2021</td>\n",
       "      <td>1440.0</td>\n",
       "      <td>...</td>\n",
       "      <td>23.18</td>\n",
       "      <td>N</td>\n",
       "      <td>05/10/2021</td>\n",
       "      <td>NaN</td>\n",
       "      <td>NaN</td>\n",
       "      <td>3126219.0</td>\n",
       "      <td>3126219.0</td>\n",
       "      <td>30.228632</td>\n",
       "      <td>-97.706155</td>\n",
       "      <td>(30.22863192, -97.70615517)</td>\n",
       "    </tr>\n",
       "  </tbody>\n",
       "</table>\n",
       "<p>5 rows × 27 columns</p>\n",
       "</div>"
      ],
      "text/plain": [
       "  incident_number     highest_offense_description  highest_offense_code  \\\n",
       "0     20203061289        SEXUAL ASSAULT W/ OBJECT                  1700   \n",
       "1     20205043491                  IDENTITY THEFT                  4022   \n",
       "2     20205044863                PROTECTIVE ORDER                  3829   \n",
       "3     20202910633  ASSAULT W/INJURY-FAM/DATE VIOL                   900   \n",
       "4     20215015781                  IDENTITY THEFT                  4022   \n",
       "\n",
       "  family_violence  occurred_date_time occurred_date  occurred_time  \\\n",
       "0               N 2020-10-30 23:00:00    10/30/2020         2300.0   \n",
       "1               N 2020-10-27 23:16:00    10/27/2020         2316.0   \n",
       "2               N 2020-11-05 11:19:00    11/05/2020         1119.0   \n",
       "3               Y 2020-10-16 19:00:00    10/16/2020         1900.0   \n",
       "4               N 2021-04-01 12:00:00    04/01/2021         1200.0   \n",
       "\n",
       "     report_date_time report_date  report_time  ... census_tract  \\\n",
       "0 2020-11-01 15:52:00  11/01/2020       1552.0  ...          NaN   \n",
       "1 2020-10-27 23:16:00  10/27/2020       2316.0  ...          NaN   \n",
       "2 2020-11-05 11:19:00  11/05/2020       1119.0  ...          NaN   \n",
       "3 2020-10-17 12:55:00  10/17/2020       1255.0  ...          NaN   \n",
       "4 2021-04-21 14:40:00  04/21/2021       1440.0  ...        23.18   \n",
       "\n",
       "  clearance_status  clearance_date  ucr_category category_description  \\\n",
       "0                N      11/02/2020           11C                 Rape   \n",
       "1                N      11/04/2020           NaN                  NaN   \n",
       "2                N      11/05/2020           NaN                  NaN   \n",
       "3                N      11/03/2020           NaN                  NaN   \n",
       "4                N      05/10/2021           NaN                  NaN   \n",
       "\n",
       "  x-coordinate y-coordinate   latitude  longitude                     location  \n",
       "0          0.0          0.0        NaN        NaN                          NaN  \n",
       "1          NaN          NaN        NaN        NaN                          NaN  \n",
       "2          NaN          NaN        NaN        NaN                          NaN  \n",
       "3          NaN          NaN        NaN        NaN                          NaN  \n",
       "4    3126219.0    3126219.0  30.228632 -97.706155  (30.22863192, -97.70615517)  \n",
       "\n",
       "[5 rows x 27 columns]"
      ]
     },
     "execution_count": 48,
     "metadata": {},
     "output_type": "execute_result"
    }
   ],
   "source": [
    "austin.head()"
   ]
  },
  {
   "cell_type": "code",
   "execution_count": 49,
   "id": "b545da6b",
   "metadata": {
    "scrolled": true
   },
   "outputs": [
    {
     "data": {
      "text/plain": [
       "incident_number                75141\n",
       "highest_offense_description    75141\n",
       "highest_offense_code           75141\n",
       "family_violence                75141\n",
       "occurred_date_time             75141\n",
       "occurred_date                  75141\n",
       "occurred_time                  75141\n",
       "report_date_time               75141\n",
       "report_date                    75141\n",
       "report_time                    75141\n",
       "location_type                  75072\n",
       "address                        75141\n",
       "zip_code                       74354\n",
       "council_district               74192\n",
       "apd_sector                     74616\n",
       "apd_district                   74600\n",
       "pra                            74520\n",
       "census_tract                   60491\n",
       "clearance_status               63815\n",
       "clearance_date                 63813\n",
       "ucr_category                   29940\n",
       "category_description           29940\n",
       "x-coordinate                   74559\n",
       "y-coordinate                   74559\n",
       "latitude                       73673\n",
       "longitude                      73673\n",
       "location                       73673\n",
       "dtype: int64"
      ]
     },
     "execution_count": 49,
     "metadata": {},
     "output_type": "execute_result"
    }
   ],
   "source": [
    "#checking that time and crime present in every column\n",
    "austin.count()"
   ]
  },
  {
   "cell_type": "code",
   "execution_count": 50,
   "id": "d11ca381",
   "metadata": {},
   "outputs": [],
   "source": [
    "austin.to_csv(\"Data_Clean/Austin.csv\")"
   ]
  },
  {
   "cell_type": "code",
   "execution_count": null,
   "id": "dc983fa1",
   "metadata": {},
   "outputs": [],
   "source": []
  },
  {
   "cell_type": "markdown",
   "id": "f370e876",
   "metadata": {},
   "source": [
    "# Baton Rouge, LA"
   ]
  },
  {
   "cell_type": "code",
   "execution_count": 51,
   "id": "000abc86",
   "metadata": {},
   "outputs": [],
   "source": [
    "#dont seem to have reported on date"
   ]
  },
  {
   "cell_type": "code",
   "execution_count": 52,
   "id": "c456e2ca",
   "metadata": {},
   "outputs": [],
   "source": [
    "baton_rouge = pd.read_csv(\"Baton_Rouge_Data/Baton_Rouge_Crime_Incidents.csv\", dtype = {0 : \"string\"}, parse_dates= {\"occurred\" : [1, 2]})\n",
    "#retrieved on 7/10/21"
   ]
  },
  {
   "cell_type": "code",
   "execution_count": 53,
   "id": "147c9105",
   "metadata": {
    "scrolled": false
   },
   "outputs": [
    {
     "data": {
      "text/html": [
       "<div>\n",
       "<style scoped>\n",
       "    .dataframe tbody tr th:only-of-type {\n",
       "        vertical-align: middle;\n",
       "    }\n",
       "\n",
       "    .dataframe tbody tr th {\n",
       "        vertical-align: top;\n",
       "    }\n",
       "\n",
       "    .dataframe thead th {\n",
       "        text-align: right;\n",
       "    }\n",
       "</style>\n",
       "<table border=\"1\" class=\"dataframe\">\n",
       "  <thead>\n",
       "    <tr style=\"text-align: right;\">\n",
       "      <th></th>\n",
       "      <th>occurred</th>\n",
       "      <th>FILE NUMBER</th>\n",
       "      <th>CRIME</th>\n",
       "      <th>COMMITTED</th>\n",
       "      <th>OFFENSE</th>\n",
       "      <th>OFFENSE DESCRIPTION</th>\n",
       "      <th>FULL ADDRESS</th>\n",
       "      <th>ADDRESS NUMBER</th>\n",
       "      <th>STREET DIRECTION</th>\n",
       "      <th>STREET NAME</th>\n",
       "      <th>...</th>\n",
       "      <th>CITY</th>\n",
       "      <th>STATE</th>\n",
       "      <th>ZIP CODE</th>\n",
       "      <th>DISTRICT</th>\n",
       "      <th>ZONE</th>\n",
       "      <th>SUBZONE</th>\n",
       "      <th>COMPLETE DISTRICT</th>\n",
       "      <th>COUNCIL DISTRICT</th>\n",
       "      <th>CRIME PREVENTION DISTRICT</th>\n",
       "      <th>GEOLOCATION</th>\n",
       "    </tr>\n",
       "  </thead>\n",
       "  <tbody>\n",
       "    <tr>\n",
       "      <th>0</th>\n",
       "      <td>04/11/2020 1645</td>\n",
       "      <td>&lt;NA&gt;</td>\n",
       "      <td>SEXUAL ASSAULT</td>\n",
       "      <td>COMMITTED</td>\n",
       "      <td>14:43.1</td>\n",
       "      <td>BATT/SEXUAL</td>\n",
       "      <td>NaN</td>\n",
       "      <td>NaN</td>\n",
       "      <td>NaN</td>\n",
       "      <td>NaN</td>\n",
       "      <td>...</td>\n",
       "      <td>NaN</td>\n",
       "      <td>NaN</td>\n",
       "      <td>70802.0</td>\n",
       "      <td>2</td>\n",
       "      <td>C</td>\n",
       "      <td>1</td>\n",
       "      <td>2C1</td>\n",
       "      <td>10.0</td>\n",
       "      <td>NONE</td>\n",
       "      <td>NaN</td>\n",
       "    </tr>\n",
       "    <tr>\n",
       "      <th>1</th>\n",
       "      <td>10/28/2019 2248</td>\n",
       "      <td>&lt;NA&gt;</td>\n",
       "      <td>JUVENILE</td>\n",
       "      <td>COMMITTED</td>\n",
       "      <td>14:81</td>\n",
       "      <td>IND BEHAVIOR W/JUV</td>\n",
       "      <td>NaN</td>\n",
       "      <td>NaN</td>\n",
       "      <td>NaN</td>\n",
       "      <td>NaN</td>\n",
       "      <td>...</td>\n",
       "      <td>NaN</td>\n",
       "      <td>NaN</td>\n",
       "      <td>70807.0</td>\n",
       "      <td>4</td>\n",
       "      <td>B</td>\n",
       "      <td>3</td>\n",
       "      <td>4B3</td>\n",
       "      <td>2.0</td>\n",
       "      <td>NONE</td>\n",
       "      <td>NaN</td>\n",
       "    </tr>\n",
       "    <tr>\n",
       "      <th>2</th>\n",
       "      <td>11/05/2019 0537</td>\n",
       "      <td>&lt;NA&gt;</td>\n",
       "      <td>SEXUAL ASSAULT</td>\n",
       "      <td>COMMITTED</td>\n",
       "      <td>14:43.1</td>\n",
       "      <td>BATT/SEXUAL</td>\n",
       "      <td>NaN</td>\n",
       "      <td>NaN</td>\n",
       "      <td>NaN</td>\n",
       "      <td>NaN</td>\n",
       "      <td>...</td>\n",
       "      <td>NaN</td>\n",
       "      <td>NaN</td>\n",
       "      <td>70802.0</td>\n",
       "      <td>1</td>\n",
       "      <td>A</td>\n",
       "      <td>1</td>\n",
       "      <td>1A1</td>\n",
       "      <td>10.0</td>\n",
       "      <td>NONE</td>\n",
       "      <td>NaN</td>\n",
       "    </tr>\n",
       "    <tr>\n",
       "      <th>3</th>\n",
       "      <td>11/09/2019 2345</td>\n",
       "      <td>&lt;NA&gt;</td>\n",
       "      <td>SEXUAL ASSAULT</td>\n",
       "      <td>ATTEMPTED</td>\n",
       "      <td>14:42.1/B</td>\n",
       "      <td>RAPE/ATT FORCIBLE</td>\n",
       "      <td>NaN</td>\n",
       "      <td>NaN</td>\n",
       "      <td>NaN</td>\n",
       "      <td>NaN</td>\n",
       "      <td>...</td>\n",
       "      <td>NaN</td>\n",
       "      <td>NaN</td>\n",
       "      <td>70816.0</td>\n",
       "      <td>3</td>\n",
       "      <td>E</td>\n",
       "      <td>5</td>\n",
       "      <td>3E5</td>\n",
       "      <td>8.0</td>\n",
       "      <td>NONE</td>\n",
       "      <td>NaN</td>\n",
       "    </tr>\n",
       "    <tr>\n",
       "      <th>4</th>\n",
       "      <td>03/14/2020 1657</td>\n",
       "      <td>&lt;NA&gt;</td>\n",
       "      <td>JUVENILE</td>\n",
       "      <td>COMMITTED</td>\n",
       "      <td>14:81</td>\n",
       "      <td>IND BEHAVIOR W/JUV</td>\n",
       "      <td>NaN</td>\n",
       "      <td>NaN</td>\n",
       "      <td>NaN</td>\n",
       "      <td>NaN</td>\n",
       "      <td>...</td>\n",
       "      <td>NaN</td>\n",
       "      <td>NaN</td>\n",
       "      <td>70805.0</td>\n",
       "      <td>NaN</td>\n",
       "      <td>NaN</td>\n",
       "      <td>NaN</td>\n",
       "      <td>NaN</td>\n",
       "      <td>7.0</td>\n",
       "      <td>NONE</td>\n",
       "      <td>NaN</td>\n",
       "    </tr>\n",
       "  </tbody>\n",
       "</table>\n",
       "<p>5 rows × 21 columns</p>\n",
       "</div>"
      ],
      "text/plain": [
       "          occurred FILE NUMBER           CRIME  COMMITTED    OFFENSE  \\\n",
       "0  04/11/2020 1645        <NA>  SEXUAL ASSAULT  COMMITTED    14:43.1   \n",
       "1  10/28/2019 2248        <NA>        JUVENILE  COMMITTED      14:81   \n",
       "2  11/05/2019 0537        <NA>  SEXUAL ASSAULT  COMMITTED    14:43.1   \n",
       "3  11/09/2019 2345        <NA>  SEXUAL ASSAULT  ATTEMPTED  14:42.1/B   \n",
       "4  03/14/2020 1657        <NA>        JUVENILE  COMMITTED      14:81   \n",
       "\n",
       "  OFFENSE DESCRIPTION FULL ADDRESS  ADDRESS NUMBER STREET DIRECTION  \\\n",
       "0         BATT/SEXUAL          NaN             NaN              NaN   \n",
       "1  IND BEHAVIOR W/JUV          NaN             NaN              NaN   \n",
       "2         BATT/SEXUAL          NaN             NaN              NaN   \n",
       "3   RAPE/ATT FORCIBLE          NaN             NaN              NaN   \n",
       "4  IND BEHAVIOR W/JUV          NaN             NaN              NaN   \n",
       "\n",
       "  STREET NAME  ... CITY STATE ZIP CODE  DISTRICT ZONE SUBZONE  \\\n",
       "0         NaN  ...  NaN   NaN  70802.0         2    C       1   \n",
       "1         NaN  ...  NaN   NaN  70807.0         4    B       3   \n",
       "2         NaN  ...  NaN   NaN  70802.0         1    A       1   \n",
       "3         NaN  ...  NaN   NaN  70816.0         3    E       5   \n",
       "4         NaN  ...  NaN   NaN  70805.0       NaN  NaN     NaN   \n",
       "\n",
       "  COMPLETE DISTRICT COUNCIL DISTRICT  CRIME PREVENTION DISTRICT GEOLOCATION  \n",
       "0               2C1             10.0                       NONE         NaN  \n",
       "1               4B3              2.0                       NONE         NaN  \n",
       "2               1A1             10.0                       NONE         NaN  \n",
       "3               3E5              8.0                       NONE         NaN  \n",
       "4               NaN              7.0                       NONE         NaN  \n",
       "\n",
       "[5 rows x 21 columns]"
      ]
     },
     "execution_count": 53,
     "metadata": {},
     "output_type": "execute_result"
    }
   ],
   "source": [
    "baton_rouge.head()"
   ]
  },
  {
   "cell_type": "code",
   "execution_count": 54,
   "id": "47a9d7f4",
   "metadata": {},
   "outputs": [
    {
     "data": {
      "text/plain": [
       "occurred                      object\n",
       "FILE NUMBER                   string\n",
       "CRIME                         object\n",
       "COMMITTED                     object\n",
       "OFFENSE                       object\n",
       "OFFENSE DESCRIPTION           object\n",
       "FULL ADDRESS                  object\n",
       "ADDRESS NUMBER               float64\n",
       "STREET DIRECTION              object\n",
       "STREET NAME                   object\n",
       "STREET TYPE                   object\n",
       "CITY                          object\n",
       "STATE                         object\n",
       "ZIP CODE                     float64\n",
       "DISTRICT                      object\n",
       "ZONE                          object\n",
       "SUBZONE                       object\n",
       "COMPLETE DISTRICT             object\n",
       "COUNCIL DISTRICT             float64\n",
       "CRIME PREVENTION DISTRICT     object\n",
       "GEOLOCATION                   object\n",
       "dtype: object"
      ]
     },
     "execution_count": 54,
     "metadata": {},
     "output_type": "execute_result"
    }
   ],
   "source": [
    "baton_rouge.dtypes"
   ]
  },
  {
   "cell_type": "code",
   "execution_count": 55,
   "id": "0e67dad3",
   "metadata": {},
   "outputs": [
    {
     "data": {
      "text/plain": [
       "(490578, 21)"
      ]
     },
     "execution_count": 55,
     "metadata": {},
     "output_type": "execute_result"
    }
   ],
   "source": [
    "baton_rouge.shape"
   ]
  },
  {
   "cell_type": "code",
   "execution_count": 56,
   "id": "90cc21e1",
   "metadata": {},
   "outputs": [],
   "source": [
    "baton_rouge.columns = baton_rouge.columns.str.lower().str.replace(\" \", \"_\")"
   ]
  },
  {
   "cell_type": "code",
   "execution_count": 57,
   "id": "0f59af5a",
   "metadata": {},
   "outputs": [],
   "source": [
    "#checking that all items in occurred column are correct format, so that they can be converted to datetime type\n",
    "baton_rouge = baton_rouge[baton_rouge[\"occurred\"].str.match(r'[\\d]{2}/[\\d]{2}/[\\d]{4} [\\d]{4}')]"
   ]
  },
  {
   "cell_type": "code",
   "execution_count": 58,
   "id": "01a36175",
   "metadata": {},
   "outputs": [],
   "source": [
    "baton_rouge[\"occurred\"] = pd.to_datetime(baton_rouge[\"occurred\"])"
   ]
  },
  {
   "cell_type": "code",
   "execution_count": 59,
   "id": "3406d34d",
   "metadata": {},
   "outputs": [
    {
     "data": {
      "text/plain": [
       "occurred                     490558\n",
       "file_number                  483246\n",
       "crime                        490558\n",
       "committed                    490558\n",
       "offense                      490558\n",
       "offense_description          490558\n",
       "full_address                 483246\n",
       "address_number               482429\n",
       "street_direction              80241\n",
       "street_name                  483246\n",
       "street_type                  466647\n",
       "city                         483246\n",
       "state                        483246\n",
       "zip_code                     487512\n",
       "district                     467436\n",
       "zone                         467436\n",
       "subzone                      467436\n",
       "complete_district            467436\n",
       "council_district             487243\n",
       "crime_prevention_district    487253\n",
       "geolocation                  483246\n",
       "dtype: int64"
      ]
     },
     "execution_count": 59,
     "metadata": {},
     "output_type": "execute_result"
    }
   ],
   "source": [
    "#checking that time and crime present in every column\n",
    "baton_rouge.count()"
   ]
  },
  {
   "cell_type": "code",
   "execution_count": 60,
   "id": "65a80cc7",
   "metadata": {},
   "outputs": [],
   "source": [
    "baton_rouge.to_csv(\"Data_Clean/Baton_Rouge.csv\")"
   ]
  },
  {
   "cell_type": "code",
   "execution_count": null,
   "id": "f738809a",
   "metadata": {},
   "outputs": [],
   "source": []
  },
  {
   "cell_type": "markdown",
   "id": "28d073da",
   "metadata": {},
   "source": [
    "# Boston, MA"
   ]
  },
  {
   "cell_type": "code",
   "execution_count": 61,
   "id": "85106643",
   "metadata": {},
   "outputs": [],
   "source": [
    "#doesnt have reported on date"
   ]
  },
  {
   "cell_type": "code",
   "execution_count": 62,
   "id": "53183b9b",
   "metadata": {},
   "outputs": [],
   "source": [
    "boston_2021 = pd.read_csv(\"Boston_Data/tmpp_u7gs36.csv\", dtype= {0: \"string\"}, parse_dates= [7])\n",
    "#retrieved 7/15/21"
   ]
  },
  {
   "cell_type": "code",
   "execution_count": 63,
   "id": "afd58986",
   "metadata": {},
   "outputs": [
    {
     "data": {
      "text/html": [
       "<div>\n",
       "<style scoped>\n",
       "    .dataframe tbody tr th:only-of-type {\n",
       "        vertical-align: middle;\n",
       "    }\n",
       "\n",
       "    .dataframe tbody tr th {\n",
       "        vertical-align: top;\n",
       "    }\n",
       "\n",
       "    .dataframe thead th {\n",
       "        text-align: right;\n",
       "    }\n",
       "</style>\n",
       "<table border=\"1\" class=\"dataframe\">\n",
       "  <thead>\n",
       "    <tr style=\"text-align: right;\">\n",
       "      <th></th>\n",
       "      <th>INCIDENT_NUMBER</th>\n",
       "      <th>OFFENSE_CODE</th>\n",
       "      <th>OFFENSE_CODE_GROUP</th>\n",
       "      <th>OFFENSE_DESCRIPTION</th>\n",
       "      <th>DISTRICT</th>\n",
       "      <th>REPORTING_AREA</th>\n",
       "      <th>SHOOTING</th>\n",
       "      <th>OCCURRED_ON_DATE</th>\n",
       "      <th>YEAR</th>\n",
       "      <th>MONTH</th>\n",
       "      <th>DAY_OF_WEEK</th>\n",
       "      <th>HOUR</th>\n",
       "      <th>UCR_PART</th>\n",
       "      <th>STREET</th>\n",
       "      <th>Lat</th>\n",
       "      <th>Long</th>\n",
       "      <th>Location</th>\n",
       "    </tr>\n",
       "  </thead>\n",
       "  <tbody>\n",
       "    <tr>\n",
       "      <th>0</th>\n",
       "      <td>PLTEST003</td>\n",
       "      <td>3114</td>\n",
       "      <td>NaN</td>\n",
       "      <td>INVESTIGATE PROPERTY</td>\n",
       "      <td>B2</td>\n",
       "      <td>289</td>\n",
       "      <td>0</td>\n",
       "      <td>2021-05-12 00:00:00</td>\n",
       "      <td>2021</td>\n",
       "      <td>5</td>\n",
       "      <td>Wednesday</td>\n",
       "      <td>0</td>\n",
       "      <td>NaN</td>\n",
       "      <td>SCHROEDER PLZ</td>\n",
       "      <td>42.333679</td>\n",
       "      <td>-71.091878</td>\n",
       "      <td>(42.3336792181085, -71.0918775461846)</td>\n",
       "    </tr>\n",
       "    <tr>\n",
       "      <th>1</th>\n",
       "      <td>PLTEST002</td>\n",
       "      <td>3114</td>\n",
       "      <td>NaN</td>\n",
       "      <td>INVESTIGATE PROPERTY</td>\n",
       "      <td>B2</td>\n",
       "      <td>289</td>\n",
       "      <td>0</td>\n",
       "      <td>2021-05-12 00:00:00</td>\n",
       "      <td>2021</td>\n",
       "      <td>5</td>\n",
       "      <td>Wednesday</td>\n",
       "      <td>0</td>\n",
       "      <td>NaN</td>\n",
       "      <td>SCHROEDER PLZ</td>\n",
       "      <td>42.333679</td>\n",
       "      <td>-71.091878</td>\n",
       "      <td>(42.3336792181085, -71.0918775461846)</td>\n",
       "    </tr>\n",
       "    <tr>\n",
       "      <th>2</th>\n",
       "      <td>PLTEST001</td>\n",
       "      <td>3114</td>\n",
       "      <td>NaN</td>\n",
       "      <td>INVESTIGATE PROPERTY</td>\n",
       "      <td>B2</td>\n",
       "      <td></td>\n",
       "      <td>0</td>\n",
       "      <td>2021-03-29 00:00:00</td>\n",
       "      <td>2021</td>\n",
       "      <td>3</td>\n",
       "      <td>Monday</td>\n",
       "      <td>0</td>\n",
       "      <td>NaN</td>\n",
       "      <td>SCHROEDER PLAZA</td>\n",
       "      <td>0.000000</td>\n",
       "      <td>0.000000</td>\n",
       "      <td>(0, 0)</td>\n",
       "    </tr>\n",
       "    <tr>\n",
       "      <th>3</th>\n",
       "      <td>312030979</td>\n",
       "      <td>3201</td>\n",
       "      <td>NaN</td>\n",
       "      <td>PROPERTY - LOST/ MISSING</td>\n",
       "      <td>E13</td>\n",
       "      <td>465</td>\n",
       "      <td>0</td>\n",
       "      <td>2021-03-22 00:00:00</td>\n",
       "      <td>2021</td>\n",
       "      <td>3</td>\n",
       "      <td>Monday</td>\n",
       "      <td>0</td>\n",
       "      <td>NaN</td>\n",
       "      <td>BLUE HILL AVE</td>\n",
       "      <td>42.284826</td>\n",
       "      <td>-71.091374</td>\n",
       "      <td>(42.2848257658049, -71.091373689388)</td>\n",
       "    </tr>\n",
       "    <tr>\n",
       "      <th>4</th>\n",
       "      <td>212996778</td>\n",
       "      <td>3301</td>\n",
       "      <td>NaN</td>\n",
       "      <td>VERBAL DISPUTE</td>\n",
       "      <td>C6</td>\n",
       "      <td>204</td>\n",
       "      <td>0</td>\n",
       "      <td>2021-02-01 06:20:00</td>\n",
       "      <td>2021</td>\n",
       "      <td>2</td>\n",
       "      <td>Monday</td>\n",
       "      <td>6</td>\n",
       "      <td>NaN</td>\n",
       "      <td>GILLETTE PARK</td>\n",
       "      <td>42.344125</td>\n",
       "      <td>-71.056853</td>\n",
       "      <td>(42.3441248392933, -71.0568533916328)</td>\n",
       "    </tr>\n",
       "  </tbody>\n",
       "</table>\n",
       "</div>"
      ],
      "text/plain": [
       "  INCIDENT_NUMBER  OFFENSE_CODE  OFFENSE_CODE_GROUP       OFFENSE_DESCRIPTION  \\\n",
       "0       PLTEST003          3114                 NaN      INVESTIGATE PROPERTY   \n",
       "1       PLTEST002          3114                 NaN      INVESTIGATE PROPERTY   \n",
       "2       PLTEST001          3114                 NaN      INVESTIGATE PROPERTY   \n",
       "3       312030979          3201                 NaN  PROPERTY - LOST/ MISSING   \n",
       "4       212996778          3301                 NaN            VERBAL DISPUTE   \n",
       "\n",
       "  DISTRICT REPORTING_AREA  SHOOTING    OCCURRED_ON_DATE  YEAR  MONTH  \\\n",
       "0       B2            289         0 2021-05-12 00:00:00  2021      5   \n",
       "1       B2            289         0 2021-05-12 00:00:00  2021      5   \n",
       "2       B2                        0 2021-03-29 00:00:00  2021      3   \n",
       "3      E13            465         0 2021-03-22 00:00:00  2021      3   \n",
       "4       C6            204         0 2021-02-01 06:20:00  2021      2   \n",
       "\n",
       "  DAY_OF_WEEK  HOUR  UCR_PART           STREET        Lat       Long  \\\n",
       "0   Wednesday     0       NaN    SCHROEDER PLZ  42.333679 -71.091878   \n",
       "1   Wednesday     0       NaN    SCHROEDER PLZ  42.333679 -71.091878   \n",
       "2      Monday     0       NaN  SCHROEDER PLAZA   0.000000   0.000000   \n",
       "3      Monday     0       NaN    BLUE HILL AVE  42.284826 -71.091374   \n",
       "4      Monday     6       NaN    GILLETTE PARK  42.344125 -71.056853   \n",
       "\n",
       "                                Location  \n",
       "0  (42.3336792181085, -71.0918775461846)  \n",
       "1  (42.3336792181085, -71.0918775461846)  \n",
       "2                                 (0, 0)  \n",
       "3   (42.2848257658049, -71.091373689388)  \n",
       "4  (42.3441248392933, -71.0568533916328)  "
      ]
     },
     "execution_count": 63,
     "metadata": {},
     "output_type": "execute_result"
    }
   ],
   "source": [
    "boston_2021.head()"
   ]
  },
  {
   "cell_type": "code",
   "execution_count": 64,
   "id": "70e13aaf",
   "metadata": {},
   "outputs": [
    {
     "data": {
      "text/plain": [
       "(36096, 17)"
      ]
     },
     "execution_count": 64,
     "metadata": {},
     "output_type": "execute_result"
    }
   ],
   "source": [
    "boston_2021.shape"
   ]
  },
  {
   "cell_type": "code",
   "execution_count": 65,
   "id": "1f43c64c",
   "metadata": {},
   "outputs": [],
   "source": [
    "boston_2021.columns = boston_2021.columns.str.lower()"
   ]
  },
  {
   "cell_type": "code",
   "execution_count": 66,
   "id": "1338db6e",
   "metadata": {},
   "outputs": [],
   "source": [
    "#incident_number = PLTEST... dont look like real crimes, might want to drop"
   ]
  },
  {
   "cell_type": "code",
   "execution_count": 67,
   "id": "5908a671",
   "metadata": {},
   "outputs": [
    {
     "data": {
      "text/plain": [
       "Timestamp('2021-01-01 00:00:00')"
      ]
     },
     "execution_count": 67,
     "metadata": {},
     "output_type": "execute_result"
    }
   ],
   "source": [
    "min(boston_2021['occurred_on_date'])"
   ]
  },
  {
   "cell_type": "code",
   "execution_count": 68,
   "id": "4cbc870a",
   "metadata": {},
   "outputs": [
    {
     "data": {
      "text/plain": [
       "Timestamp('2021-07-14 00:19:00')"
      ]
     },
     "execution_count": 68,
     "metadata": {},
     "output_type": "execute_result"
    }
   ],
   "source": [
    "max(boston_2021['occurred_on_date'])"
   ]
  },
  {
   "cell_type": "code",
   "execution_count": 69,
   "id": "a0209151",
   "metadata": {},
   "outputs": [
    {
     "data": {
      "text/plain": [
       "incident_number        36096\n",
       "offense_code           36096\n",
       "offense_code_group         0\n",
       "offense_description    36096\n",
       "district               35204\n",
       "reporting_area         36096\n",
       "shooting               36096\n",
       "occurred_on_date       36096\n",
       "year                   36096\n",
       "month                  36096\n",
       "day_of_week            36096\n",
       "hour                   36096\n",
       "ucr_part                   0\n",
       "street                 35417\n",
       "lat                    36096\n",
       "long                   36096\n",
       "location               36096\n",
       "dtype: int64"
      ]
     },
     "execution_count": 69,
     "metadata": {},
     "output_type": "execute_result"
    }
   ],
   "source": [
    "boston_2021.count()"
   ]
  },
  {
   "cell_type": "code",
   "execution_count": 70,
   "id": "5b66a62a",
   "metadata": {},
   "outputs": [],
   "source": [
    "#drop empty columns\n",
    "boston_2021.dropna(how = \"all\", axis = 1, inplace = True)"
   ]
  },
  {
   "cell_type": "code",
   "execution_count": null,
   "id": "50f4dd82",
   "metadata": {},
   "outputs": [],
   "source": []
  },
  {
   "cell_type": "code",
   "execution_count": null,
   "id": "2495b541",
   "metadata": {},
   "outputs": [],
   "source": []
  },
  {
   "cell_type": "code",
   "execution_count": 71,
   "id": "06680bbe",
   "metadata": {},
   "outputs": [],
   "source": [
    "boston_2020 = pd.read_csv(\"Boston_Data/script_113631134_20210423193017_combine.csv\", dtype={0: \"string\"}, parse_dates= [7])\n",
    "#retrieved 7/15/2021"
   ]
  },
  {
   "cell_type": "code",
   "execution_count": 72,
   "id": "9a4a3b39",
   "metadata": {},
   "outputs": [
    {
     "data": {
      "text/html": [
       "<div>\n",
       "<style scoped>\n",
       "    .dataframe tbody tr th:only-of-type {\n",
       "        vertical-align: middle;\n",
       "    }\n",
       "\n",
       "    .dataframe tbody tr th {\n",
       "        vertical-align: top;\n",
       "    }\n",
       "\n",
       "    .dataframe thead th {\n",
       "        text-align: right;\n",
       "    }\n",
       "</style>\n",
       "<table border=\"1\" class=\"dataframe\">\n",
       "  <thead>\n",
       "    <tr style=\"text-align: right;\">\n",
       "      <th></th>\n",
       "      <th>INCIDENT_NUMBER</th>\n",
       "      <th>OFFENSE_CODE</th>\n",
       "      <th>OFFENSE_CODE_GROUP</th>\n",
       "      <th>OFFENSE_DESCRIPTION</th>\n",
       "      <th>DISTRICT</th>\n",
       "      <th>REPORTING_AREA</th>\n",
       "      <th>SHOOTING</th>\n",
       "      <th>OCCURRED_ON_DATE</th>\n",
       "      <th>YEAR</th>\n",
       "      <th>MONTH</th>\n",
       "      <th>DAY_OF_WEEK</th>\n",
       "      <th>HOUR</th>\n",
       "      <th>UCR_PART</th>\n",
       "      <th>STREET</th>\n",
       "      <th>Lat</th>\n",
       "      <th>Long</th>\n",
       "      <th>Location</th>\n",
       "    </tr>\n",
       "  </thead>\n",
       "  <tbody>\n",
       "    <tr>\n",
       "      <th>0</th>\n",
       "      <td>854652314</td>\n",
       "      <td>3115</td>\n",
       "      <td>NaN</td>\n",
       "      <td>INVESTIGATE PERSON</td>\n",
       "      <td>B2</td>\n",
       "      <td>289</td>\n",
       "      <td>0</td>\n",
       "      <td>2020-02-20 00:00:00</td>\n",
       "      <td>2020</td>\n",
       "      <td>2</td>\n",
       "      <td>Thursday</td>\n",
       "      <td>0</td>\n",
       "      <td>NaN</td>\n",
       "      <td>SCHROEDER PLZ</td>\n",
       "      <td>42.333679</td>\n",
       "      <td>-71.091878</td>\n",
       "      <td>(42.3336792181085, -71.0918775461846)</td>\n",
       "    </tr>\n",
       "    <tr>\n",
       "      <th>1</th>\n",
       "      <td>457856954</td>\n",
       "      <td>3115</td>\n",
       "      <td>NaN</td>\n",
       "      <td>INVESTIGATE PERSON</td>\n",
       "      <td>B2</td>\n",
       "      <td>289</td>\n",
       "      <td>0</td>\n",
       "      <td>2020-02-21 01:42:00</td>\n",
       "      <td>2020</td>\n",
       "      <td>2</td>\n",
       "      <td>Friday</td>\n",
       "      <td>1</td>\n",
       "      <td>NaN</td>\n",
       "      <td>SCHROEDER PLZ</td>\n",
       "      <td>42.333679</td>\n",
       "      <td>-71.091878</td>\n",
       "      <td>(42.3336792181085, -71.0918775461846)</td>\n",
       "    </tr>\n",
       "    <tr>\n",
       "      <th>2</th>\n",
       "      <td>302030654</td>\n",
       "      <td>1106</td>\n",
       "      <td>NaN</td>\n",
       "      <td>FRAUD - CREDIT CARD / ATM FRAUD</td>\n",
       "      <td>D4</td>\n",
       "      <td>167</td>\n",
       "      <td>0</td>\n",
       "      <td>2020-04-24 13:00:00</td>\n",
       "      <td>2020</td>\n",
       "      <td>4</td>\n",
       "      <td>Friday</td>\n",
       "      <td>13</td>\n",
       "      <td>NaN</td>\n",
       "      <td>MASSACHUSETTS AVE</td>\n",
       "      <td>42.339542</td>\n",
       "      <td>-71.069409</td>\n",
       "      <td>(42.3395419898301, -71.0694087696754)</td>\n",
       "    </tr>\n",
       "    <tr>\n",
       "      <th>3</th>\n",
       "      <td>212025777</td>\n",
       "      <td>1108</td>\n",
       "      <td>NaN</td>\n",
       "      <td>FRAUD - WELFARE</td>\n",
       "      <td>A7</td>\n",
       "      <td>28</td>\n",
       "      <td>0</td>\n",
       "      <td>2020-05-01 00:00:00</td>\n",
       "      <td>2020</td>\n",
       "      <td>5</td>\n",
       "      <td>Friday</td>\n",
       "      <td>0</td>\n",
       "      <td>NaN</td>\n",
       "      <td>TRENTON ST</td>\n",
       "      <td>42.370818</td>\n",
       "      <td>-71.039291</td>\n",
       "      <td>(42.3708180467024, -71.0392907813515)</td>\n",
       "    </tr>\n",
       "    <tr>\n",
       "      <th>4</th>\n",
       "      <td>212025557</td>\n",
       "      <td>2670</td>\n",
       "      <td>NaN</td>\n",
       "      <td>HARASSMENT/ CRIMINAL HARASSMENT</td>\n",
       "      <td>A1</td>\n",
       "      <td>77</td>\n",
       "      <td>0</td>\n",
       "      <td>2020-09-07 00:00:00</td>\n",
       "      <td>2020</td>\n",
       "      <td>9</td>\n",
       "      <td>Monday</td>\n",
       "      <td>0</td>\n",
       "      <td>NaN</td>\n",
       "      <td>PRINCE ST</td>\n",
       "      <td>42.361839</td>\n",
       "      <td>-71.059765</td>\n",
       "      <td>(42.3618385665647, -71.0597648909416)</td>\n",
       "    </tr>\n",
       "  </tbody>\n",
       "</table>\n",
       "</div>"
      ],
      "text/plain": [
       "  INCIDENT_NUMBER  OFFENSE_CODE  OFFENSE_CODE_GROUP  \\\n",
       "0       854652314          3115                 NaN   \n",
       "1       457856954          3115                 NaN   \n",
       "2       302030654          1106                 NaN   \n",
       "3       212025777          1108                 NaN   \n",
       "4       212025557          2670                 NaN   \n",
       "\n",
       "               OFFENSE_DESCRIPTION DISTRICT REPORTING_AREA  SHOOTING  \\\n",
       "0               INVESTIGATE PERSON       B2            289         0   \n",
       "1               INVESTIGATE PERSON       B2            289         0   \n",
       "2  FRAUD - CREDIT CARD / ATM FRAUD       D4            167         0   \n",
       "3                  FRAUD - WELFARE       A7             28         0   \n",
       "4  HARASSMENT/ CRIMINAL HARASSMENT       A1             77         0   \n",
       "\n",
       "     OCCURRED_ON_DATE  YEAR  MONTH DAY_OF_WEEK  HOUR  UCR_PART  \\\n",
       "0 2020-02-20 00:00:00  2020      2    Thursday     0       NaN   \n",
       "1 2020-02-21 01:42:00  2020      2      Friday     1       NaN   \n",
       "2 2020-04-24 13:00:00  2020      4      Friday    13       NaN   \n",
       "3 2020-05-01 00:00:00  2020      5      Friday     0       NaN   \n",
       "4 2020-09-07 00:00:00  2020      9      Monday     0       NaN   \n",
       "\n",
       "              STREET        Lat       Long  \\\n",
       "0      SCHROEDER PLZ  42.333679 -71.091878   \n",
       "1      SCHROEDER PLZ  42.333679 -71.091878   \n",
       "2  MASSACHUSETTS AVE  42.339542 -71.069409   \n",
       "3         TRENTON ST  42.370818 -71.039291   \n",
       "4          PRINCE ST  42.361839 -71.059765   \n",
       "\n",
       "                                Location  \n",
       "0  (42.3336792181085, -71.0918775461846)  \n",
       "1  (42.3336792181085, -71.0918775461846)  \n",
       "2  (42.3395419898301, -71.0694087696754)  \n",
       "3  (42.3708180467024, -71.0392907813515)  \n",
       "4  (42.3618385665647, -71.0597648909416)  "
      ]
     },
     "execution_count": 72,
     "metadata": {},
     "output_type": "execute_result"
    }
   ],
   "source": [
    "boston_2020.head()"
   ]
  },
  {
   "cell_type": "code",
   "execution_count": 73,
   "id": "4536b534",
   "metadata": {},
   "outputs": [
    {
     "data": {
      "text/plain": [
       "(70894, 17)"
      ]
     },
     "execution_count": 73,
     "metadata": {},
     "output_type": "execute_result"
    }
   ],
   "source": [
    "boston_2020.shape"
   ]
  },
  {
   "cell_type": "code",
   "execution_count": 74,
   "id": "63d5519b",
   "metadata": {},
   "outputs": [
    {
     "data": {
      "text/plain": [
       "INCIDENT_NUMBER                string\n",
       "OFFENSE_CODE                    int64\n",
       "OFFENSE_CODE_GROUP            float64\n",
       "OFFENSE_DESCRIPTION            object\n",
       "DISTRICT                       object\n",
       "REPORTING_AREA                 object\n",
       "SHOOTING                        int64\n",
       "OCCURRED_ON_DATE       datetime64[ns]\n",
       "YEAR                            int64\n",
       "MONTH                           int64\n",
       "DAY_OF_WEEK                    object\n",
       "HOUR                            int64\n",
       "UCR_PART                      float64\n",
       "STREET                         object\n",
       "Lat                           float64\n",
       "Long                          float64\n",
       "Location                       object\n",
       "dtype: object"
      ]
     },
     "execution_count": 74,
     "metadata": {},
     "output_type": "execute_result"
    }
   ],
   "source": [
    "boston_2020.dtypes"
   ]
  },
  {
   "cell_type": "code",
   "execution_count": 75,
   "id": "a742bcec",
   "metadata": {},
   "outputs": [],
   "source": [
    "boston_2020.columns = boston_2020.columns.str.lower()"
   ]
  },
  {
   "cell_type": "code",
   "execution_count": 76,
   "id": "70a67ff9",
   "metadata": {},
   "outputs": [
    {
     "data": {
      "text/plain": [
       "Timestamp('2020-01-01 00:00:00')"
      ]
     },
     "execution_count": 76,
     "metadata": {},
     "output_type": "execute_result"
    }
   ],
   "source": [
    "min(boston_2020['occurred_on_date'])"
   ]
  },
  {
   "cell_type": "code",
   "execution_count": 77,
   "id": "e62c4df8",
   "metadata": {},
   "outputs": [
    {
     "data": {
      "text/plain": [
       "Timestamp('2020-12-31 23:55:00')"
      ]
     },
     "execution_count": 77,
     "metadata": {},
     "output_type": "execute_result"
    }
   ],
   "source": [
    "max(boston_2020['occurred_on_date'])"
   ]
  },
  {
   "cell_type": "code",
   "execution_count": 78,
   "id": "6e0f9df3",
   "metadata": {},
   "outputs": [
    {
     "data": {
      "text/plain": [
       "incident_number        70894\n",
       "offense_code           70894\n",
       "offense_code_group         0\n",
       "offense_description    70894\n",
       "district               70616\n",
       "reporting_area         70894\n",
       "shooting               70894\n",
       "occurred_on_date       70894\n",
       "year                   70894\n",
       "month                  70894\n",
       "day_of_week            70894\n",
       "hour                   70894\n",
       "ucr_part                   0\n",
       "street                 70893\n",
       "lat                    70894\n",
       "long                   70894\n",
       "location               70894\n",
       "dtype: int64"
      ]
     },
     "execution_count": 78,
     "metadata": {},
     "output_type": "execute_result"
    }
   ],
   "source": [
    "boston_2020.count()"
   ]
  },
  {
   "cell_type": "code",
   "execution_count": 79,
   "id": "2b4ccb21",
   "metadata": {},
   "outputs": [],
   "source": [
    "boston_2020.dropna(how = \"all\", axis = 1, inplace = True)"
   ]
  },
  {
   "cell_type": "code",
   "execution_count": 80,
   "id": "b97ff571",
   "metadata": {},
   "outputs": [
    {
     "data": {
      "text/plain": [
       "Index([], dtype='object')"
      ]
     },
     "execution_count": 80,
     "metadata": {},
     "output_type": "execute_result"
    }
   ],
   "source": [
    "#check both dfs have same columns\n",
    "diff = boston_2021.columns.difference(boston_2020.columns)\n",
    "diff"
   ]
  },
  {
   "cell_type": "code",
   "execution_count": 81,
   "id": "b19679df",
   "metadata": {},
   "outputs": [
    {
     "data": {
      "text/plain": [
       "(106990, 15)"
      ]
     },
     "execution_count": 81,
     "metadata": {},
     "output_type": "execute_result"
    }
   ],
   "source": [
    "#combine dfs\n",
    "start = boston_2020.shape[0]\n",
    "stop = boston_2020.shape[0] + boston_2021.shape[0]\n",
    "boston_2021.index = range(start, stop)\n",
    "boston_list = [boston_2020, boston_2021]\n",
    "boston = pd.concat(boston_list)\n",
    "boston.shape"
   ]
  },
  {
   "cell_type": "code",
   "execution_count": 82,
   "id": "8320a6a2",
   "metadata": {},
   "outputs": [],
   "source": [
    "boston.to_csv(\"Data_Clean/Boston.csv\")"
   ]
  },
  {
   "cell_type": "code",
   "execution_count": null,
   "id": "df285dd3",
   "metadata": {},
   "outputs": [],
   "source": []
  },
  {
   "cell_type": "markdown",
   "id": "99eb7eab",
   "metadata": {},
   "source": [
    "# Chicago, IL"
   ]
  },
  {
   "cell_type": "code",
   "execution_count": 83,
   "id": "ff7acfe2",
   "metadata": {},
   "outputs": [],
   "source": [
    "#Reported from 09/25/2020 to 07/18/2021"
   ]
  },
  {
   "cell_type": "code",
   "execution_count": 84,
   "id": "7d8bfd9c",
   "metadata": {},
   "outputs": [],
   "source": [
    "chicago = pd.read_csv(\"Chicago_Data/Crimes_-_2001_to_Present.csv\", parse_dates = [2, 18])\n",
    "#retrieved 7/19/21"
   ]
  },
  {
   "cell_type": "code",
   "execution_count": 85,
   "id": "bbf5ce55",
   "metadata": {},
   "outputs": [
    {
     "data": {
      "text/html": [
       "<div>\n",
       "<style scoped>\n",
       "    .dataframe tbody tr th:only-of-type {\n",
       "        vertical-align: middle;\n",
       "    }\n",
       "\n",
       "    .dataframe tbody tr th {\n",
       "        vertical-align: top;\n",
       "    }\n",
       "\n",
       "    .dataframe thead th {\n",
       "        text-align: right;\n",
       "    }\n",
       "</style>\n",
       "<table border=\"1\" class=\"dataframe\">\n",
       "  <thead>\n",
       "    <tr style=\"text-align: right;\">\n",
       "      <th></th>\n",
       "      <th>ID</th>\n",
       "      <th>Case Number</th>\n",
       "      <th>Date</th>\n",
       "      <th>Block</th>\n",
       "      <th>IUCR</th>\n",
       "      <th>Primary Type</th>\n",
       "      <th>Description</th>\n",
       "      <th>Location Description</th>\n",
       "      <th>Arrest</th>\n",
       "      <th>Domestic</th>\n",
       "      <th>...</th>\n",
       "      <th>Ward</th>\n",
       "      <th>Community Area</th>\n",
       "      <th>FBI Code</th>\n",
       "      <th>X Coordinate</th>\n",
       "      <th>Y Coordinate</th>\n",
       "      <th>Year</th>\n",
       "      <th>Updated On</th>\n",
       "      <th>Latitude</th>\n",
       "      <th>Longitude</th>\n",
       "      <th>Location</th>\n",
       "    </tr>\n",
       "  </thead>\n",
       "  <tbody>\n",
       "    <tr>\n",
       "      <th>0</th>\n",
       "      <td>10224738</td>\n",
       "      <td>HY411648</td>\n",
       "      <td>2015-09-05 13:30:00</td>\n",
       "      <td>043XX S WOOD ST</td>\n",
       "      <td>0486</td>\n",
       "      <td>BATTERY</td>\n",
       "      <td>DOMESTIC BATTERY SIMPLE</td>\n",
       "      <td>RESIDENCE</td>\n",
       "      <td>False</td>\n",
       "      <td>True</td>\n",
       "      <td>...</td>\n",
       "      <td>12.0</td>\n",
       "      <td>61.0</td>\n",
       "      <td>08B</td>\n",
       "      <td>1165074.0</td>\n",
       "      <td>1875917.0</td>\n",
       "      <td>2015</td>\n",
       "      <td>2018-02-10 15:50:01</td>\n",
       "      <td>41.815117</td>\n",
       "      <td>-87.670000</td>\n",
       "      <td>(41.815117282, -87.669999562)</td>\n",
       "    </tr>\n",
       "    <tr>\n",
       "      <th>1</th>\n",
       "      <td>10224739</td>\n",
       "      <td>HY411615</td>\n",
       "      <td>2015-09-04 11:30:00</td>\n",
       "      <td>008XX N CENTRAL AVE</td>\n",
       "      <td>0870</td>\n",
       "      <td>THEFT</td>\n",
       "      <td>POCKET-PICKING</td>\n",
       "      <td>CTA BUS</td>\n",
       "      <td>False</td>\n",
       "      <td>False</td>\n",
       "      <td>...</td>\n",
       "      <td>29.0</td>\n",
       "      <td>25.0</td>\n",
       "      <td>06</td>\n",
       "      <td>1138875.0</td>\n",
       "      <td>1904869.0</td>\n",
       "      <td>2015</td>\n",
       "      <td>2018-02-10 15:50:01</td>\n",
       "      <td>41.895080</td>\n",
       "      <td>-87.765400</td>\n",
       "      <td>(41.895080471, -87.765400451)</td>\n",
       "    </tr>\n",
       "    <tr>\n",
       "      <th>2</th>\n",
       "      <td>11646166</td>\n",
       "      <td>JC213529</td>\n",
       "      <td>2018-09-01 00:01:00</td>\n",
       "      <td>082XX S INGLESIDE AVE</td>\n",
       "      <td>0810</td>\n",
       "      <td>THEFT</td>\n",
       "      <td>OVER $500</td>\n",
       "      <td>RESIDENCE</td>\n",
       "      <td>False</td>\n",
       "      <td>True</td>\n",
       "      <td>...</td>\n",
       "      <td>8.0</td>\n",
       "      <td>44.0</td>\n",
       "      <td>06</td>\n",
       "      <td>NaN</td>\n",
       "      <td>NaN</td>\n",
       "      <td>2018</td>\n",
       "      <td>2019-04-06 16:04:43</td>\n",
       "      <td>NaN</td>\n",
       "      <td>NaN</td>\n",
       "      <td>NaN</td>\n",
       "    </tr>\n",
       "    <tr>\n",
       "      <th>3</th>\n",
       "      <td>10224740</td>\n",
       "      <td>HY411595</td>\n",
       "      <td>2015-09-05 12:45:00</td>\n",
       "      <td>035XX W BARRY AVE</td>\n",
       "      <td>2023</td>\n",
       "      <td>NARCOTICS</td>\n",
       "      <td>POSS: HEROIN(BRN/TAN)</td>\n",
       "      <td>SIDEWALK</td>\n",
       "      <td>True</td>\n",
       "      <td>False</td>\n",
       "      <td>...</td>\n",
       "      <td>35.0</td>\n",
       "      <td>21.0</td>\n",
       "      <td>18</td>\n",
       "      <td>1152037.0</td>\n",
       "      <td>1920384.0</td>\n",
       "      <td>2015</td>\n",
       "      <td>2018-02-10 15:50:01</td>\n",
       "      <td>41.937406</td>\n",
       "      <td>-87.716650</td>\n",
       "      <td>(41.937405765, -87.716649687)</td>\n",
       "    </tr>\n",
       "    <tr>\n",
       "      <th>4</th>\n",
       "      <td>10224741</td>\n",
       "      <td>HY411610</td>\n",
       "      <td>2015-09-05 13:00:00</td>\n",
       "      <td>0000X N LARAMIE AVE</td>\n",
       "      <td>0560</td>\n",
       "      <td>ASSAULT</td>\n",
       "      <td>SIMPLE</td>\n",
       "      <td>APARTMENT</td>\n",
       "      <td>False</td>\n",
       "      <td>True</td>\n",
       "      <td>...</td>\n",
       "      <td>28.0</td>\n",
       "      <td>25.0</td>\n",
       "      <td>08A</td>\n",
       "      <td>1141706.0</td>\n",
       "      <td>1900086.0</td>\n",
       "      <td>2015</td>\n",
       "      <td>2018-02-10 15:50:01</td>\n",
       "      <td>41.881903</td>\n",
       "      <td>-87.755121</td>\n",
       "      <td>(41.881903443, -87.755121152)</td>\n",
       "    </tr>\n",
       "  </tbody>\n",
       "</table>\n",
       "<p>5 rows × 22 columns</p>\n",
       "</div>"
      ],
      "text/plain": [
       "         ID Case Number                Date                  Block  IUCR  \\\n",
       "0  10224738    HY411648 2015-09-05 13:30:00        043XX S WOOD ST  0486   \n",
       "1  10224739    HY411615 2015-09-04 11:30:00    008XX N CENTRAL AVE  0870   \n",
       "2  11646166    JC213529 2018-09-01 00:01:00  082XX S INGLESIDE AVE  0810   \n",
       "3  10224740    HY411595 2015-09-05 12:45:00      035XX W BARRY AVE  2023   \n",
       "4  10224741    HY411610 2015-09-05 13:00:00    0000X N LARAMIE AVE  0560   \n",
       "\n",
       "  Primary Type              Description Location Description  Arrest  \\\n",
       "0      BATTERY  DOMESTIC BATTERY SIMPLE            RESIDENCE   False   \n",
       "1        THEFT           POCKET-PICKING              CTA BUS   False   \n",
       "2        THEFT                OVER $500            RESIDENCE   False   \n",
       "3    NARCOTICS    POSS: HEROIN(BRN/TAN)             SIDEWALK    True   \n",
       "4      ASSAULT                   SIMPLE            APARTMENT   False   \n",
       "\n",
       "   Domestic  ...  Ward  Community Area  FBI Code  X Coordinate Y Coordinate  \\\n",
       "0      True  ...  12.0            61.0       08B     1165074.0    1875917.0   \n",
       "1     False  ...  29.0            25.0        06     1138875.0    1904869.0   \n",
       "2      True  ...   8.0            44.0        06           NaN          NaN   \n",
       "3     False  ...  35.0            21.0        18     1152037.0    1920384.0   \n",
       "4      True  ...  28.0            25.0       08A     1141706.0    1900086.0   \n",
       "\n",
       "   Year          Updated On   Latitude  Longitude  \\\n",
       "0  2015 2018-02-10 15:50:01  41.815117 -87.670000   \n",
       "1  2015 2018-02-10 15:50:01  41.895080 -87.765400   \n",
       "2  2018 2019-04-06 16:04:43        NaN        NaN   \n",
       "3  2015 2018-02-10 15:50:01  41.937406 -87.716650   \n",
       "4  2015 2018-02-10 15:50:01  41.881903 -87.755121   \n",
       "\n",
       "                        Location  \n",
       "0  (41.815117282, -87.669999562)  \n",
       "1  (41.895080471, -87.765400451)  \n",
       "2                            NaN  \n",
       "3  (41.937405765, -87.716649687)  \n",
       "4  (41.881903443, -87.755121152)  \n",
       "\n",
       "[5 rows x 22 columns]"
      ]
     },
     "execution_count": 85,
     "metadata": {},
     "output_type": "execute_result"
    }
   ],
   "source": [
    "chicago.head()"
   ]
  },
  {
   "cell_type": "code",
   "execution_count": 86,
   "id": "5ab5cf9b",
   "metadata": {},
   "outputs": [
    {
     "data": {
      "text/plain": [
       "ID                               int64\n",
       "Case Number                     object\n",
       "Date                    datetime64[ns]\n",
       "Block                           object\n",
       "IUCR                            object\n",
       "Primary Type                    object\n",
       "Description                     object\n",
       "Location Description            object\n",
       "Arrest                            bool\n",
       "Domestic                          bool\n",
       "Beat                             int64\n",
       "District                       float64\n",
       "Ward                           float64\n",
       "Community Area                 float64\n",
       "FBI Code                        object\n",
       "X Coordinate                   float64\n",
       "Y Coordinate                   float64\n",
       "Year                             int64\n",
       "Updated On              datetime64[ns]\n",
       "Latitude                       float64\n",
       "Longitude                      float64\n",
       "Location                        object\n",
       "dtype: object"
      ]
     },
     "execution_count": 86,
     "metadata": {},
     "output_type": "execute_result"
    }
   ],
   "source": [
    "chicago.dtypes"
   ]
  },
  {
   "cell_type": "code",
   "execution_count": 87,
   "id": "90c30595",
   "metadata": {},
   "outputs": [],
   "source": [
    "chicago = chicago[chicago['Updated On'] >= \"2020-09-25\"]\n",
    "chicago.reset_index(drop = True, inplace = True)"
   ]
  },
  {
   "cell_type": "code",
   "execution_count": 88,
   "id": "c1914eb0",
   "metadata": {},
   "outputs": [
    {
     "data": {
      "text/plain": [
       "(167952, 22)"
      ]
     },
     "execution_count": 88,
     "metadata": {},
     "output_type": "execute_result"
    }
   ],
   "source": [
    "chicago.shape"
   ]
  },
  {
   "cell_type": "code",
   "execution_count": 89,
   "id": "80006758",
   "metadata": {},
   "outputs": [],
   "source": [
    "chicago.to_csv(\"Chicago_Data/Chicago.csv\")"
   ]
  },
  {
   "cell_type": "code",
   "execution_count": 90,
   "id": "6ee801b5",
   "metadata": {},
   "outputs": [],
   "source": [
    "#chicago = pd.read_csv(\"Chicago_Data/Chicago.csv\")"
   ]
  },
  {
   "cell_type": "code",
   "execution_count": 91,
   "id": "2b9bab02",
   "metadata": {},
   "outputs": [],
   "source": [
    "chicago.columns = chicago.columns.str.lower().str.replace(\" \", \"_\")"
   ]
  },
  {
   "cell_type": "code",
   "execution_count": 92,
   "id": "275e98e8",
   "metadata": {},
   "outputs": [
    {
     "data": {
      "text/plain": [
       "Timestamp('2020-09-25 15:48:19')"
      ]
     },
     "execution_count": 92,
     "metadata": {},
     "output_type": "execute_result"
    }
   ],
   "source": [
    "chicago.updated_on.min()"
   ]
  },
  {
   "cell_type": "code",
   "execution_count": 93,
   "id": "3b4d9644",
   "metadata": {},
   "outputs": [
    {
     "data": {
      "text/plain": [
       "Timestamp('2021-07-18 16:56:02')"
      ]
     },
     "execution_count": 93,
     "metadata": {},
     "output_type": "execute_result"
    }
   ],
   "source": [
    "chicago.updated_on.max()"
   ]
  },
  {
   "cell_type": "code",
   "execution_count": 94,
   "id": "4ba61b08",
   "metadata": {},
   "outputs": [
    {
     "data": {
      "text/plain": [
       "id                      167952\n",
       "case_number             167952\n",
       "date                    167952\n",
       "block                   167952\n",
       "iucr                    167952\n",
       "primary_type            167952\n",
       "description             167952\n",
       "location_description    166856\n",
       "arrest                  167952\n",
       "domestic                167952\n",
       "beat                    167952\n",
       "district                167952\n",
       "ward                    167894\n",
       "community_area          167901\n",
       "fbi_code                167952\n",
       "x_coordinate            163757\n",
       "y_coordinate            163757\n",
       "year                    167952\n",
       "updated_on              167952\n",
       "latitude                163757\n",
       "longitude               163757\n",
       "location                163757\n",
       "dtype: int64"
      ]
     },
     "execution_count": 94,
     "metadata": {},
     "output_type": "execute_result"
    }
   ],
   "source": [
    "chicago.count()"
   ]
  },
  {
   "cell_type": "code",
   "execution_count": 95,
   "id": "e544b614",
   "metadata": {},
   "outputs": [
    {
     "data": {
      "text/plain": [
       "Timestamp('2001-01-01 00:00:00')"
      ]
     },
     "execution_count": 95,
     "metadata": {},
     "output_type": "execute_result"
    }
   ],
   "source": [
    "min(chicago[\"date\"])"
   ]
  },
  {
   "cell_type": "code",
   "execution_count": 96,
   "id": "db0b620b",
   "metadata": {},
   "outputs": [
    {
     "data": {
      "text/plain": [
       "Timestamp('2021-07-11 23:55:00')"
      ]
     },
     "execution_count": 96,
     "metadata": {},
     "output_type": "execute_result"
    }
   ],
   "source": [
    "max(chicago[\"date\"])"
   ]
  },
  {
   "cell_type": "code",
   "execution_count": 97,
   "id": "bed502d3",
   "metadata": {},
   "outputs": [],
   "source": [
    "chicago.to_csv(\"Data_Clean/Chicago.csv\")"
   ]
  },
  {
   "cell_type": "code",
   "execution_count": null,
   "id": "89db6807",
   "metadata": {},
   "outputs": [],
   "source": []
  },
  {
   "cell_type": "markdown",
   "id": "ef1fcee3",
   "metadata": {},
   "source": [
    "# Cincinnati, OH"
   ]
  },
  {
   "cell_type": "code",
   "execution_count": 98,
   "id": "78ce706f",
   "metadata": {},
   "outputs": [],
   "source": [
    "#Reported between 10/02/2020 and 07/14/2021"
   ]
  },
  {
   "cell_type": "code",
   "execution_count": 99,
   "id": "ec46d6da",
   "metadata": {},
   "outputs": [
    {
     "name": "stderr",
     "output_type": "stream",
     "text": [
      "C:\\Users\\arezn\\anaconda3\\lib\\site-packages\\IPython\\core\\interactiveshell.py:3165: DtypeWarning: Columns (8,17) have mixed types.Specify dtype option on import or set low_memory=False.\n",
      "  has_raised = await self.run_ast_nodes(code_ast.body, cell_name,\n"
     ]
    }
   ],
   "source": [
    "cincinnati = pd.read_csv(\"Cincinnati_Data/PDI__Police_Data_Initiative__Crime_Incidents.csv\", dtype= {1 : \"string\"}, parse_dates= [2, 3, 4])\n",
    "#retrieved 7/16/21\n",
    "#throws warning re: column 8, 17; can fix if we end up using these (beat, rpt_area)"
   ]
  },
  {
   "cell_type": "code",
   "execution_count": 100,
   "id": "d04d924e",
   "metadata": {},
   "outputs": [
    {
     "data": {
      "text/html": [
       "<div>\n",
       "<style scoped>\n",
       "    .dataframe tbody tr th:only-of-type {\n",
       "        vertical-align: middle;\n",
       "    }\n",
       "\n",
       "    .dataframe tbody tr th {\n",
       "        vertical-align: top;\n",
       "    }\n",
       "\n",
       "    .dataframe thead th {\n",
       "        text-align: right;\n",
       "    }\n",
       "</style>\n",
       "<table border=\"1\" class=\"dataframe\">\n",
       "  <thead>\n",
       "    <tr style=\"text-align: right;\">\n",
       "      <th></th>\n",
       "      <th>INSTANCEID</th>\n",
       "      <th>INCIDENT_NO</th>\n",
       "      <th>DATE_REPORTED</th>\n",
       "      <th>DATE_FROM</th>\n",
       "      <th>DATE_TO</th>\n",
       "      <th>CLSD</th>\n",
       "      <th>UCR</th>\n",
       "      <th>DST</th>\n",
       "      <th>BEAT</th>\n",
       "      <th>OFFENSE</th>\n",
       "      <th>...</th>\n",
       "      <th>VICTIM_GENDER</th>\n",
       "      <th>SUSPECT_AGE</th>\n",
       "      <th>SUSPECT_RACE</th>\n",
       "      <th>SUSPECT_ETHNICITY</th>\n",
       "      <th>SUSPECT_GENDER</th>\n",
       "      <th>TOTALNUMBERVICTIMS</th>\n",
       "      <th>TOTALSUSPECTS</th>\n",
       "      <th>UCR_GROUP</th>\n",
       "      <th>COMMUNITY_COUNCIL_NEIGHBORHOOD</th>\n",
       "      <th>ZIP</th>\n",
       "    </tr>\n",
       "  </thead>\n",
       "  <tbody>\n",
       "    <tr>\n",
       "      <th>0</th>\n",
       "      <td>75092BE1-203C-4251-A197-6A4CD492E803</td>\n",
       "      <td>129023054</td>\n",
       "      <td>2012-08-15 19:40:00</td>\n",
       "      <td>2012-08-15 01:00:00</td>\n",
       "      <td>08/15/2012 09:00:00 AM</td>\n",
       "      <td>Z--EARLY CLOSED</td>\n",
       "      <td>551.0</td>\n",
       "      <td>2</td>\n",
       "      <td>1</td>\n",
       "      <td>BURGLARY</td>\n",
       "      <td>...</td>\n",
       "      <td>FEMALE</td>\n",
       "      <td>UNKNOWN</td>\n",
       "      <td>NaN</td>\n",
       "      <td>NaN</td>\n",
       "      <td>NaN</td>\n",
       "      <td>1.0</td>\n",
       "      <td>NaN</td>\n",
       "      <td>BURGLARY/BREAKING ENTERING</td>\n",
       "      <td>NaN</td>\n",
       "      <td>45206.0</td>\n",
       "    </tr>\n",
       "    <tr>\n",
       "      <th>1</th>\n",
       "      <td>D229DDF6-0F66-4AC5-AD13-7F83D2566A91</td>\n",
       "      <td>179006481</td>\n",
       "      <td>2017-03-02 17:16:00</td>\n",
       "      <td>2017-03-02 17:10:00</td>\n",
       "      <td>03/02/2017 05:15:00 PM</td>\n",
       "      <td>J--CLOSED</td>\n",
       "      <td>810.0</td>\n",
       "      <td>3</td>\n",
       "      <td>2</td>\n",
       "      <td>ASSAULT</td>\n",
       "      <td>...</td>\n",
       "      <td>MALE</td>\n",
       "      <td>31-40</td>\n",
       "      <td>WHITE</td>\n",
       "      <td>NOT OF HISPANIC ORIG</td>\n",
       "      <td>MALE</td>\n",
       "      <td>1.0</td>\n",
       "      <td>1.0</td>\n",
       "      <td>PART 2 MINOR</td>\n",
       "      <td>NaN</td>\n",
       "      <td>45205.0</td>\n",
       "    </tr>\n",
       "    <tr>\n",
       "      <th>2</th>\n",
       "      <td>961D1BFE-C1BB-4B44-A8F9-2599F7C83249</td>\n",
       "      <td>179020029</td>\n",
       "      <td>2017-06-01 10:35:00</td>\n",
       "      <td>2017-06-01 10:25:00</td>\n",
       "      <td>06/01/2017 10:30:00 AM</td>\n",
       "      <td>J--CLOSED</td>\n",
       "      <td>600.0</td>\n",
       "      <td>5</td>\n",
       "      <td>2</td>\n",
       "      <td>THEFT</td>\n",
       "      <td>...</td>\n",
       "      <td>MALE</td>\n",
       "      <td>UNKNOWN</td>\n",
       "      <td>NaN</td>\n",
       "      <td>NaN</td>\n",
       "      <td>NaN</td>\n",
       "      <td>1.0</td>\n",
       "      <td>NaN</td>\n",
       "      <td>THEFT</td>\n",
       "      <td>NaN</td>\n",
       "      <td>45225.0</td>\n",
       "    </tr>\n",
       "    <tr>\n",
       "      <th>3</th>\n",
       "      <td>847165DB-0557-4E36-8692-900D6C456055</td>\n",
       "      <td>129005579</td>\n",
       "      <td>2012-03-04 03:11:00</td>\n",
       "      <td>2012-03-04 03:10:00</td>\n",
       "      <td>03/04/2012 03:11:00 AM</td>\n",
       "      <td>F--CLEARED BY ARREST - ADULT</td>\n",
       "      <td>301.0</td>\n",
       "      <td>5</td>\n",
       "      <td>1</td>\n",
       "      <td>ROBBERY</td>\n",
       "      <td>...</td>\n",
       "      <td>MALE</td>\n",
       "      <td>UNKNOWN</td>\n",
       "      <td>UNKNOWN</td>\n",
       "      <td>UNKNOWN</td>\n",
       "      <td>MALE</td>\n",
       "      <td>1.0</td>\n",
       "      <td>1.0</td>\n",
       "      <td>ROBBERY</td>\n",
       "      <td>NaN</td>\n",
       "      <td>45219.0</td>\n",
       "    </tr>\n",
       "    <tr>\n",
       "      <th>4</th>\n",
       "      <td>C1292536-04EB-42BC-9B80-263D731ABD0E</td>\n",
       "      <td>179053792</td>\n",
       "      <td>2017-12-17 09:53:00</td>\n",
       "      <td>2017-12-10 18:00:00</td>\n",
       "      <td>12/11/2017 08:00:00 AM</td>\n",
       "      <td>Z--EARLY CLOSED</td>\n",
       "      <td>600.0</td>\n",
       "      <td>5</td>\n",
       "      <td>2</td>\n",
       "      <td>THEFT</td>\n",
       "      <td>...</td>\n",
       "      <td>MALE</td>\n",
       "      <td>UNKNOWN</td>\n",
       "      <td>NaN</td>\n",
       "      <td>NaN</td>\n",
       "      <td>NaN</td>\n",
       "      <td>2.0</td>\n",
       "      <td>NaN</td>\n",
       "      <td>THEFT</td>\n",
       "      <td>NaN</td>\n",
       "      <td>45225.0</td>\n",
       "    </tr>\n",
       "  </tbody>\n",
       "</table>\n",
       "<p>5 rows × 40 columns</p>\n",
       "</div>"
      ],
      "text/plain": [
       "                             INSTANCEID INCIDENT_NO       DATE_REPORTED  \\\n",
       "0  75092BE1-203C-4251-A197-6A4CD492E803   129023054 2012-08-15 19:40:00   \n",
       "1  D229DDF6-0F66-4AC5-AD13-7F83D2566A91   179006481 2017-03-02 17:16:00   \n",
       "2  961D1BFE-C1BB-4B44-A8F9-2599F7C83249   179020029 2017-06-01 10:35:00   \n",
       "3  847165DB-0557-4E36-8692-900D6C456055   129005579 2012-03-04 03:11:00   \n",
       "4  C1292536-04EB-42BC-9B80-263D731ABD0E   179053792 2017-12-17 09:53:00   \n",
       "\n",
       "            DATE_FROM                 DATE_TO                          CLSD  \\\n",
       "0 2012-08-15 01:00:00  08/15/2012 09:00:00 AM               Z--EARLY CLOSED   \n",
       "1 2017-03-02 17:10:00  03/02/2017 05:15:00 PM                     J--CLOSED   \n",
       "2 2017-06-01 10:25:00  06/01/2017 10:30:00 AM                     J--CLOSED   \n",
       "3 2012-03-04 03:10:00  03/04/2012 03:11:00 AM  F--CLEARED BY ARREST - ADULT   \n",
       "4 2017-12-10 18:00:00  12/11/2017 08:00:00 AM               Z--EARLY CLOSED   \n",
       "\n",
       "     UCR DST BEAT   OFFENSE  ... VICTIM_GENDER SUSPECT_AGE SUSPECT_RACE  \\\n",
       "0  551.0   2    1  BURGLARY  ...        FEMALE     UNKNOWN          NaN   \n",
       "1  810.0   3    2   ASSAULT  ...          MALE       31-40        WHITE   \n",
       "2  600.0   5    2     THEFT  ...          MALE     UNKNOWN          NaN   \n",
       "3  301.0   5    1   ROBBERY  ...          MALE     UNKNOWN      UNKNOWN   \n",
       "4  600.0   5    2     THEFT  ...          MALE     UNKNOWN          NaN   \n",
       "\n",
       "      SUSPECT_ETHNICITY SUSPECT_GENDER TOTALNUMBERVICTIMS TOTALSUSPECTS  \\\n",
       "0                   NaN            NaN                1.0           NaN   \n",
       "1  NOT OF HISPANIC ORIG           MALE                1.0           1.0   \n",
       "2                   NaN            NaN                1.0           NaN   \n",
       "3               UNKNOWN           MALE                1.0           1.0   \n",
       "4                   NaN            NaN                2.0           NaN   \n",
       "\n",
       "                    UCR_GROUP COMMUNITY_COUNCIL_NEIGHBORHOOD      ZIP  \n",
       "0  BURGLARY/BREAKING ENTERING                            NaN  45206.0  \n",
       "1                PART 2 MINOR                            NaN  45205.0  \n",
       "2                       THEFT                            NaN  45225.0  \n",
       "3                     ROBBERY                            NaN  45219.0  \n",
       "4                       THEFT                            NaN  45225.0  \n",
       "\n",
       "[5 rows x 40 columns]"
      ]
     },
     "execution_count": 100,
     "metadata": {},
     "output_type": "execute_result"
    }
   ],
   "source": [
    "cincinnati.head()"
   ]
  },
  {
   "cell_type": "code",
   "execution_count": 101,
   "id": "7fc13954",
   "metadata": {},
   "outputs": [],
   "source": [
    "cincinnati.columns = cincinnati.columns.str.lower()"
   ]
  },
  {
   "cell_type": "code",
   "execution_count": 102,
   "id": "e664926c",
   "metadata": {
    "scrolled": true
   },
   "outputs": [
    {
     "data": {
      "text/plain": [
       "instanceid                                object\n",
       "incident_no                               string\n",
       "date_reported                     datetime64[ns]\n",
       "date_from                         datetime64[ns]\n",
       "date_to                                   object\n",
       "clsd                                      object\n",
       "ucr                                      float64\n",
       "dst                                       object\n",
       "beat                                      object\n",
       "offense                                   object\n",
       "location                                  object\n",
       "theft_code                                object\n",
       "floor                                     object\n",
       "side                                      object\n",
       "opening                                   object\n",
       "hate_bias                                 object\n",
       "dayofweek                                 object\n",
       "rpt_area                                  object\n",
       "cpd_neighborhood                          object\n",
       "sna_neighborhood                          object\n",
       "weapons                                   object\n",
       "date_of_clearance                         object\n",
       "hour_from                                float64\n",
       "hour_to                                  float64\n",
       "address_x                                 object\n",
       "longitude_x                              float64\n",
       "latitude_x                               float64\n",
       "victim_age                                object\n",
       "victim_race                               object\n",
       "victim_ethnicity                          object\n",
       "victim_gender                             object\n",
       "suspect_age                               object\n",
       "suspect_race                              object\n",
       "suspect_ethnicity                         object\n",
       "suspect_gender                            object\n",
       "totalnumbervictims                       float64\n",
       "totalsuspects                            float64\n",
       "ucr_group                                 object\n",
       "community_council_neighborhood            object\n",
       "zip                                      float64\n",
       "dtype: object"
      ]
     },
     "execution_count": 102,
     "metadata": {},
     "output_type": "execute_result"
    }
   ],
   "source": [
    "cincinnati.dtypes"
   ]
  },
  {
   "cell_type": "code",
   "execution_count": 103,
   "id": "6d0d1e47",
   "metadata": {},
   "outputs": [],
   "source": [
    "#filter out items already in SQL db\n",
    "cincinnati = cincinnati[cincinnati['date_reported'] >= '2020-10-02']\n",
    "cincinnati.reset_index(drop = True, inplace = True)"
   ]
  },
  {
   "cell_type": "code",
   "execution_count": 104,
   "id": "d0a50d84",
   "metadata": {},
   "outputs": [
    {
     "data": {
      "text/plain": [
       "Timestamp('2020-10-02 00:20:00')"
      ]
     },
     "execution_count": 104,
     "metadata": {},
     "output_type": "execute_result"
    }
   ],
   "source": [
    "min(cincinnati[\"date_reported\"])"
   ]
  },
  {
   "cell_type": "code",
   "execution_count": 105,
   "id": "31009ef4",
   "metadata": {},
   "outputs": [
    {
     "data": {
      "text/plain": [
       "Timestamp('2021-07-14 02:41:05')"
      ]
     },
     "execution_count": 105,
     "metadata": {},
     "output_type": "execute_result"
    }
   ],
   "source": [
    "max(cincinnati[\"date_reported\"])"
   ]
  },
  {
   "cell_type": "code",
   "execution_count": 106,
   "id": "2f31341a",
   "metadata": {},
   "outputs": [
    {
     "data": {
      "text/plain": [
       "(24515, 40)"
      ]
     },
     "execution_count": 106,
     "metadata": {},
     "output_type": "execute_result"
    }
   ],
   "source": [
    "cincinnati.shape"
   ]
  },
  {
   "cell_type": "code",
   "execution_count": 107,
   "id": "6968788d",
   "metadata": {},
   "outputs": [],
   "source": [
    "cincinnati[\"date_to\"] = pd.to_datetime(cincinnati[\"date_to\"])"
   ]
  },
  {
   "cell_type": "code",
   "execution_count": 108,
   "id": "fef014c9",
   "metadata": {},
   "outputs": [
    {
     "data": {
      "text/plain": [
       "Timestamp('1991-01-01 00:00:00')"
      ]
     },
     "execution_count": 108,
     "metadata": {},
     "output_type": "execute_result"
    }
   ],
   "source": [
    "min(cincinnati[\"date_from\"])"
   ]
  },
  {
   "cell_type": "code",
   "execution_count": 109,
   "id": "ebe760ff",
   "metadata": {},
   "outputs": [
    {
     "data": {
      "text/plain": [
       "Timestamp('2021-07-14 01:00:00')"
      ]
     },
     "execution_count": 109,
     "metadata": {},
     "output_type": "execute_result"
    }
   ],
   "source": [
    "max(cincinnati[\"date_from\"])"
   ]
  },
  {
   "cell_type": "code",
   "execution_count": 110,
   "id": "24b29e43",
   "metadata": {
    "scrolled": true
   },
   "outputs": [
    {
     "data": {
      "text/plain": [
       "instanceid                        24515\n",
       "incident_no                       24515\n",
       "date_reported                     24515\n",
       "date_from                         24515\n",
       "date_to                           24488\n",
       "clsd                              23960\n",
       "ucr                               24504\n",
       "dst                               24515\n",
       "beat                              24445\n",
       "offense                           24505\n",
       "location                          24514\n",
       "theft_code                         8084\n",
       "floor                              1855\n",
       "side                               1868\n",
       "opening                            1288\n",
       "hate_bias                         24514\n",
       "dayofweek                         23807\n",
       "rpt_area                          24224\n",
       "cpd_neighborhood                  24214\n",
       "sna_neighborhood                  21752\n",
       "weapons                           24513\n",
       "date_of_clearance                 21893\n",
       "hour_from                         24515\n",
       "hour_to                           24488\n",
       "address_x                         24251\n",
       "longitude_x                       21569\n",
       "latitude_x                        21569\n",
       "victim_age                        24514\n",
       "victim_race                       21320\n",
       "victim_ethnicity                  21321\n",
       "victim_gender                     21321\n",
       "suspect_age                       24515\n",
       "suspect_race                      13514\n",
       "suspect_ethnicity                 13514\n",
       "suspect_gender                    13514\n",
       "totalnumbervictims                24464\n",
       "totalsuspects                     13513\n",
       "ucr_group                         24504\n",
       "community_council_neighborhood    21752\n",
       "zip                               24373\n",
       "dtype: int64"
      ]
     },
     "execution_count": 110,
     "metadata": {},
     "output_type": "execute_result"
    }
   ],
   "source": [
    "cincinnati.count()"
   ]
  },
  {
   "cell_type": "code",
   "execution_count": 111,
   "id": "dfffc78b",
   "metadata": {},
   "outputs": [],
   "source": [
    "#drop all rows with no crime listed\n",
    "cincinnati.dropna(subset = ['offense'], inplace= True)"
   ]
  },
  {
   "cell_type": "code",
   "execution_count": 112,
   "id": "4011cdc1",
   "metadata": {},
   "outputs": [],
   "source": [
    "cincinnati.to_csv(\"Data_Clean/Cincinnati.csv\")"
   ]
  },
  {
   "cell_type": "code",
   "execution_count": null,
   "id": "54653f64",
   "metadata": {},
   "outputs": [],
   "source": []
  },
  {
   "cell_type": "markdown",
   "id": "21796a9c",
   "metadata": {},
   "source": [
    "# Dallas, TX"
   ]
  },
  {
   "cell_type": "code",
   "execution_count": 113,
   "id": "195fb035",
   "metadata": {},
   "outputs": [],
   "source": [
    "# Reported between 10/08/2020 - 07/16/2021"
   ]
  },
  {
   "cell_type": "code",
   "execution_count": 114,
   "id": "0a3e2187",
   "metadata": {},
   "outputs": [
    {
     "name": "stderr",
     "output_type": "stream",
     "text": [
      "C:\\Users\\arezn\\anaconda3\\lib\\site-packages\\IPython\\core\\interactiveshell.py:3165: DtypeWarning: Columns (41,52,57,64) have mixed types.Specify dtype option on import or set low_memory=False.\n",
      "  has_raised = await self.run_ast_nodes(code_ast.body, cell_name,\n"
     ]
    }
   ],
   "source": [
    "dallas = pd.read_csv(\"Dallas_Data/Police_Incidents.csv\", parse_dates= [17, 23, 30])\n",
    "#retrieved 7/16/21\n",
    "#error for columns: Special Report (Pre-RMS), Victim Zip Code, Victim Business Phone, Reviewing Officer Badge No"
   ]
  },
  {
   "cell_type": "code",
   "execution_count": 115,
   "id": "396ae098",
   "metadata": {},
   "outputs": [
    {
     "data": {
      "text/html": [
       "<div>\n",
       "<style scoped>\n",
       "    .dataframe tbody tr th:only-of-type {\n",
       "        vertical-align: middle;\n",
       "    }\n",
       "\n",
       "    .dataframe tbody tr th {\n",
       "        vertical-align: top;\n",
       "    }\n",
       "\n",
       "    .dataframe thead th {\n",
       "        text-align: right;\n",
       "    }\n",
       "</style>\n",
       "<table border=\"1\" class=\"dataframe\">\n",
       "  <thead>\n",
       "    <tr style=\"text-align: right;\">\n",
       "      <th></th>\n",
       "      <th>Incident Number w/year</th>\n",
       "      <th>Year of Incident</th>\n",
       "      <th>Service Number ID</th>\n",
       "      <th>Watch</th>\n",
       "      <th>Call (911) Problem</th>\n",
       "      <th>Type of Incident</th>\n",
       "      <th>Type  Location</th>\n",
       "      <th>Type of Property</th>\n",
       "      <th>Incident Address</th>\n",
       "      <th>Apartment Number</th>\n",
       "      <th>...</th>\n",
       "      <th>NIBRS Code</th>\n",
       "      <th>NIBRS Group</th>\n",
       "      <th>NIBRS Type</th>\n",
       "      <th>Update Date</th>\n",
       "      <th>X Coordinate</th>\n",
       "      <th>Y Cordinate</th>\n",
       "      <th>Zip Code</th>\n",
       "      <th>City</th>\n",
       "      <th>State</th>\n",
       "      <th>Location1</th>\n",
       "    </tr>\n",
       "  </thead>\n",
       "  <tbody>\n",
       "    <tr>\n",
       "      <th>0</th>\n",
       "      <td>231703-2016</td>\n",
       "      <td>2016</td>\n",
       "      <td>231703-2016-01</td>\n",
       "      <td>1</td>\n",
       "      <td>11V - BURG MOTOR VEH</td>\n",
       "      <td>BMV (OF AUTO ACCESSORY) (P.C. 30.04(A))</td>\n",
       "      <td>Apartment Parking Lot</td>\n",
       "      <td>NaN</td>\n",
       "      <td>13525 KIT LN</td>\n",
       "      <td>207</td>\n",
       "      <td>...</td>\n",
       "      <td>NaN</td>\n",
       "      <td>NaN</td>\n",
       "      <td>NaN</td>\n",
       "      <td>2016-10-04 07:56:32.0000000</td>\n",
       "      <td>2.501256e+06</td>\n",
       "      <td>7.026086e+06</td>\n",
       "      <td>75240.0</td>\n",
       "      <td>DALLAS</td>\n",
       "      <td>TX</td>\n",
       "      <td>13525 KIT LN\\nDALLAS, TX 75240\\n(32.930649, -9...</td>\n",
       "    </tr>\n",
       "    <tr>\n",
       "      <th>1</th>\n",
       "      <td>035860-2019</td>\n",
       "      <td>2019</td>\n",
       "      <td>035860-2019-01</td>\n",
       "      <td>3</td>\n",
       "      <td>11V - BURG MOTOR VEH</td>\n",
       "      <td>BMV</td>\n",
       "      <td>NaN</td>\n",
       "      <td>NaN</td>\n",
       "      <td>1300 N FITZHUGH AVE</td>\n",
       "      <td>NaN</td>\n",
       "      <td>...</td>\n",
       "      <td>23F</td>\n",
       "      <td>A</td>\n",
       "      <td>Coded</td>\n",
       "      <td>2019-03-01 12:35:25.0000000</td>\n",
       "      <td>2.499307e+06</td>\n",
       "      <td>6.979369e+06</td>\n",
       "      <td>75204.0</td>\n",
       "      <td>DALLAS</td>\n",
       "      <td>TX</td>\n",
       "      <td>1300 N FITZHUGH AVE\\nDALLAS, TX 75204\\n(32.802...</td>\n",
       "    </tr>\n",
       "    <tr>\n",
       "      <th>2</th>\n",
       "      <td>040250-2020</td>\n",
       "      <td>2020</td>\n",
       "      <td>040250-2020-01</td>\n",
       "      <td>2</td>\n",
       "      <td>40/01 - OTHER</td>\n",
       "      <td>UNEXPLAINED DEATH (NO OFFENSE)</td>\n",
       "      <td>NaN</td>\n",
       "      <td>NaN</td>\n",
       "      <td>8728 FENCHURCH RD</td>\n",
       "      <td>NaN</td>\n",
       "      <td>...</td>\n",
       "      <td>999</td>\n",
       "      <td>C</td>\n",
       "      <td>999 - No Coded</td>\n",
       "      <td>2020-07-03 11:11:28.0000000</td>\n",
       "      <td>2.516451e+06</td>\n",
       "      <td>7.003242e+06</td>\n",
       "      <td>75238.0</td>\n",
       "      <td>DALLAS</td>\n",
       "      <td>TX</td>\n",
       "      <td>8728 FENCHURCH RD\\nDALLAS, TX 75238\\n(32.86773...</td>\n",
       "    </tr>\n",
       "    <tr>\n",
       "      <th>3</th>\n",
       "      <td>065826-2019</td>\n",
       "      <td>2019</td>\n",
       "      <td>065826-2019-01</td>\n",
       "      <td>1</td>\n",
       "      <td>27 - DEAD PERSON</td>\n",
       "      <td>UNEXPLAINED DEATH (NO OFFENSE)</td>\n",
       "      <td>NaN</td>\n",
       "      <td>NaN</td>\n",
       "      <td>5353 KELLER SPRINGS RD</td>\n",
       "      <td>714</td>\n",
       "      <td>...</td>\n",
       "      <td>999</td>\n",
       "      <td>C</td>\n",
       "      <td>999 - No Coded</td>\n",
       "      <td>2019-05-02 20:59:53.0000000</td>\n",
       "      <td>2.484702e+06</td>\n",
       "      <td>7.039812e+06</td>\n",
       "      <td>75248.0</td>\n",
       "      <td>DALLAS</td>\n",
       "      <td>TX</td>\n",
       "      <td>5353 KELLER SPRINGS RD\\nDALLAS, TX 75248\\n(32....</td>\n",
       "    </tr>\n",
       "    <tr>\n",
       "      <th>4</th>\n",
       "      <td>033439-2019</td>\n",
       "      <td>2019</td>\n",
       "      <td>033439-2019-01</td>\n",
       "      <td>2</td>\n",
       "      <td>40/01 - OTHER</td>\n",
       "      <td>UNEXPLAINED DEATH (NO OFFENSE)</td>\n",
       "      <td>NaN</td>\n",
       "      <td>NaN</td>\n",
       "      <td>11209 LANEWOOD CIR</td>\n",
       "      <td>NaN</td>\n",
       "      <td>...</td>\n",
       "      <td>999</td>\n",
       "      <td>C</td>\n",
       "      <td>999 - No Coded</td>\n",
       "      <td>2019-05-02 20:23:11.0000000</td>\n",
       "      <td>2.524465e+06</td>\n",
       "      <td>6.999501e+06</td>\n",
       "      <td>75218.0</td>\n",
       "      <td>DALLAS</td>\n",
       "      <td>TX</td>\n",
       "      <td>11209 LANEWOOD CIR\\nDALLAS, TX 75218\\n(32.8567...</td>\n",
       "    </tr>\n",
       "  </tbody>\n",
       "</table>\n",
       "<p>5 rows × 100 columns</p>\n",
       "</div>"
      ],
      "text/plain": [
       "  Incident Number w/year  Year of Incident Service Number ID  Watch  \\\n",
       "0            231703-2016              2016    231703-2016-01      1   \n",
       "1            035860-2019              2019    035860-2019-01      3   \n",
       "2            040250-2020              2020    040250-2020-01      2   \n",
       "3            065826-2019              2019    065826-2019-01      1   \n",
       "4            033439-2019              2019    033439-2019-01      2   \n",
       "\n",
       "     Call (911) Problem                         Type of Incident  \\\n",
       "0  11V - BURG MOTOR VEH  BMV (OF AUTO ACCESSORY) (P.C. 30.04(A))   \n",
       "1  11V - BURG MOTOR VEH                                      BMV   \n",
       "2         40/01 - OTHER           UNEXPLAINED DEATH (NO OFFENSE)   \n",
       "3      27 - DEAD PERSON           UNEXPLAINED DEATH (NO OFFENSE)   \n",
       "4         40/01 - OTHER           UNEXPLAINED DEATH (NO OFFENSE)   \n",
       "\n",
       "          Type  Location Type of Property        Incident Address  \\\n",
       "0  Apartment Parking Lot              NaN            13525 KIT LN   \n",
       "1                    NaN              NaN     1300 N FITZHUGH AVE   \n",
       "2                    NaN              NaN       8728 FENCHURCH RD   \n",
       "3                    NaN              NaN  5353 KELLER SPRINGS RD   \n",
       "4                    NaN              NaN      11209 LANEWOOD CIR   \n",
       "\n",
       "  Apartment Number  ...  NIBRS Code  NIBRS Group      NIBRS Type  \\\n",
       "0              207  ...         NaN          NaN             NaN   \n",
       "1              NaN  ...         23F            A           Coded   \n",
       "2              NaN  ...         999            C  999 - No Coded   \n",
       "3              714  ...         999            C  999 - No Coded   \n",
       "4              NaN  ...         999            C  999 - No Coded   \n",
       "\n",
       "                   Update Date  X Coordinate   Y Cordinate Zip Code    City  \\\n",
       "0  2016-10-04 07:56:32.0000000  2.501256e+06  7.026086e+06  75240.0  DALLAS   \n",
       "1  2019-03-01 12:35:25.0000000  2.499307e+06  6.979369e+06  75204.0  DALLAS   \n",
       "2  2020-07-03 11:11:28.0000000  2.516451e+06  7.003242e+06  75238.0  DALLAS   \n",
       "3  2019-05-02 20:59:53.0000000  2.484702e+06  7.039812e+06  75248.0  DALLAS   \n",
       "4  2019-05-02 20:23:11.0000000  2.524465e+06  6.999501e+06  75218.0  DALLAS   \n",
       "\n",
       "   State                                          Location1  \n",
       "0     TX  13525 KIT LN\\nDALLAS, TX 75240\\n(32.930649, -9...  \n",
       "1     TX  1300 N FITZHUGH AVE\\nDALLAS, TX 75204\\n(32.802...  \n",
       "2     TX  8728 FENCHURCH RD\\nDALLAS, TX 75238\\n(32.86773...  \n",
       "3     TX  5353 KELLER SPRINGS RD\\nDALLAS, TX 75248\\n(32....  \n",
       "4     TX  11209 LANEWOOD CIR\\nDALLAS, TX 75218\\n(32.8567...  \n",
       "\n",
       "[5 rows x 100 columns]"
      ]
     },
     "execution_count": 115,
     "metadata": {},
     "output_type": "execute_result"
    }
   ],
   "source": [
    "dallas.head()"
   ]
  },
  {
   "cell_type": "code",
   "execution_count": 116,
   "id": "2ac871ea",
   "metadata": {},
   "outputs": [
    {
     "data": {
      "text/plain": [
       "(794290, 100)"
      ]
     },
     "execution_count": 116,
     "metadata": {},
     "output_type": "execute_result"
    }
   ],
   "source": [
    "dallas.shape"
   ]
  },
  {
   "cell_type": "code",
   "execution_count": 117,
   "id": "15a1ac64",
   "metadata": {},
   "outputs": [],
   "source": [
    "pd.set_option('display.max_rows', 100)"
   ]
  },
  {
   "cell_type": "code",
   "execution_count": 118,
   "id": "d96cc2fa",
   "metadata": {},
   "outputs": [
    {
     "data": {
      "text/plain": [
       "Incident Number w/year                               object\n",
       "Year of Incident                                      int64\n",
       "Service Number ID                                    object\n",
       "Watch                                                 int64\n",
       "Call (911) Problem                                   object\n",
       "Type of Incident                                     object\n",
       "Type  Location                                       object\n",
       "Type of Property                                     object\n",
       "Incident Address                                     object\n",
       "Apartment Number                                     object\n",
       "Reporting Area                                      float64\n",
       "Beat                                                float64\n",
       "Division                                             object\n",
       "Sector                                              float64\n",
       "Council District                                     object\n",
       "Target Area Action Grids                             object\n",
       "Community                                            object\n",
       "Date1 of Occurrence                          datetime64[ns]\n",
       "Year1 of Occurrence                                   int64\n",
       "Month1 of Occurence                                  object\n",
       "Day1 of the Week                                     object\n",
       "Time1 of Occurrence                                  object\n",
       "Day1 of the Year                                      int64\n",
       "Date2 of Occurrence                          datetime64[ns]\n",
       "Year2 of Occurrence                                 float64\n",
       "Month2 of Occurence                                  object\n",
       "Day2 of the Week                                     object\n",
       "Time2 of Occurrence                                  object\n",
       "Day2 of the Year                                    float64\n",
       "Date of Report                                       object\n",
       "Date incident created                        datetime64[ns]\n",
       "Offense Entered Year                                  int64\n",
       "Offense Entered Month                                object\n",
       "Offense Entered Day of the Week                      object\n",
       "Offense Entered Time                                 object\n",
       "Offense Entered  Date/Time                            int64\n",
       "CFS Number                                           object\n",
       "Call Received Date Time                              object\n",
       "Call Date Time                                       object\n",
       "Call Cleared Date Time                               object\n",
       "Call Dispatch Date Time                              object\n",
       "Special Report (Pre-RMS)                             object\n",
       "Person Involvement Type                              object\n",
       "Victim Type                                          object\n",
       "Victim Name                                          object\n",
       "Victim Race                                          object\n",
       "Victim Ethnicity                                     object\n",
       "Victim Gender                                        object\n",
       "Victim Age                                          float64\n",
       "Victim Age at Offense                               float64\n",
       "Victim Home Address                                  object\n",
       "Victim Apartment                                     object\n",
       "Victim Zip Code                                      object\n",
       "Victim City                                          object\n",
       "Victim State                                         object\n",
       "Victim Business Name                                 object\n",
       "Victim Business Address                              object\n",
       "Victim Business Phone                                object\n",
       "Responding Officer #1  Badge No                      object\n",
       "Responding Officer #1  Name                          object\n",
       "Responding Officer #2 Badge No                       object\n",
       "Responding Officer #2  Name                          object\n",
       "Reporting Officer Badge No                           object\n",
       "Assisting Officer Badge No                           object\n",
       "Reviewing Officer Badge No                           object\n",
       "Element Number Assigned                              object\n",
       "Investigating Unit 1                                 object\n",
       "Investigating Unit 2                                 object\n",
       "Offense Status                                       object\n",
       "UCR Disposition                                      object\n",
       "Victim Injury Description                            object\n",
       "Victim Condition                                     object\n",
       "Modus Operandi (MO)                                  object\n",
       "Family Offense                                       object\n",
       "Hate Crime                                           object\n",
       "Hate Crime Description                               object\n",
       "Weapon Used                                          object\n",
       "Gang Related Offense                                 object\n",
       "Victim Package                                      float64\n",
       "Drug Related Istevencident                           object\n",
       "RMS Code                                             object\n",
       "Criminal Justice Information Service Code             int64\n",
       "Penal Code                                           object\n",
       "UCR Offense Name                                     object\n",
       "UCR Offense Description                              object\n",
       " UCR Code                                           float64\n",
       "Offense Type                                         object\n",
       "NIBRS Crime                                          object\n",
       "NIBRS Crime Category                                 object\n",
       "NIBRS Crime Against                                  object\n",
       "NIBRS Code                                           object\n",
       "NIBRS Group                                          object\n",
       "NIBRS Type                                           object\n",
       "Update Date                                          object\n",
       "X Coordinate                                        float64\n",
       "Y Cordinate                                         float64\n",
       "Zip Code                                            float64\n",
       "City                                                 object\n",
       "State                                                object\n",
       "Location1                                            object\n",
       "dtype: object"
      ]
     },
     "execution_count": 118,
     "metadata": {},
     "output_type": "execute_result"
    }
   ],
   "source": [
    "dallas.dtypes"
   ]
  },
  {
   "cell_type": "code",
   "execution_count": 119,
   "id": "21cf340e",
   "metadata": {},
   "outputs": [],
   "source": [
    "dallas.columns = dallas.columns.str.lower().str.replace(\" \", \"_\")"
   ]
  },
  {
   "cell_type": "code",
   "execution_count": 120,
   "id": "c92f2d83",
   "metadata": {},
   "outputs": [],
   "source": [
    "#filter out data already in sql db\n",
    "dallas[\"date_of_report\"] = pd.to_datetime(dallas[\"date_of_report\"])\n",
    "dallas = dallas[dallas[\"date_of_report\"] >= \"2020-10-08\"]\n",
    "dallas.reset_index(drop = True, inplace = True)"
   ]
  },
  {
   "cell_type": "code",
   "execution_count": 121,
   "id": "2b2af5cd",
   "metadata": {},
   "outputs": [
    {
     "data": {
      "text/plain": [
       "Timestamp('2020-10-08 00:09:00')"
      ]
     },
     "execution_count": 121,
     "metadata": {},
     "output_type": "execute_result"
    }
   ],
   "source": [
    "min(dallas[\"date_of_report\"])"
   ]
  },
  {
   "cell_type": "code",
   "execution_count": 122,
   "id": "6e19f36d",
   "metadata": {},
   "outputs": [
    {
     "data": {
      "text/plain": [
       "Timestamp('2021-07-16 01:54:00')"
      ]
     },
     "execution_count": 122,
     "metadata": {},
     "output_type": "execute_result"
    }
   ],
   "source": [
    "max(dallas[\"date_of_report\"])"
   ]
  },
  {
   "cell_type": "code",
   "execution_count": 123,
   "id": "8dd77bcf",
   "metadata": {},
   "outputs": [
    {
     "data": {
      "text/plain": [
       "(109832, 100)"
      ]
     },
     "execution_count": 123,
     "metadata": {},
     "output_type": "execute_result"
    }
   ],
   "source": [
    "dallas.shape"
   ]
  },
  {
   "cell_type": "code",
   "execution_count": 124,
   "id": "253dfa69",
   "metadata": {
    "scrolled": true
   },
   "outputs": [
    {
     "data": {
      "text/plain": [
       "incident_number_w/year                       109832\n",
       "year_of_incident                             109832\n",
       "service_number_id                            109832\n",
       "watch                                        109832\n",
       "call_(911)_problem                            96467\n",
       "type_of_incident                             109832\n",
       "type__location                               109802\n",
       "type_of_property                              18012\n",
       "incident_address                             109623\n",
       "apartment_number                              27501\n",
       "reporting_area                               109560\n",
       "beat                                         109718\n",
       "division                                     109718\n",
       "sector                                       109746\n",
       "council_district                             109199\n",
       "target_area_action_grids                      37836\n",
       "community                                     11193\n",
       "date1_of_occurrence                          109832\n",
       "year1_of_occurrence                          109832\n",
       "month1_of_occurence                          109832\n",
       "day1_of_the_week                             109832\n",
       "time1_of_occurrence                          109832\n",
       "day1_of_the_year                             109832\n",
       "date2_of_occurrence_                         109829\n",
       "year2_of_occurrence                          109829\n",
       "month2_of_occurence                          109829\n",
       "day2_of_the_week                             109829\n",
       "time2_of_occurrence                          109829\n",
       "day2_of_the_year                             109829\n",
       "date_of_report                               109832\n",
       "date_incident_created                        109832\n",
       "offense_entered_year                         109832\n",
       "offense_entered_month                        109832\n",
       "offense_entered_day_of_the_week              109832\n",
       "offense_entered_time                         109832\n",
       "offense_entered__date/time                   109832\n",
       "cfs_number                                    96467\n",
       "call_received_date_time                       96467\n",
       "call_date_time                                96467\n",
       "call_cleared_date_time                        96436\n",
       "call_dispatch_date_time                       96439\n",
       "special_report_(pre-rms)                         82\n",
       "person_involvement_type                      106350\n",
       "victim_type                                  106340\n",
       "victim_name                                  106141\n",
       "victim_race                                   66822\n",
       "victim_ethnicity                              66700\n",
       "victim_gender                                 66834\n",
       "victim_age                                    59892\n",
       "victim_age_at_offense                         52457\n",
       "victim_home_address                          104864\n",
       "victim_apartment                              31732\n",
       "victim_zip_code                              104332\n",
       "victim_city                                  104822\n",
       "victim_state                                 104429\n",
       "victim_business_name                           6589\n",
       "victim_business_address                        5438\n",
       "victim_business_phone                          1293\n",
       "responding_officer_#1__badge_no               96159\n",
       "responding_officer_#1__name                   96159\n",
       "responding_officer_#2_badge_no                39389\n",
       "responding_officer_#2__name                   39389\n",
       "reporting_officer_badge_no                    96246\n",
       "assisting_officer_badge_no                    77098\n",
       "reviewing_officer_badge_no                   109744\n",
       "element_number_assigned                       96394\n",
       "investigating_unit_1                          75023\n",
       "investigating_unit_2                          75026\n",
       "offense_status                               108956\n",
       "ucr_disposition                              108975\n",
       "victim_injury_description                      2333\n",
       "victim_condition                                856\n",
       "modus_operandi_(mo)                           96310\n",
       "family_offense                                96403\n",
       "hate_crime                                       76\n",
       "hate_crime_description                       109802\n",
       "weapon_used                                    9875\n",
       "gang_related_offense                          22348\n",
       "victim_package                                    0\n",
       "drug_related_istevencident                    96395\n",
       "rms_code                                     109832\n",
       "criminal_justice_information_service_code    109832\n",
       "penal_code                                   109832\n",
       "ucr_offense_name                                  0\n",
       "ucr_offense_description                           0\n",
       "_ucr_code                                         0\n",
       "offense_type                                      0\n",
       "nibrs_crime                                  109832\n",
       "nibrs_crime_category                         109832\n",
       "nibrs_crime_against                          109832\n",
       "nibrs_code                                   109832\n",
       "nibrs_group                                  109832\n",
       "nibrs_type                                   109832\n",
       "update_date                                  109832\n",
       "x_coordinate                                 109503\n",
       "y_cordinate                                  109503\n",
       "zip_code                                     109533\n",
       "city                                         109618\n",
       "state                                        107365\n",
       "location1                                    109623\n",
       "dtype: int64"
      ]
     },
     "execution_count": 124,
     "metadata": {},
     "output_type": "execute_result"
    }
   ],
   "source": [
    "#check that every row has date and crime also for empty columns\n",
    "dallas.count()"
   ]
  },
  {
   "cell_type": "code",
   "execution_count": 125,
   "id": "2bdef83f",
   "metadata": {},
   "outputs": [],
   "source": [
    "#drop empty columns\n",
    "dallas.dropna(how = \"all\", axis = 1, inplace = True)"
   ]
  },
  {
   "cell_type": "code",
   "execution_count": 126,
   "id": "612033ae",
   "metadata": {},
   "outputs": [],
   "source": [
    "dallas.to_csv(\"Data_Clean/Dallas.csv\")"
   ]
  },
  {
   "cell_type": "code",
   "execution_count": null,
   "id": "816fb5f1",
   "metadata": {},
   "outputs": [],
   "source": []
  },
  {
   "cell_type": "markdown",
   "id": "d7b85084",
   "metadata": {},
   "source": [
    "# Denver, CO"
   ]
  },
  {
   "cell_type": "code",
   "execution_count": 127,
   "id": "e478b955",
   "metadata": {},
   "outputs": [],
   "source": [
    "#Reported between 10/08/2020 and 07/15/2021"
   ]
  },
  {
   "cell_type": "code",
   "execution_count": 128,
   "id": "2e9c10de",
   "metadata": {},
   "outputs": [],
   "source": [
    "denver = pd.read_csv('Denver_Data/crime.csv', dtype= {0: \"string\", 1: \"string\"}, parse_dates= [6, 7, 8])\n",
    "#retrieved 7/16/21"
   ]
  },
  {
   "cell_type": "code",
   "execution_count": 129,
   "id": "21c54e59",
   "metadata": {},
   "outputs": [
    {
     "data": {
      "text/html": [
       "<div>\n",
       "<style scoped>\n",
       "    .dataframe tbody tr th:only-of-type {\n",
       "        vertical-align: middle;\n",
       "    }\n",
       "\n",
       "    .dataframe tbody tr th {\n",
       "        vertical-align: top;\n",
       "    }\n",
       "\n",
       "    .dataframe thead th {\n",
       "        text-align: right;\n",
       "    }\n",
       "</style>\n",
       "<table border=\"1\" class=\"dataframe\">\n",
       "  <thead>\n",
       "    <tr style=\"text-align: right;\">\n",
       "      <th></th>\n",
       "      <th>INCIDENT_ID</th>\n",
       "      <th>OFFENSE_ID</th>\n",
       "      <th>OFFENSE_CODE</th>\n",
       "      <th>OFFENSE_CODE_EXTENSION</th>\n",
       "      <th>OFFENSE_TYPE_ID</th>\n",
       "      <th>OFFENSE_CATEGORY_ID</th>\n",
       "      <th>FIRST_OCCURRENCE_DATE</th>\n",
       "      <th>LAST_OCCURRENCE_DATE</th>\n",
       "      <th>REPORTED_DATE</th>\n",
       "      <th>INCIDENT_ADDRESS</th>\n",
       "      <th>GEO_X</th>\n",
       "      <th>GEO_Y</th>\n",
       "      <th>GEO_LON</th>\n",
       "      <th>GEO_LAT</th>\n",
       "      <th>DISTRICT_ID</th>\n",
       "      <th>PRECINCT_ID</th>\n",
       "      <th>NEIGHBORHOOD_ID</th>\n",
       "      <th>IS_CRIME</th>\n",
       "      <th>IS_TRAFFIC</th>\n",
       "    </tr>\n",
       "  </thead>\n",
       "  <tbody>\n",
       "    <tr>\n",
       "      <th>0</th>\n",
       "      <td>2021224206</td>\n",
       "      <td>2021224206220200</td>\n",
       "      <td>2202</td>\n",
       "      <td>0</td>\n",
       "      <td>burglary-residence-by-force</td>\n",
       "      <td>burglary</td>\n",
       "      <td>2021-04-18 22:30:00</td>\n",
       "      <td>2021-04-19 05:00:00</td>\n",
       "      <td>2021-04-21 15:25:00</td>\n",
       "      <td>300 W 11TH AVE</td>\n",
       "      <td>3142828.0</td>\n",
       "      <td>1692472.0</td>\n",
       "      <td>-104.992161</td>\n",
       "      <td>39.733543</td>\n",
       "      <td>6.0</td>\n",
       "      <td>611.0</td>\n",
       "      <td>civic-center</td>\n",
       "      <td>1</td>\n",
       "      <td>0</td>\n",
       "    </tr>\n",
       "    <tr>\n",
       "      <th>1</th>\n",
       "      <td>2021225308</td>\n",
       "      <td>2021225308240400</td>\n",
       "      <td>2404</td>\n",
       "      <td>0</td>\n",
       "      <td>theft-of-motor-vehicle</td>\n",
       "      <td>auto-theft</td>\n",
       "      <td>2021-04-21 23:25:00</td>\n",
       "      <td>NaT</td>\n",
       "      <td>2021-04-22 00:01:00</td>\n",
       "      <td>5700 BLK W DARTMOUTH AVE</td>\n",
       "      <td>3124936.0</td>\n",
       "      <td>1664570.0</td>\n",
       "      <td>-105.056261</td>\n",
       "      <td>39.657203</td>\n",
       "      <td>4.0</td>\n",
       "      <td>423.0</td>\n",
       "      <td>bear-valley</td>\n",
       "      <td>1</td>\n",
       "      <td>0</td>\n",
       "    </tr>\n",
       "    <tr>\n",
       "      <th>2</th>\n",
       "      <td>20216009452</td>\n",
       "      <td>20216009452239900</td>\n",
       "      <td>2399</td>\n",
       "      <td>0</td>\n",
       "      <td>theft-other</td>\n",
       "      <td>larceny</td>\n",
       "      <td>2021-03-22 12:51:00</td>\n",
       "      <td>2021-03-22 12:51:00</td>\n",
       "      <td>2021-04-21 22:13:00</td>\n",
       "      <td>3412 N HUMBOLDT ST</td>\n",
       "      <td>3149191.0</td>\n",
       "      <td>1703917.0</td>\n",
       "      <td>-104.969299</td>\n",
       "      <td>39.764862</td>\n",
       "      <td>2.0</td>\n",
       "      <td>211.0</td>\n",
       "      <td>cole</td>\n",
       "      <td>1</td>\n",
       "      <td>0</td>\n",
       "    </tr>\n",
       "    <tr>\n",
       "      <th>3</th>\n",
       "      <td>20216009439</td>\n",
       "      <td>20216009439230500</td>\n",
       "      <td>2305</td>\n",
       "      <td>0</td>\n",
       "      <td>theft-items-from-vehicle</td>\n",
       "      <td>theft-from-motor-vehicle</td>\n",
       "      <td>2021-04-21 12:00:00</td>\n",
       "      <td>2021-04-21 12:05:00</td>\n",
       "      <td>2021-04-21 13:17:00</td>\n",
       "      <td>1900 BLK S CLARKSON ST</td>\n",
       "      <td>3146781.0</td>\n",
       "      <td>1673727.0</td>\n",
       "      <td>-104.978488</td>\n",
       "      <td>39.682023</td>\n",
       "      <td>3.0</td>\n",
       "      <td>313.0</td>\n",
       "      <td>platt-park</td>\n",
       "      <td>1</td>\n",
       "      <td>0</td>\n",
       "    </tr>\n",
       "    <tr>\n",
       "      <th>4</th>\n",
       "      <td>20218017976</td>\n",
       "      <td>20218017976240400</td>\n",
       "      <td>2404</td>\n",
       "      <td>0</td>\n",
       "      <td>theft-of-motor-vehicle</td>\n",
       "      <td>auto-theft</td>\n",
       "      <td>2021-03-09 12:01:00</td>\n",
       "      <td>2021-04-21 12:20:00</td>\n",
       "      <td>2021-04-21 12:20:00</td>\n",
       "      <td>24050 E 78TH AVE</td>\n",
       "      <td>3223419.0</td>\n",
       "      <td>1730557.0</td>\n",
       "      <td>-104.704438</td>\n",
       "      <td>39.836504</td>\n",
       "      <td>7.0</td>\n",
       "      <td>759.0</td>\n",
       "      <td>dia</td>\n",
       "      <td>1</td>\n",
       "      <td>0</td>\n",
       "    </tr>\n",
       "  </tbody>\n",
       "</table>\n",
       "</div>"
      ],
      "text/plain": [
       "   INCIDENT_ID         OFFENSE_ID  OFFENSE_CODE  OFFENSE_CODE_EXTENSION  \\\n",
       "0   2021224206   2021224206220200          2202                       0   \n",
       "1   2021225308   2021225308240400          2404                       0   \n",
       "2  20216009452  20216009452239900          2399                       0   \n",
       "3  20216009439  20216009439230500          2305                       0   \n",
       "4  20218017976  20218017976240400          2404                       0   \n",
       "\n",
       "               OFFENSE_TYPE_ID       OFFENSE_CATEGORY_ID  \\\n",
       "0  burglary-residence-by-force                  burglary   \n",
       "1       theft-of-motor-vehicle                auto-theft   \n",
       "2                  theft-other                   larceny   \n",
       "3     theft-items-from-vehicle  theft-from-motor-vehicle   \n",
       "4       theft-of-motor-vehicle                auto-theft   \n",
       "\n",
       "  FIRST_OCCURRENCE_DATE LAST_OCCURRENCE_DATE       REPORTED_DATE  \\\n",
       "0   2021-04-18 22:30:00  2021-04-19 05:00:00 2021-04-21 15:25:00   \n",
       "1   2021-04-21 23:25:00                  NaT 2021-04-22 00:01:00   \n",
       "2   2021-03-22 12:51:00  2021-03-22 12:51:00 2021-04-21 22:13:00   \n",
       "3   2021-04-21 12:00:00  2021-04-21 12:05:00 2021-04-21 13:17:00   \n",
       "4   2021-03-09 12:01:00  2021-04-21 12:20:00 2021-04-21 12:20:00   \n",
       "\n",
       "           INCIDENT_ADDRESS      GEO_X      GEO_Y     GEO_LON    GEO_LAT  \\\n",
       "0            300 W 11TH AVE  3142828.0  1692472.0 -104.992161  39.733543   \n",
       "1  5700 BLK W DARTMOUTH AVE  3124936.0  1664570.0 -105.056261  39.657203   \n",
       "2        3412 N HUMBOLDT ST  3149191.0  1703917.0 -104.969299  39.764862   \n",
       "3    1900 BLK S CLARKSON ST  3146781.0  1673727.0 -104.978488  39.682023   \n",
       "4          24050 E 78TH AVE  3223419.0  1730557.0 -104.704438  39.836504   \n",
       "\n",
       "   DISTRICT_ID  PRECINCT_ID NEIGHBORHOOD_ID  IS_CRIME  IS_TRAFFIC  \n",
       "0          6.0        611.0    civic-center         1           0  \n",
       "1          4.0        423.0     bear-valley         1           0  \n",
       "2          2.0        211.0            cole         1           0  \n",
       "3          3.0        313.0      platt-park         1           0  \n",
       "4          7.0        759.0             dia         1           0  "
      ]
     },
     "execution_count": 129,
     "metadata": {},
     "output_type": "execute_result"
    }
   ],
   "source": [
    "denver.head()"
   ]
  },
  {
   "cell_type": "code",
   "execution_count": 130,
   "id": "a7557310",
   "metadata": {},
   "outputs": [
    {
     "data": {
      "text/plain": [
       "INCIDENT_ID                       string\n",
       "OFFENSE_ID                        string\n",
       "OFFENSE_CODE                       int64\n",
       "OFFENSE_CODE_EXTENSION             int64\n",
       "OFFENSE_TYPE_ID                   object\n",
       "OFFENSE_CATEGORY_ID               object\n",
       "FIRST_OCCURRENCE_DATE     datetime64[ns]\n",
       "LAST_OCCURRENCE_DATE      datetime64[ns]\n",
       "REPORTED_DATE             datetime64[ns]\n",
       "INCIDENT_ADDRESS                  object\n",
       "GEO_X                            float64\n",
       "GEO_Y                            float64\n",
       "GEO_LON                          float64\n",
       "GEO_LAT                          float64\n",
       "DISTRICT_ID                      float64\n",
       "PRECINCT_ID                      float64\n",
       "NEIGHBORHOOD_ID                   object\n",
       "IS_CRIME                           int64\n",
       "IS_TRAFFIC                         int64\n",
       "dtype: object"
      ]
     },
     "execution_count": 130,
     "metadata": {},
     "output_type": "execute_result"
    }
   ],
   "source": [
    "denver.dtypes"
   ]
  },
  {
   "cell_type": "code",
   "execution_count": 131,
   "id": "c3e8b32c",
   "metadata": {},
   "outputs": [],
   "source": [
    "denver.columns = denver.columns.str.lower()"
   ]
  },
  {
   "cell_type": "code",
   "execution_count": 132,
   "id": "8c925d94",
   "metadata": {},
   "outputs": [],
   "source": [
    "denver = denver[denver['reported_date'] >= \"2020-10-08\"]\n",
    "denver.reset_index(drop = True, inplace = True)"
   ]
  },
  {
   "cell_type": "code",
   "execution_count": 133,
   "id": "801a53c2",
   "metadata": {},
   "outputs": [
    {
     "data": {
      "text/plain": [
       "Timestamp('2020-10-08 00:16:00')"
      ]
     },
     "execution_count": 133,
     "metadata": {},
     "output_type": "execute_result"
    }
   ],
   "source": [
    "min(denver['reported_date'])"
   ]
  },
  {
   "cell_type": "code",
   "execution_count": 134,
   "id": "88c8dfcf",
   "metadata": {},
   "outputs": [
    {
     "data": {
      "text/plain": [
       "Timestamp('2021-07-15 05:07:00')"
      ]
     },
     "execution_count": 134,
     "metadata": {},
     "output_type": "execute_result"
    }
   ],
   "source": [
    "max(denver['reported_date'])"
   ]
  },
  {
   "cell_type": "code",
   "execution_count": 135,
   "id": "65a90dde",
   "metadata": {},
   "outputs": [
    {
     "data": {
      "text/plain": [
       "(70955, 19)"
      ]
     },
     "execution_count": 135,
     "metadata": {},
     "output_type": "execute_result"
    }
   ],
   "source": [
    "denver.shape"
   ]
  },
  {
   "cell_type": "code",
   "execution_count": 136,
   "id": "befcfeac",
   "metadata": {},
   "outputs": [
    {
     "data": {
      "text/plain": [
       "incident_id               70955\n",
       "offense_id                70955\n",
       "offense_code              70955\n",
       "offense_code_extension    70955\n",
       "offense_type_id           70955\n",
       "offense_category_id       70955\n",
       "first_occurrence_date     70955\n",
       "last_occurrence_date      34008\n",
       "reported_date             70955\n",
       "incident_address          66808\n",
       "geo_x                     70420\n",
       "geo_y                     70420\n",
       "geo_lon                   70419\n",
       "geo_lat                   70419\n",
       "district_id               70954\n",
       "precinct_id               70954\n",
       "neighborhood_id           70954\n",
       "is_crime                  70955\n",
       "is_traffic                70955\n",
       "dtype: int64"
      ]
     },
     "execution_count": 136,
     "metadata": {},
     "output_type": "execute_result"
    }
   ],
   "source": [
    "denver.count()"
   ]
  },
  {
   "cell_type": "code",
   "execution_count": 137,
   "id": "acd81762",
   "metadata": {},
   "outputs": [],
   "source": [
    "denver.to_csv(\"Data_Clean/Denver.csv\")"
   ]
  },
  {
   "cell_type": "code",
   "execution_count": null,
   "id": "ed7c57b0",
   "metadata": {},
   "outputs": [],
   "source": []
  },
  {
   "cell_type": "markdown",
   "id": "d8a1292c",
   "metadata": {},
   "source": [
    "# Fort Worth, TX"
   ]
  },
  {
   "cell_type": "code",
   "execution_count": 138,
   "id": "fa35f931",
   "metadata": {},
   "outputs": [],
   "source": [
    "#Reported between 10/04/2020 and 07/11/2021"
   ]
  },
  {
   "cell_type": "code",
   "execution_count": 139,
   "id": "408fe6a6",
   "metadata": {},
   "outputs": [],
   "source": [
    "fort_worth = pd.read_csv(\"Forth_Worth_Data/Crime_Data.csv\", dtype= {0: \"string\", 1: \"string\"}, parse_dates= [2, 4])\n",
    "#retrieved 7/16/21"
   ]
  },
  {
   "cell_type": "code",
   "execution_count": 140,
   "id": "8aeb5009",
   "metadata": {},
   "outputs": [
    {
     "data": {
      "text/html": [
       "<div>\n",
       "<style scoped>\n",
       "    .dataframe tbody tr th:only-of-type {\n",
       "        vertical-align: middle;\n",
       "    }\n",
       "\n",
       "    .dataframe tbody tr th {\n",
       "        vertical-align: top;\n",
       "    }\n",
       "\n",
       "    .dataframe thead th {\n",
       "        text-align: right;\n",
       "    }\n",
       "</style>\n",
       "<table border=\"1\" class=\"dataframe\">\n",
       "  <thead>\n",
       "    <tr style=\"text-align: right;\">\n",
       "      <th></th>\n",
       "      <th>Case and Offense</th>\n",
       "      <th>Case Number</th>\n",
       "      <th>Reported Date</th>\n",
       "      <th>Nature Of Call</th>\n",
       "      <th>From Date</th>\n",
       "      <th>Offense</th>\n",
       "      <th>Description</th>\n",
       "      <th>Block Address</th>\n",
       "      <th>City</th>\n",
       "      <th>State</th>\n",
       "      <th>Beat</th>\n",
       "      <th>Division</th>\n",
       "      <th>Council District</th>\n",
       "      <th>Attempt Complete</th>\n",
       "      <th>Location Type</th>\n",
       "      <th>Location Description</th>\n",
       "      <th>Location</th>\n",
       "    </tr>\n",
       "  </thead>\n",
       "  <tbody>\n",
       "    <tr>\n",
       "      <th>0</th>\n",
       "      <td>200051119-90Z</td>\n",
       "      <td>200051119</td>\n",
       "      <td>2020-07-04</td>\n",
       "      <td>PENAL CODE</td>\n",
       "      <td>2020-07-04 10:00:00</td>\n",
       "      <td>90Z</td>\n",
       "      <td>PC 21.07 Public Lewdness 90Z ALL OTHER OFFENSE...</td>\n",
       "      <td>1400 GREEN OAKS RD</td>\n",
       "      <td>FORT WORTH</td>\n",
       "      <td>TX</td>\n",
       "      <td>L11</td>\n",
       "      <td>West</td>\n",
       "      <td>3.0</td>\n",
       "      <td>C</td>\n",
       "      <td>24.0</td>\n",
       "      <td>24 SPECIALTY STORE</td>\n",
       "      <td>NaN</td>\n",
       "    </tr>\n",
       "    <tr>\n",
       "      <th>1</th>\n",
       "      <td>200085517-90Z</td>\n",
       "      <td>200085517</td>\n",
       "      <td>2020-11-03</td>\n",
       "      <td>HARASS</td>\n",
       "      <td>2020-08-12 05:18:00</td>\n",
       "      <td>90Z</td>\n",
       "      <td>PC 42.07(C) Harassment</td>\n",
       "      <td>1300 MARLBOROUGH DR</td>\n",
       "      <td>FORT WORTH</td>\n",
       "      <td>TX</td>\n",
       "      <td>I16</td>\n",
       "      <td>South</td>\n",
       "      <td>8.0</td>\n",
       "      <td>C</td>\n",
       "      <td>20.0</td>\n",
       "      <td>20 RESIDENCE/HOME</td>\n",
       "      <td>(32.640426597727426, -97.33851074771222)</td>\n",
       "    </tr>\n",
       "    <tr>\n",
       "      <th>2</th>\n",
       "      <td>190083263-WAR</td>\n",
       "      <td>190083263</td>\n",
       "      <td>2019-09-24</td>\n",
       "      <td>NARCOTIC VIOLATIONS</td>\n",
       "      <td>2019-09-24 22:30:00</td>\n",
       "      <td>WAR</td>\n",
       "      <td>OT WARRANT Out of Town Warrant WAR Warrants on...</td>\n",
       "      <td>SOUTH FWY</td>\n",
       "      <td>FORT WORTH</td>\n",
       "      <td>TX</td>\n",
       "      <td>I11</td>\n",
       "      <td>South</td>\n",
       "      <td>9.0</td>\n",
       "      <td>C</td>\n",
       "      <td>13.0</td>\n",
       "      <td>13 HIGHWAY/ROAD/ALLEY</td>\n",
       "      <td>NaN</td>\n",
       "    </tr>\n",
       "    <tr>\n",
       "      <th>3</th>\n",
       "      <td>190088406-13B</td>\n",
       "      <td>190088406</td>\n",
       "      <td>2019-10-10</td>\n",
       "      <td>SEXUAL ASSAULT</td>\n",
       "      <td>2019-10-10 21:56:32</td>\n",
       "      <td>13B</td>\n",
       "      <td>PC 22.01(A)(1)FV Aslt Causes B/I Family Member...</td>\n",
       "      <td>TANDY AVE / VIEW ST</td>\n",
       "      <td>FORT WORTH</td>\n",
       "      <td>TX</td>\n",
       "      <td>G11</td>\n",
       "      <td>NaN</td>\n",
       "      <td>NaN</td>\n",
       "      <td>C</td>\n",
       "      <td>8.0</td>\n",
       "      <td>08 DEPARTMENT/DISCOUNT STORE</td>\n",
       "      <td>NaN</td>\n",
       "    </tr>\n",
       "    <tr>\n",
       "      <th>4</th>\n",
       "      <td>190047946-35A</td>\n",
       "      <td>190047946</td>\n",
       "      <td>2019-06-04</td>\n",
       "      <td>NARCOTIC VIOLATIONS</td>\n",
       "      <td>2019-06-04 01:33:49</td>\n",
       "      <td>35A</td>\n",
       "      <td>HSC 481.117(B) Poss CS PG 3 &lt;28G 35A DRUG/NARC...</td>\n",
       "      <td>OAK GROVE RD / E IH 20 FWY EB</td>\n",
       "      <td>NaN</td>\n",
       "      <td>TX</td>\n",
       "      <td>I17</td>\n",
       "      <td>NaN</td>\n",
       "      <td>NaN</td>\n",
       "      <td>C</td>\n",
       "      <td>13.0</td>\n",
       "      <td>13 HIGHWAY/ROAD/ALLEY</td>\n",
       "      <td>NaN</td>\n",
       "    </tr>\n",
       "  </tbody>\n",
       "</table>\n",
       "</div>"
      ],
      "text/plain": [
       "  Case and Offense Case Number Reported Date       Nature Of Call  \\\n",
       "0    200051119-90Z   200051119    2020-07-04           PENAL CODE   \n",
       "1    200085517-90Z   200085517    2020-11-03               HARASS   \n",
       "2    190083263-WAR   190083263    2019-09-24  NARCOTIC VIOLATIONS   \n",
       "3    190088406-13B   190088406    2019-10-10       SEXUAL ASSAULT   \n",
       "4    190047946-35A   190047946    2019-06-04  NARCOTIC VIOLATIONS   \n",
       "\n",
       "            From Date Offense  \\\n",
       "0 2020-07-04 10:00:00     90Z   \n",
       "1 2020-08-12 05:18:00     90Z   \n",
       "2 2019-09-24 22:30:00     WAR   \n",
       "3 2019-10-10 21:56:32     13B   \n",
       "4 2019-06-04 01:33:49     35A   \n",
       "\n",
       "                                         Description  \\\n",
       "0  PC 21.07 Public Lewdness 90Z ALL OTHER OFFENSE...   \n",
       "1                             PC 42.07(C) Harassment   \n",
       "2  OT WARRANT Out of Town Warrant WAR Warrants on...   \n",
       "3  PC 22.01(A)(1)FV Aslt Causes B/I Family Member...   \n",
       "4  HSC 481.117(B) Poss CS PG 3 <28G 35A DRUG/NARC...   \n",
       "\n",
       "                   Block Address        City State Beat Division  \\\n",
       "0             1400 GREEN OAKS RD  FORT WORTH    TX  L11     West   \n",
       "1            1300 MARLBOROUGH DR  FORT WORTH    TX  I16    South   \n",
       "2                      SOUTH FWY  FORT WORTH    TX  I11    South   \n",
       "3            TANDY AVE / VIEW ST  FORT WORTH    TX  G11      NaN   \n",
       "4  OAK GROVE RD / E IH 20 FWY EB         NaN    TX  I17      NaN   \n",
       "\n",
       "   Council District Attempt Complete  Location Type  \\\n",
       "0               3.0                C           24.0   \n",
       "1               8.0                C           20.0   \n",
       "2               9.0                C           13.0   \n",
       "3               NaN                C            8.0   \n",
       "4               NaN                C           13.0   \n",
       "\n",
       "           Location Description                                  Location  \n",
       "0            24 SPECIALTY STORE                                       NaN  \n",
       "1             20 RESIDENCE/HOME  (32.640426597727426, -97.33851074771222)  \n",
       "2         13 HIGHWAY/ROAD/ALLEY                                       NaN  \n",
       "3  08 DEPARTMENT/DISCOUNT STORE                                       NaN  \n",
       "4         13 HIGHWAY/ROAD/ALLEY                                       NaN  "
      ]
     },
     "execution_count": 140,
     "metadata": {},
     "output_type": "execute_result"
    }
   ],
   "source": [
    "fort_worth.head()"
   ]
  },
  {
   "cell_type": "code",
   "execution_count": 141,
   "id": "85f42d8b",
   "metadata": {},
   "outputs": [
    {
     "data": {
      "text/plain": [
       "Case and Offense                string\n",
       "Case Number                     string\n",
       "Reported Date           datetime64[ns]\n",
       "Nature Of Call                  object\n",
       "From Date               datetime64[ns]\n",
       "Offense                         object\n",
       "Description                     object\n",
       "Block Address                   object\n",
       "City                            object\n",
       "State                           object\n",
       "Beat                            object\n",
       "Division                        object\n",
       "Council District               float64\n",
       "Attempt Complete                object\n",
       "Location Type                  float64\n",
       "Location Description            object\n",
       "Location                        object\n",
       "dtype: object"
      ]
     },
     "execution_count": 141,
     "metadata": {},
     "output_type": "execute_result"
    }
   ],
   "source": [
    "fort_worth.dtypes"
   ]
  },
  {
   "cell_type": "code",
   "execution_count": 142,
   "id": "2865b484",
   "metadata": {},
   "outputs": [],
   "source": [
    "fort_worth.columns = fort_worth.columns.str.lower().str.replace(\" \", \"_\")"
   ]
  },
  {
   "cell_type": "code",
   "execution_count": 143,
   "id": "deb04f7b",
   "metadata": {},
   "outputs": [],
   "source": [
    "fort_worth = fort_worth[fort_worth[\"reported_date\"] >= \"2020-10-04\"]\n",
    "fort_worth.reset_index(drop = True, inplace = True)"
   ]
  },
  {
   "cell_type": "code",
   "execution_count": 144,
   "id": "918a7924",
   "metadata": {},
   "outputs": [
    {
     "data": {
      "text/plain": [
       "Timestamp('2020-10-04 00:00:00')"
      ]
     },
     "execution_count": 144,
     "metadata": {},
     "output_type": "execute_result"
    }
   ],
   "source": [
    "fort_worth['reported_date'].min()"
   ]
  },
  {
   "cell_type": "code",
   "execution_count": 145,
   "id": "a398f58b",
   "metadata": {},
   "outputs": [
    {
     "data": {
      "text/plain": [
       "Timestamp('2021-07-11 00:00:00')"
      ]
     },
     "execution_count": 145,
     "metadata": {},
     "output_type": "execute_result"
    }
   ],
   "source": [
    "fort_worth['reported_date'].max()"
   ]
  },
  {
   "cell_type": "code",
   "execution_count": 146,
   "id": "e8021f49",
   "metadata": {},
   "outputs": [
    {
     "data": {
      "text/plain": [
       "(38359, 17)"
      ]
     },
     "execution_count": 146,
     "metadata": {},
     "output_type": "execute_result"
    }
   ],
   "source": [
    "fort_worth.shape"
   ]
  },
  {
   "cell_type": "code",
   "execution_count": 147,
   "id": "00827f11",
   "metadata": {},
   "outputs": [
    {
     "data": {
      "text/plain": [
       "case_and_offense        38359\n",
       "case_number             38359\n",
       "reported_date           38359\n",
       "nature_of_call          38359\n",
       "from_date               38359\n",
       "offense                 38359\n",
       "description             38359\n",
       "block_address           38359\n",
       "city                    38301\n",
       "state                   38339\n",
       "beat                    38244\n",
       "division                25966\n",
       "council_district        26411\n",
       "attempt_complete        38358\n",
       "location_type           38357\n",
       "location_description    38357\n",
       "location                37751\n",
       "dtype: int64"
      ]
     },
     "execution_count": 147,
     "metadata": {},
     "output_type": "execute_result"
    }
   ],
   "source": [
    "fort_worth.count()"
   ]
  },
  {
   "cell_type": "code",
   "execution_count": 148,
   "id": "4c237baa",
   "metadata": {},
   "outputs": [],
   "source": [
    "fort_worth.to_csv(\"Data_Clean/Fort_Worth.csv\")"
   ]
  },
  {
   "cell_type": "code",
   "execution_count": null,
   "id": "4545cfab",
   "metadata": {},
   "outputs": [],
   "source": []
  },
  {
   "cell_type": "markdown",
   "id": "4d933b2c",
   "metadata": {},
   "source": [
    "# Gainesville, FL"
   ]
  },
  {
   "cell_type": "code",
   "execution_count": 149,
   "id": "63f199a0",
   "metadata": {},
   "outputs": [],
   "source": [
    "#Reported from 10/04/2020 to 07/13/2021"
   ]
  },
  {
   "cell_type": "code",
   "execution_count": 150,
   "id": "4cfb99be",
   "metadata": {},
   "outputs": [],
   "source": [
    "gainesville = pd.read_csv(\"Gainesville_Data/Crime_Responses.csv\", dtype= {0: \"string\"}, parse_dates= [2, 3])\n",
    "#retrieved 7/16/21"
   ]
  },
  {
   "cell_type": "code",
   "execution_count": 151,
   "id": "effa60f7",
   "metadata": {},
   "outputs": [
    {
     "data": {
      "text/html": [
       "<div>\n",
       "<style scoped>\n",
       "    .dataframe tbody tr th:only-of-type {\n",
       "        vertical-align: middle;\n",
       "    }\n",
       "\n",
       "    .dataframe tbody tr th {\n",
       "        vertical-align: top;\n",
       "    }\n",
       "\n",
       "    .dataframe thead th {\n",
       "        text-align: right;\n",
       "    }\n",
       "</style>\n",
       "<table border=\"1\" class=\"dataframe\">\n",
       "  <thead>\n",
       "    <tr style=\"text-align: right;\">\n",
       "      <th></th>\n",
       "      <th>ID</th>\n",
       "      <th>Incident Type</th>\n",
       "      <th>Report Date</th>\n",
       "      <th>Offense Date</th>\n",
       "      <th>Report Hour of Day</th>\n",
       "      <th>Report Day of Week</th>\n",
       "      <th>Offense Hour of Day</th>\n",
       "      <th>Offense Day of Week</th>\n",
       "      <th>City</th>\n",
       "      <th>State</th>\n",
       "      <th>Address</th>\n",
       "      <th>Latitude</th>\n",
       "      <th>Longitude</th>\n",
       "      <th>Location</th>\n",
       "    </tr>\n",
       "  </thead>\n",
       "  <tbody>\n",
       "    <tr>\n",
       "      <th>0</th>\n",
       "      <td>221009134</td>\n",
       "      <td>Assist Other Agency</td>\n",
       "      <td>2021-07-02 01:00:00</td>\n",
       "      <td>2021-07-02 01:00:00</td>\n",
       "      <td>1</td>\n",
       "      <td>Friday</td>\n",
       "      <td>1</td>\n",
       "      <td>Friday</td>\n",
       "      <td>GAINESVILLE</td>\n",
       "      <td>FL</td>\n",
       "      <td>300 BLK SW WILLISTON RD</td>\n",
       "      <td>29.620543</td>\n",
       "      <td>-82.328759</td>\n",
       "      <td>POINT (-82.328759 29.620542999999998)</td>\n",
       "    </tr>\n",
       "    <tr>\n",
       "      <th>1</th>\n",
       "      <td>221009267</td>\n",
       "      <td>Domestic Aggravated Battery</td>\n",
       "      <td>2021-07-04 22:37:37</td>\n",
       "      <td>2021-07-04 21:24:36</td>\n",
       "      <td>22</td>\n",
       "      <td>Sunday</td>\n",
       "      <td>21</td>\n",
       "      <td>Sunday</td>\n",
       "      <td>GAINESVILLE</td>\n",
       "      <td>FL</td>\n",
       "      <td>100 BLK NW 39TH AVE</td>\n",
       "      <td>29.688534</td>\n",
       "      <td>-82.326069</td>\n",
       "      <td>POINT (-82.326069 29.688534000000004)</td>\n",
       "    </tr>\n",
       "    <tr>\n",
       "      <th>2</th>\n",
       "      <td>221009201</td>\n",
       "      <td>Assist Other Agency</td>\n",
       "      <td>2021-07-03 12:31:31</td>\n",
       "      <td>2021-07-03 12:25:08</td>\n",
       "      <td>12</td>\n",
       "      <td>Saturday</td>\n",
       "      <td>12</td>\n",
       "      <td>Saturday</td>\n",
       "      <td>GAINESVILLE</td>\n",
       "      <td>FL</td>\n",
       "      <td>200 BLK SE 16TH AVE</td>\n",
       "      <td>29.634039</td>\n",
       "      <td>-82.326408</td>\n",
       "      <td>POINT (-82.326408 29.634038999999998)</td>\n",
       "    </tr>\n",
       "    <tr>\n",
       "      <th>3</th>\n",
       "      <td>121009277</td>\n",
       "      <td>Assist Citizen</td>\n",
       "      <td>2021-07-05 03:27:51</td>\n",
       "      <td>2021-07-05 03:27:50</td>\n",
       "      <td>3</td>\n",
       "      <td>Monday</td>\n",
       "      <td>3</td>\n",
       "      <td>Monday</td>\n",
       "      <td>GAINESVILLE</td>\n",
       "      <td>FL</td>\n",
       "      <td>500 BLK NW 8TH AVE</td>\n",
       "      <td>29.659423</td>\n",
       "      <td>-82.329994</td>\n",
       "      <td>POINT (-82.329994 29.659423)</td>\n",
       "    </tr>\n",
       "    <tr>\n",
       "      <th>4</th>\n",
       "      <td>221009177</td>\n",
       "      <td>Warrant Arrest</td>\n",
       "      <td>2021-07-02 18:51:00</td>\n",
       "      <td>2021-07-02 18:51:00</td>\n",
       "      <td>18</td>\n",
       "      <td>Friday</td>\n",
       "      <td>18</td>\n",
       "      <td>Friday</td>\n",
       "      <td>GAINESVILLE</td>\n",
       "      <td>FL</td>\n",
       "      <td>1500 BLK N MAIN ST</td>\n",
       "      <td>29.665770</td>\n",
       "      <td>-82.324505</td>\n",
       "      <td>POINT (-82.324505 29.66577)</td>\n",
       "    </tr>\n",
       "  </tbody>\n",
       "</table>\n",
       "</div>"
      ],
      "text/plain": [
       "          ID                Incident Type         Report Date  \\\n",
       "0  221009134          Assist Other Agency 2021-07-02 01:00:00   \n",
       "1  221009267  Domestic Aggravated Battery 2021-07-04 22:37:37   \n",
       "2  221009201          Assist Other Agency 2021-07-03 12:31:31   \n",
       "3  121009277               Assist Citizen 2021-07-05 03:27:51   \n",
       "4  221009177               Warrant Arrest 2021-07-02 18:51:00   \n",
       "\n",
       "         Offense Date  Report Hour of Day Report Day of Week  \\\n",
       "0 2021-07-02 01:00:00                   1             Friday   \n",
       "1 2021-07-04 21:24:36                  22             Sunday   \n",
       "2 2021-07-03 12:25:08                  12           Saturday   \n",
       "3 2021-07-05 03:27:50                   3             Monday   \n",
       "4 2021-07-02 18:51:00                  18             Friday   \n",
       "\n",
       "   Offense Hour of Day Offense Day of Week         City State  \\\n",
       "0                    1              Friday  GAINESVILLE    FL   \n",
       "1                   21              Sunday  GAINESVILLE    FL   \n",
       "2                   12            Saturday  GAINESVILLE    FL   \n",
       "3                    3              Monday  GAINESVILLE    FL   \n",
       "4                   18              Friday  GAINESVILLE    FL   \n",
       "\n",
       "                   Address   Latitude  Longitude  \\\n",
       "0  300 BLK SW WILLISTON RD  29.620543 -82.328759   \n",
       "1      100 BLK NW 39TH AVE  29.688534 -82.326069   \n",
       "2      200 BLK SE 16TH AVE  29.634039 -82.326408   \n",
       "3       500 BLK NW 8TH AVE  29.659423 -82.329994   \n",
       "4       1500 BLK N MAIN ST  29.665770 -82.324505   \n",
       "\n",
       "                                Location  \n",
       "0  POINT (-82.328759 29.620542999999998)  \n",
       "1  POINT (-82.326069 29.688534000000004)  \n",
       "2  POINT (-82.326408 29.634038999999998)  \n",
       "3           POINT (-82.329994 29.659423)  \n",
       "4            POINT (-82.324505 29.66577)  "
      ]
     },
     "execution_count": 151,
     "metadata": {},
     "output_type": "execute_result"
    }
   ],
   "source": [
    "gainesville.head()"
   ]
  },
  {
   "cell_type": "code",
   "execution_count": 152,
   "id": "dbb7ac6a",
   "metadata": {},
   "outputs": [
    {
     "data": {
      "text/plain": [
       "ID                             string\n",
       "Incident Type                  object\n",
       "Report Date            datetime64[ns]\n",
       "Offense Date           datetime64[ns]\n",
       "Report Hour of Day              int64\n",
       "Report Day of Week             object\n",
       "Offense Hour of Day             int64\n",
       "Offense Day of Week            object\n",
       "City                           object\n",
       "State                          object\n",
       "Address                        object\n",
       "Latitude                      float64\n",
       "Longitude                     float64\n",
       "Location                       object\n",
       "dtype: object"
      ]
     },
     "execution_count": 152,
     "metadata": {},
     "output_type": "execute_result"
    }
   ],
   "source": [
    "gainesville.dtypes"
   ]
  },
  {
   "cell_type": "code",
   "execution_count": 153,
   "id": "cb1299a2",
   "metadata": {},
   "outputs": [],
   "source": [
    "gainesville.columns = gainesville.columns.str.lower().str.replace(\" \", \"_\")"
   ]
  },
  {
   "cell_type": "code",
   "execution_count": 154,
   "id": "b17ba15c",
   "metadata": {},
   "outputs": [],
   "source": [
    "gainesville = gainesville[gainesville['report_date'] >= '2020-10-04']\n",
    "gainesville.reset_index(drop= True, inplace= True)"
   ]
  },
  {
   "cell_type": "code",
   "execution_count": 155,
   "id": "f6ec7ae7",
   "metadata": {},
   "outputs": [
    {
     "data": {
      "text/plain": [
       "Timestamp('2020-10-04 00:00:00')"
      ]
     },
     "execution_count": 155,
     "metadata": {},
     "output_type": "execute_result"
    }
   ],
   "source": [
    "min(gainesville['report_date'])"
   ]
  },
  {
   "cell_type": "code",
   "execution_count": 156,
   "id": "d5ee554e",
   "metadata": {},
   "outputs": [
    {
     "data": {
      "text/plain": [
       "Timestamp('2021-07-13 00:42:52')"
      ]
     },
     "execution_count": 156,
     "metadata": {},
     "output_type": "execute_result"
    }
   ],
   "source": [
    "max(gainesville['report_date'])"
   ]
  },
  {
   "cell_type": "code",
   "execution_count": 157,
   "id": "53fb4845",
   "metadata": {},
   "outputs": [
    {
     "data": {
      "text/plain": [
       "(9151, 14)"
      ]
     },
     "execution_count": 157,
     "metadata": {},
     "output_type": "execute_result"
    }
   ],
   "source": [
    "gainesville.shape"
   ]
  },
  {
   "cell_type": "code",
   "execution_count": 158,
   "id": "df8b1be6",
   "metadata": {},
   "outputs": [
    {
     "data": {
      "text/plain": [
       "id                     9151\n",
       "incident_type          9151\n",
       "report_date            9151\n",
       "offense_date           9151\n",
       "report_hour_of_day     9151\n",
       "report_day_of_week     9151\n",
       "offense_hour_of_day    9151\n",
       "offense_day_of_week    9151\n",
       "city                   9131\n",
       "state                  9151\n",
       "address                9151\n",
       "latitude               8988\n",
       "longitude              8988\n",
       "location               8984\n",
       "dtype: int64"
      ]
     },
     "execution_count": 158,
     "metadata": {},
     "output_type": "execute_result"
    }
   ],
   "source": [
    "gainesville.count()"
   ]
  },
  {
   "cell_type": "code",
   "execution_count": 159,
   "id": "d8389ed4",
   "metadata": {},
   "outputs": [],
   "source": [
    "gainesville.to_csv(\"Data_Clean/Gainesville.csv\")"
   ]
  },
  {
   "cell_type": "code",
   "execution_count": null,
   "id": "6aa84c1d",
   "metadata": {},
   "outputs": [],
   "source": []
  },
  {
   "cell_type": "markdown",
   "id": "386e7a6e",
   "metadata": {},
   "source": [
    "# Los Angeles"
   ]
  },
  {
   "cell_type": "code",
   "execution_count": 160,
   "id": "2a902bcd",
   "metadata": {},
   "outputs": [],
   "source": [
    "#Reported from 09/28/2020 to 07/12/2021"
   ]
  },
  {
   "cell_type": "code",
   "execution_count": 161,
   "id": "78c5c863",
   "metadata": {},
   "outputs": [],
   "source": [
    "los_angeles = pd.read_csv(\"Los_Angeles_Data/Crime_Data_from_2020_to_Present.csv\", dtype= {0: \"string\"}, parse_dates= {\"occurred\": [2, 3]})\n",
    "#retrieved 7/16/21"
   ]
  },
  {
   "cell_type": "code",
   "execution_count": 162,
   "id": "a0ef3c16",
   "metadata": {},
   "outputs": [
    {
     "data": {
      "text/html": [
       "<div>\n",
       "<style scoped>\n",
       "    .dataframe tbody tr th:only-of-type {\n",
       "        vertical-align: middle;\n",
       "    }\n",
       "\n",
       "    .dataframe tbody tr th {\n",
       "        vertical-align: top;\n",
       "    }\n",
       "\n",
       "    .dataframe thead th {\n",
       "        text-align: right;\n",
       "    }\n",
       "</style>\n",
       "<table border=\"1\" class=\"dataframe\">\n",
       "  <thead>\n",
       "    <tr style=\"text-align: right;\">\n",
       "      <th></th>\n",
       "      <th>occurred</th>\n",
       "      <th>DR_NO</th>\n",
       "      <th>Date Rptd</th>\n",
       "      <th>AREA</th>\n",
       "      <th>AREA NAME</th>\n",
       "      <th>Rpt Dist No</th>\n",
       "      <th>Part 1-2</th>\n",
       "      <th>Crm Cd</th>\n",
       "      <th>Crm Cd Desc</th>\n",
       "      <th>Mocodes</th>\n",
       "      <th>...</th>\n",
       "      <th>Status</th>\n",
       "      <th>Status Desc</th>\n",
       "      <th>Crm Cd 1</th>\n",
       "      <th>Crm Cd 2</th>\n",
       "      <th>Crm Cd 3</th>\n",
       "      <th>Crm Cd 4</th>\n",
       "      <th>LOCATION</th>\n",
       "      <th>Cross Street</th>\n",
       "      <th>LAT</th>\n",
       "      <th>LON</th>\n",
       "    </tr>\n",
       "  </thead>\n",
       "  <tbody>\n",
       "    <tr>\n",
       "      <th>0</th>\n",
       "      <td>01/08/2020 12:00:00 AM 2230</td>\n",
       "      <td>010304468</td>\n",
       "      <td>01/08/2020 12:00:00 AM</td>\n",
       "      <td>3</td>\n",
       "      <td>Southwest</td>\n",
       "      <td>377</td>\n",
       "      <td>2</td>\n",
       "      <td>624</td>\n",
       "      <td>BATTERY - SIMPLE ASSAULT</td>\n",
       "      <td>0444 0913</td>\n",
       "      <td>...</td>\n",
       "      <td>AO</td>\n",
       "      <td>Adult Other</td>\n",
       "      <td>624.0</td>\n",
       "      <td>NaN</td>\n",
       "      <td>NaN</td>\n",
       "      <td>NaN</td>\n",
       "      <td>1100 W  39TH                         PL</td>\n",
       "      <td>NaN</td>\n",
       "      <td>34.0141</td>\n",
       "      <td>-118.2978</td>\n",
       "    </tr>\n",
       "    <tr>\n",
       "      <th>1</th>\n",
       "      <td>01/01/2020 12:00:00 AM 0330</td>\n",
       "      <td>190101086</td>\n",
       "      <td>01/02/2020 12:00:00 AM</td>\n",
       "      <td>1</td>\n",
       "      <td>Central</td>\n",
       "      <td>163</td>\n",
       "      <td>2</td>\n",
       "      <td>624</td>\n",
       "      <td>BATTERY - SIMPLE ASSAULT</td>\n",
       "      <td>0416 1822 1414</td>\n",
       "      <td>...</td>\n",
       "      <td>IC</td>\n",
       "      <td>Invest Cont</td>\n",
       "      <td>624.0</td>\n",
       "      <td>NaN</td>\n",
       "      <td>NaN</td>\n",
       "      <td>NaN</td>\n",
       "      <td>700 S  HILL                         ST</td>\n",
       "      <td>NaN</td>\n",
       "      <td>34.0459</td>\n",
       "      <td>-118.2545</td>\n",
       "    </tr>\n",
       "    <tr>\n",
       "      <th>2</th>\n",
       "      <td>09/16/2020 12:00:00 AM 1230</td>\n",
       "      <td>201220752</td>\n",
       "      <td>09/16/2020 12:00:00 AM</td>\n",
       "      <td>12</td>\n",
       "      <td>77th Street</td>\n",
       "      <td>1259</td>\n",
       "      <td>2</td>\n",
       "      <td>745</td>\n",
       "      <td>VANDALISM - MISDEAMEANOR ($399 OR UNDER)</td>\n",
       "      <td>2004 1820 0913 0329 1202</td>\n",
       "      <td>...</td>\n",
       "      <td>IC</td>\n",
       "      <td>Invest Cont</td>\n",
       "      <td>745.0</td>\n",
       "      <td>NaN</td>\n",
       "      <td>NaN</td>\n",
       "      <td>NaN</td>\n",
       "      <td>700 E  73RD                         ST</td>\n",
       "      <td>NaN</td>\n",
       "      <td>33.9739</td>\n",
       "      <td>-118.2630</td>\n",
       "    </tr>\n",
       "    <tr>\n",
       "      <th>3</th>\n",
       "      <td>01/01/2020 12:00:00 AM 1730</td>\n",
       "      <td>191501505</td>\n",
       "      <td>01/01/2020 12:00:00 AM</td>\n",
       "      <td>15</td>\n",
       "      <td>N Hollywood</td>\n",
       "      <td>1543</td>\n",
       "      <td>2</td>\n",
       "      <td>745</td>\n",
       "      <td>VANDALISM - MISDEAMEANOR ($399 OR UNDER)</td>\n",
       "      <td>0329 1402</td>\n",
       "      <td>...</td>\n",
       "      <td>IC</td>\n",
       "      <td>Invest Cont</td>\n",
       "      <td>745.0</td>\n",
       "      <td>998.0</td>\n",
       "      <td>NaN</td>\n",
       "      <td>NaN</td>\n",
       "      <td>5400    CORTEEN                      PL</td>\n",
       "      <td>NaN</td>\n",
       "      <td>34.1685</td>\n",
       "      <td>-118.4019</td>\n",
       "    </tr>\n",
       "    <tr>\n",
       "      <th>4</th>\n",
       "      <td>01/01/2020 12:00:00 AM 0415</td>\n",
       "      <td>191921269</td>\n",
       "      <td>01/01/2020 12:00:00 AM</td>\n",
       "      <td>19</td>\n",
       "      <td>Mission</td>\n",
       "      <td>1998</td>\n",
       "      <td>2</td>\n",
       "      <td>740</td>\n",
       "      <td>VANDALISM - FELONY ($400 &amp; OVER, ALL CHURCH VA...</td>\n",
       "      <td>0329</td>\n",
       "      <td>...</td>\n",
       "      <td>IC</td>\n",
       "      <td>Invest Cont</td>\n",
       "      <td>740.0</td>\n",
       "      <td>NaN</td>\n",
       "      <td>NaN</td>\n",
       "      <td>NaN</td>\n",
       "      <td>14400    TITUS                        ST</td>\n",
       "      <td>NaN</td>\n",
       "      <td>34.2198</td>\n",
       "      <td>-118.4468</td>\n",
       "    </tr>\n",
       "  </tbody>\n",
       "</table>\n",
       "<p>5 rows × 27 columns</p>\n",
       "</div>"
      ],
      "text/plain": [
       "                      occurred      DR_NO               Date Rptd  AREA  \\\n",
       "0  01/08/2020 12:00:00 AM 2230  010304468  01/08/2020 12:00:00 AM     3   \n",
       "1  01/01/2020 12:00:00 AM 0330  190101086  01/02/2020 12:00:00 AM     1   \n",
       "2  09/16/2020 12:00:00 AM 1230  201220752  09/16/2020 12:00:00 AM    12   \n",
       "3  01/01/2020 12:00:00 AM 1730  191501505  01/01/2020 12:00:00 AM    15   \n",
       "4  01/01/2020 12:00:00 AM 0415  191921269  01/01/2020 12:00:00 AM    19   \n",
       "\n",
       "     AREA NAME  Rpt Dist No  Part 1-2  Crm Cd  \\\n",
       "0    Southwest          377         2     624   \n",
       "1      Central          163         2     624   \n",
       "2  77th Street         1259         2     745   \n",
       "3  N Hollywood         1543         2     745   \n",
       "4      Mission         1998         2     740   \n",
       "\n",
       "                                         Crm Cd Desc  \\\n",
       "0                           BATTERY - SIMPLE ASSAULT   \n",
       "1                           BATTERY - SIMPLE ASSAULT   \n",
       "2           VANDALISM - MISDEAMEANOR ($399 OR UNDER)   \n",
       "3           VANDALISM - MISDEAMEANOR ($399 OR UNDER)   \n",
       "4  VANDALISM - FELONY ($400 & OVER, ALL CHURCH VA...   \n",
       "\n",
       "                    Mocodes  ...  Status  Status Desc Crm Cd 1  Crm Cd 2  \\\n",
       "0                 0444 0913  ...      AO  Adult Other    624.0       NaN   \n",
       "1            0416 1822 1414  ...      IC  Invest Cont    624.0       NaN   \n",
       "2  2004 1820 0913 0329 1202  ...      IC  Invest Cont    745.0       NaN   \n",
       "3                 0329 1402  ...      IC  Invest Cont    745.0     998.0   \n",
       "4                      0329  ...      IC  Invest Cont    740.0       NaN   \n",
       "\n",
       "  Crm Cd 3  Crm Cd 4                                  LOCATION Cross Street  \\\n",
       "0      NaN       NaN   1100 W  39TH                         PL          NaN   \n",
       "1      NaN       NaN    700 S  HILL                         ST          NaN   \n",
       "2      NaN       NaN    700 E  73RD                         ST          NaN   \n",
       "3      NaN       NaN   5400    CORTEEN                      PL          NaN   \n",
       "4      NaN       NaN  14400    TITUS                        ST          NaN   \n",
       "\n",
       "       LAT       LON  \n",
       "0  34.0141 -118.2978  \n",
       "1  34.0459 -118.2545  \n",
       "2  33.9739 -118.2630  \n",
       "3  34.1685 -118.4019  \n",
       "4  34.2198 -118.4468  \n",
       "\n",
       "[5 rows x 27 columns]"
      ]
     },
     "execution_count": 162,
     "metadata": {},
     "output_type": "execute_result"
    }
   ],
   "source": [
    "los_angeles.head()"
   ]
  },
  {
   "cell_type": "code",
   "execution_count": 163,
   "id": "1d71d404",
   "metadata": {
    "scrolled": true
   },
   "outputs": [
    {
     "data": {
      "text/plain": [
       "occurred           object\n",
       "DR_NO              string\n",
       "Date Rptd          object\n",
       "AREA                int64\n",
       "AREA NAME          object\n",
       "Rpt Dist No         int64\n",
       "Part 1-2            int64\n",
       "Crm Cd              int64\n",
       "Crm Cd Desc        object\n",
       "Mocodes            object\n",
       "Vict Age            int64\n",
       "Vict Sex           object\n",
       "Vict Descent       object\n",
       "Premis Cd         float64\n",
       "Premis Desc        object\n",
       "Weapon Used Cd    float64\n",
       "Weapon Desc        object\n",
       "Status             object\n",
       "Status Desc        object\n",
       "Crm Cd 1          float64\n",
       "Crm Cd 2          float64\n",
       "Crm Cd 3          float64\n",
       "Crm Cd 4          float64\n",
       "LOCATION           object\n",
       "Cross Street       object\n",
       "LAT               float64\n",
       "LON               float64\n",
       "dtype: object"
      ]
     },
     "execution_count": 163,
     "metadata": {},
     "output_type": "execute_result"
    }
   ],
   "source": [
    "los_angeles.dtypes"
   ]
  },
  {
   "cell_type": "code",
   "execution_count": 164,
   "id": "a09e2e70",
   "metadata": {},
   "outputs": [],
   "source": [
    "#fixing datetime format and changing column to datetime type\n",
    "los_angeles['occurred'] = los_angeles['occurred'].str[:10] + los_angeles['occurred'].str[-5:]\n",
    "los_angeles['occurred'] = pd.to_datetime(los_angeles['occurred'])"
   ]
  },
  {
   "cell_type": "code",
   "execution_count": 165,
   "id": "ac8981d5",
   "metadata": {},
   "outputs": [],
   "source": [
    "los_angeles.columns = los_angeles.columns.str.lower().str.replace(\" \", \"_\")"
   ]
  },
  {
   "cell_type": "code",
   "execution_count": 166,
   "id": "f312843c",
   "metadata": {},
   "outputs": [],
   "source": [
    "los_angeles['date_rptd'] = pd.to_datetime(los_angeles['date_rptd'])"
   ]
  },
  {
   "cell_type": "code",
   "execution_count": 167,
   "id": "7fc55291",
   "metadata": {},
   "outputs": [],
   "source": [
    "#filtering out all data already in sql db\n",
    "los_angeles = los_angeles[los_angeles['date_rptd'] >= '2020-09-28']\n",
    "los_angeles.reset_index(drop = True, inplace = True)"
   ]
  },
  {
   "cell_type": "code",
   "execution_count": 168,
   "id": "7572a979",
   "metadata": {},
   "outputs": [
    {
     "data": {
      "text/plain": [
       "Timestamp('2020-09-28 00:00:00')"
      ]
     },
     "execution_count": 168,
     "metadata": {},
     "output_type": "execute_result"
    }
   ],
   "source": [
    "min(los_angeles['date_rptd'])"
   ]
  },
  {
   "cell_type": "code",
   "execution_count": 169,
   "id": "a1dc6516",
   "metadata": {},
   "outputs": [
    {
     "data": {
      "text/plain": [
       "Timestamp('2021-07-12 00:00:00')"
      ]
     },
     "execution_count": 169,
     "metadata": {},
     "output_type": "execute_result"
    }
   ],
   "source": [
    "max(los_angeles['date_rptd'])"
   ]
  },
  {
   "cell_type": "code",
   "execution_count": 170,
   "id": "61a6566a",
   "metadata": {
    "scrolled": true
   },
   "outputs": [
    {
     "data": {
      "text/plain": [
       "occurred          153321\n",
       "dr_no             153321\n",
       "date_rptd         153321\n",
       "area              153321\n",
       "area_name         153321\n",
       "rpt_dist_no       153321\n",
       "part_1-2          153321\n",
       "crm_cd            153321\n",
       "crm_cd_desc       153321\n",
       "mocodes           131620\n",
       "vict_age          153321\n",
       "vict_sex          132583\n",
       "vict_descent      132580\n",
       "premis_cd         153317\n",
       "premis_desc       153271\n",
       "weapon_used_cd     55165\n",
       "weapon_desc        55165\n",
       "status            153321\n",
       "status_desc       153321\n",
       "crm_cd_1          153321\n",
       "crm_cd_2           12308\n",
       "crm_cd_3             416\n",
       "crm_cd_4              18\n",
       "location          153321\n",
       "cross_street       27346\n",
       "lat               153321\n",
       "lon               153321\n",
       "dtype: int64"
      ]
     },
     "execution_count": 170,
     "metadata": {},
     "output_type": "execute_result"
    }
   ],
   "source": [
    "#checking that all rows have crime and time, also that there are no empty columns\n",
    "los_angeles.count()"
   ]
  },
  {
   "cell_type": "code",
   "execution_count": 171,
   "id": "de6cea53",
   "metadata": {},
   "outputs": [],
   "source": [
    "los_angeles.to_csv('Data_Clean/Los_Angeles.csv')"
   ]
  },
  {
   "cell_type": "code",
   "execution_count": null,
   "id": "f7e4eba2",
   "metadata": {},
   "outputs": [],
   "source": []
  },
  {
   "cell_type": "markdown",
   "id": "0bf8a2f8",
   "metadata": {},
   "source": [
    "# Nashville, TN"
   ]
  },
  {
   "cell_type": "code",
   "execution_count": 172,
   "id": "0b3ba718",
   "metadata": {},
   "outputs": [],
   "source": [
    "nashville = pd.read_csv(\"Nashville_Data/Metro_Nashville_Police_Department_Incidents.csv\", dtype= {0: \"string\", 1: \"string\"}, parse_dates= [7, 8])\n",
    "#retrieved 7/16/21"
   ]
  },
  {
   "cell_type": "code",
   "execution_count": 173,
   "id": "d7eb7cff",
   "metadata": {},
   "outputs": [
    {
     "data": {
      "text/html": [
       "<div>\n",
       "<style scoped>\n",
       "    .dataframe tbody tr th:only-of-type {\n",
       "        vertical-align: middle;\n",
       "    }\n",
       "\n",
       "    .dataframe tbody tr th {\n",
       "        vertical-align: top;\n",
       "    }\n",
       "\n",
       "    .dataframe thead th {\n",
       "        text-align: right;\n",
       "    }\n",
       "</style>\n",
       "<table border=\"1\" class=\"dataframe\">\n",
       "  <thead>\n",
       "    <tr style=\"text-align: right;\">\n",
       "      <th></th>\n",
       "      <th>Primary Key</th>\n",
       "      <th>Incident Number</th>\n",
       "      <th>Report Type</th>\n",
       "      <th>Report Type Description</th>\n",
       "      <th>Incident Status Code</th>\n",
       "      <th>Incident Status Description</th>\n",
       "      <th>Investigation Status</th>\n",
       "      <th>Incident Occurred</th>\n",
       "      <th>Incident Reported</th>\n",
       "      <th>Incident Location</th>\n",
       "      <th>...</th>\n",
       "      <th>Weapon Description</th>\n",
       "      <th>Victim Number</th>\n",
       "      <th>Domestic Related</th>\n",
       "      <th>Victim Type</th>\n",
       "      <th>Victim Description</th>\n",
       "      <th>Victim Gender</th>\n",
       "      <th>Victim Race</th>\n",
       "      <th>Victim Ethnicity</th>\n",
       "      <th>Victim County Resident</th>\n",
       "      <th>Mapped Location</th>\n",
       "    </tr>\n",
       "  </thead>\n",
       "  <tbody>\n",
       "    <tr>\n",
       "      <th>0</th>\n",
       "      <td>20210237359_11</td>\n",
       "      <td>20210237359</td>\n",
       "      <td>D</td>\n",
       "      <td>DISPATCHED</td>\n",
       "      <td>O</td>\n",
       "      <td>OPEN</td>\n",
       "      <td>Open</td>\n",
       "      <td>2021-04-27 08:00:00</td>\n",
       "      <td>04/28/2021 02:08:00 PM</td>\n",
       "      <td>DIVISION ST</td>\n",
       "      <td>...</td>\n",
       "      <td>NONE</td>\n",
       "      <td>1</td>\n",
       "      <td>False</td>\n",
       "      <td>I</td>\n",
       "      <td>INDIVIDUAL (18 AND OVER)</td>\n",
       "      <td>M</td>\n",
       "      <td>W</td>\n",
       "      <td>Hispanic</td>\n",
       "      <td>NON RESIDENT</td>\n",
       "      <td>POINT (-86.78 36.15)</td>\n",
       "    </tr>\n",
       "    <tr>\n",
       "      <th>1</th>\n",
       "      <td>20210248988_12</td>\n",
       "      <td>20210248988</td>\n",
       "      <td>D</td>\n",
       "      <td>DISPATCHED</td>\n",
       "      <td>O</td>\n",
       "      <td>OPEN</td>\n",
       "      <td>Open</td>\n",
       "      <td>2021-05-04 15:07:00</td>\n",
       "      <td>05/04/2021 04:26:00 PM</td>\n",
       "      <td>SHELBY AVE</td>\n",
       "      <td>...</td>\n",
       "      <td>NONE</td>\n",
       "      <td>2</td>\n",
       "      <td>False</td>\n",
       "      <td>I</td>\n",
       "      <td>INDIVIDUAL (18 AND OVER)</td>\n",
       "      <td>F</td>\n",
       "      <td>W</td>\n",
       "      <td>Non-Hispanic</td>\n",
       "      <td>RESIDENT</td>\n",
       "      <td>POINT (-86.75 36.17)</td>\n",
       "    </tr>\n",
       "    <tr>\n",
       "      <th>2</th>\n",
       "      <td>20150345704_11</td>\n",
       "      <td>20150345704</td>\n",
       "      <td>T</td>\n",
       "      <td>NaN</td>\n",
       "      <td>O</td>\n",
       "      <td>OPEN</td>\n",
       "      <td>Open</td>\n",
       "      <td>2015-04-13 15:00:00</td>\n",
       "      <td>04/13/2015 05:12:00 PM</td>\n",
       "      <td>180 WALLACE RD</td>\n",
       "      <td>...</td>\n",
       "      <td>NONE</td>\n",
       "      <td>1</td>\n",
       "      <td>False</td>\n",
       "      <td>I</td>\n",
       "      <td>INDIVIDUAL (18 AND OVER)</td>\n",
       "      <td>M</td>\n",
       "      <td>W</td>\n",
       "      <td>Non-Hispanic</td>\n",
       "      <td>RESIDENT</td>\n",
       "      <td>NaN</td>\n",
       "    </tr>\n",
       "    <tr>\n",
       "      <th>3</th>\n",
       "      <td>20210247765_11</td>\n",
       "      <td>20210247765</td>\n",
       "      <td>O</td>\n",
       "      <td>NaN</td>\n",
       "      <td>O</td>\n",
       "      <td>OPEN</td>\n",
       "      <td>Open</td>\n",
       "      <td>2021-05-03 23:00:00</td>\n",
       "      <td>05/03/2021 11:49:00 PM</td>\n",
       "      <td>CLARKSVILLE PIKE</td>\n",
       "      <td>...</td>\n",
       "      <td>NONE</td>\n",
       "      <td>1</td>\n",
       "      <td>False</td>\n",
       "      <td>I</td>\n",
       "      <td>INDIVIDUAL (18 AND OVER)</td>\n",
       "      <td>M</td>\n",
       "      <td>W</td>\n",
       "      <td>Non-Hispanic</td>\n",
       "      <td>RESIDENT</td>\n",
       "      <td>POINT (-86.9 36.32)</td>\n",
       "    </tr>\n",
       "    <tr>\n",
       "      <th>4</th>\n",
       "      <td>20210249540_11</td>\n",
       "      <td>20210249540</td>\n",
       "      <td>D</td>\n",
       "      <td>DISPATCHED</td>\n",
       "      <td>O</td>\n",
       "      <td>OPEN</td>\n",
       "      <td>Open</td>\n",
       "      <td>2021-05-04 23:45:00</td>\n",
       "      <td>05/05/2021 12:45:00 AM</td>\n",
       "      <td>UNIVERSITY CT</td>\n",
       "      <td>...</td>\n",
       "      <td>PERSONAL (HANDS)</td>\n",
       "      <td>1</td>\n",
       "      <td>False</td>\n",
       "      <td>I</td>\n",
       "      <td>INDIVIDUAL (18 AND OVER)</td>\n",
       "      <td>F</td>\n",
       "      <td>B</td>\n",
       "      <td>Non-Hispanic</td>\n",
       "      <td>RESIDENT</td>\n",
       "      <td>POINT (-86.77 36.15)</td>\n",
       "    </tr>\n",
       "  </tbody>\n",
       "</table>\n",
       "<p>5 rows × 31 columns</p>\n",
       "</div>"
      ],
      "text/plain": [
       "      Primary Key Incident Number Report Type Report Type Description  \\\n",
       "0  20210237359_11     20210237359           D              DISPATCHED   \n",
       "1  20210248988_12     20210248988           D              DISPATCHED   \n",
       "2  20150345704_11     20150345704           T                     NaN   \n",
       "3  20210247765_11     20210247765           O                     NaN   \n",
       "4  20210249540_11     20210249540           D              DISPATCHED   \n",
       "\n",
       "  Incident Status Code Incident Status Description Investigation Status  \\\n",
       "0                    O                        OPEN                 Open   \n",
       "1                    O                        OPEN                 Open   \n",
       "2                    O                        OPEN                 Open   \n",
       "3                    O                        OPEN                 Open   \n",
       "4                    O                        OPEN                 Open   \n",
       "\n",
       "    Incident Occurred       Incident Reported Incident Location  ...  \\\n",
       "0 2021-04-27 08:00:00  04/28/2021 02:08:00 PM       DIVISION ST  ...   \n",
       "1 2021-05-04 15:07:00  05/04/2021 04:26:00 PM        SHELBY AVE  ...   \n",
       "2 2015-04-13 15:00:00  04/13/2015 05:12:00 PM    180 WALLACE RD  ...   \n",
       "3 2021-05-03 23:00:00  05/03/2021 11:49:00 PM  CLARKSVILLE PIKE  ...   \n",
       "4 2021-05-04 23:45:00  05/05/2021 12:45:00 AM     UNIVERSITY CT  ...   \n",
       "\n",
       "   Weapon Description  Victim Number  Domestic Related  Victim Type  \\\n",
       "0                NONE              1             False            I   \n",
       "1                NONE              2             False            I   \n",
       "2                NONE              1             False            I   \n",
       "3                NONE              1             False            I   \n",
       "4    PERSONAL (HANDS)              1             False            I   \n",
       "\n",
       "         Victim Description  Victim Gender Victim Race  Victim Ethnicity  \\\n",
       "0  INDIVIDUAL (18 AND OVER)              M           W          Hispanic   \n",
       "1  INDIVIDUAL (18 AND OVER)              F           W      Non-Hispanic   \n",
       "2  INDIVIDUAL (18 AND OVER)              M           W      Non-Hispanic   \n",
       "3  INDIVIDUAL (18 AND OVER)              M           W      Non-Hispanic   \n",
       "4  INDIVIDUAL (18 AND OVER)              F           B      Non-Hispanic   \n",
       "\n",
       "  Victim County Resident       Mapped Location  \n",
       "0           NON RESIDENT  POINT (-86.78 36.15)  \n",
       "1               RESIDENT  POINT (-86.75 36.17)  \n",
       "2               RESIDENT                   NaN  \n",
       "3               RESIDENT   POINT (-86.9 36.32)  \n",
       "4               RESIDENT  POINT (-86.77 36.15)  \n",
       "\n",
       "[5 rows x 31 columns]"
      ]
     },
     "execution_count": 173,
     "metadata": {},
     "output_type": "execute_result"
    }
   ],
   "source": [
    "nashville.head()"
   ]
  },
  {
   "cell_type": "code",
   "execution_count": 174,
   "id": "014d7136",
   "metadata": {},
   "outputs": [
    {
     "data": {
      "text/plain": [
       "Primary Key                            string\n",
       "Incident Number                        string\n",
       "Report Type                            object\n",
       "Report Type Description                object\n",
       "Incident Status Code                   object\n",
       "Incident Status Description            object\n",
       "Investigation Status                   object\n",
       "Incident Occurred              datetime64[ns]\n",
       "Incident Reported                      object\n",
       "Incident Location                      object\n",
       "Latitude                              float64\n",
       "Longitude                             float64\n",
       "ZIP Code                              float64\n",
       "RPA                                   float64\n",
       "Zone                                  float64\n",
       "Location Code                         float64\n",
       "Location Description                   object\n",
       "Offense Number                        float64\n",
       "Offense NIBRS                          object\n",
       "Offense Description                    object\n",
       "Weapon Primary                         object\n",
       "Weapon Description                     object\n",
       "Victim Number                           int64\n",
       "Domestic Related                         bool\n",
       "Victim Type                            object\n",
       "Victim Description                     object\n",
       "Victim Gender                          object\n",
       "Victim Race                            object\n",
       "Victim Ethnicity                       object\n",
       "Victim County Resident                 object\n",
       "Mapped Location                        object\n",
       "dtype: object"
      ]
     },
     "execution_count": 174,
     "metadata": {},
     "output_type": "execute_result"
    }
   ],
   "source": [
    "nashville.dtypes"
   ]
  },
  {
   "cell_type": "code",
   "execution_count": 175,
   "id": "e6c8be20",
   "metadata": {},
   "outputs": [],
   "source": [
    "nashville.columns = nashville.columns.str.lower().str.replace(\" \", \"_\")"
   ]
  },
  {
   "cell_type": "code",
   "execution_count": 176,
   "id": "b698f4a0",
   "metadata": {},
   "outputs": [],
   "source": [
    "#change incident reported column to datetime\n",
    "nashville.dropna(subset= ['incident_reported'], inplace= True)\n",
    "nashville = nashville[nashville['incident_reported'].str.match(r'[\\d]{2}/[\\d]{2}/[\\d]{4} [\\d]{2}:[\\d]{2}:[\\d]{2}')]\n",
    "nashville.drop(nashville[nashville['incident_reported'].str.contains(\"0202\")].index, inplace= True)\n",
    "nashville.drop(nashville[nashville['incident_reported'].str.contains(\"4240\")].index, inplace = True)\n",
    "nashville['incident_reported'] = pd.to_datetime(nashville['incident_reported'])\n",
    "nashville.reset_index(drop= True, inplace = True)"
   ]
  },
  {
   "cell_type": "code",
   "execution_count": 177,
   "id": "8f7889c1",
   "metadata": {},
   "outputs": [],
   "source": [
    "#filtering out all data already in sql db\n",
    "nashville = nashville[nashville['incident_reported'] >= '2020-10-07']\n",
    "nashville.reset_index(drop = True, inplace = True)"
   ]
  },
  {
   "cell_type": "code",
   "execution_count": 178,
   "id": "f4d571fe",
   "metadata": {},
   "outputs": [
    {
     "data": {
      "text/plain": [
       "Timestamp('2020-10-07 00:00:00')"
      ]
     },
     "execution_count": 178,
     "metadata": {},
     "output_type": "execute_result"
    }
   ],
   "source": [
    "nashville.incident_reported.min()"
   ]
  },
  {
   "cell_type": "code",
   "execution_count": 179,
   "id": "8b42b989",
   "metadata": {},
   "outputs": [
    {
     "data": {
      "text/plain": [
       "Timestamp('2048-12-05 04:45:00')"
      ]
     },
     "execution_count": 179,
     "metadata": {},
     "output_type": "execute_result"
    }
   ],
   "source": [
    "nashville.incident_reported.max()"
   ]
  },
  {
   "cell_type": "code",
   "execution_count": 180,
   "id": "5675a058",
   "metadata": {
    "scrolled": true
   },
   "outputs": [
    {
     "data": {
      "text/plain": [
       "(82983, 31)"
      ]
     },
     "execution_count": 180,
     "metadata": {},
     "output_type": "execute_result"
    }
   ],
   "source": [
    "nashville.shape"
   ]
  },
  {
   "cell_type": "code",
   "execution_count": 181,
   "id": "f61ec59e",
   "metadata": {},
   "outputs": [
    {
     "data": {
      "text/plain": [
       "primary_key                    82983\n",
       "incident_number                82983\n",
       "report_type                    82980\n",
       "report_type_description        76154\n",
       "incident_status_code           82982\n",
       "incident_status_description    82982\n",
       "investigation_status           82983\n",
       "incident_occurred              82983\n",
       "incident_reported              82983\n",
       "incident_location              82683\n",
       "latitude                       81993\n",
       "longitude                      81993\n",
       "zip_code                       39199\n",
       "rpa                            77644\n",
       "zone                           77644\n",
       "location_code                  82983\n",
       "location_description           82983\n",
       "offense_number                 82976\n",
       "offense_nibrs                  82981\n",
       "offense_description            82983\n",
       "weapon_primary                 82851\n",
       "weapon_description             82784\n",
       "victim_number                  82983\n",
       "domestic_related               82983\n",
       "victim_type                    82980\n",
       "victim_description             82964\n",
       "victim_gender                  64695\n",
       "victim_race                    64695\n",
       "victim_ethnicity               64675\n",
       "victim_county_resident         62096\n",
       "mapped_location                81993\n",
       "dtype: int64"
      ]
     },
     "execution_count": 181,
     "metadata": {},
     "output_type": "execute_result"
    }
   ],
   "source": [
    "nashville.count()"
   ]
  },
  {
   "cell_type": "code",
   "execution_count": 182,
   "id": "39a754ad",
   "metadata": {},
   "outputs": [],
   "source": [
    "nashville.to_csv('Data_Clean/Nashville.csv')"
   ]
  },
  {
   "cell_type": "code",
   "execution_count": null,
   "id": "b129871c",
   "metadata": {},
   "outputs": [],
   "source": []
  },
  {
   "cell_type": "markdown",
   "id": "c4715742",
   "metadata": {},
   "source": [
    "# NYC"
   ]
  },
  {
   "cell_type": "code",
   "execution_count": 183,
   "id": "00511dbe",
   "metadata": {},
   "outputs": [],
   "source": [
    "nyc_2021 = pd.read_csv(\"NYC_Data/NYPD_Complaint_Data_Current__Year_To_Date_.csv\", dtype= {0: \"string\"}, parse_dates= {\"complaint_from\": [3, 4], \"complaint_to\": [5, 6]})\n",
    "#retrieved 7/16/2021"
   ]
  },
  {
   "cell_type": "code",
   "execution_count": 184,
   "id": "ba0f8f8f",
   "metadata": {},
   "outputs": [
    {
     "data": {
      "text/html": [
       "<div>\n",
       "<style scoped>\n",
       "    .dataframe tbody tr th:only-of-type {\n",
       "        vertical-align: middle;\n",
       "    }\n",
       "\n",
       "    .dataframe tbody tr th {\n",
       "        vertical-align: top;\n",
       "    }\n",
       "\n",
       "    .dataframe thead th {\n",
       "        text-align: right;\n",
       "    }\n",
       "</style>\n",
       "<table border=\"1\" class=\"dataframe\">\n",
       "  <thead>\n",
       "    <tr style=\"text-align: right;\">\n",
       "      <th></th>\n",
       "      <th>complaint_from</th>\n",
       "      <th>complaint_to</th>\n",
       "      <th>CMPLNT_NUM</th>\n",
       "      <th>ADDR_PCT_CD</th>\n",
       "      <th>BORO_NM</th>\n",
       "      <th>CRM_ATPT_CPTD_CD</th>\n",
       "      <th>HADEVELOPT</th>\n",
       "      <th>HOUSING_PSA</th>\n",
       "      <th>JURISDICTION_CODE</th>\n",
       "      <th>JURIS_DESC</th>\n",
       "      <th>...</th>\n",
       "      <th>TRANSIT_DISTRICT</th>\n",
       "      <th>VIC_AGE_GROUP</th>\n",
       "      <th>VIC_RACE</th>\n",
       "      <th>VIC_SEX</th>\n",
       "      <th>X_COORD_CD</th>\n",
       "      <th>Y_COORD_CD</th>\n",
       "      <th>Latitude</th>\n",
       "      <th>Longitude</th>\n",
       "      <th>Lat_Lon</th>\n",
       "      <th>New Georeferenced Column</th>\n",
       "    </tr>\n",
       "  </thead>\n",
       "  <tbody>\n",
       "    <tr>\n",
       "      <th>0</th>\n",
       "      <td>2021-03-31 15:08:00</td>\n",
       "      <td>03/31/2021 15:12:00</td>\n",
       "      <td>825041611</td>\n",
       "      <td>84</td>\n",
       "      <td>BROOKLYN</td>\n",
       "      <td>COMPLETED</td>\n",
       "      <td>NaN</td>\n",
       "      <td>NaN</td>\n",
       "      <td>0.0</td>\n",
       "      <td>N.Y. POLICE DEPT</td>\n",
       "      <td>...</td>\n",
       "      <td>NaN</td>\n",
       "      <td>UNKNOWN</td>\n",
       "      <td>UNKNOWN</td>\n",
       "      <td>E</td>\n",
       "      <td>988041</td>\n",
       "      <td>191045</td>\n",
       "      <td>40.691059</td>\n",
       "      <td>-73.986331</td>\n",
       "      <td>(40.69105856700002, -73.98633121699999)</td>\n",
       "      <td>POINT (-73.98633121699999 40.69105856700002)</td>\n",
       "    </tr>\n",
       "    <tr>\n",
       "      <th>1</th>\n",
       "      <td>2021-03-27 19:29:00</td>\n",
       "      <td>nan nan</td>\n",
       "      <td>206649900</td>\n",
       "      <td>7</td>\n",
       "      <td>NaN</td>\n",
       "      <td>NaN</td>\n",
       "      <td>NaN</td>\n",
       "      <td>NaN</td>\n",
       "      <td>0.0</td>\n",
       "      <td>N.Y. POLICE DEPT</td>\n",
       "      <td>...</td>\n",
       "      <td>NaN</td>\n",
       "      <td>25-44</td>\n",
       "      <td>WHITE HISPANIC</td>\n",
       "      <td>D</td>\n",
       "      <td>987818</td>\n",
       "      <td>200162</td>\n",
       "      <td>40.716083</td>\n",
       "      <td>-73.987131</td>\n",
       "      <td>(40.71608268700004, -73.98713051799997)</td>\n",
       "      <td>POINT (-73.98713051799997 40.71608268700004)</td>\n",
       "    </tr>\n",
       "    <tr>\n",
       "      <th>2</th>\n",
       "      <td>2021-03-27 13:00:00</td>\n",
       "      <td>nan nan</td>\n",
       "      <td>294801329</td>\n",
       "      <td>75</td>\n",
       "      <td>NaN</td>\n",
       "      <td>COMPLETED</td>\n",
       "      <td>NaN</td>\n",
       "      <td>NaN</td>\n",
       "      <td>NaN</td>\n",
       "      <td>N.Y. POLICE DEPT</td>\n",
       "      <td>...</td>\n",
       "      <td>NaN</td>\n",
       "      <td>25-44</td>\n",
       "      <td>BLACK</td>\n",
       "      <td>M</td>\n",
       "      <td>1018889</td>\n",
       "      <td>182737</td>\n",
       "      <td>40.668188</td>\n",
       "      <td>-73.875137</td>\n",
       "      <td>(40.66818803900002, -73.87513706799997)</td>\n",
       "      <td>POINT (-73.87513706799997 40.66818803900002)</td>\n",
       "    </tr>\n",
       "    <tr>\n",
       "      <th>3</th>\n",
       "      <td>2021-03-26 16:40:00</td>\n",
       "      <td>nan nan</td>\n",
       "      <td>270261096</td>\n",
       "      <td>14</td>\n",
       "      <td>MANHATTAN</td>\n",
       "      <td>COMPLETED</td>\n",
       "      <td>NaN</td>\n",
       "      <td>NaN</td>\n",
       "      <td>0.0</td>\n",
       "      <td>N.Y. POLICE DEPT</td>\n",
       "      <td>...</td>\n",
       "      <td>NaN</td>\n",
       "      <td>UNKNOWN</td>\n",
       "      <td>UNKNOWN</td>\n",
       "      <td>D</td>\n",
       "      <td>987220</td>\n",
       "      <td>212676</td>\n",
       "      <td>40.750431</td>\n",
       "      <td>-73.989282</td>\n",
       "      <td>(40.75043076800005, -73.98928217599996)</td>\n",
       "      <td>POINT (-73.98928217599996 40.75043076800005)</td>\n",
       "    </tr>\n",
       "    <tr>\n",
       "      <th>4</th>\n",
       "      <td>2021-03-26 13:09:00</td>\n",
       "      <td>03/26/2021 14:29:00</td>\n",
       "      <td>433883572</td>\n",
       "      <td>110</td>\n",
       "      <td>QUEENS</td>\n",
       "      <td>COMPLETED</td>\n",
       "      <td>NaN</td>\n",
       "      <td>NaN</td>\n",
       "      <td>0.0</td>\n",
       "      <td>N.Y. POLICE DEPT</td>\n",
       "      <td>...</td>\n",
       "      <td>NaN</td>\n",
       "      <td>UNKNOWN</td>\n",
       "      <td>UNKNOWN</td>\n",
       "      <td>D</td>\n",
       "      <td>1021552</td>\n",
       "      <td>212402</td>\n",
       "      <td>40.749601</td>\n",
       "      <td>-73.865373</td>\n",
       "      <td>(40.74960053300003, -73.86537333399998)</td>\n",
       "      <td>POINT (-73.86537333399998 40.74960053300003)</td>\n",
       "    </tr>\n",
       "  </tbody>\n",
       "</table>\n",
       "<p>5 rows × 34 columns</p>\n",
       "</div>"
      ],
      "text/plain": [
       "       complaint_from         complaint_to CMPLNT_NUM  ADDR_PCT_CD    BORO_NM  \\\n",
       "0 2021-03-31 15:08:00  03/31/2021 15:12:00  825041611           84   BROOKLYN   \n",
       "1 2021-03-27 19:29:00              nan nan  206649900            7        NaN   \n",
       "2 2021-03-27 13:00:00              nan nan  294801329           75        NaN   \n",
       "3 2021-03-26 16:40:00              nan nan  270261096           14  MANHATTAN   \n",
       "4 2021-03-26 13:09:00  03/26/2021 14:29:00  433883572          110     QUEENS   \n",
       "\n",
       "  CRM_ATPT_CPTD_CD HADEVELOPT  HOUSING_PSA  JURISDICTION_CODE  \\\n",
       "0        COMPLETED        NaN          NaN                0.0   \n",
       "1              NaN        NaN          NaN                0.0   \n",
       "2        COMPLETED        NaN          NaN                NaN   \n",
       "3        COMPLETED        NaN          NaN                0.0   \n",
       "4        COMPLETED        NaN          NaN                0.0   \n",
       "\n",
       "         JURIS_DESC  ...  TRANSIT_DISTRICT VIC_AGE_GROUP        VIC_RACE  \\\n",
       "0  N.Y. POLICE DEPT  ...               NaN       UNKNOWN         UNKNOWN   \n",
       "1  N.Y. POLICE DEPT  ...               NaN         25-44  WHITE HISPANIC   \n",
       "2  N.Y. POLICE DEPT  ...               NaN         25-44           BLACK   \n",
       "3  N.Y. POLICE DEPT  ...               NaN       UNKNOWN         UNKNOWN   \n",
       "4  N.Y. POLICE DEPT  ...               NaN       UNKNOWN         UNKNOWN   \n",
       "\n",
       "  VIC_SEX X_COORD_CD Y_COORD_CD   Latitude  Longitude  \\\n",
       "0       E     988041     191045  40.691059 -73.986331   \n",
       "1       D     987818     200162  40.716083 -73.987131   \n",
       "2       M    1018889     182737  40.668188 -73.875137   \n",
       "3       D     987220     212676  40.750431 -73.989282   \n",
       "4       D    1021552     212402  40.749601 -73.865373   \n",
       "\n",
       "                                   Lat_Lon  \\\n",
       "0  (40.69105856700002, -73.98633121699999)   \n",
       "1  (40.71608268700004, -73.98713051799997)   \n",
       "2  (40.66818803900002, -73.87513706799997)   \n",
       "3  (40.75043076800005, -73.98928217599996)   \n",
       "4  (40.74960053300003, -73.86537333399998)   \n",
       "\n",
       "                       New Georeferenced Column  \n",
       "0  POINT (-73.98633121699999 40.69105856700002)  \n",
       "1  POINT (-73.98713051799997 40.71608268700004)  \n",
       "2  POINT (-73.87513706799997 40.66818803900002)  \n",
       "3  POINT (-73.98928217599996 40.75043076800005)  \n",
       "4  POINT (-73.86537333399998 40.74960053300003)  \n",
       "\n",
       "[5 rows x 34 columns]"
      ]
     },
     "execution_count": 184,
     "metadata": {},
     "output_type": "execute_result"
    }
   ],
   "source": [
    "nyc_2021.head()"
   ]
  },
  {
   "cell_type": "code",
   "execution_count": 185,
   "id": "5b520729",
   "metadata": {},
   "outputs": [],
   "source": [
    "nyc_2021.columns = nyc_2021.columns.str.lower()"
   ]
  },
  {
   "cell_type": "code",
   "execution_count": 186,
   "id": "e56eb435",
   "metadata": {
    "scrolled": true
   },
   "outputs": [
    {
     "data": {
      "text/plain": [
       "complaint_from              datetime64[ns]\n",
       "complaint_to                        object\n",
       "cmplnt_num                          string\n",
       "addr_pct_cd                          int64\n",
       "boro_nm                             object\n",
       "crm_atpt_cptd_cd                    object\n",
       "hadevelopt                          object\n",
       "housing_psa                        float64\n",
       "jurisdiction_code                  float64\n",
       "juris_desc                          object\n",
       "ky_cd                                int64\n",
       "law_cat_cd                          object\n",
       "loc_of_occur_desc                   object\n",
       "ofns_desc                           object\n",
       "parks_nm                            object\n",
       "patrol_boro                         object\n",
       "pd_cd                              float64\n",
       "pd_desc                             object\n",
       "prem_typ_desc                       object\n",
       "rpt_dt                              object\n",
       "station_name                        object\n",
       "susp_age_group                      object\n",
       "susp_race                           object\n",
       "susp_sex                            object\n",
       "transit_district                   float64\n",
       "vic_age_group                       object\n",
       "vic_race                            object\n",
       "vic_sex                             object\n",
       "x_coord_cd                           int64\n",
       "y_coord_cd                           int64\n",
       "latitude                           float64\n",
       "longitude                          float64\n",
       "lat_lon                             object\n",
       "new georeferenced column            object\n",
       "dtype: object"
      ]
     },
     "execution_count": 186,
     "metadata": {},
     "output_type": "execute_result"
    }
   ],
   "source": [
    "nyc_2021.dtypes"
   ]
  },
  {
   "cell_type": "code",
   "execution_count": 187,
   "id": "322aa870",
   "metadata": {},
   "outputs": [],
   "source": [
    "nyc_2021['rpt_dt'] = pd.to_datetime(nyc_2021['rpt_dt'])"
   ]
  },
  {
   "cell_type": "code",
   "execution_count": null,
   "id": "6e39c1ad",
   "metadata": {},
   "outputs": [],
   "source": []
  },
  {
   "cell_type": "code",
   "execution_count": 188,
   "id": "48b2527c",
   "metadata": {},
   "outputs": [
    {
     "name": "stderr",
     "output_type": "stream",
     "text": [
      "C:\\Users\\arezn\\anaconda3\\lib\\site-packages\\IPython\\core\\interactiveshell.py:3165: DtypeWarning: Columns (18,20) have mixed types.Specify dtype option on import or set low_memory=False.\n",
      "  has_raised = await self.run_ast_nodes(code_ast.body, cell_name,\n"
     ]
    }
   ],
   "source": [
    "nyc_2020 = pd.read_csv(\"NYC_Data/NYPD_Complaint_Data_Historic.csv\", dtype= {0: \"string\"}, parse_dates= {\"complaint_from\": [1, 2], \"complaint_to\": [3, 4]})\n",
    "#retrieved 7/16/21"
   ]
  },
  {
   "cell_type": "code",
   "execution_count": 189,
   "id": "08ae284d",
   "metadata": {},
   "outputs": [
    {
     "data": {
      "text/html": [
       "<div>\n",
       "<style scoped>\n",
       "    .dataframe tbody tr th:only-of-type {\n",
       "        vertical-align: middle;\n",
       "    }\n",
       "\n",
       "    .dataframe tbody tr th {\n",
       "        vertical-align: top;\n",
       "    }\n",
       "\n",
       "    .dataframe thead th {\n",
       "        text-align: right;\n",
       "    }\n",
       "</style>\n",
       "<table border=\"1\" class=\"dataframe\">\n",
       "  <thead>\n",
       "    <tr style=\"text-align: right;\">\n",
       "      <th></th>\n",
       "      <th>complaint_from</th>\n",
       "      <th>complaint_to</th>\n",
       "      <th>CMPLNT_NUM</th>\n",
       "      <th>ADDR_PCT_CD</th>\n",
       "      <th>RPT_DT</th>\n",
       "      <th>KY_CD</th>\n",
       "      <th>OFNS_DESC</th>\n",
       "      <th>PD_CD</th>\n",
       "      <th>PD_DESC</th>\n",
       "      <th>CRM_ATPT_CPTD_CD</th>\n",
       "      <th>...</th>\n",
       "      <th>SUSP_SEX</th>\n",
       "      <th>TRANSIT_DISTRICT</th>\n",
       "      <th>Latitude</th>\n",
       "      <th>Longitude</th>\n",
       "      <th>Lat_Lon</th>\n",
       "      <th>PATROL_BORO</th>\n",
       "      <th>STATION_NAME</th>\n",
       "      <th>VIC_AGE_GROUP</th>\n",
       "      <th>VIC_RACE</th>\n",
       "      <th>VIC_SEX</th>\n",
       "    </tr>\n",
       "  </thead>\n",
       "  <tbody>\n",
       "    <tr>\n",
       "      <th>0</th>\n",
       "      <td>12/31/2019 17:30:00</td>\n",
       "      <td>nan nan</td>\n",
       "      <td>394506329</td>\n",
       "      <td>32.0</td>\n",
       "      <td>12/31/2019</td>\n",
       "      <td>118</td>\n",
       "      <td>DANGEROUS WEAPONS</td>\n",
       "      <td>793.0</td>\n",
       "      <td>WEAPONS POSSESSION 3</td>\n",
       "      <td>COMPLETED</td>\n",
       "      <td>...</td>\n",
       "      <td>NaN</td>\n",
       "      <td>NaN</td>\n",
       "      <td>40.820927</td>\n",
       "      <td>-73.943324</td>\n",
       "      <td>(40.82092679700002, -73.94332421899996)</td>\n",
       "      <td>PATROL BORO MAN NORTH</td>\n",
       "      <td>NaN</td>\n",
       "      <td>UNKNOWN</td>\n",
       "      <td>UNKNOWN</td>\n",
       "      <td>E</td>\n",
       "    </tr>\n",
       "    <tr>\n",
       "      <th>1</th>\n",
       "      <td>12/29/2019 16:31:00</td>\n",
       "      <td>12/29/2019 16:54:00</td>\n",
       "      <td>968873685</td>\n",
       "      <td>47.0</td>\n",
       "      <td>12/29/2019</td>\n",
       "      <td>113</td>\n",
       "      <td>FORGERY</td>\n",
       "      <td>729.0</td>\n",
       "      <td>FORGERY,ETC.,UNCLASSIFIED-FELO</td>\n",
       "      <td>COMPLETED</td>\n",
       "      <td>...</td>\n",
       "      <td>NaN</td>\n",
       "      <td>NaN</td>\n",
       "      <td>40.885701</td>\n",
       "      <td>-73.861640</td>\n",
       "      <td>(40.885701406000074, -73.86164032499995)</td>\n",
       "      <td>PATROL BORO BRONX</td>\n",
       "      <td>NaN</td>\n",
       "      <td>UNKNOWN</td>\n",
       "      <td>UNKNOWN</td>\n",
       "      <td>E</td>\n",
       "    </tr>\n",
       "    <tr>\n",
       "      <th>2</th>\n",
       "      <td>12/15/2019 18:45:00</td>\n",
       "      <td>nan nan</td>\n",
       "      <td>509837549</td>\n",
       "      <td>109.0</td>\n",
       "      <td>12/29/2019</td>\n",
       "      <td>578</td>\n",
       "      <td>HARRASSMENT 2</td>\n",
       "      <td>638.0</td>\n",
       "      <td>HARASSMENT,SUBD 3,4,5</td>\n",
       "      <td>COMPLETED</td>\n",
       "      <td>...</td>\n",
       "      <td>M</td>\n",
       "      <td>NaN</td>\n",
       "      <td>40.742281</td>\n",
       "      <td>-73.819824</td>\n",
       "      <td>(40.74228115600005, -73.81982408)</td>\n",
       "      <td>PATROL BORO QUEENS NORTH</td>\n",
       "      <td>NaN</td>\n",
       "      <td>25-44</td>\n",
       "      <td>WHITE HISPANIC</td>\n",
       "      <td>F</td>\n",
       "    </tr>\n",
       "    <tr>\n",
       "      <th>3</th>\n",
       "      <td>12/28/2019 01:00:00</td>\n",
       "      <td>nan nan</td>\n",
       "      <td>352454313</td>\n",
       "      <td>47.0</td>\n",
       "      <td>12/28/2019</td>\n",
       "      <td>126</td>\n",
       "      <td>MISCELLANEOUS PENAL LAW</td>\n",
       "      <td>117.0</td>\n",
       "      <td>RECKLESS ENDANGERMENT 1</td>\n",
       "      <td>COMPLETED</td>\n",
       "      <td>...</td>\n",
       "      <td>M</td>\n",
       "      <td>NaN</td>\n",
       "      <td>40.875311</td>\n",
       "      <td>-73.847545</td>\n",
       "      <td>(40.87531145100007, -73.84754521099995)</td>\n",
       "      <td>PATROL BORO BRONX</td>\n",
       "      <td>NaN</td>\n",
       "      <td>UNKNOWN</td>\n",
       "      <td>UNKNOWN</td>\n",
       "      <td>E</td>\n",
       "    </tr>\n",
       "    <tr>\n",
       "      <th>4</th>\n",
       "      <td>09/05/2008 21:41:00</td>\n",
       "      <td>nan nan</td>\n",
       "      <td>248803469</td>\n",
       "      <td>NaN</td>\n",
       "      <td>09/05/2008</td>\n",
       "      <td>101</td>\n",
       "      <td>MURDER &amp; NON-NEGL. MANSLAUGHTER</td>\n",
       "      <td>NaN</td>\n",
       "      <td>NaN</td>\n",
       "      <td>COMPLETED</td>\n",
       "      <td>...</td>\n",
       "      <td>NaN</td>\n",
       "      <td>NaN</td>\n",
       "      <td>40.698827</td>\n",
       "      <td>-73.938819</td>\n",
       "      <td>(40.698827283, -73.938819047)</td>\n",
       "      <td>NaN</td>\n",
       "      <td>NaN</td>\n",
       "      <td>25-44</td>\n",
       "      <td>BLACK</td>\n",
       "      <td>M</td>\n",
       "    </tr>\n",
       "  </tbody>\n",
       "</table>\n",
       "<p>5 rows × 33 columns</p>\n",
       "</div>"
      ],
      "text/plain": [
       "        complaint_from         complaint_to CMPLNT_NUM  ADDR_PCT_CD  \\\n",
       "0  12/31/2019 17:30:00              nan nan  394506329         32.0   \n",
       "1  12/29/2019 16:31:00  12/29/2019 16:54:00  968873685         47.0   \n",
       "2  12/15/2019 18:45:00              nan nan  509837549        109.0   \n",
       "3  12/28/2019 01:00:00              nan nan  352454313         47.0   \n",
       "4  09/05/2008 21:41:00              nan nan  248803469          NaN   \n",
       "\n",
       "       RPT_DT  KY_CD                        OFNS_DESC  PD_CD  \\\n",
       "0  12/31/2019    118                DANGEROUS WEAPONS  793.0   \n",
       "1  12/29/2019    113                          FORGERY  729.0   \n",
       "2  12/29/2019    578                    HARRASSMENT 2  638.0   \n",
       "3  12/28/2019    126          MISCELLANEOUS PENAL LAW  117.0   \n",
       "4  09/05/2008    101  MURDER & NON-NEGL. MANSLAUGHTER    NaN   \n",
       "\n",
       "                          PD_DESC CRM_ATPT_CPTD_CD  ... SUSP_SEX  \\\n",
       "0            WEAPONS POSSESSION 3        COMPLETED  ...      NaN   \n",
       "1  FORGERY,ETC.,UNCLASSIFIED-FELO        COMPLETED  ...      NaN   \n",
       "2           HARASSMENT,SUBD 3,4,5        COMPLETED  ...        M   \n",
       "3         RECKLESS ENDANGERMENT 1        COMPLETED  ...        M   \n",
       "4                             NaN        COMPLETED  ...      NaN   \n",
       "\n",
       "  TRANSIT_DISTRICT   Latitude  Longitude  \\\n",
       "0              NaN  40.820927 -73.943324   \n",
       "1              NaN  40.885701 -73.861640   \n",
       "2              NaN  40.742281 -73.819824   \n",
       "3              NaN  40.875311 -73.847545   \n",
       "4              NaN  40.698827 -73.938819   \n",
       "\n",
       "                                    Lat_Lon               PATROL_BORO  \\\n",
       "0   (40.82092679700002, -73.94332421899996)     PATROL BORO MAN NORTH   \n",
       "1  (40.885701406000074, -73.86164032499995)         PATROL BORO BRONX   \n",
       "2         (40.74228115600005, -73.81982408)  PATROL BORO QUEENS NORTH   \n",
       "3   (40.87531145100007, -73.84754521099995)         PATROL BORO BRONX   \n",
       "4             (40.698827283, -73.938819047)                       NaN   \n",
       "\n",
       "  STATION_NAME VIC_AGE_GROUP        VIC_RACE  VIC_SEX  \n",
       "0          NaN       UNKNOWN         UNKNOWN        E  \n",
       "1          NaN       UNKNOWN         UNKNOWN        E  \n",
       "2          NaN         25-44  WHITE HISPANIC        F  \n",
       "3          NaN       UNKNOWN         UNKNOWN        E  \n",
       "4          NaN         25-44           BLACK        M  \n",
       "\n",
       "[5 rows x 33 columns]"
      ]
     },
     "execution_count": 189,
     "metadata": {},
     "output_type": "execute_result"
    }
   ],
   "source": [
    "nyc_2020.head()"
   ]
  },
  {
   "cell_type": "code",
   "execution_count": 190,
   "id": "849fc9c6",
   "metadata": {},
   "outputs": [],
   "source": [
    "nyc_2020.columns = nyc_2020.columns.str.lower()"
   ]
  },
  {
   "cell_type": "code",
   "execution_count": 191,
   "id": "6f9ed452",
   "metadata": {},
   "outputs": [],
   "source": [
    "nyc_2020['rpt_dt'] = pd.to_datetime(nyc_2020['rpt_dt'])"
   ]
  },
  {
   "cell_type": "code",
   "execution_count": 192,
   "id": "b7dc206b",
   "metadata": {},
   "outputs": [],
   "source": [
    "nyc_2020 = nyc_2020[nyc_2020['rpt_dt'] >= '2020-06-30']"
   ]
  },
  {
   "cell_type": "code",
   "execution_count": 193,
   "id": "540dc723",
   "metadata": {},
   "outputs": [],
   "source": [
    "nyc_2020.reset_index(drop = True, inplace = True)"
   ]
  },
  {
   "cell_type": "code",
   "execution_count": 194,
   "id": "ae9e879c",
   "metadata": {},
   "outputs": [
    {
     "data": {
      "text/plain": [
       "(217626, 33)"
      ]
     },
     "execution_count": 194,
     "metadata": {},
     "output_type": "execute_result"
    }
   ],
   "source": [
    "nyc_2020.shape"
   ]
  },
  {
   "cell_type": "code",
   "execution_count": 195,
   "id": "9d26d996",
   "metadata": {},
   "outputs": [],
   "source": [
    "nyc_2020.to_csv('NYC_Data/NYC_2020.csv')"
   ]
  },
  {
   "cell_type": "code",
   "execution_count": null,
   "id": "eff6b63e",
   "metadata": {},
   "outputs": [],
   "source": []
  }
 ],
 "metadata": {
  "kernelspec": {
   "display_name": "Python 3",
   "language": "python",
   "name": "python3"
  },
  "language_info": {
   "codemirror_mode": {
    "name": "ipython",
    "version": 3
   },
   "file_extension": ".py",
   "mimetype": "text/x-python",
   "name": "python",
   "nbconvert_exporter": "python",
   "pygments_lexer": "ipython3",
   "version": "3.8.8"
  }
 },
 "nbformat": 4,
 "nbformat_minor": 5
}
